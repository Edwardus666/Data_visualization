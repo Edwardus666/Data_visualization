{
 "metadata": {
  "language_info": {
   "codemirror_mode": {
    "name": "ipython",
    "version": 3
   },
   "file_extension": ".py",
   "mimetype": "text/x-python",
   "name": "python",
   "nbconvert_exporter": "python",
   "pygments_lexer": "ipython3",
   "version": "3.8.3-final"
  },
  "orig_nbformat": 2,
  "kernelspec": {
   "name": "python38364bitbaseconda33ba465fb6c440c484c2945843ae5498",
   "display_name": "Python 3.8.3 64-bit ('base': conda)",
   "language": "python"
  }
 },
 "nbformat": 4,
 "nbformat_minor": 2,
 "cells": [
  {
   "source": [
    "# Cohort_Order_Analysis"
   ],
   "cell_type": "markdown",
   "metadata": {}
  },
  {
   "cell_type": "code",
   "execution_count": 38,
   "metadata": {},
   "outputs": [],
   "source": [
    "import pandas as pd"
   ]
  },
  {
   "cell_type": "code",
   "execution_count": 39,
   "metadata": {},
   "outputs": [],
   "source": [
    "df = pd.read_excel('同期群订单数据.xlsx')"
   ]
  },
  {
   "cell_type": "code",
   "execution_count": 40,
   "metadata": {},
   "outputs": [
    {
     "output_type": "stream",
     "name": "stdout",
     "text": [
      "<class 'pandas.core.frame.DataFrame'>\nRangeIndex: 42713 entries, 0 to 42712\nData columns (total 8 columns):\n #   Column  Non-Null Count  Dtype         \n---  ------  --------------  -----         \n 0   平台      42713 non-null  object        \n 1   店铺名称    42713 non-null  object        \n 2   客户昵称    42713 non-null  object        \n 3   付款时间    40339 non-null  datetime64[ns]\n 4   订单状态    42713 non-null  object        \n 5   支付金额    42713 non-null  float64       \n 6   购买数量    42713 non-null  int64         \n 7   省份      42713 non-null  object        \ndtypes: datetime64[ns](1), float64(1), int64(1), object(5)\nmemory usage: 2.6+ MB\n"
     ]
    }
   ],
   "source": [
    "# Explore the excel file\n",
    "df.info() \n",
    "# 为啥要使用object对象存储 好像可以直接使用string存储"
   ]
  },
  {
   "cell_type": "code",
   "execution_count": 41,
   "metadata": {},
   "outputs": [
    {
     "output_type": "stream",
     "name": "stdout",
     "text": [
      "       平台   店铺名称   客户昵称                付款时间  订单状态   支付金额  购买数量       省份\n0      线上  小z杂货铺  入倩出入深 2019-09-01 00:10:04  交易成功   15.2     1      江苏省\n1      线上  小z杂货铺  愛hya爱 2019-09-01 00:14:52  交易成功    8.4     1      广东省\n2      线上  小z杂货铺  象95象大 2019-09-01 02:17:15  交易成功    8.4     1      辽宁省\n3      线上  小z杂货铺  卡哇伊氛十 2019-09-01 03:37:28  交易成功   22.0     1  广西壮族自治区\n4      线上  小z杂货铺  一只羊哈阿 2019-09-01 08:53:50  交易成功   85.0     1      辽宁省\n...    ..    ...    ...                 ...   ...    ...   ...      ...\n40334  线上  小z杂货铺  ght子竹 2020-02-29 19:13:08  交易成功   17.9     1      广东省\n40335  线上  小z杂货铺  345ik 2020-02-29 19:14:33  交易成功  101.2     1      吉林省\n40336  线上  小z杂货铺  099bt 2020-02-29 19:15:29  交易成功  219.3     2      广东省\n40337  线上  小z杂货铺  151lw 2020-02-29 19:16:18  交易成功  101.2     1      广东省\n40338  线上  小z杂货铺  565yc 2020-02-29 19:20:24  交易成功   16.9     1      江苏省\n\n[40339 rows x 8 columns]\n"
     ]
    }
   ],
   "source": [
    "df.drop(index=df[df['订单状态'] == '交易失败'].index, axis=1, inplace=True)\n",
    "# 想知道这里 axis参数是什么意思\n",
    "# Also 这里:\n",
    "# Returns; DataFrame without the removed index or column labels.\n",
    "print(df)"
   ]
  },
  {
   "cell_type": "code",
   "execution_count": 42,
   "metadata": {},
   "outputs": [
    {
     "output_type": "stream",
     "name": "stdout",
     "text": [
      "                     首单时间\n客户昵称                     \n00000 2020-01-30 23:09:49\n0000栗 2019-10-21 01:05:47\n0000橙 2020-02-18 16:31:57\n0009h 2020-02-14 18:03:35\n000ab 2019-10-16 19:47:27\n...                   ...\n，寂静望守 2019-10-18 22:08:19\n，，，瑶刘 2019-11-24 16:58:03\n～myah 2020-01-28 20:04:05\n～原宿爱独 2020-01-30 23:33:54\n～～～翳阴 2019-12-03 22:29:35\n\n[31094 rows x 1 columns]\n        客户昵称                首单时间\n0      00000 2020-01-30 23:09:49\n1      0000栗 2019-10-21 01:05:47\n2      0000橙 2020-02-18 16:31:57\n3      0009h 2020-02-14 18:03:35\n4      000ab 2019-10-16 19:47:27\n...      ...                 ...\n31089  ，寂静望守 2019-10-18 22:08:19\n31090  ，，，瑶刘 2019-11-24 16:58:03\n31091  ～myah 2020-01-28 20:04:05\n31092  ～原宿爱独 2020-01-30 23:33:54\n31093  ～～～翳阴 2019-12-03 22:29:35\n\n[31094 rows x 2 columns]\n"
     ]
    }
   ],
   "source": [
    "# Get the created time of initial order of each client\n",
    "df_f = df.groupby(by='客户昵称')['付款时间'].min().to_frame(name='首单时间')\n",
    "print(df_f)\n",
    "df_f.reset_index(inplace=True)\n",
    "# 付款时间这个list没看懂\n",
    "# 想知道这里就是 知道前面是什么类型,才知道后面能用 什么方法\n",
    "print(df_f)"
   ]
  },
  {
   "cell_type": "code",
   "execution_count": 43,
   "metadata": {},
   "outputs": [
    {
     "output_type": "stream",
     "name": "stdout",
     "text": [
      "        客户昵称                付款时间                首单时间\n0      入倩出入深 2019-09-01 00:10:04 2019-09-01 00:10:04\n1      愛hya爱 2019-09-01 00:14:52 2019-09-01 00:14:52\n2      愛hya爱 2019-09-12 12:43:30 2019-09-01 00:14:52\n3      象95象大 2019-09-01 02:17:15 2019-09-01 02:17:15\n4      卡哇伊氛十 2019-09-01 03:37:28 2019-09-01 03:37:28\n...      ...                 ...                 ...\n40334  儿娃娃可蓝 2020-02-29 19:08:50 2020-02-29 19:08:50\n40335  008女猫 2020-02-29 19:11:37 2020-02-29 19:11:37\n40336  987红董 2020-02-29 19:13:02 2020-02-29 19:13:02\n40337  ght子竹 2020-02-29 19:13:08 2020-02-29 19:13:08\n40338  565yc 2020-02-29 19:20:24 2020-02-29 19:20:24\n\n[40339 rows x 3 columns]\n"
     ]
    }
   ],
   "source": [
    "# 合并新的dataframe，包含客户昵称，付款时间，首单时间\n",
    "df_f = df[['客户昵称', '付款时间']].merge(df_f)\n",
    "# 首单时间在哪....看了预览没有\n",
    "print(df_f)"
   ]
  },
  {
   "cell_type": "code",
   "execution_count": 44,
   "metadata": {},
   "outputs": [
    {
     "output_type": "stream",
     "name": "stdout",
     "text": [
      "首单时间        付款时间      \n2019-09-30  2019-09-30    2042\n            2019-10-31     253\n            2019-11-30     219\n            2019-12-31     167\n            2020-01-31     159\n            2020-02-29     165\n2019-10-31  2019-10-31    7083\n            2019-11-30     539\n            2019-12-31     428\n            2020-01-31     414\n            2020-02-29     426\n2019-11-30  2019-11-30    4744\n            2019-12-31     448\n            2020-01-31     370\n            2020-02-29     294\n2019-12-31  2019-12-31    4983\n            2020-01-31     491\n            2020-02-29     340\n2020-01-31  2020-01-31    5126\n            2020-02-29     484\n2020-02-29  2020-02-29    7116\nName: 客户昵称, dtype: int64\n"
     ]
    }
   ],
   "source": [
    "# 通过首单时间及付款时间进行分组，获得每个时间段单独的不重复的客户数量\n",
    "df_f = df_f.groupby(by=[pd.Grouper(key='首单时间', freq='m'), pd.Grouper(key='付款时间', freq='m')])['客户昵称'].nunique()\n",
    "print(df_f)"
   ]
  },
  {
   "cell_type": "code",
   "execution_count": 45,
   "metadata": {},
   "outputs": [
    {
     "output_type": "stream",
     "name": "stdout",
     "text": [
      "付款时间        2019-09-30  2019-10-31  2019-11-30  2019-12-31  2020-01-31  \\\n首单时间                                                                     \n2019-09-30      2042.0       253.0       219.0       167.0       159.0   \n2019-10-31         NaN      7083.0       539.0       428.0       414.0   \n2019-11-30         NaN         NaN      4744.0       448.0       370.0   \n2019-12-31         NaN         NaN         NaN      4983.0       491.0   \n2020-01-31         NaN         NaN         NaN         NaN      5126.0   \n2020-02-29         NaN         NaN         NaN         NaN         NaN   \n\n付款时间        2020-02-29  \n首单时间                    \n2019-09-30       165.0  \n2019-10-31       426.0  \n2019-11-30       294.0  \n2019-12-31       340.0  \n2020-01-31       484.0  \n2020-02-29      7116.0  \n"
     ]
    }
   ],
   "source": [
    "# 对复合索引的series转置为dataframe\n",
    "df_f = df_f.unstack()\n",
    "print(df_f)"
   ]
  },
  {
   "cell_type": "code",
   "execution_count": 46,
   "metadata": {},
   "outputs": [],
   "source": [
    " # 将首月客户数量对齐\n",
    "for i in range(len(df_f.index)):\n",
    "     df_f.iloc[i] = df_f.iloc[i].shift(periods=-i)"
   ]
  },
  {
   "cell_type": "code",
   "execution_count": 47,
   "metadata": {},
   "outputs": [],
   "source": [
    "# 重置columns\n",
    "df_f.columns = ['本月新增', '+1月', '+2月', '+3月', '+4月', '+5月']"
   ]
  },
  {
   "cell_type": "code",
   "execution_count": 48,
   "metadata": {},
   "outputs": [
    {
     "output_type": "stream",
     "name": "stdout",
     "text": [
      "              本月新增    +1月    +2月    +3月    +4月    +5月\n首单时间                                                 \n2019-09-30  2042.0  253.0  219.0  167.0  159.0  165.0\n2019-10-31  7083.0  539.0  428.0  414.0  426.0    NaN\n2019-11-30  4744.0  448.0  370.0  294.0    NaN    NaN\n2019-12-31  4983.0  491.0  340.0    NaN    NaN    NaN\n2020-01-31  5126.0  484.0    NaN    NaN    NaN    NaN\n2020-02-29  7116.0    NaN    NaN    NaN    NaN    NaN\n"
     ]
    }
   ],
   "source": [
    "print(df_f)"
   ]
  },
  {
   "cell_type": "code",
   "execution_count": 49,
   "metadata": {},
   "outputs": [
    {
     "output_type": "stream",
     "name": "stdout",
     "text": [
      "              本月新增    +1月    +2月    +3月    +4月    +5月\n首单时间                                                 \n2019-09-30  2042.0  253.0  219.0  167.0  159.0  165.0\n2019-10-31  7083.0  539.0  428.0  414.0  426.0    NaN\n2019-11-30  4744.0  448.0  370.0  294.0    NaN    NaN\n2019-12-31  4983.0  491.0  340.0    NaN    NaN    NaN\n2020-01-31  5126.0  484.0    NaN    NaN    NaN    NaN\n2020-02-29  7116.0    NaN    NaN    NaN    NaN    NaN\n---------------\n              本月新增     +1月     +2月    +3月    +4月    +5月\n首单时间                                                   \n2019-09-30  2042.0  12.39%  10.72%  8.18%  7.79%  8.08%\n2019-10-31  7083.0   7.61%   6.04%  5.84%  6.01%      0\n2019-11-30  4744.0   9.44%    7.8%   6.2%      0      0\n2019-12-31  4983.0   9.85%   6.82%      0      0      0\n2020-01-31  5126.0   9.44%       0      0      0      0\n2020-02-29  7116.0       0       0      0      0      0\n"
     ]
    }
   ],
   "source": [
    "# 计算留存率\n",
    "def count_per(s, dx):\n",
    "    a=[f'{i}%' if str(i)!='nan' else 0 for i in round((s / dx) * 100, 2)]\n",
    "    return a\n",
    "\n",
    "df_1 = df_f.apply(count_per, axis=0, args=(df_f['本月新增'],))\n",
    "df_1['本月新增']=df_f['本月新增']\n",
    "\n",
    "print(df_f)\n",
    "print('-' * 15)\n",
    "print(df_1)"
   ]
  },
  {
   "cell_type": "code",
   "execution_count": null,
   "metadata": {},
   "outputs": [],
   "source": []
  }
 ]
}