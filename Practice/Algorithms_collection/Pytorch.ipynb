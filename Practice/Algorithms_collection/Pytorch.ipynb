{
 "metadata": {
  "language_info": {
   "codemirror_mode": {
    "name": "ipython",
    "version": 3
   },
   "file_extension": ".py",
   "mimetype": "text/x-python",
   "name": "python",
   "nbconvert_exporter": "python",
   "pygments_lexer": "ipython3",
   "version": "3.8.3-final"
  },
  "orig_nbformat": 2,
  "kernelspec": {
   "name": "python38364bitbaseconda33ba465fb6c440c484c2945843ae5498",
   "display_name": "Python 3.8.3 64-bit ('base': conda)",
   "language": "python"
  }
 },
 "nbformat": 4,
 "nbformat_minor": 2,
 "cells": [
  {
   "cell_type": "code",
   "execution_count": 1,
   "metadata": {},
   "outputs": [],
   "source": [
    "import torch "
   ]
  },
  {
   "cell_type": "code",
   "execution_count": 2,
   "metadata": {},
   "outputs": [
    {
     "output_type": "execute_result",
     "data": {
      "text/plain": [
       "True"
      ]
     },
     "metadata": {},
     "execution_count": 2
    }
   ],
   "source": [
    "torch.cuda.is_available()"
   ]
  },
  {
   "cell_type": "code",
   "execution_count": 3,
   "metadata": {},
   "outputs": [
    {
     "output_type": "stream",
     "name": "stdout",
     "text": [
      "Help on class Dataset in module torch.utils.data.dataset:\n\nclass Dataset(typing.Generic)\n |  Dataset(*args, **kwds)\n |  \n |  An abstract class representing a :class:`Dataset`.\n |  \n |  All datasets that represent a map from keys to data samples should subclass\n |  it. All subclasses should overwrite :meth:`__getitem__`, supporting fetching a\n |  data sample for a given key. Subclasses could also optionally overwrite\n |  :meth:`__len__`, which is expected to return the size of the dataset by many\n |  :class:`~torch.utils.data.Sampler` implementations and the default options\n |  of :class:`~torch.utils.data.DataLoader`.\n |  \n |  .. note::\n |    :class:`~torch.utils.data.DataLoader` by default constructs a index\n |    sampler that yields integral indices.  To make it work with a map-style\n |    dataset with non-integral indices/keys, a custom sampler must be provided.\n |  \n |  Method resolution order:\n |      Dataset\n |      typing.Generic\n |      builtins.object\n |  \n |  Methods defined here:\n |  \n |  __add__(self, other: 'Dataset[T_co]') -> 'ConcatDataset[T_co]'\n |  \n |  __getitem__(self, index) -> +T_co\n |  \n |  ----------------------------------------------------------------------\n |  Data descriptors defined here:\n |  \n |  __dict__\n |      dictionary for instance variables (if defined)\n |  \n |  __weakref__\n |      list of weak references to the object (if defined)\n |  \n |  ----------------------------------------------------------------------\n |  Data and other attributes defined here:\n |  \n |  __orig_bases__ = (typing.Generic[+T_co],)\n |  \n |  __parameters__ = (+T_co,)\n |  \n |  ----------------------------------------------------------------------\n |  Class methods inherited from typing.Generic:\n |  \n |  __class_getitem__(params) from builtins.type\n |  \n |  __init_subclass__(*args, **kwargs) from builtins.type\n |      This method is called when a class is subclassed.\n |      \n |      The default implementation does nothing. It may be\n |      overridden to extend subclasses.\n |  \n |  ----------------------------------------------------------------------\n |  Static methods inherited from typing.Generic:\n |  \n |  __new__(cls, *args, **kwds)\n |      Create and return a new object.  See help(type) for accurate signature.\n\n"
     ]
    }
   ],
   "source": [
    "from torch.utils.data import Dataset\n",
    "help(Dataset)"
   ]
  }
 ]
}