{
 "metadata": {
  "language_info": {
   "codemirror_mode": {
    "name": "ipython",
    "version": 3
   },
   "file_extension": ".py",
   "mimetype": "text/x-python",
   "name": "python",
   "nbconvert_exporter": "python",
   "pygments_lexer": "ipython3",
   "version": "3.8.3-final"
  },
  "orig_nbformat": 2,
  "kernelspec": {
   "name": "python38364bitbaseconda33ba465fb6c440c484c2945843ae5498",
   "display_name": "Python 3.8.3 64-bit ('base': conda)",
   "language": "python"
  }
 },
 "nbformat": 4,
 "nbformat_minor": 2,
 "cells": [
  {
   "source": [
    "# jieba dealing pratice with txt data"
   ],
   "cell_type": "markdown",
   "metadata": {}
  },
  {
   "cell_type": "code",
   "execution_count": 1,
   "metadata": {},
   "outputs": [
    {
     "output_type": "execute_result",
     "data": {
      "text/plain": [
       "'0.42.1'"
      ]
     },
     "metadata": {},
     "execution_count": 1
    }
   ],
   "source": [
    "import jieba\n",
    "\n",
    "jieba.__version__"
   ]
  },
  {
   "cell_type": "code",
   "execution_count": 2,
   "metadata": {},
   "outputs": [],
   "source": [
    "text = '''不久后爱德华是python大佬哈哈哈hahah'''\n"
   ]
  },
  {
   "cell_type": "code",
   "execution_count": 3,
   "metadata": {},
   "outputs": [
    {
     "output_type": "stream",
     "name": "stderr",
     "text": [
      "Building prefix dict from the default dictionary ...\n",
      "Loading model from cache C:\\Users\\Edwar\\AppData\\Local\\Temp\\jieba.cache\n",
      "Loading model cost 0.681 seconds.\n",
      "Prefix dict has been built successfully.\n"
     ]
    },
    {
     "output_type": "execute_result",
     "data": {
      "text/plain": [
       "['不久', '后', '爱德华', '是', 'python', '大佬', '哈哈哈', 'hahah']"
      ]
     },
     "metadata": {},
     "execution_count": 3
    }
   ],
   "source": [
    "# 第一种方法(默认)\n",
    "list(jieba.cut(text))"
   ]
  },
  {
   "cell_type": "code",
   "execution_count": 4,
   "metadata": {},
   "outputs": [
    {
     "output_type": "execute_result",
     "data": {
      "text/plain": [
       "['不久', '后', '爱德', '爱德华', '德华', '是', 'python', '大佬', '哈哈', '哈哈哈', '哈哈', 'hahah']"
      ]
     },
     "metadata": {},
     "execution_count": 4
    }
   ],
   "source": [
    "# 第二种方法\n",
    "list(jieba.cut(text, cut_all=True))"
   ]
  },
  {
   "cell_type": "code",
   "execution_count": 5,
   "metadata": {},
   "outputs": [
    {
     "output_type": "execute_result",
     "data": {
      "text/plain": [
       "'不久, 后, 爱德, 爱德华, 德华, 是, python, 大佬, 哈哈, 哈哈哈, 哈哈, hahah'"
      ]
     },
     "metadata": {},
     "execution_count": 5
    }
   ],
   "source": [
    "', '.join(jieba.cut(text, cut_all = True))"
   ]
  },
  {
   "cell_type": "code",
   "execution_count": 6,
   "metadata": {},
   "outputs": [
    {
     "output_type": "stream",
     "name": "stdout",
     "text": [
      "爱德, 德华, 爱德华, 在, 短时, 时间, 短时间, 内, 学到, 了, 大量, 东西, ，, 以为, 他, 的, 速度, 非常, 地快\n"
     ]
    }
   ],
   "source": [
    "# 第三种方法(搜索引擎模式)\n",
    "seg_list = list(jieba.cut_for_search(\"爱德华在短时间内学到了大量东西，以为他的速度非常地快\"))\n",
    "print(\", \".join(seg_list))"
   ]
  },
  {
   "cell_type": "code",
   "execution_count": 7,
   "metadata": {},
   "outputs": [
    {
     "output_type": "execute_result",
     "data": {
      "text/plain": [
       "{'内': 0,\n",
       " '以为': 1,\n",
       " '大量': 2,\n",
       " '地快': 3,\n",
       " '学到': 4,\n",
       " '短时间': 5,\n",
       " '，': 6,\n",
       " '爱德华': 7,\n",
       " '在': 8,\n",
       " '了': 9,\n",
       " '德华': 10,\n",
       " '他': 11,\n",
       " '速度': 12,\n",
       " '非常': 13,\n",
       " '时间': 14,\n",
       " '的': 15,\n",
       " '东西': 16,\n",
       " '短时': 17,\n",
       " '爱德': 18}"
      ]
     },
     "metadata": {},
     "execution_count": 7
    }
   ],
   "source": [
    "word_hash = {}\n",
    "for i, seg in enumerate(set(seg_list)):\n",
    "    word_hash[seg] = i\n",
    "word_hash"
   ]
  },
  {
   "cell_type": "code",
   "execution_count": 9,
   "metadata": {},
   "outputs": [
    {
     "output_type": "execute_result",
     "data": {
      "text/plain": [
       "[18, 4]"
      ]
     },
     "metadata": {},
     "execution_count": 9
    }
   ],
   "source": [
    "words = ['爱德', '学到']\n",
    "wordss = []\n",
    "for item in words:\n",
    "    wordss.append(word_hash[item])\n",
    "wordss"
   ]
  },
  {
   "cell_type": "code",
   "execution_count": null,
   "metadata": {},
   "outputs": [],
   "source": []
  }
 ]
}