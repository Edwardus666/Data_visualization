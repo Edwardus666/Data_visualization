{
 "metadata": {
  "orig_nbformat": 2,
  "kernelspec": {
   "name": "python38364bitbaseconda33ba465fb6c440c484c2945843ae5498",
   "display_name": "Python 3.8.3 64-bit ('base': conda)",
   "language": "python"
  }
 },
 "nbformat": 4,
 "nbformat_minor": 2,
 "cells": [
  {
   "source": [
    "# Numpy practice with data"
   ],
   "cell_type": "markdown",
   "metadata": {}
  },
  {
   "cell_type": "code",
   "execution_count": 1,
   "metadata": {},
   "outputs": [
    {
     "output_type": "execute_result",
     "data": {
      "text/plain": [
       "array([0, 1, 2, 3, 4, 5, 6, 7, 8, 9])"
      ]
     },
     "metadata": {},
     "execution_count": 1
    }
   ],
   "source": [
    "import numpy as np \n",
    "\n",
    "a = np.array(range(10))\n",
    "a"
   ]
  },
  {
   "cell_type": "code",
   "execution_count": 2,
   "metadata": {},
   "outputs": [
    {
     "output_type": "execute_result",
     "data": {
      "text/plain": [
       "[0, 1, 2, 3, 4, 5, 6, 7, 8, 9]"
      ]
     },
     "metadata": {},
     "execution_count": 2
    }
   ],
   "source": [
    "a_list = a.tolist()\n",
    "a_list"
   ]
  },
  {
   "cell_type": "code",
   "execution_count": 3,
   "metadata": {},
   "outputs": [
    {
     "output_type": "execute_result",
     "data": {
      "text/plain": [
       "array([0, 1, 2, 3, 4, 5, 6, 7, 8, 9])"
      ]
     },
     "metadata": {},
     "execution_count": 3
    }
   ],
   "source": [
    "a = np.arange(10)\n",
    "a"
   ]
  },
  {
   "cell_type": "code",
   "execution_count": 4,
   "metadata": {},
   "outputs": [
    {
     "output_type": "execute_result",
     "data": {
      "text/plain": [
       "array([[0., 0., 0.],\n",
       "       [0., 0., 0.],\n",
       "       [0., 0., 0.]])"
      ]
     },
     "metadata": {},
     "execution_count": 4
    }
   ],
   "source": [
    "a = np.zeros((3, 3))\n",
    "a"
   ]
  },
  {
   "cell_type": "code",
   "execution_count": 5,
   "metadata": {},
   "outputs": [
    {
     "output_type": "execute_result",
     "data": {
      "text/plain": [
       "array([[1., 1., 1.],\n",
       "       [1., 1., 1.],\n",
       "       [1., 1., 1.],\n",
       "       [1., 1., 1.],\n",
       "       [1., 1., 1.],\n",
       "       [1., 1., 1.],\n",
       "       [1., 1., 1.],\n",
       "       [1., 1., 1.],\n",
       "       [1., 1., 1.],\n",
       "       [1., 1., 1.]])"
      ]
     },
     "metadata": {},
     "execution_count": 5
    }
   ],
   "source": [
    "a = np.ones((10,3))\n",
    "a"
   ]
  },
  {
   "cell_type": "code",
   "execution_count": 6,
   "metadata": {},
   "outputs": [
    {
     "output_type": "execute_result",
     "data": {
      "text/plain": [
       "array([[1., 0., 0., 0., 0.],\n",
       "       [0., 1., 0., 0., 0.],\n",
       "       [0., 0., 1., 0., 0.],\n",
       "       [0., 0., 0., 1., 0.],\n",
       "       [0., 0., 0., 0., 1.]])"
      ]
     },
     "metadata": {},
     "execution_count": 6
    }
   ],
   "source": [
    "a = np.eye(5,5)\n",
    "a"
   ]
  },
  {
   "cell_type": "code",
   "execution_count": 7,
   "metadata": {},
   "outputs": [
    {
     "output_type": "execute_result",
     "data": {
      "text/plain": [
       "array([[3., 2., 2., 2., 2.],\n",
       "       [2., 3., 2., 2., 2.],\n",
       "       [2., 2., 3., 2., 2.],\n",
       "       [2., 2., 2., 3., 2.],\n",
       "       [2., 2., 2., 2., 3.]])"
      ]
     },
     "metadata": {},
     "execution_count": 7
    }
   ],
   "source": [
    "b = a+2\n",
    "b"
   ]
  },
  {
   "cell_type": "code",
   "execution_count": 8,
   "metadata": {},
   "outputs": [
    {
     "output_type": "execute_result",
     "data": {
      "text/plain": [
       "(2.2, 2.0, 3.0)"
      ]
     },
     "metadata": {},
     "execution_count": 8
    }
   ],
   "source": [
    "b.mean(), b.min(), b.max()"
   ]
  },
  {
   "cell_type": "code",
   "execution_count": 9,
   "metadata": {},
   "outputs": [
    {
     "output_type": "execute_result",
     "data": {
      "text/plain": [
       "[<matplotlib.lines.Line2D at 0x24d78ece130>]"
      ]
     },
     "metadata": {},
     "execution_count": 9
    },
    {
     "output_type": "display_data",
     "data": {
      "text/plain": "<Figure size 432x288 with 1 Axes>",
      "image/svg+xml": "<?xml version=\"1.0\" encoding=\"utf-8\" standalone=\"no\"?>\r\n<!DOCTYPE svg PUBLIC \"-//W3C//DTD SVG 1.1//EN\"\r\n  \"http://www.w3.org/Graphics/SVG/1.1/DTD/svg11.dtd\">\r\n<!-- Created with matplotlib (https://matplotlib.org/) -->\r\n<svg height=\"248.518125pt\" version=\"1.1\" viewBox=\"0 0 386.845312 248.518125\" width=\"386.845312pt\" xmlns=\"http://www.w3.org/2000/svg\" xmlns:xlink=\"http://www.w3.org/1999/xlink\">\r\n <metadata>\r\n  <rdf:RDF xmlns:cc=\"http://creativecommons.org/ns#\" xmlns:dc=\"http://purl.org/dc/elements/1.1/\" xmlns:rdf=\"http://www.w3.org/1999/02/22-rdf-syntax-ns#\">\r\n   <cc:Work>\r\n    <dc:type rdf:resource=\"http://purl.org/dc/dcmitype/StillImage\"/>\r\n    <dc:date>2020-12-31T08:38:30.956686</dc:date>\r\n    <dc:format>image/svg+xml</dc:format>\r\n    <dc:creator>\r\n     <cc:Agent>\r\n      <dc:title>Matplotlib v3.3.3, https://matplotlib.org/</dc:title>\r\n     </cc:Agent>\r\n    </dc:creator>\r\n   </cc:Work>\r\n  </rdf:RDF>\r\n </metadata>\r\n <defs>\r\n  <style type=\"text/css\">*{stroke-linecap:butt;stroke-linejoin:round;}</style>\r\n </defs>\r\n <g id=\"figure_1\">\r\n  <g id=\"patch_1\">\r\n   <path d=\"M 0 248.518125 \r\nL 386.845312 248.518125 \r\nL 386.845312 0 \r\nL 0 0 \r\nz\r\n\" style=\"fill:none;\"/>\r\n  </g>\r\n  <g id=\"axes_1\">\r\n   <g id=\"patch_2\">\r\n    <path d=\"M 44.845313 224.64 \r\nL 379.645313 224.64 \r\nL 379.645313 7.2 \r\nL 44.845313 7.2 \r\nz\r\n\" style=\"fill:#ffffff;\"/>\r\n   </g>\r\n   <g id=\"matplotlib.axis_1\">\r\n    <g id=\"xtick_1\">\r\n     <g id=\"line2d_1\">\r\n      <defs>\r\n       <path d=\"M 0 0 \r\nL 0 3.5 \r\n\" id=\"mfe343c3ce6\" style=\"stroke:#000000;stroke-width:0.8;\"/>\r\n      </defs>\r\n      <g>\r\n       <use style=\"stroke:#000000;stroke-width:0.8;\" x=\"66.922381\" xlink:href=\"#mfe343c3ce6\" y=\"224.64\"/>\r\n      </g>\r\n     </g>\r\n     <g id=\"text_1\">\r\n      <!-- −3 -->\r\n      <g transform=\"translate(59.551287 239.238437)scale(0.1 -0.1)\">\r\n       <defs>\r\n        <path d=\"M 10.59375 35.5 \r\nL 73.1875 35.5 \r\nL 73.1875 27.203125 \r\nL 10.59375 27.203125 \r\nz\r\n\" id=\"DejaVuSans-8722\"/>\r\n        <path d=\"M 40.578125 39.3125 \r\nQ 47.65625 37.796875 51.625 33 \r\nQ 55.609375 28.21875 55.609375 21.1875 \r\nQ 55.609375 10.40625 48.1875 4.484375 \r\nQ 40.765625 -1.421875 27.09375 -1.421875 \r\nQ 22.515625 -1.421875 17.65625 -0.515625 \r\nQ 12.796875 0.390625 7.625 2.203125 \r\nL 7.625 11.71875 \r\nQ 11.71875 9.328125 16.59375 8.109375 \r\nQ 21.484375 6.890625 26.8125 6.890625 \r\nQ 36.078125 6.890625 40.9375 10.546875 \r\nQ 45.796875 14.203125 45.796875 21.1875 \r\nQ 45.796875 27.640625 41.28125 31.265625 \r\nQ 36.765625 34.90625 28.71875 34.90625 \r\nL 20.21875 34.90625 \r\nL 20.21875 43.015625 \r\nL 29.109375 43.015625 \r\nQ 36.375 43.015625 40.234375 45.921875 \r\nQ 44.09375 48.828125 44.09375 54.296875 \r\nQ 44.09375 59.90625 40.109375 62.90625 \r\nQ 36.140625 65.921875 28.71875 65.921875 \r\nQ 24.65625 65.921875 20.015625 65.03125 \r\nQ 15.375 64.15625 9.8125 62.3125 \r\nL 9.8125 71.09375 \r\nQ 15.4375 72.65625 20.34375 73.4375 \r\nQ 25.25 74.21875 29.59375 74.21875 \r\nQ 40.828125 74.21875 47.359375 69.109375 \r\nQ 53.90625 64.015625 53.90625 55.328125 \r\nQ 53.90625 49.265625 50.4375 45.09375 \r\nQ 46.96875 40.921875 40.578125 39.3125 \r\nz\r\n\" id=\"DejaVuSans-51\"/>\r\n       </defs>\r\n       <use xlink:href=\"#DejaVuSans-8722\"/>\r\n       <use x=\"83.789062\" xlink:href=\"#DejaVuSans-51\"/>\r\n      </g>\r\n     </g>\r\n    </g>\r\n    <g id=\"xtick_2\">\r\n     <g id=\"line2d_2\">\r\n      <g>\r\n       <use style=\"stroke:#000000;stroke-width:0.8;\" x=\"115.363358\" xlink:href=\"#mfe343c3ce6\" y=\"224.64\"/>\r\n      </g>\r\n     </g>\r\n     <g id=\"text_2\">\r\n      <!-- −2 -->\r\n      <g transform=\"translate(107.992264 239.238437)scale(0.1 -0.1)\">\r\n       <defs>\r\n        <path d=\"M 19.1875 8.296875 \r\nL 53.609375 8.296875 \r\nL 53.609375 0 \r\nL 7.328125 0 \r\nL 7.328125 8.296875 \r\nQ 12.9375 14.109375 22.625 23.890625 \r\nQ 32.328125 33.6875 34.8125 36.53125 \r\nQ 39.546875 41.84375 41.421875 45.53125 \r\nQ 43.3125 49.21875 43.3125 52.78125 \r\nQ 43.3125 58.59375 39.234375 62.25 \r\nQ 35.15625 65.921875 28.609375 65.921875 \r\nQ 23.96875 65.921875 18.8125 64.3125 \r\nQ 13.671875 62.703125 7.8125 59.421875 \r\nL 7.8125 69.390625 \r\nQ 13.765625 71.78125 18.9375 73 \r\nQ 24.125 74.21875 28.421875 74.21875 \r\nQ 39.75 74.21875 46.484375 68.546875 \r\nQ 53.21875 62.890625 53.21875 53.421875 \r\nQ 53.21875 48.921875 51.53125 44.890625 \r\nQ 49.859375 40.875 45.40625 35.40625 \r\nQ 44.1875 33.984375 37.640625 27.21875 \r\nQ 31.109375 20.453125 19.1875 8.296875 \r\nz\r\n\" id=\"DejaVuSans-50\"/>\r\n       </defs>\r\n       <use xlink:href=\"#DejaVuSans-8722\"/>\r\n       <use x=\"83.789062\" xlink:href=\"#DejaVuSans-50\"/>\r\n      </g>\r\n     </g>\r\n    </g>\r\n    <g id=\"xtick_3\">\r\n     <g id=\"line2d_3\">\r\n      <g>\r\n       <use style=\"stroke:#000000;stroke-width:0.8;\" x=\"163.804335\" xlink:href=\"#mfe343c3ce6\" y=\"224.64\"/>\r\n      </g>\r\n     </g>\r\n     <g id=\"text_3\">\r\n      <!-- −1 -->\r\n      <g transform=\"translate(156.433242 239.238437)scale(0.1 -0.1)\">\r\n       <defs>\r\n        <path d=\"M 12.40625 8.296875 \r\nL 28.515625 8.296875 \r\nL 28.515625 63.921875 \r\nL 10.984375 60.40625 \r\nL 10.984375 69.390625 \r\nL 28.421875 72.90625 \r\nL 38.28125 72.90625 \r\nL 38.28125 8.296875 \r\nL 54.390625 8.296875 \r\nL 54.390625 0 \r\nL 12.40625 0 \r\nz\r\n\" id=\"DejaVuSans-49\"/>\r\n       </defs>\r\n       <use xlink:href=\"#DejaVuSans-8722\"/>\r\n       <use x=\"83.789062\" xlink:href=\"#DejaVuSans-49\"/>\r\n      </g>\r\n     </g>\r\n    </g>\r\n    <g id=\"xtick_4\">\r\n     <g id=\"line2d_4\">\r\n      <g>\r\n       <use style=\"stroke:#000000;stroke-width:0.8;\" x=\"212.245313\" xlink:href=\"#mfe343c3ce6\" y=\"224.64\"/>\r\n      </g>\r\n     </g>\r\n     <g id=\"text_4\">\r\n      <!-- 0 -->\r\n      <g transform=\"translate(209.064063 239.238437)scale(0.1 -0.1)\">\r\n       <defs>\r\n        <path d=\"M 31.78125 66.40625 \r\nQ 24.171875 66.40625 20.328125 58.90625 \r\nQ 16.5 51.421875 16.5 36.375 \r\nQ 16.5 21.390625 20.328125 13.890625 \r\nQ 24.171875 6.390625 31.78125 6.390625 \r\nQ 39.453125 6.390625 43.28125 13.890625 \r\nQ 47.125 21.390625 47.125 36.375 \r\nQ 47.125 51.421875 43.28125 58.90625 \r\nQ 39.453125 66.40625 31.78125 66.40625 \r\nz\r\nM 31.78125 74.21875 \r\nQ 44.046875 74.21875 50.515625 64.515625 \r\nQ 56.984375 54.828125 56.984375 36.375 \r\nQ 56.984375 17.96875 50.515625 8.265625 \r\nQ 44.046875 -1.421875 31.78125 -1.421875 \r\nQ 19.53125 -1.421875 13.0625 8.265625 \r\nQ 6.59375 17.96875 6.59375 36.375 \r\nQ 6.59375 54.828125 13.0625 64.515625 \r\nQ 19.53125 74.21875 31.78125 74.21875 \r\nz\r\n\" id=\"DejaVuSans-48\"/>\r\n       </defs>\r\n       <use xlink:href=\"#DejaVuSans-48\"/>\r\n      </g>\r\n     </g>\r\n    </g>\r\n    <g id=\"xtick_5\">\r\n     <g id=\"line2d_5\">\r\n      <g>\r\n       <use style=\"stroke:#000000;stroke-width:0.8;\" x=\"260.68629\" xlink:href=\"#mfe343c3ce6\" y=\"224.64\"/>\r\n      </g>\r\n     </g>\r\n     <g id=\"text_5\">\r\n      <!-- 1 -->\r\n      <g transform=\"translate(257.50504 239.238437)scale(0.1 -0.1)\">\r\n       <use xlink:href=\"#DejaVuSans-49\"/>\r\n      </g>\r\n     </g>\r\n    </g>\r\n    <g id=\"xtick_6\">\r\n     <g id=\"line2d_6\">\r\n      <g>\r\n       <use style=\"stroke:#000000;stroke-width:0.8;\" x=\"309.127267\" xlink:href=\"#mfe343c3ce6\" y=\"224.64\"/>\r\n      </g>\r\n     </g>\r\n     <g id=\"text_6\">\r\n      <!-- 2 -->\r\n      <g transform=\"translate(305.946017 239.238437)scale(0.1 -0.1)\">\r\n       <use xlink:href=\"#DejaVuSans-50\"/>\r\n      </g>\r\n     </g>\r\n    </g>\r\n    <g id=\"xtick_7\">\r\n     <g id=\"line2d_7\">\r\n      <g>\r\n       <use style=\"stroke:#000000;stroke-width:0.8;\" x=\"357.568244\" xlink:href=\"#mfe343c3ce6\" y=\"224.64\"/>\r\n      </g>\r\n     </g>\r\n     <g id=\"text_7\">\r\n      <!-- 3 -->\r\n      <g transform=\"translate(354.386994 239.238437)scale(0.1 -0.1)\">\r\n       <use xlink:href=\"#DejaVuSans-51\"/>\r\n      </g>\r\n     </g>\r\n    </g>\r\n   </g>\r\n   <g id=\"matplotlib.axis_2\">\r\n    <g id=\"ytick_1\">\r\n     <g id=\"line2d_8\">\r\n      <defs>\r\n       <path d=\"M 0 0 \r\nL -3.5 0 \r\n\" id=\"mfa3f6d8e2e\" style=\"stroke:#000000;stroke-width:0.8;\"/>\r\n      </defs>\r\n      <g>\r\n       <use style=\"stroke:#000000;stroke-width:0.8;\" x=\"44.845313\" xlink:href=\"#mfa3f6d8e2e\" y=\"214.768806\"/>\r\n      </g>\r\n     </g>\r\n     <g id=\"text_8\">\r\n      <!-- −1.00 -->\r\n      <g transform=\"translate(7.2 218.568025)scale(0.1 -0.1)\">\r\n       <defs>\r\n        <path d=\"M 10.6875 12.40625 \r\nL 21 12.40625 \r\nL 21 0 \r\nL 10.6875 0 \r\nz\r\n\" id=\"DejaVuSans-46\"/>\r\n       </defs>\r\n       <use xlink:href=\"#DejaVuSans-8722\"/>\r\n       <use x=\"83.789062\" xlink:href=\"#DejaVuSans-49\"/>\r\n       <use x=\"147.412109\" xlink:href=\"#DejaVuSans-46\"/>\r\n       <use x=\"179.199219\" xlink:href=\"#DejaVuSans-48\"/>\r\n       <use x=\"242.822266\" xlink:href=\"#DejaVuSans-48\"/>\r\n      </g>\r\n     </g>\r\n    </g>\r\n    <g id=\"ytick_2\">\r\n     <g id=\"line2d_9\">\r\n      <g>\r\n       <use style=\"stroke:#000000;stroke-width:0.8;\" x=\"44.845313\" xlink:href=\"#mfa3f6d8e2e\" y=\"190.056604\"/>\r\n      </g>\r\n     </g>\r\n     <g id=\"text_9\">\r\n      <!-- −0.75 -->\r\n      <g transform=\"translate(7.2 193.855823)scale(0.1 -0.1)\">\r\n       <defs>\r\n        <path d=\"M 8.203125 72.90625 \r\nL 55.078125 72.90625 \r\nL 55.078125 68.703125 \r\nL 28.609375 0 \r\nL 18.3125 0 \r\nL 43.21875 64.59375 \r\nL 8.203125 64.59375 \r\nz\r\n\" id=\"DejaVuSans-55\"/>\r\n        <path d=\"M 10.796875 72.90625 \r\nL 49.515625 72.90625 \r\nL 49.515625 64.59375 \r\nL 19.828125 64.59375 \r\nL 19.828125 46.734375 \r\nQ 21.96875 47.46875 24.109375 47.828125 \r\nQ 26.265625 48.1875 28.421875 48.1875 \r\nQ 40.625 48.1875 47.75 41.5 \r\nQ 54.890625 34.8125 54.890625 23.390625 \r\nQ 54.890625 11.625 47.5625 5.09375 \r\nQ 40.234375 -1.421875 26.90625 -1.421875 \r\nQ 22.3125 -1.421875 17.546875 -0.640625 \r\nQ 12.796875 0.140625 7.71875 1.703125 \r\nL 7.71875 11.625 \r\nQ 12.109375 9.234375 16.796875 8.0625 \r\nQ 21.484375 6.890625 26.703125 6.890625 \r\nQ 35.15625 6.890625 40.078125 11.328125 \r\nQ 45.015625 15.765625 45.015625 23.390625 \r\nQ 45.015625 31 40.078125 35.4375 \r\nQ 35.15625 39.890625 26.703125 39.890625 \r\nQ 22.75 39.890625 18.8125 39.015625 \r\nQ 14.890625 38.140625 10.796875 36.28125 \r\nz\r\n\" id=\"DejaVuSans-53\"/>\r\n       </defs>\r\n       <use xlink:href=\"#DejaVuSans-8722\"/>\r\n       <use x=\"83.789062\" xlink:href=\"#DejaVuSans-48\"/>\r\n       <use x=\"147.412109\" xlink:href=\"#DejaVuSans-46\"/>\r\n       <use x=\"179.199219\" xlink:href=\"#DejaVuSans-55\"/>\r\n       <use x=\"242.822266\" xlink:href=\"#DejaVuSans-53\"/>\r\n      </g>\r\n     </g>\r\n    </g>\r\n    <g id=\"ytick_3\">\r\n     <g id=\"line2d_10\">\r\n      <g>\r\n       <use style=\"stroke:#000000;stroke-width:0.8;\" x=\"44.845313\" xlink:href=\"#mfa3f6d8e2e\" y=\"165.344403\"/>\r\n      </g>\r\n     </g>\r\n     <g id=\"text_10\">\r\n      <!-- −0.50 -->\r\n      <g transform=\"translate(7.2 169.143622)scale(0.1 -0.1)\">\r\n       <use xlink:href=\"#DejaVuSans-8722\"/>\r\n       <use x=\"83.789062\" xlink:href=\"#DejaVuSans-48\"/>\r\n       <use x=\"147.412109\" xlink:href=\"#DejaVuSans-46\"/>\r\n       <use x=\"179.199219\" xlink:href=\"#DejaVuSans-53\"/>\r\n       <use x=\"242.822266\" xlink:href=\"#DejaVuSans-48\"/>\r\n      </g>\r\n     </g>\r\n    </g>\r\n    <g id=\"ytick_4\">\r\n     <g id=\"line2d_11\">\r\n      <g>\r\n       <use style=\"stroke:#000000;stroke-width:0.8;\" x=\"44.845313\" xlink:href=\"#mfa3f6d8e2e\" y=\"140.632201\"/>\r\n      </g>\r\n     </g>\r\n     <g id=\"text_11\">\r\n      <!-- −0.25 -->\r\n      <g transform=\"translate(7.2 144.43142)scale(0.1 -0.1)\">\r\n       <use xlink:href=\"#DejaVuSans-8722\"/>\r\n       <use x=\"83.789062\" xlink:href=\"#DejaVuSans-48\"/>\r\n       <use x=\"147.412109\" xlink:href=\"#DejaVuSans-46\"/>\r\n       <use x=\"179.199219\" xlink:href=\"#DejaVuSans-50\"/>\r\n       <use x=\"242.822266\" xlink:href=\"#DejaVuSans-53\"/>\r\n      </g>\r\n     </g>\r\n    </g>\r\n    <g id=\"ytick_5\">\r\n     <g id=\"line2d_12\">\r\n      <g>\r\n       <use style=\"stroke:#000000;stroke-width:0.8;\" x=\"44.845313\" xlink:href=\"#mfa3f6d8e2e\" y=\"115.92\"/>\r\n      </g>\r\n     </g>\r\n     <g id=\"text_12\">\r\n      <!-- 0.00 -->\r\n      <g transform=\"translate(15.579688 119.719219)scale(0.1 -0.1)\">\r\n       <use xlink:href=\"#DejaVuSans-48\"/>\r\n       <use x=\"63.623047\" xlink:href=\"#DejaVuSans-46\"/>\r\n       <use x=\"95.410156\" xlink:href=\"#DejaVuSans-48\"/>\r\n       <use x=\"159.033203\" xlink:href=\"#DejaVuSans-48\"/>\r\n      </g>\r\n     </g>\r\n    </g>\r\n    <g id=\"ytick_6\">\r\n     <g id=\"line2d_13\">\r\n      <g>\r\n       <use style=\"stroke:#000000;stroke-width:0.8;\" x=\"44.845313\" xlink:href=\"#mfa3f6d8e2e\" y=\"91.207799\"/>\r\n      </g>\r\n     </g>\r\n     <g id=\"text_13\">\r\n      <!-- 0.25 -->\r\n      <g transform=\"translate(15.579688 95.007017)scale(0.1 -0.1)\">\r\n       <use xlink:href=\"#DejaVuSans-48\"/>\r\n       <use x=\"63.623047\" xlink:href=\"#DejaVuSans-46\"/>\r\n       <use x=\"95.410156\" xlink:href=\"#DejaVuSans-50\"/>\r\n       <use x=\"159.033203\" xlink:href=\"#DejaVuSans-53\"/>\r\n      </g>\r\n     </g>\r\n    </g>\r\n    <g id=\"ytick_7\">\r\n     <g id=\"line2d_14\">\r\n      <g>\r\n       <use style=\"stroke:#000000;stroke-width:0.8;\" x=\"44.845313\" xlink:href=\"#mfa3f6d8e2e\" y=\"66.495597\"/>\r\n      </g>\r\n     </g>\r\n     <g id=\"text_14\">\r\n      <!-- 0.50 -->\r\n      <g transform=\"translate(15.579688 70.294816)scale(0.1 -0.1)\">\r\n       <use xlink:href=\"#DejaVuSans-48\"/>\r\n       <use x=\"63.623047\" xlink:href=\"#DejaVuSans-46\"/>\r\n       <use x=\"95.410156\" xlink:href=\"#DejaVuSans-53\"/>\r\n       <use x=\"159.033203\" xlink:href=\"#DejaVuSans-48\"/>\r\n      </g>\r\n     </g>\r\n    </g>\r\n    <g id=\"ytick_8\">\r\n     <g id=\"line2d_15\">\r\n      <g>\r\n       <use style=\"stroke:#000000;stroke-width:0.8;\" x=\"44.845313\" xlink:href=\"#mfa3f6d8e2e\" y=\"41.783396\"/>\r\n      </g>\r\n     </g>\r\n     <g id=\"text_15\">\r\n      <!-- 0.75 -->\r\n      <g transform=\"translate(15.579688 45.582614)scale(0.1 -0.1)\">\r\n       <use xlink:href=\"#DejaVuSans-48\"/>\r\n       <use x=\"63.623047\" xlink:href=\"#DejaVuSans-46\"/>\r\n       <use x=\"95.410156\" xlink:href=\"#DejaVuSans-55\"/>\r\n       <use x=\"159.033203\" xlink:href=\"#DejaVuSans-53\"/>\r\n      </g>\r\n     </g>\r\n    </g>\r\n    <g id=\"ytick_9\">\r\n     <g id=\"line2d_16\">\r\n      <g>\r\n       <use style=\"stroke:#000000;stroke-width:0.8;\" x=\"44.845313\" xlink:href=\"#mfa3f6d8e2e\" y=\"17.071194\"/>\r\n      </g>\r\n     </g>\r\n     <g id=\"text_16\">\r\n      <!-- 1.00 -->\r\n      <g transform=\"translate(15.579688 20.870413)scale(0.1 -0.1)\">\r\n       <use xlink:href=\"#DejaVuSans-49\"/>\r\n       <use x=\"63.623047\" xlink:href=\"#DejaVuSans-46\"/>\r\n       <use x=\"95.410156\" xlink:href=\"#DejaVuSans-48\"/>\r\n       <use x=\"159.033203\" xlink:href=\"#DejaVuSans-48\"/>\r\n      </g>\r\n     </g>\r\n    </g>\r\n   </g>\r\n   <g id=\"line2d_17\">\r\n    <path clip-path=\"url(#pf3d86f023d)\" d=\"M 60.063494 115.92 \r\nL 63.137874 122.189379 \r\nL 66.212255 128.433513 \r\nL 69.286635 134.62726 \r\nL 72.361015 140.745679 \r\nL 75.435395 146.764134 \r\nL 78.509775 152.65839 \r\nL 81.584155 158.404714 \r\nL 84.658536 163.979967 \r\nL 87.732916 169.361699 \r\nL 90.807296 174.528241 \r\nL 93.881676 179.458788 \r\nL 96.956056 184.133486 \r\nL 100.030436 188.533513 \r\nL 103.104817 192.641151 \r\nL 106.179197 196.43986 \r\nL 109.253577 199.914344 \r\nL 112.327957 203.050612 \r\nL 115.402337 205.836037 \r\nL 118.476717 208.259401 \r\nL 121.551098 210.310946 \r\nL 124.625478 211.982413 \r\nL 127.699858 213.26707 \r\nL 130.774238 214.159746 \r\nL 133.848618 214.656844 \r\nL 136.922998 214.756364 \r\nL 139.997379 214.457904 \r\nL 143.071759 213.762668 \r\nL 146.146139 212.673453 \r\nL 149.220519 211.194647 \r\nL 152.294899 209.332203 \r\nL 155.369279 207.093621 \r\nL 158.44366 204.487915 \r\nL 161.51804 201.525577 \r\nL 164.59242 198.218536 \r\nL 167.6668 194.580108 \r\nL 170.74118 190.624943 \r\nL 173.81556 186.368968 \r\nL 176.889941 181.82932 \r\nL 179.964321 177.024278 \r\nL 183.038701 171.97319 \r\nL 186.113081 166.696397 \r\nL 189.187461 161.215145 \r\nL 192.261841 155.551505 \r\nL 195.336222 149.728283 \r\nL 198.410602 143.768927 \r\nL 201.484982 137.697433 \r\nL 204.559362 131.538249 \r\nL 207.633742 125.316176 \r\nL 210.708122 119.056268 \r\nL 213.782503 112.783732 \r\nL 216.856883 106.523824 \r\nL 219.931263 100.301751 \r\nL 223.005643 94.142567 \r\nL 226.080023 88.071073 \r\nL 229.154403 82.111717 \r\nL 232.228784 76.288495 \r\nL 235.303164 70.624855 \r\nL 238.377544 65.143603 \r\nL 241.451924 59.86681 \r\nL 244.526304 54.815722 \r\nL 247.600684 50.01068 \r\nL 250.675065 45.471032 \r\nL 253.749445 41.215057 \r\nL 256.823825 37.259892 \r\nL 259.898205 33.621464 \r\nL 262.972585 30.314423 \r\nL 266.046965 27.352085 \r\nL 269.121346 24.746379 \r\nL 272.195726 22.507797 \r\nL 275.270106 20.645353 \r\nL 278.344486 19.166547 \r\nL 281.418866 18.077332 \r\nL 284.493246 17.382096 \r\nL 287.567627 17.083636 \r\nL 290.642007 17.183156 \r\nL 293.716387 17.680254 \r\nL 296.790767 18.57293 \r\nL 299.865147 19.857587 \r\nL 302.939527 21.529054 \r\nL 306.013908 23.580599 \r\nL 309.088288 26.003963 \r\nL 312.162668 28.789388 \r\nL 315.237048 31.925656 \r\nL 318.311428 35.40014 \r\nL 321.385808 39.198849 \r\nL 324.460189 43.306487 \r\nL 327.534569 47.706514 \r\nL 330.608949 52.381212 \r\nL 333.683329 57.311759 \r\nL 336.757709 62.478301 \r\nL 339.832089 67.860033 \r\nL 342.90647 73.435286 \r\nL 345.98085 79.18161 \r\nL 349.05523 85.075866 \r\nL 352.12961 91.094321 \r\nL 355.20399 97.21274 \r\nL 358.27837 103.406487 \r\nL 361.352751 109.650621 \r\nL 364.427131 115.92 \r\n\" style=\"fill:none;stroke:#1f77b4;stroke-linecap:square;stroke-width:1.5;\"/>\r\n   </g>\r\n   <g id=\"patch_3\">\r\n    <path d=\"M 44.845313 224.64 \r\nL 44.845313 7.2 \r\n\" style=\"fill:none;stroke:#000000;stroke-linecap:square;stroke-linejoin:miter;stroke-width:0.8;\"/>\r\n   </g>\r\n   <g id=\"patch_4\">\r\n    <path d=\"M 379.645313 224.64 \r\nL 379.645313 7.2 \r\n\" style=\"fill:none;stroke:#000000;stroke-linecap:square;stroke-linejoin:miter;stroke-width:0.8;\"/>\r\n   </g>\r\n   <g id=\"patch_5\">\r\n    <path d=\"M 44.845313 224.64 \r\nL 379.645313 224.64 \r\n\" style=\"fill:none;stroke:#000000;stroke-linecap:square;stroke-linejoin:miter;stroke-width:0.8;\"/>\r\n   </g>\r\n   <g id=\"patch_6\">\r\n    <path d=\"M 44.845313 7.2 \r\nL 379.645313 7.2 \r\n\" style=\"fill:none;stroke:#000000;stroke-linecap:square;stroke-linejoin:miter;stroke-width:0.8;\"/>\r\n   </g>\r\n  </g>\r\n </g>\r\n <defs>\r\n  <clipPath id=\"pf3d86f023d\">\r\n   <rect height=\"217.44\" width=\"334.8\" x=\"44.845313\" y=\"7.2\"/>\r\n  </clipPath>\r\n </defs>\r\n</svg>\r\n",
      "image/png": "[encoded data removed]"
     },
     "metadata": {
      "needs_background": "light"
     }
    }
   ],
   "source": [
    "import matplotlib.pyplot as plt \n",
    "\n",
    "x = np.linspace(-np.pi, np.pi, 100)\n",
    "y = np.sin(x)\n",
    "plt.plot(x, y)"
   ]
  },
  {
   "source": [
    "# Linear algebra "
   ],
   "cell_type": "markdown",
   "metadata": {}
  },
  {
   "cell_type": "code",
   "execution_count": 10,
   "metadata": {},
   "outputs": [
    {
     "output_type": "execute_result",
     "data": {
      "text/plain": [
       "array([[1. , 2. , 3. ],\n",
       "       [3. , 4. , 6.9],\n",
       "       [4. , 9.2, 5. ]])"
      ]
     },
     "metadata": {},
     "execution_count": 10
    }
   ],
   "source": [
    "a = np.array([[1, 2, 3], [3, 4, 6.9], [4, 9.2, 5]])\n",
    "a"
   ]
  },
  {
   "cell_type": "code",
   "execution_count": 11,
   "metadata": {},
   "outputs": [
    {
     "output_type": "execute_result",
     "data": {
      "text/plain": [
       "array([[-2.63196126,  1.0653753 ,  0.10895884],\n",
       "       [ 0.76271186, -0.42372881,  0.12711864],\n",
       "       [ 0.70217918, -0.07263923, -0.12106538]])"
      ]
     },
     "metadata": {},
     "execution_count": 11
    }
   ],
   "source": [
    "b = np.linalg.inv(a)\n",
    "b"
   ]
  },
  {
   "cell_type": "code",
   "execution_count": 12,
   "metadata": {},
   "outputs": [
    {
     "output_type": "execute_result",
     "data": {
      "text/plain": [
       "array([[ 1.00000000e+00,  4.16333634e-17, -1.38777878e-17],\n",
       "       [ 9.40329332e-17,  1.00000000e+00,  4.16434441e-17],\n",
       "       [ 2.22044605e-16,  4.02455846e-16,  1.00000000e+00]])"
      ]
     },
     "metadata": {},
     "execution_count": 12
    }
   ],
   "source": [
    "np.dot(a, b)"
   ]
  },
  {
   "cell_type": "code",
   "execution_count": 13,
   "metadata": {},
   "outputs": [
    {
     "output_type": "execute_result",
     "data": {
      "text/plain": [
       "array([[ 1.00000000e+00, -7.18687956e-17, -8.46545056e-16],\n",
       "       [ 0.00000000e+00,  1.00000000e+00,  6.38378239e-16],\n",
       "       [ 0.00000000e+00, -9.71646761e-17,  1.00000000e+00]])"
      ]
     },
     "metadata": {},
     "execution_count": 13
    }
   ],
   "source": [
    "np.dot(b, a)"
   ]
  },
  {
   "cell_type": "code",
   "execution_count": 14,
   "metadata": {},
   "outputs": [
    {
     "output_type": "execute_result",
     "data": {
      "text/plain": [
       "array([[ 1.,  0., -0.],\n",
       "       [ 0.,  1.,  0.],\n",
       "       [ 0.,  0.,  1.]])"
      ]
     },
     "metadata": {},
     "execution_count": 14
    }
   ],
   "source": [
    "np.round(np.dot(a, b), 4)"
   ]
  },
  {
   "cell_type": "code",
   "execution_count": 15,
   "metadata": {},
   "outputs": [
    {
     "output_type": "execute_result",
     "data": {
      "text/plain": [
       "array([[-2.63196126,  1.0653753 ,  0.10895884],\n",
       "       [ 0.76271186, -0.42372881,  0.12711864],\n",
       "       [ 0.70217918, -0.07263923, -0.12106538]])"
      ]
     },
     "metadata": {},
     "execution_count": 15
    }
   ],
   "source": [
    "np.linalg.inv(a)"
   ]
  },
  {
   "cell_type": "code",
   "execution_count": 16,
   "metadata": {},
   "outputs": [
    {
     "output_type": "execute_result",
     "data": {
      "text/plain": [
       "array([[ 1.,  0., -0.],\n",
       "       [ 0.,  1.,  0.],\n",
       "       [ 0.,  0.,  1.]])"
      ]
     },
     "metadata": {},
     "execution_count": 16
    }
   ],
   "source": [
    "np.round(np.dot(a, b), 3)"
   ]
  },
  {
   "cell_type": "code",
   "execution_count": 17,
   "metadata": {},
   "outputs": [
    {
     "output_type": "execute_result",
     "data": {
      "text/plain": [
       "array([3, 2, 1])"
      ]
     },
     "metadata": {},
     "execution_count": 17
    }
   ],
   "source": [
    "b = np.array([3, 2 ,1 ])\n",
    "b"
   ]
  },
  {
   "cell_type": "code",
   "execution_count": 18,
   "metadata": {},
   "outputs": [
    {
     "output_type": "execute_result",
     "data": {
      "text/plain": [
       "array([-5.65617433,  1.56779661,  1.8401937 ])"
      ]
     },
     "metadata": {},
     "execution_count": 18
    }
   ],
   "source": [
    "np.linalg.solve(a, b)"
   ]
  },
  {
   "cell_type": "code",
   "execution_count": 19,
   "metadata": {},
   "outputs": [
    {
     "output_type": "stream",
     "name": "stdout",
     "text": [
      "Wall time: 20.8 ms\n"
     ]
    }
   ],
   "source": [
    "import numpy as np\n",
    "my_arr = np.arange(1000000)\n",
    "my_list = list(range(1000000))\n",
    "\n",
    "%time for _ in range(10): my_arr2 = my_arr * 2"
   ]
  },
  {
   "cell_type": "code",
   "execution_count": 20,
   "metadata": {},
   "outputs": [
    {
     "output_type": "stream",
     "name": "stdout",
     "text": [
      "Wall time: 990 ms\n"
     ]
    }
   ],
   "source": [
    "%time for _ in range(10): my_list2 = [x * 2 for x in my_list]"
   ]
  },
  {
   "cell_type": "code",
   "execution_count": 21,
   "metadata": {},
   "outputs": [],
   "source": [
    "import numpy as np \n",
    "\n",
    "# Genrate some random data\n",
    "data = np.random .randn(2, 3)"
   ]
  },
  {
   "cell_type": "code",
   "execution_count": 22,
   "metadata": {},
   "outputs": [
    {
     "output_type": "execute_result",
     "data": {
      "text/plain": [
       "array([[-0.4610837 , -1.18825032,  1.67473969],\n",
       "       [-1.37720372,  0.736993  ,  0.38189389]])"
      ]
     },
     "metadata": {},
     "execution_count": 22
    }
   ],
   "source": [
    "data"
   ]
  },
  {
   "cell_type": "code",
   "execution_count": 23,
   "metadata": {},
   "outputs": [
    {
     "output_type": "execute_result",
     "data": {
      "text/plain": [
       "array([[ -4.61083703, -11.88250324,  16.74739691],\n",
       "       [-13.7720372 ,   7.36993005,   3.8189389 ]])"
      ]
     },
     "metadata": {},
     "execution_count": 23
    }
   ],
   "source": [
    "data * 10"
   ]
  },
  {
   "cell_type": "code",
   "execution_count": 24,
   "metadata": {},
   "outputs": [
    {
     "output_type": "execute_result",
     "data": {
      "text/plain": [
       "array([[ -4.61083703, -11.88250324,  16.74739691],\n",
       "       [-13.7720372 ,   7.36993005,   3.8189389 ]])"
      ]
     },
     "metadata": {},
     "execution_count": 24
    }
   ],
   "source": [
    "data * 10\n"
   ]
  },
  {
   "cell_type": "code",
   "execution_count": 25,
   "metadata": {},
   "outputs": [
    {
     "output_type": "execute_result",
     "data": {
      "text/plain": [
       "array([[-0.92216741, -2.37650065,  3.34947938],\n",
       "       [-2.75440744,  1.47398601,  0.76378778]])"
      ]
     },
     "metadata": {},
     "execution_count": 25
    }
   ],
   "source": [
    "data + data"
   ]
  },
  {
   "cell_type": "code",
   "execution_count": 26,
   "metadata": {},
   "outputs": [],
   "source": [
    "data =[6, 7.5, 8, 0, 1]"
   ]
  },
  {
   "cell_type": "code",
   "execution_count": 27,
   "metadata": {},
   "outputs": [],
   "source": [
    "arr1 = np.array(data)"
   ]
  },
  {
   "cell_type": "code",
   "execution_count": 28,
   "metadata": {},
   "outputs": [
    {
     "output_type": "execute_result",
     "data": {
      "text/plain": [
       "array([6. , 7.5, 8. , 0. , 1. ])"
      ]
     },
     "metadata": {},
     "execution_count": 28
    }
   ],
   "source": [
    "arr1"
   ]
  },
  {
   "cell_type": "code",
   "execution_count": 29,
   "metadata": {},
   "outputs": [
    {
     "output_type": "execute_result",
     "data": {
      "text/plain": [
       "array([[1, 2, 3, 4],\n",
       "       [5, 6, 7, 8]])"
      ]
     },
     "metadata": {},
     "execution_count": 29
    }
   ],
   "source": [
    "data2 =[[1,2,3,4], [5,6,7,8]]\n",
    "arr2 = np.array(data2)\n",
    "arr2"
   ]
  },
  {
   "cell_type": "code",
   "execution_count": 30,
   "metadata": {},
   "outputs": [
    {
     "output_type": "execute_result",
     "data": {
      "text/plain": [
       "array([0., 0., 0., 0., 0., 0., 0., 0., 0., 0.])"
      ]
     },
     "metadata": {},
     "execution_count": 30
    }
   ],
   "source": [
    " np.zeros(10)"
   ]
  },
  {
   "cell_type": "code",
   "execution_count": 31,
   "metadata": {},
   "outputs": [
    {
     "output_type": "execute_result",
     "data": {
      "text/plain": [
       "array([[0., 0., 0., 0., 0., 0.],\n",
       "       [0., 0., 0., 0., 0., 0.],\n",
       "       [0., 0., 0., 0., 0., 0.]])"
      ]
     },
     "metadata": {},
     "execution_count": 31
    }
   ],
   "source": [
    "np.zeros((3,6))"
   ]
  },
  {
   "cell_type": "code",
   "execution_count": 32,
   "metadata": {},
   "outputs": [
    {
     "output_type": "execute_result",
     "data": {
      "text/plain": [
       "array([[[1.25083454e-311, 2.86558075e-322],\n",
       "        [0.00000000e+000, 0.00000000e+000],\n",
       "        [7.56587583e-307, 1.61590357e+184]],\n",
       "\n",
       "       [[5.02561290e-091, 3.21865343e-057],\n",
       "        [4.28940200e-038, 7.96528810e-042],\n",
       "        [6.48224660e+170, 5.82471487e+257]]])"
      ]
     },
     "metadata": {},
     "execution_count": 32
    }
   ],
   "source": [
    "np.empty((2,3,2))"
   ]
  },
  {
   "cell_type": "code",
   "execution_count": 33,
   "metadata": {},
   "outputs": [
    {
     "output_type": "execute_result",
     "data": {
      "text/plain": [
       "array([ 0,  1,  2,  3,  4,  5,  6,  7,  8,  9, 10, 11, 12, 13, 14])"
      ]
     },
     "metadata": {},
     "execution_count": 33
    }
   ],
   "source": [
    "np.arange(15)"
   ]
  },
  {
   "cell_type": "code",
   "execution_count": 34,
   "metadata": {},
   "outputs": [
    {
     "output_type": "stream",
     "name": "stdout",
     "text": [
      "float64\nint32\n"
     ]
    }
   ],
   "source": [
    "arr1 = np.array([1, 2, 3],dtype = np.float64)\n",
    "arr2 = np.array([1, 2, 3],dtype = np.int32 )\n",
    "\n",
    "print(arr1.dtype)\n",
    "print(arr2.dtype)"
   ]
  },
  {
   "cell_type": "code",
   "execution_count": 35,
   "metadata": {},
   "outputs": [
    {
     "output_type": "execute_result",
     "data": {
      "text/plain": [
       "dtype('int32')"
      ]
     },
     "metadata": {},
     "execution_count": 35
    }
   ],
   "source": [
    "arr = np.array([1, 2, 3, 4, 5])\n",
    "arr.dtype"
   ]
  },
  {
   "cell_type": "code",
   "execution_count": 36,
   "metadata": {},
   "outputs": [
    {
     "output_type": "execute_result",
     "data": {
      "text/plain": [
       "dtype('float64')"
      ]
     },
     "metadata": {},
     "execution_count": 36
    }
   ],
   "source": [
    "float_arr = arr.astype(np.float64)\n",
    "float_arr.dtype"
   ]
  },
  {
   "cell_type": "code",
   "execution_count": 37,
   "metadata": {},
   "outputs": [],
   "source": [
    "arr = np.array([3.7, -1.2, -2.6, 0.5, 12.9, 10.1])"
   ]
  },
  {
   "cell_type": "code",
   "execution_count": 38,
   "metadata": {},
   "outputs": [
    {
     "output_type": "execute_result",
     "data": {
      "text/plain": [
       "array([ 3.7, -1.2, -2.6,  0.5, 12.9, 10.1])"
      ]
     },
     "metadata": {},
     "execution_count": 38
    }
   ],
   "source": [
    "arr"
   ]
  },
  {
   "cell_type": "code",
   "execution_count": 39,
   "metadata": {},
   "outputs": [
    {
     "output_type": "execute_result",
     "data": {
      "text/plain": [
       "array([ 3, -1, -2,  0, 12, 10])"
      ]
     },
     "metadata": {},
     "execution_count": 39
    }
   ],
   "source": [
    "arr.astype(np.int32)"
   ]
  },
  {
   "cell_type": "code",
   "execution_count": 40,
   "metadata": {},
   "outputs": [
    {
     "output_type": "execute_result",
     "data": {
      "text/plain": [
       "array([ 1.25, -9.6 , 42.  ])"
      ]
     },
     "metadata": {},
     "execution_count": 40
    }
   ],
   "source": [
    "numeric_strings = np.array(['1.25','-9.6','42'], dtype = np.string_)\n",
    "numeric_strings.astype(float)"
   ]
  },
  {
   "cell_type": "code",
   "execution_count": 41,
   "metadata": {},
   "outputs": [
    {
     "output_type": "execute_result",
     "data": {
      "text/plain": [
       "array([         0, 1075314688,          0, 1075707904,          0,\n",
       "       1075838976,          0, 1072693248], dtype=uint32)"
      ]
     },
     "metadata": {},
     "execution_count": 41
    }
   ],
   "source": [
    "empty_uint32 = np.empty(8, dtype = 'u4')\n",
    "empty_uint32"
   ]
  },
  {
   "cell_type": "code",
   "execution_count": 42,
   "metadata": {},
   "outputs": [
    {
     "output_type": "stream",
     "name": "stdout",
     "text": [
      "[    0     1     2     3     4     5 12345     7     8     9]\n[    5 12345     7]\n"
     ]
    }
   ],
   "source": [
    "arr = np.arange(10)\n",
    "arr_slice = arr[5:8]\n",
    "arr_slice[1] = 12345\n",
    "print(arr)\n",
    "print(arr_slice)"
   ]
  },
  {
   "cell_type": "code",
   "execution_count": 43,
   "metadata": {},
   "outputs": [
    {
     "output_type": "execute_result",
     "data": {
      "text/plain": [
       "array([ 0,  1,  2,  3,  4, 64, 64, 64,  8,  9])"
      ]
     },
     "metadata": {},
     "execution_count": 43
    }
   ],
   "source": [
    "arr_slice[:] = 64\n",
    "arr"
   ]
  },
  {
   "source": [
    "## Boolean Indexing"
   ],
   "cell_type": "markdown",
   "metadata": {}
  },
  {
   "cell_type": "code",
   "execution_count": 44,
   "metadata": {},
   "outputs": [
    {
     "output_type": "execute_result",
     "data": {
      "text/plain": [
       "array(['Bob', 'Joe', 'Will', 'Bob', 'Will', 'Joe', 'Joe'], dtype='<U4')"
      ]
     },
     "metadata": {},
     "execution_count": 44
    }
   ],
   "source": [
    "names = np.array(['Bob', 'Joe', 'Will', 'Bob', 'Will', 'Joe', 'Joe'])\n",
    "data = np.random.randn(7,4)\n",
    "names"
   ]
  },
  {
   "cell_type": "code",
   "execution_count": 45,
   "metadata": {},
   "outputs": [
    {
     "output_type": "execute_result",
     "data": {
      "text/plain": [
       "array(['Bob', 'Joe', 'Will', 'Bob', 'Will', 'Joe', 'Joe'], dtype='<U4')"
      ]
     },
     "metadata": {},
     "execution_count": 45
    }
   ],
   "source": [
    "names"
   ]
  },
  {
   "cell_type": "code",
   "execution_count": 46,
   "metadata": {},
   "outputs": [
    {
     "output_type": "execute_result",
     "data": {
      "text/plain": [
       "array([[-0.74300661, -0.31398357, -0.08189174, -1.13628655],\n",
       "       [-1.59221668,  1.54436922, -0.72369348, -0.76510056],\n",
       "       [-2.48100085,  0.2660428 ,  0.26045854, -0.48895543],\n",
       "       [ 2.63892278,  1.08936085,  0.49762178,  0.53068789],\n",
       "       [-0.65525763, -1.32897747,  0.28651614,  1.13550708],\n",
       "       [-0.74957098,  0.15697224, -1.47900509,  0.50040496],\n",
       "       [-0.9050495 , -1.76323172,  0.19791037, -0.36786341]])"
      ]
     },
     "metadata": {},
     "execution_count": 46
    }
   ],
   "source": [
    "data"
   ]
  },
  {
   "cell_type": "code",
   "execution_count": 47,
   "metadata": {},
   "outputs": [
    {
     "output_type": "execute_result",
     "data": {
      "text/plain": [
       "array([ True, False, False,  True, False, False, False])"
      ]
     },
     "metadata": {},
     "execution_count": 47
    }
   ],
   "source": [
    "names == 'Bob'"
   ]
  },
  {
   "cell_type": "code",
   "execution_count": 48,
   "metadata": {},
   "outputs": [
    {
     "output_type": "execute_result",
     "data": {
      "text/plain": [
       "array([[-0.74300661, -0.31398357, -0.08189174, -1.13628655],\n",
       "       [ 2.63892278,  1.08936085,  0.49762178,  0.53068789]])"
      ]
     },
     "metadata": {},
     "execution_count": 48
    }
   ],
   "source": [
    "data[names == 'Bob']"
   ]
  },
  {
   "cell_type": "code",
   "execution_count": 49,
   "metadata": {},
   "outputs": [
    {
     "output_type": "execute_result",
     "data": {
      "text/plain": [
       "array([[-0.08189174, -1.13628655],\n",
       "       [ 0.49762178,  0.53068789]])"
      ]
     },
     "metadata": {},
     "execution_count": 49
    }
   ],
   "source": [
    "data[names == 'Bob', 2:]"
   ]
  },
  {
   "cell_type": "code",
   "execution_count": 50,
   "metadata": {},
   "outputs": [
    {
     "output_type": "execute_result",
     "data": {
      "text/plain": [
       "array([False,  True,  True, False,  True,  True,  True])"
      ]
     },
     "metadata": {},
     "execution_count": 50
    }
   ],
   "source": [
    "names != 'Bob'"
   ]
  },
  {
   "cell_type": "code",
   "execution_count": 51,
   "metadata": {},
   "outputs": [
    {
     "output_type": "execute_result",
     "data": {
      "text/plain": [
       "array([[-1.59221668,  1.54436922, -0.72369348, -0.76510056],\n",
       "       [-2.48100085,  0.2660428 ,  0.26045854, -0.48895543],\n",
       "       [-0.65525763, -1.32897747,  0.28651614,  1.13550708],\n",
       "       [-0.74957098,  0.15697224, -1.47900509,  0.50040496],\n",
       "       [-0.9050495 , -1.76323172,  0.19791037, -0.36786341]])"
      ]
     },
     "metadata": {},
     "execution_count": 51
    }
   ],
   "source": [
    "data[~(names == 'Bob')]"
   ]
  },
  {
   "cell_type": "code",
   "execution_count": 52,
   "metadata": {},
   "outputs": [
    {
     "output_type": "execute_result",
     "data": {
      "text/plain": [
       "array([ True, False, False,  True, False, False, False])"
      ]
     },
     "metadata": {},
     "execution_count": 52
    }
   ],
   "source": [
    "cond = names =='Bob'\n",
    "cond"
   ]
  },
  {
   "cell_type": "code",
   "execution_count": 53,
   "metadata": {},
   "outputs": [
    {
     "output_type": "execute_result",
     "data": {
      "text/plain": [
       "array([[-0.74300661, -0.31398357, -0.08189174, -1.13628655],\n",
       "       [ 2.63892278,  1.08936085,  0.49762178,  0.53068789]])"
      ]
     },
     "metadata": {},
     "execution_count": 53
    }
   ],
   "source": [
    "data[cond]"
   ]
  },
  {
   "cell_type": "code",
   "execution_count": 54,
   "metadata": {},
   "outputs": [
    {
     "output_type": "execute_result",
     "data": {
      "text/plain": [
       "array([[-1.59221668,  1.54436922, -0.72369348, -0.76510056],\n",
       "       [-2.48100085,  0.2660428 ,  0.26045854, -0.48895543],\n",
       "       [-0.65525763, -1.32897747,  0.28651614,  1.13550708],\n",
       "       [-0.74957098,  0.15697224, -1.47900509,  0.50040496],\n",
       "       [-0.9050495 , -1.76323172,  0.19791037, -0.36786341]])"
      ]
     },
     "metadata": {},
     "execution_count": 54
    }
   ],
   "source": [
    "data[~cond]"
   ]
  },
  {
   "cell_type": "code",
   "execution_count": 55,
   "metadata": {},
   "outputs": [
    {
     "output_type": "execute_result",
     "data": {
      "text/plain": [
       "array([ True, False,  True,  True,  True, False, False])"
      ]
     },
     "metadata": {},
     "execution_count": 55
    }
   ],
   "source": [
    "mask = (names == 'Bob') | (names == 'Will')\n",
    "mask"
   ]
  },
  {
   "cell_type": "code",
   "execution_count": 56,
   "metadata": {},
   "outputs": [
    {
     "output_type": "execute_result",
     "data": {
      "text/plain": [
       "array([[-0.74300661, -0.31398357, -0.08189174, -1.13628655],\n",
       "       [-2.48100085,  0.2660428 ,  0.26045854, -0.48895543],\n",
       "       [ 2.63892278,  1.08936085,  0.49762178,  0.53068789],\n",
       "       [-0.65525763, -1.32897747,  0.28651614,  1.13550708]])"
      ]
     },
     "metadata": {},
     "execution_count": 56
    }
   ],
   "source": [
    "data[mask]"
   ]
  },
  {
   "cell_type": "code",
   "execution_count": 57,
   "metadata": {},
   "outputs": [
    {
     "output_type": "execute_result",
     "data": {
      "text/plain": [
       "array([[0.        , 0.        , 0.        , 0.        ],\n",
       "       [0.        , 1.54436922, 0.        , 0.        ],\n",
       "       [0.        , 0.2660428 , 0.26045854, 0.        ],\n",
       "       [2.63892278, 1.08936085, 0.49762178, 0.53068789],\n",
       "       [0.        , 0.        , 0.28651614, 1.13550708],\n",
       "       [0.        , 0.15697224, 0.        , 0.50040496],\n",
       "       [0.        , 0.        , 0.19791037, 0.        ]])"
      ]
     },
     "metadata": {},
     "execution_count": 57
    }
   ],
   "source": [
    "data[data < 0] = 0\n",
    "data"
   ]
  },
  {
   "cell_type": "code",
   "execution_count": 58,
   "metadata": {},
   "outputs": [
    {
     "output_type": "execute_result",
     "data": {
      "text/plain": [
       "array([[7.        , 7.        , 7.        , 7.        ],\n",
       "       [0.        , 1.54436922, 0.        , 0.        ],\n",
       "       [7.        , 7.        , 7.        , 7.        ],\n",
       "       [7.        , 7.        , 7.        , 7.        ],\n",
       "       [7.        , 7.        , 7.        , 7.        ],\n",
       "       [0.        , 0.15697224, 0.        , 0.50040496],\n",
       "       [0.        , 0.        , 0.19791037, 0.        ]])"
      ]
     },
     "metadata": {},
     "execution_count": 58
    }
   ],
   "source": [
    "data[names != 'Joe'] = 7\n",
    "data"
   ]
  },
  {
   "source": [
    "## Fancy Indexing"
   ],
   "cell_type": "markdown",
   "metadata": {}
  },
  {
   "cell_type": "code",
   "execution_count": 59,
   "metadata": {},
   "outputs": [
    {
     "output_type": "execute_result",
     "data": {
      "text/plain": [
       "array([[0., 0., 0., 0.],\n",
       "       [0., 0., 0., 0.],\n",
       "       [0., 0., 0., 0.],\n",
       "       [0., 0., 0., 0.],\n",
       "       [0., 0., 0., 0.],\n",
       "       [0., 0., 0., 0.],\n",
       "       [0., 0., 0., 0.],\n",
       "       [0., 0., 0., 0.]])"
      ]
     },
     "metadata": {},
     "execution_count": 59
    }
   ],
   "source": [
    "arr = np.empty((8,4))\n",
    "arr"
   ]
  },
  {
   "cell_type": "code",
   "execution_count": 60,
   "metadata": {},
   "outputs": [
    {
     "output_type": "execute_result",
     "data": {
      "text/plain": [
       "array([[0., 0., 0., 0.],\n",
       "       [1., 1., 1., 1.],\n",
       "       [2., 2., 2., 2.],\n",
       "       [3., 3., 3., 3.],\n",
       "       [4., 4., 4., 4.],\n",
       "       [5., 5., 5., 5.],\n",
       "       [6., 6., 6., 6.],\n",
       "       [7., 7., 7., 7.]])"
      ]
     },
     "metadata": {},
     "execution_count": 60
    }
   ],
   "source": [
    "for i in range(8):\n",
    "    arr[i] = i\n",
    "arr"
   ]
  },
  {
   "source": [
    "# Passing multiple index arrays(give a few numbers to present the corrsponding rows)"
   ],
   "cell_type": "code",
   "metadata": {},
   "execution_count": 61,
   "outputs": []
  },
  {
   "cell_type": "code",
   "execution_count": 62,
   "metadata": {},
   "outputs": [
    {
     "output_type": "execute_result",
     "data": {
      "text/plain": [
       "array([[4., 4., 4., 4.],\n",
       "       [3., 3., 3., 3.],\n",
       "       [0., 0., 0., 0.],\n",
       "       [6., 6., 6., 6.]])"
      ]
     },
     "metadata": {},
     "execution_count": 62
    }
   ],
   "source": [
    "arr[[4,3,0,6]]"
   ]
  },
  {
   "cell_type": "code",
   "execution_count": 63,
   "metadata": {},
   "outputs": [
    {
     "output_type": "execute_result",
     "data": {
      "text/plain": [
       "array([[5., 5., 5., 5.],\n",
       "       [3., 3., 3., 3.],\n",
       "       [1., 1., 1., 1.]])"
      ]
     },
     "metadata": {},
     "execution_count": 63
    }
   ],
   "source": [
    "arr[[-3, -5, -7]]"
   ]
  },
  {
   "cell_type": "code",
   "execution_count": 64,
   "metadata": {},
   "outputs": [],
   "source": [
    "arr = np.arange(32).reshape((8,4))"
   ]
  },
  {
   "cell_type": "code",
   "execution_count": 65,
   "metadata": {},
   "outputs": [
    {
     "output_type": "execute_result",
     "data": {
      "text/plain": [
       "array([[ 0,  1,  2,  3],\n",
       "       [ 4,  5,  6,  7],\n",
       "       [ 8,  9, 10, 11],\n",
       "       [12, 13, 14, 15],\n",
       "       [16, 17, 18, 19],\n",
       "       [20, 21, 22, 23],\n",
       "       [24, 25, 26, 27],\n",
       "       [28, 29, 30, 31]])"
      ]
     },
     "metadata": {},
     "execution_count": 65
    }
   ],
   "source": [
    "arr"
   ]
  },
  {
   "cell_type": "code",
   "execution_count": 66,
   "metadata": {},
   "outputs": [
    {
     "output_type": "execute_result",
     "data": {
      "text/plain": [
       "array([ 4, 23, 29, 10])"
      ]
     },
     "metadata": {},
     "execution_count": 66
    }
   ],
   "source": [
    "arr[[1,5,7,2], [0,3,1,2]]"
   ]
  },
  {
   "cell_type": "code",
   "execution_count": 67,
   "metadata": {},
   "outputs": [
    {
     "output_type": "execute_result",
     "data": {
      "text/plain": [
       "array([[ 4,  7,  5,  6],\n",
       "       [20, 23, 21, 22],\n",
       "       [28, 31, 29, 30],\n",
       "       [ 8, 11,  9, 10]])"
      ]
     },
     "metadata": {},
     "execution_count": 67
    }
   ],
   "source": [
    "arr[[1, 5, 7, 2]][:, [0, 3, 1, 2]]\n",
    "# fancy indexing, unlike slicing, always copies the data into a new array"
   ]
  },
  {
   "cell_type": "code",
   "execution_count": 68,
   "metadata": {},
   "outputs": [
    {
     "output_type": "execute_result",
     "data": {
      "text/plain": [
       "array([[ 0,  1,  2,  3,  4],\n",
       "       [ 5,  6,  7,  8,  9],\n",
       "       [10, 11, 12, 13, 14]])"
      ]
     },
     "metadata": {},
     "execution_count": 68
    }
   ],
   "source": [
    "arr = np.arange(15).reshape((3, 5))\n",
    "arr"
   ]
  },
  {
   "cell_type": "code",
   "execution_count": 69,
   "metadata": {},
   "outputs": [
    {
     "output_type": "execute_result",
     "data": {
      "text/plain": [
       "array([[ 0,  5, 10],\n",
       "       [ 1,  6, 11],\n",
       "       [ 2,  7, 12],\n",
       "       [ 3,  8, 13],\n",
       "       [ 4,  9, 14]])"
      ]
     },
     "metadata": {},
     "execution_count": 69
    }
   ],
   "source": [
    "arr.T"
   ]
  },
  {
   "cell_type": "code",
   "execution_count": 70,
   "metadata": {},
   "outputs": [
    {
     "output_type": "execute_result",
     "data": {
      "text/plain": [
       "array([[ 0.06375042,  0.81454512, -1.58041466],\n",
       "       [ 1.03464451,  1.35897866, -1.06521437],\n",
       "       [ 1.11142789, -0.05992843, -1.32359141],\n",
       "       [-0.25311464,  0.60233563, -1.28244396],\n",
       "       [ 0.46849893, -0.76132368, -0.82706679],\n",
       "       [ 0.1139614 ,  0.63311388, -0.80906884]])"
      ]
     },
     "metadata": {},
     "execution_count": 70
    }
   ],
   "source": [
    "arr = np.random.randn(6, 3)\n",
    "arr"
   ]
  },
  {
   "cell_type": "code",
   "execution_count": 71,
   "metadata": {},
   "outputs": [
    {
     "output_type": "execute_result",
     "data": {
      "text/plain": [
       "array([[ 2.6063708 ,  0.95439252, -2.82902388],\n",
       "       [ 0.95439252,  3.85715331, -3.31063076],\n",
       "       [-2.82902388, -3.31063076,  8.36758076]])"
      ]
     },
     "metadata": {},
     "execution_count": 71
    }
   ],
   "source": [
    "np.dot(arr.T, arr)"
   ]
  },
  {
   "cell_type": "code",
   "execution_count": 72,
   "metadata": {},
   "outputs": [
    {
     "output_type": "execute_result",
     "data": {
      "text/plain": [
       "array([[[ 0,  1,  2,  3],\n",
       "        [ 4,  5,  6,  7]],\n",
       "\n",
       "       [[ 8,  9, 10, 11],\n",
       "        [12, 13, 14, 15]]])"
      ]
     },
     "metadata": {},
     "execution_count": 72
    }
   ],
   "source": [
    "arr = np.arange(16).reshape((2, 2, 4))\n",
    "arr"
   ]
  },
  {
   "cell_type": "code",
   "execution_count": 73,
   "metadata": {},
   "outputs": [
    {
     "output_type": "execute_result",
     "data": {
      "text/plain": [
       "array([[[ 0,  1,  2,  3],\n",
       "        [ 8,  9, 10, 11]],\n",
       "\n",
       "       [[ 4,  5,  6,  7],\n",
       "        [12, 13, 14, 15]]])"
      ]
     },
     "metadata": {},
     "execution_count": 73
    }
   ],
   "source": [
    "arr.transpose((1,0,2))"
   ]
  },
  {
   "cell_type": "code",
   "execution_count": 74,
   "metadata": {},
   "outputs": [
    {
     "output_type": "execute_result",
     "data": {
      "text/plain": [
       "0"
      ]
     },
     "metadata": {},
     "execution_count": 74
    }
   ],
   "source": [
    "# using a few below lines to test \n",
    "# 可以看作是 三个维 从左到右 [first-dimension, second-dimension, third-dimension...]\n",
    "arr[0, 0, 0]"
   ]
  },
  {
   "cell_type": "code",
   "execution_count": 75,
   "metadata": {},
   "outputs": [
    {
     "output_type": "execute_result",
     "data": {
      "text/plain": [
       "8"
      ]
     },
     "metadata": {},
     "execution_count": 75
    }
   ],
   "source": [
    "arr[1, 0, 0]"
   ]
  },
  {
   "cell_type": "code",
   "execution_count": 76,
   "metadata": {},
   "outputs": [
    {
     "output_type": "execute_result",
     "data": {
      "text/plain": [
       "array([[[ 0,  4],\n",
       "        [ 1,  5],\n",
       "        [ 2,  6],\n",
       "        [ 3,  7]],\n",
       "\n",
       "       [[ 8, 12],\n",
       "        [ 9, 13],\n",
       "        [10, 14],\n",
       "        [11, 15]]])"
      ]
     },
     "metadata": {},
     "execution_count": 76
    }
   ],
   "source": [
    "arr.swapaxes(1, 2)"
   ]
  },
  {
   "source": [
    "## Fast Element-Wise Array functions"
   ],
   "cell_type": "markdown",
   "metadata": {}
  },
  {
   "cell_type": "code",
   "execution_count": 77,
   "metadata": {},
   "outputs": [
    {
     "output_type": "execute_result",
     "data": {
      "text/plain": [
       "array([0, 1, 2, 3, 4, 5, 6, 7, 8, 9])"
      ]
     },
     "metadata": {},
     "execution_count": 77
    }
   ],
   "source": [
    "arr = np.arange(10)\n",
    "arr"
   ]
  },
  {
   "cell_type": "code",
   "execution_count": 78,
   "metadata": {},
   "outputs": [
    {
     "output_type": "execute_result",
     "data": {
      "text/plain": [
       "array([0.        , 1.        , 1.41421356, 1.73205081, 2.        ,\n",
       "       2.23606798, 2.44948974, 2.64575131, 2.82842712, 3.        ])"
      ]
     },
     "metadata": {},
     "execution_count": 78
    }
   ],
   "source": [
    "np.sqrt(arr)"
   ]
  },
  {
   "cell_type": "code",
   "execution_count": 79,
   "metadata": {},
   "outputs": [
    {
     "output_type": "execute_result",
     "data": {
      "text/plain": [
       "array([1.00000000e+00, 2.71828183e+00, 7.38905610e+00, 2.00855369e+01,\n",
       "       5.45981500e+01, 1.48413159e+02, 4.03428793e+02, 1.09663316e+03,\n",
       "       2.98095799e+03, 8.10308393e+03])"
      ]
     },
     "metadata": {},
     "execution_count": 79
    }
   ],
   "source": [
    "np.exp(arr)"
   ]
  },
  {
   "cell_type": "code",
   "execution_count": 82,
   "metadata": {},
   "outputs": [
    {
     "output_type": "execute_result",
     "data": {
      "text/plain": [
       "array([[ 0,  1,  2,  3,  4],\n",
       "       [ 5,  6,  7,  8,  9],\n",
       "       [10, 11, 12, 13, 14]])"
      ]
     },
     "metadata": {},
     "execution_count": 82
    }
   ],
   "source": [
    "arr = np.arange(15).reshape((3, 5)) \n",
    "arr"
   ]
  },
  {
   "cell_type": "code",
   "execution_count": 83,
   "metadata": {},
   "outputs": [
    {
     "output_type": "execute_result",
     "data": {
      "text/plain": [
       "array([[ 0,  5, 10],\n",
       "       [ 1,  6, 11],\n",
       "       [ 2,  7, 12],\n",
       "       [ 3,  8, 13],\n",
       "       [ 4,  9, 14]])"
      ]
     },
     "metadata": {},
     "execution_count": 83
    }
   ],
   "source": [
    "arr.T"
   ]
  },
  {
   "cell_type": "code",
   "execution_count": 86,
   "metadata": {},
   "outputs": [
    {
     "output_type": "execute_result",
     "data": {
      "text/plain": [
       "array([[ 0.7491962 ,  0.72235672,  0.61231484],\n",
       "       [ 1.82636266,  0.79153826, -2.07934983],\n",
       "       [-0.51712683,  0.27862556, -0.54863859],\n",
       "       [-0.73431982,  0.64195246,  0.4796284 ],\n",
       "       [-0.71853199, -0.72861392,  0.47278079],\n",
       "       [-1.09888458, -0.21370618, -0.72409578]])"
      ]
     },
     "metadata": {},
     "execution_count": 86
    }
   ],
   "source": [
    "arr = np.random.randn(6,3)\n",
    "arr"
   ]
  },
  {
   "cell_type": "code",
   "execution_count": 87,
   "metadata": {},
   "outputs": [
    {
     "output_type": "execute_result",
     "data": {
      "text/plain": [
       "array([[ 6.42737681,  2.12971051, -2.95139827],\n",
       "       [ 2.12971051,  2.21461579, -1.23827224],\n",
       "       [-2.95139827, -1.23827224,  5.97750925]])"
      ]
     },
     "metadata": {},
     "execution_count": 87
    }
   ],
   "source": [
    "np.dot(arr.T, arr)"
   ]
  },
  {
   "cell_type": "code",
   "execution_count": 89,
   "metadata": {},
   "outputs": [
    {
     "output_type": "execute_result",
     "data": {
      "text/plain": [
       "array([[[ 0,  1,  2,  3],\n",
       "        [ 4,  5,  6,  7]],\n",
       "\n",
       "       [[ 8,  9, 10, 11],\n",
       "        [12, 13, 14, 15]]])"
      ]
     },
     "metadata": {},
     "execution_count": 89
    }
   ],
   "source": [
    "arr = np.arange(16).reshape((2, 2, 4))\n",
    "arr"
   ]
  },
  {
   "cell_type": "code",
   "execution_count": 90,
   "metadata": {},
   "outputs": [
    {
     "output_type": "execute_result",
     "data": {
      "text/plain": [
       "array([[[ 0,  1,  2,  3],\n",
       "        [ 8,  9, 10, 11]],\n",
       "\n",
       "       [[ 4,  5,  6,  7],\n",
       "        [12, 13, 14, 15]]])"
      ]
     },
     "metadata": {},
     "execution_count": 90
    }
   ],
   "source": [
    "arr.transpose((1, 0, 2))"
   ]
  },
  {
   "cell_type": "code",
   "execution_count": 91,
   "metadata": {},
   "outputs": [
    {
     "output_type": "stream",
     "name": "stdout",
     "text": [
      "[ 0.81987852  0.41194227 -0.65237043 -1.60604099  0.49843036  0.7737791\n -0.43161724  3.11588882]\n[-2.06626281  1.0554431  -0.22133721  0.49657136  0.88145901  0.46811844\n -0.40964788 -0.74795842]\n"
     ]
    }
   ],
   "source": [
    "x = np.random.randn(8) \n",
    "y = np.random.randn(8) \n",
    "print(x)\n",
    "print(y)"
   ]
  },
  {
   "cell_type": "code",
   "execution_count": 92,
   "metadata": {},
   "outputs": [
    {
     "output_type": "execute_result",
     "data": {
      "text/plain": [
       "array([ 0.81987852,  1.0554431 , -0.22133721,  0.49657136,  0.88145901,\n",
       "        0.7737791 , -0.40964788,  3.11588882])"
      ]
     },
     "metadata": {},
     "execution_count": 92
    }
   ],
   "source": [
    "np.maximum(x, y)"
   ]
  },
  {
   "cell_type": "code",
   "execution_count": 93,
   "metadata": {},
   "outputs": [
    {
     "output_type": "execute_result",
     "data": {
      "text/plain": [
       "array([-1.41200179, -7.83064642, -5.16493955, -1.87275035, -6.94505713,\n",
       "       -3.36418124,  4.85090949])"
      ]
     },
     "metadata": {},
     "execution_count": 93
    }
   ],
   "source": [
    "arr = np.random.randn(7) * 5\n",
    "arr"
   ]
  },
  {
   "cell_type": "code",
   "execution_count": 95,
   "metadata": {},
   "outputs": [],
   "source": [
    "remainder, whole_part = np.modf(arr)"
   ]
  },
  {
   "cell_type": "code",
   "execution_count": 96,
   "metadata": {},
   "outputs": [
    {
     "output_type": "stream",
     "name": "stdout",
     "text": [
      "[-0.41200179 -0.83064642 -0.16493955 -0.87275035 -0.94505713 -0.36418124\n  0.85090949]\n[-1. -7. -5. -1. -6. -3.  4.]\n"
     ]
    }
   ],
   "source": [
    "print(remainder)\n",
    "print(whole_part)"
   ]
  },
  {
   "cell_type": "code",
   "execution_count": 97,
   "metadata": {},
   "outputs": [
    {
     "output_type": "execute_result",
     "data": {
      "text/plain": [
       "array([-1.41200179, -7.83064642, -5.16493955, -1.87275035, -6.94505713,\n",
       "       -3.36418124,  4.85090949])"
      ]
     },
     "metadata": {},
     "execution_count": 97
    }
   ],
   "source": [
    "arr"
   ]
  },
  {
   "cell_type": "code",
   "execution_count": 99,
   "metadata": {},
   "outputs": [
    {
     "output_type": "execute_result",
     "data": {
      "text/plain": [
       "array([       nan,        nan,        nan,        nan,        nan,\n",
       "              nan, 2.20247803])"
      ]
     },
     "metadata": {},
     "execution_count": 99
    }
   ],
   "source": [
    "np.sqrt(arr)"
   ]
  },
  {
   "cell_type": "code",
   "execution_count": 100,
   "metadata": {},
   "outputs": [
    {
     "output_type": "execute_result",
     "data": {
      "text/plain": [
       "array([       nan,        nan,        nan,        nan,        nan,\n",
       "              nan, 2.20247803])"
      ]
     },
     "metadata": {},
     "execution_count": 100
    }
   ],
   "source": [
    "np.sqrt(arr, arr)"
   ]
  },
  {
   "cell_type": "code",
   "execution_count": null,
   "metadata": {},
   "outputs": [],
   "source": []
  },
  {
   "cell_type": "code",
   "execution_count": 101,
   "metadata": {},
   "outputs": [],
   "source": [
    "points = np.arange(-5, 5, 0.01) # 1000 equally spaced points"
   ]
  },
  {
   "cell_type": "code",
   "execution_count": 102,
   "metadata": {},
   "outputs": [
    {
     "output_type": "execute_result",
     "data": {
      "text/plain": [
       "array([[-5.  , -5.  , -5.  , ..., -5.  , -5.  , -5.  ],\n",
       "       [-4.99, -4.99, -4.99, ..., -4.99, -4.99, -4.99],\n",
       "       [-4.98, -4.98, -4.98, ..., -4.98, -4.98, -4.98],\n",
       "       ...,\n",
       "       [ 4.97,  4.97,  4.97, ...,  4.97,  4.97,  4.97],\n",
       "       [ 4.98,  4.98,  4.98, ...,  4.98,  4.98,  4.98],\n",
       "       [ 4.99,  4.99,  4.99, ...,  4.99,  4.99,  4.99]])"
      ]
     },
     "metadata": {},
     "execution_count": 102
    }
   ],
   "source": [
    "xs, ys = np.meshgrid(points, points)\n",
    "ys"
   ]
  },
  {
   "cell_type": "code",
   "execution_count": 104,
   "metadata": {},
   "outputs": [
    {
     "output_type": "execute_result",
     "data": {
      "text/plain": [
       "array([[7.07106781, 7.06400028, 7.05693985, ..., 7.04988652, 7.05693985,\n",
       "        7.06400028],\n",
       "       [7.06400028, 7.05692568, 7.04985815, ..., 7.04279774, 7.04985815,\n",
       "        7.05692568],\n",
       "       [7.05693985, 7.04985815, 7.04278354, ..., 7.03571603, 7.04278354,\n",
       "        7.04985815],\n",
       "       ...,\n",
       "       [7.04988652, 7.04279774, 7.03571603, ..., 7.0286414 , 7.03571603,\n",
       "        7.04279774],\n",
       "       [7.05693985, 7.04985815, 7.04278354, ..., 7.03571603, 7.04278354,\n",
       "        7.04985815],\n",
       "       [7.06400028, 7.05692568, 7.04985815, ..., 7.04279774, 7.04985815,\n",
       "        7.05692568]])"
      ]
     },
     "metadata": {},
     "execution_count": 104
    }
   ],
   "source": [
    "z = np.sqrt(xs ** 2 + ys ** 2)\n",
    "z"
   ]
  },
  {
   "cell_type": "code",
   "execution_count": 105,
   "metadata": {},
   "outputs": [
    {
     "output_type": "execute_result",
     "data": {
      "text/plain": [
       "Text(0.5, 1.0, 'Image plot of $\\\\sqrt{x^2 + y^2}$ for a grid of values')"
      ]
     },
     "metadata": {},
     "execution_count": 105
    },
    {
     "output_type": "display_data",
     "data": {
      "text/plain": "<Figure size 432x288 with 2 Axes>",
      "image/svg+xml": "<?xml version=\"1.0\" encoding=\"utf-8\" standalone=\"no\"?>\r\n<!DOCTYPE svg PUBLIC \"-//W3C//DTD SVG 1.1//EN\"\r\n  \"http://www.w3.org/Graphics/SVG/1.1/DTD/svg11.dtd\">\r\n<!-- Created with matplotlib (https://matplotlib.org/) -->\r\n<svg height=\"269.878125pt\" version=\"1.1\" viewBox=\"0 0 298.902 269.878125\" width=\"298.902pt\" xmlns=\"http://www.w3.org/2000/svg\" xmlns:xlink=\"http://www.w3.org/1999/xlink\">\r\n <metadata>\r\n  <rdf:RDF xmlns:cc=\"http://creativecommons.org/ns#\" xmlns:dc=\"http://purl.org/dc/elements/1.1/\" xmlns:rdf=\"http://www.w3.org/1999/02/22-rdf-syntax-ns#\">\r\n   <cc:Work>\r\n    <dc:type rdf:resource=\"http://purl.org/dc/dcmitype/StillImage\"/>\r\n    <dc:date>2020-12-31T12:29:11.472343</dc:date>\r\n    <dc:format>image/svg+xml</dc:format>\r\n    <dc:creator>\r\n     <cc:Agent>\r\n      <dc:title>Matplotlib v3.3.3, https://matplotlib.org/</dc:title>\r\n     </cc:Agent>\r\n    </dc:creator>\r\n   </cc:Work>\r\n  </rdf:RDF>\r\n </metadata>\r\n <defs>\r\n  <style type=\"text/css\">*{stroke-linecap:butt;stroke-linejoin:round;}</style>\r\n </defs>\r\n <g id=\"figure_1\">\r\n  <g id=\"patch_1\">\r\n   <path d=\"M 0 269.878125 \r\nL 298.902 269.878125 \r\nL 298.902 0 \r\nL 0 0 \r\nz\r\n\" style=\"fill:none;\"/>\r\n  </g>\r\n  <g id=\"axes_1\">\r\n   <g id=\"patch_2\">\r\n    <path d=\"M 33.2875 246 \r\nL 250.7275 246 \r\nL 250.7275 28.56 \r\nL 33.2875 28.56 \r\nz\r\n\" style=\"fill:#ffffff;\"/>\r\n   </g>\r\n   <g clip-path=\"url(#pbba1681755)\">\r\n    <image height=\"218\" id=\"image4c934bce8e\" transform=\"scale(1 -1)translate(0 -218)\" width=\"218\" x=\"33.2875\" xlink:href=\"data:image/png;base64,\r\niVBORw0KGgoAAAANSUhEUgAAANoAAADaCAYAAADAHVzbAAA4sUlEQVR4nO2d4XLcsI6sZcfv/75btXHun4ucdk830KDkJKdqWeUSBYIUSfETQGhm/Pb5+fnr169fF/59fn6+nF/XZcu7P667/buuy7aRyNR5tYdlleejK3P6XMZ5dY79+Y70/v7+5fzt7c2eq3wnU8dOhv1hXXfuZNymKk/+TuvXOFTdF9nPnz+/gPYvQabqu/YmvevqAdtAdgIbX98lrnOaGCaXEMInIKtjIpuA28p4cSu9FLgUvBS2jxSyFLDPz8/HAOvacGUsv66vFhHLVb6TdUfMd0BN1i0tUwmh4LrOiqm+vr+/X79+/bre3t5+t1P5zRHz1SfsB167FiXqIQBKxqnawwW+SW9vb9fn5+f1/v5+fX5+vsDkron1uKxkv0FzkCWAoc53WLEOLFeGE58AdgcyB5aCkPOdbJtUG7hQUcbnmOfxMHjJsa7pwHPXROCwDYaGwUMLphZ9mlT9DXQOto9TyFTZd0GWQldyB9gGrC1cCVQMwncBd10eMJSpcwSlZGx5Utg6i+bgq4WpAGO4uqSsW+oGdrAWdA44B9sX1zGBrJPXZHR6W8CcXJXfASyBzMHFxzSvztMylSbXkaFTwDl3sZKydilsyqJx+3iNWrAKOhyngqb6v7FuaLmmutuyD+X2nUK2gSuBLAWv29OxDM+nfI0J28ajkp0CtoVKJdXG5DpO+Q48dvkYsrruZNHU+XW9Asd6iWW760pOQDnrxvW+7NFKYQvZFq5TyBREaWQSZU6/jspyOaA66Lq8Oneyk5S6jkkeZW4/5tzL1KK5827/xklBiNYJ20j2XJWq7o8fP2z5BNsHLqzvgmx6ZZAANUGqdCYZ5531miC7A5uTdXKX7riOXX5zVHu6E8BYxpbJQTXNTxfo6MB7e3u7fv78eb2/v0cWjOUf06I/hSzdy23/TkP/KMN85xpuINvAps6dbJNUfWXF+PwpyBgWtiR13RQ4BY5yJzcp2Xs54NR4uK76cMDn5+f1cV3/cZeegGwqq+vdgSwBawIusV5byCbY+Dx5gf1kKpeu0ndAdl3Xi+wEuEoKvNS6ub96T5a8H3Pg4Fi4v9zO7/B+CszPnz9/N7YBDBf2nYCJu3YKl2tryp8cMT8BxTcnLePkXCe1j8KEADqIsB08OoumwEuAY1kH3ql1w5fM1+X3XqjLn6Bx127D++nir4FuANu030G26dNTgCmI7oCldF35SeL67CaiDM9VyF7BpQBMYOP8BFxi1bj/d1zJ2nt1ezS+xhY2adFSN3JyE//UC+zpQVDJ6bmyyneymlhODiqG4TuAU4CVnAFSQDnwUtiq3S4/WaUOLqWXvKDuAh0FxyZkP/Uf0wfD8qcgu7OX68pQZ4pMduc4WUqmXgHwBN+BLSnDxK6XKkOoFHDOTXShewWQAo/zqK+AS6yagnCybl2EkesmIXusx/2179E2QExBEgdK6maquglYqg3VFsvwvMtPcN2BzcnSpOo619EBx3mGqYPOWbm6vgIM+47AJe6kSxtXkq3XHdh+/vz5stfDeW9Bewqyzfs2rrv5m4ImLO/OcaKmVwDdscurcyfbpG5vdgJZCp2zcolFw5QEObg+/yWBDrxeAadgU66kgq27t/ZrMpsAhoMsbaOLZnZ/fC3VRiLD88rfgWsLm5N1ck6T68jQJZBhu3jsoFMfCHbwYX8ZOlzwDqpkTjDQ0e3Trus/8CirmNwzroPnNhhSDTkQ70I2uZkbyHHQCZQdcF3wRF2HJzyFLTnfJFVXWTE+nyBDmdt3ocwBNwHGY1HtnaTUQlXC8smNTGQ1l/bT++ki30LGVjO91uaB0MF1AlgCWQId59U59+Uk4R6nUmLVti5kty9TwOGYE6uGfZ2sG/65l8zqo1dTOH+Czd0/vgdfPlSMCzeJRm4gU+1hvQRSV1e1k0CHC8JBdAKZAwvzKUzqRqqEi7NrmxfAKWQKtmpX9aVzKZ0ryOWpdVPRRQUb6nZBjw421SZeq44vn96fFqwD8w5k2/3g1M+uvMo2gJ1AlkClIErBSuo5y8Ap+WRICptzEzvgcAzTPswB0yUEL40kslxZKey3Ggda4Q+1kBJQElicrAaQwnX6MFBj6yKTKJvy3VEtZrwZLt/dvE3ivVjJECaUc3+TF9R1rOt0eQcc60wBDtTFdqYgB6ctbAzOZNVwngty+1MGmwX/XZBtAiZT+QlgCqQULi7v8uo8LavE+x2W4813+Toq8KrsxKIlwPF43f6Lx4yLf9qrYdrApqKR3f3DNmo+xq/JnCzqDpqtzp2ASdVTbWzOVb4mlCdawZTC5mRJ4nqJVZuAqyOOk9+XbQDjc2WZEsvG4+ygSQIeiRznp9pV5er88xO+JnMKTGLNEgvp5Nv+dfVVWyzrzmvSeDLdcZK5cydLkgMMZRNwzkVkMLBM5TuLhrJp38W6bLGm+knAQ13T6b29vX4SpLunv13HFIITq5SG+idIUnez6nSQKjnL8LwmGidxguwJ2JKyupFOF0Hi8xQyPk5WLgWM++msm7Nw7C5OQZITdxGTm0elz/d6BM0t/LTO02Un/ez63elO1usubMl5klSdE9dxC1vV7QIcfN5ZtRSYLlVfut/3UNZtAkvpTHBhPgLNQdZZrw7MPwnZBNYGsBPIusl3N9TJknTqOp7ChvkJOJY5S8VBhzTAgfW73/e4rsyKJVbNhf3XoOHi3UQLq6MpSOnnHdOASdIW63Tu4R3IUsDUa4G7iSNkHWQl46Pbs6m8Ao7LOTFMXTtpdBHrOx31MOusFJ9zuP8WaKWYAnBiySbINnu5k7FMgClwEhmX4w1ySd38k1QLWl2LLY4Dz1kvJeO82nPhGJM9WPUp2Xsp6LBuug9jeQJeXcftlUfQti5eZ/22kKWBF1V3A90UmXRlOJlOhjeOk4LRlW9S5zpW3sHnIJtgq+u5PZlyA7djSvdtvAc7ga1zCR14HByJQdsu4pNFfxeyDVBdf5UOy/Bc1UMZL+TuBjg9Tl2Ze5JOezPU4yhiAlu1rSwa9idxJ5M/tpBphHGCTd0HfkA4fQdhBNoJNKifWDMFWfK+7al3a6qNSdblHVx87PKdrEtKn5+wykXEPO7JJugmi4bnDmh2J9PE0HTAOdh4vlwQRLmENTaVd9ewoFXhZvFu9LeQJfu/DWTJWDu9yqdwTbCpcyebknMdJ8j4WOUMXbWtLJo6Zxm7kyeJ63fAKdhwLNhHdf721r+c5rzbr8nvo30nZGoRuzbS1wVTP2rCu/oOOpRVfnq/lhzVzX066ui+EoN55U7iUUE3feWFz5VFUNYt+es+DZIEN5yV6oIe0/6L82qev3x6/zv2ZWlQZAvZ9lVDClYHXBeddDIu53ZUYgC3qRaRuw67g1UHZZ2ruAEOx6TA21o3tF53YJt+TEc9BJP3Zaxfso9pgW0X8EmkcgPZxoLeDf2XbAr/qzwe3YLvbqyTdcm5jazD/dlGHBlkF1F0cKl+b11JBC6FjeeF51eBovo4gYbzU3n5r3Wr0nZhTot+q9e9Luj+XDQz7TNeEydxA9lJ5LEDy5XxwuYytbhcgOK6dr/bWMkBp+Dict63VTvKXVSpFnMC26TTgVf9VvsvziNwlf/AiXoaGgVM2s4Gss1eLnloJIDxpHI9NfEpYB1wnJQuWzYFS8kRpg46B54DDvvHQHXJQZNCt/kIFetMoFX/JjmWV/sf05OeyzYLeRuOV9HFJFByB7I7gFX+JDiibsh3JHR10j1ZlTN0yqLxubJM29S5kpuQfvUPE5/jtbq6Ch6UO/hK/8tPgpfStBC3CzcB5bsgU7pOj+Xd+Z3IYwcVL4SpLNn7cHLBkDp20KWf0GdYVHn3514uV3JlfN3EXdzsv/AaP378aEHDuV198XOje6J/F7KtS6uAmcbhAFNQdWC5m6jOu9TBxxBVPgmGuIDIBBz2S+mnye29WMftw05cwmT/xfPiyllmXUeW3d3HJfusqf00ankCdjp+lKt8HZNgyATYBri6oVxPuYuoe7ovS/Zj2IdtVBFTXUt9x8ztw1KXEMscPJh3dVU5yl5eWFfBtCCV3imUHCVMgToJyjho3B/e6A4w1lWTfwIbJmWJXF1l1Th/si9jmKb9mIOzcxlVenvT775qXrqPUHUuIZ8reFygo3MhuU70xc9STsqfiPo9AVnnenbX68bC9er8bwVD0joqILIJhkwfveIF3UUZE3fQAdfB5uCZXEI+V3C6e4bzxuU83+3vOtbAVdkpNAzB1sWcdKaytH88aRvAJsgcILwAnEwlZU0w6oUpeUGNwCBwKMc+bvZjiSvpgHOwdUEPhmGKLrI3oEDCNtGCunsugyEo43Klv13IG/0UxCf2gJ0eyrb7tboZmNTN4zwnLuue0mo/VnnngnZBkDQQkrqIqDf9D+kUNp6DDVw8Zy6YwvcVH2boDbyA1kE0hf5R9h2QpTCdupFdf1Tf3N5O1avJ725sB1gHXKeT7M1Qb9qXVVsdcEonDYAUNHXd6XOKWG+aMzzn/kz3Q7mQncVSZTiPNuq4CRgkILpFnbqBW8g+P/OX5cm+bQoI4XjcDZwAU+Bs9mHcRgdZLQAEanITO+Cc65rC5iKEOA93PlJVfU/gQX2UT1C5wMivX00wpBSSsmRBY/mkm4LwJyBLLF3dZLxJE2R4UzeBEAYpaWMbDDkBrnsxrVxJZaEQNqWTwDY9xJL9F+a7ED4D5x5sX0Djxut8gu/EZXwCsk4/ATMFzOmU/In9Gt9kda6S0nFRPkzpp/Wxr3cDIQxkwYRAKZ3ps4qJS8j5SZ+B6SwV6zuLOQZDHGBdmdOfFq8KfJRuEhRxkHXtbuBG2Z39mrpZakGoc5f4SV0yvOF15D0ZQ1btKIvZfUJ/chVdOVqwDpzSVe4iL3Cuy/PS6bOss1R4VMGpOr4EQ6bQttNN/pTudI207e+G7ASwCa4UNlXGlosXEuuqBYP38Lqyf4frLBfqdlHHZB827dnUfFUdtdhVnvW7YAb2LQEOx1HXegmGYF4tpE5X1S3Zicu4KdtCtgWwJnAaM+p1czYths2+DRM/pR1kKGNAqh21J6v6CiZMk/W6A5vbl3Ekcsp3gRDWw76rNtgjYF37UwZ87Ba700kXsYIy0a+/5Md+qs0U0q5c6Sbzp8qwnkqo1yVloSqlwZAOJOyPC4SoPnXlG9h4HroHVLpfS6OQSZnTlXs0zE9AYKc7aBJoT6B013KQnV5va+ncfGL5FAxJ4XL11b4JUxcM6aKPynLheNwL6hPYGIbOVeaxp/u1GmdnqVRfKjDiHlqq3x/dYnHHbuGWTrLIk/oJmHch21g5lHX7WTzH+VU3Wy0GdT6lbrEkwZCqq1xGthQcDEmAuq78E/goe3t75iffeE46GZcpmDZ1ov9hrRagu1CnOwH15D4ugWwaYzoHKWDTDeJ8J8PEgOHNdje+5GpfhiBhcoEQvObkSqafwO/Gw2Uq7/SdLloqpe90O1ccr/PymyHpsfvb6KaL+xSG74KsA2wDl1oAp4GQSm7PgYDV0e3Lqk+d5eLydN/m/qWSC3Ko8gQ6jv5hOcu6BxPW6+TqWH0YfzOkW2TuAumCRFnah67tAmhyCbt2t2NXOmo+3LxVP1XihTalJCCy3ZdxfyYdHpMCyu27qp57Yb3Zf7nrdMBx2w68E6v25Z/Fb4/dX1KnZE/u404sWfJvo7ryukmo0+W7YIiCawLOuY6YP92Xlb5yJRPrVW28vb3+SyXlRqr9IM5DBw/mXYDCrU1ub7JaW6v2MSlOi801rHTVwkssRQILt5UGRe5C1gVE3LyoOevyU1KAqQVX58m+jIHrPqnfBTqwvrJQDBvrdhB1cpS5EL7Sn3RPrdr44zzYiQ5EB9Ik79pj2Qbgu5ClAE5jvRMM2cCGi4LPk2BI9x2z63oN4atru6+7TLDxOHEhO8ulrJ6aOxyvm3cXwJiObp+njh9JgzwJ3bFzRd1i7UBPdR1Mrl73v9m+IyCymecngiHVZnfzEaptIEQlBgqBc/urGu/2kx5sUVw9XJcuMDLpplatazdyHTd7KKzXlePkJW107XbBkZq4CTIOpNwBnsem8nxjOfFiTBO7hpVwwTvYpiAHLq7S6axXjY1hU+27fdm0X1MgKuDYQiYBjPRBlRyjXyp2A3ELZgLXwev6MQU4VFlX56StpL1pv6nmSi0gNedJ4oWF8m5fVtdxwLFlwzbRehV0CWzsfjqL1+2xsO0p0MFgJmtZRSBV2zh+B5v8KQO+oLtQuoBTeDtdd51tX1zIX4F0auVcf5P9GufVOSfegzBwCBRDhIBVGwzc5gU1Lnxnjbb7MpYrENlSoR5DsX3ZnFotvN6LRVMdSqDaAMnHxBVNdLt92R3IUO+OK4ljwBs3zRHnp+QW8WZfxsBhe8q6qb1XJQWb0+ExOHdQAdRZKld216qlUHKdNhiygccd3cJM6nWWwkX9tq7kBrIJQNcXp+du7hOpe0HNUE2BEGXd2F1MYOOHx2ZfptpJyhR4d6yag65r89evxqJtYEqe6qr96a+ro2TftV9jS3gSEOnmNgmG8HkltkAl4zZdFA3rd4EQbNcFMibYtvsyjiiy6+jKpj3ZJN8A1NXFo7Ro7iZPiz45dm3i8SQA4vS7dtT5E5B118fxuflQc6YS66gnsnMTqz4Cp/ZWaLm2sFX/3t70J/C7fZmaiy740Vm8BKAUPnfs6rxYNLXQnc4WyGRv1i1OnvgEgJN9XLXTQdaVqX4owNzY7rqP7pMN3Da/fEaolHVDdzGFDceV7L8wr6BiMO8GMJJjElWsNeCsn/0pAz66RT8tMJ5s137apgIE23UPiwlKDoo4kFxARV0H++/GhP1Uc+TOKzl3DBNbMdRLAiGbL20ybF0QhB8uzoVUUHVrZxuWL/kEErZxy6Jx3pVtQEyBVPUdUNwOLn6sq9o52cedQrYBTD2UtpaNLVkdlRWrBeD2ZVWuYMGkyrDt9L1YtZVA1e2duA+bowNJtenacdZPWrRucagFMT097gJZx26hc/sb+Dp5Atm2X27eEsvmUmLJOrBQjtatFk6VJ1/aZCDUYlXjT6DCNro15KxaCqUCSO3pUstmLVoCWS0wV6+OHTyb49THdJErfXU+gaTAdNepdtzcuLFVctZNhcHryJasbjoDx3W6qGPyDWnMu32ZciGVtWOopsWfAIRlU1Sxs4LqGu660qLxpGBeLYRp4Xf1ExDcwnb6SrZ1Gbd96eqxrBaam7+NyzgBqMBi4LrPKnJysHE9XB9dUKML4TNUHYAbgFKQUKdSUl/1/8WiPeU2cl61mYLo2lDHDXzY5lOQqXawLRd1dJZNzQEnF8SohFZLAafcRpQxdAo2BwT2xy3Y0sG5UFBxvcSlU3VUG2pfxe3xtVzbqk8v79Ew38kmt1EtfC5LYHKLOwWK+5BA467t9N23AbgdHJ+S8VxsgyHXle/LWNZZN65bZdxX9XKaFyHXdYGRmovEVewAwq+wpNaLj6ovW335yZA7sg6krqwDp7uWa0Ndr4Ov8g4m178NZB102Cc15iRt9mWofwpbFwRxD44p2ugAZFixjckiJWDgGFL3Uemrtq7ryiyaAsTpcRmeT6AoHRdIQX0HFC9ydY0EphPIPj9fP6zM41GAuQXaJf4Ux3V591G5iuo8gc3ty5QL2UHVLX6WT8ELngduw8HWwYpt1PVV3zq9D7xh0w1PFoZbVJ1+EpXkxXwHSLRa3GeWYbts7bhtdjNdO1OfHVj88OJ9FyYVTUT5ZM1KvxaL2meVvgtqdFCxbGvVJig7MLt2HMAnMmyvfWHdwbaVucXc6Xftd3US+LBPCiIHk9PfQKb65YIh3Gelc13+i55dlDE552uoOWR5AtWd74Qp63MXKCVTZW7sSg/LW9cR8+qGP6HXlaWWaxNp7AIrrJ+6khNk3XU2+7UkTfsybFu5jvxJEHYjHYidC+mgUroJQBNIExR3AZxk6rrvOFhW4PxGto02bssUUHhMrFnXpoIM2y2A2LXEOg7Az8/P6+fPn9ItVXs7bAP/1DxUWbWPdX/+/Pmiq+pymdJz11ZzNulu7y3ew+6+umu5Np/Qw/yXPfKdyh0UUznftFTfyZRcLdQJqK4+y08g66BTi/vnz5+//xg0LHNAJHBNsE311NzwPXb3J7mPk2ezAaq7z1PdSdaVvz/RyJN1kslVMtQ9sWZ1VGAoeLAtVb+DzIGOcOGCV33hBY7wYVtVhhZOnSuIXN4tUDU+Lu9gdfdTXYvva6fPOt3a6MqVbrquX1zHpy5wp9MnT6Sp7GRv5+ormDrIlCunFrpyG9HSoQVDS+WskgLOLfQEIp4rBYq7b4lV60DidvE8AeppT6zLq6Q/0BY2dNIRlE3u6kaW3OwToJSucxlV3sHD585tRFeRk3IjuZ3EVdw+PNzcOwAngJKFvfVw0nY5n65JdZ2u/XfVyGknusF2neiu4wBw/XnalXTXTiBzUHXnar+G0PAfL2bel1XdO66iyzN407ymrmJ3v75L9mQ5phrLF4u2aeA7OquefkkdV3d6QmI9tei5TbVIN/lujzRFIRVwXK72ZQqoU9jcfG/3Wif3666My7r83XKl+35dswV6uqOT7pOyUzjdgqmkoNjk8fpTW86CKchQVv1MYUsfFGpeUoDu3K9J5q7x3RAluu+TwqaxPzXg737yucWjFiY+pJ5wJSeAlOuoXEIuL+tW/UwfDDiu7bx1+yqGn9vbytQ1kvp312ei++uX2aO5yok8ueh17SYjnUwnczdbyXjBq7Gqp7mCL4FMQaTKFUBcV5Vj39A97VxFHKd72GC5mis3NzyfT8ieLOc5mHQnDiqt92gT9U+6oSfl6saqOtsFMG3aJ/jcglV/k0u4AYxhS/Ziam4Sq6ZkXIbniV4i20A0lX/XWn8J76eEbjt4Wm9TPslPF4CDS/Vvu3fr/hxMznXsdCbwMd8BWDI1P063q78BppO59K+s5/g92obepBNO565u+hQ6kbkndgcflysXdQKks1yJRWP56V5s2nN18zRBdHf/9aTV2rYxpc/PzzkY8vQT4Yn2lOzkpqQy5bMnriRbiw6yzqI5wJRFS/7UmFKrdWcepzWxWTOJEVDp1GC4lPa5tWinjX53e9+9D3SyyW1UfXB7t81fFzSZAiodbNx+9XeCzsnUPHeyRPf0/m7g2177ZL2/P004picmIenf5gZMadNu9S+By1kzZ8UmoFjm4HSAYT95bBN03YNmurffdV+29f7UWq98ZNH+VGefgP6JJ6d6WqvyTtZZwK11m4IeWwu5gW6SufmY5vPpe/3EWkyMwWnbK9cxTd8JZtLG1PZmQp2LlC5ElinI+Hxj6djKTUClVqubBzVPT9zzv7F/esJAJMl+TeZPduJPgfl05PQ0gpkC1oGlANvszdy4TyzZdt6evq+J/Om0HduRRdu4CN+dnu7LE+11T/zEykzgJVCl18b8Zu/89IJO5v07Ifpu6/ctruN1/X0rue3L0+7JtM9L4ZpgU68RuqMba2K1NnOUWJy/YX0S+XekbwMtSf8SjEn6LjATALdu4tT+nTF8Z6R6m/729dP0V0Hbpn91IpOAycYV66xdYsW21/uXwMH0L21R7qb/KtAw/e1FcCdtLAyX37Fa/w1z9t/Qx5P0Xwva/6WviX+48//Sv5X+a0H7b1tY/JPdU55l9Qu++DfV2V7rX0j/DX08Sf8kaG6C/6WJx750/x0zbUPlGbL6yW78RxUMnQJw6gf/h5i03p9Mbr7/pT526WNWeTbxjSyf/G9PmPoHDic6leo37JM28Dfc+ffceV54/jor18Hb5ZOx3W3jO9K//IB+1KL9Szcg6csT/UpdP8x3UCh40KKp/B3YpnRqPZJF/7cB+JN9aUH7lybrO/uSgKjcw43LmCx8Bxe6i5zvwNwCuHlQJnN9CubfdhOT9bDty0dVQhfuT4RY3TWfcCdde+jOTeOc+uT6WddwMnQRuT28tuuTkm3hwqP639QqTQ+a6V497VX8q0bAPjD+5MX+hKu2bWNaLM5qTe1WXZZtXEW2bIlsa+FUn/i/hTq903KXvnPr8afWp0t2Ff0NcE4n+o416PrhFhGXOxnW3UCB7qJyG50rece6pa5xKnP3VclO19R3rtGnof/YuFPbhO1h3kXkVHL9m/rKk+MifV2fu74kMlzM2Ob05O/6pNzVU2um3Ea2wlvLNi3Qpx+K/wqYU3ujX/R0507b21i+u67NqUy5imjp0PKULLFufFQW7gQ0voYbn5rvzqV+AqCp/HSNnG4F7q7931f9m0+JJ25M6p6cQKpcyY2rWLIOMOUuOsi6MgcqQ7aBC8fEMjU2N49JeVdH9Ytlp+tus+ZP2ovD+0+8T/mugd+xSteloVFwlW5ntdR1cO4qn1ohB5IL8ysYO8hc/sTapfO4lan7oOa5S08YgdM23t/fX0H7rgs/qbupP8lY3tVNrBa7ikoX5R1gnbuoQNyA6/LXpa0ZHl15N1d3Ze56k/xU92kw3xOlTeOnTyF1Ezc34ckb3C0+VZ/Lnds4AaIsUWetUvdRtYX9cvnU2qn56+Zb3b9UdmcdbNp3upg2Luv75sJO56TDGyBTt2Irw0UyuX8oT6BSumqh1rUZkG7PpqBUeede1jXVHJ3s3dz8uTk9gXNT3tVJ6qt9YLK2OzBlMESlU+qffNps20yerHjTnW4Ko9uvYP7Hjx9frssgOkulyh1wCGz1pYMM2+p0krmc5v3kwXf6IOW+bABKy116WRtdx558Sribk9T/Lhk/Ydk9ui59wxmQbi+mgPrx48eXMj5XkHUWzh2r/w46l3dzMgHKgJ883L5Dtlmnaf2t7mqPdhfIk8E/IZsAUvXdotm4jR1saoG6/ZlyHVlfAYUAq3PX986CMXzdnLN82tNNkN6RdX3dtLkpx3k42qOdALnpdLcn62S8mNW1uqepOzqrhvWdhUtgw3oIEPe5g676yUCVXIGkwNq4j+phwdDwfCdze3JfN7KkvKuTlLPuyxc/397mT9V3uqnsul4/1Z5cp86VDL8wqWR4XjcPP97FfXKThzoqX4sC28FrYR0cC8p+/fr1ez+XfCzOPbDUwlZwctm0d2Og+BqqT6qP3EY3HjeWSaZA7ebM6akxdroo+8DCCTK1iLk8gZHzda7AcLCoftexFrKSub6q6/DEIpQKHMwzhFzGcF3Xdf348eN3n/Dzk1Wu5lalFDB3nrjEVQdlrDPpJq4kj9UtZCeb2tjK3HUn3Y8UjgTC6Ttb3df1WY8XNsOSAOQmjJ90zqpxGyjvJtiB586v63oZK0JX5R1YbrzONUshS6yZA4qPqMdz1tWf2nRj3wK40duW/3YdOzcOZQqAFJQ7evxAcDfNuYqpVasj9ktZc56zHz9+XD9//rRAKcuFfVHuJvav3EiXeC4UYCXfQKbcSj6/Ax/3XdVXus5q85g7IO7IknKUvXzDGgtPLNlTMr5xCUBYNlm6DVS8UNGqJq5iLYqCy7XFlqyzYipNls2B0p1Put01JvhYvgWSZU4nBXC7j5v6hnq/XUdW7CBjPVdHtZcCdeIq8mSqyU0B5GthewgQH69LB0HUOY6r6uF8pcGQ7onKi1/JUiunzjs5tzUtdCV3ezuly2tpmqMJ4ESvGwvK7G+GOBk22sGj9Nw1Jvexm7ytq6jaYwBxgnhfNgFUC8u5kThf6iFyXa+WTN3ALk1uI4/jLmRqPlGfx+CsWdfuFkilk8LzHbIvwZDtPm2r56Dsooiq7S6A4QZc58pSJU8nt2CcK8j7MIbrul73anwNtmTqm9yqj6qfPA8bq6YWfafb6Tv41Byf7u1cG107ndv9hOwDBdt9mtPDhaV0lL7TSVzF1KpNE8OWp5Lah3GZ0nXn1/UVGrcvY+BcQIQXLF7HPSC2kP348eMFGKXrFriDAuFzunjc7O34ekqnu1YH7tQG631xHblC5/JhR5SF4k46EDug1M2p/IlVw76r+tgu13UQ8nVxz6bgwvGWDPu3Cetzmhbcdr/mIOsWfQfOXaC6sXUgnULGZXjeXUfV+xIMwQWfglENOnfQWSQFInZwgjC1atwHrDPtv5ycy7kM+8hwJfuyOmJApM45dTe3+lXyCTDUc8BMZdxGJ+d+KF2efzx3i53bnup07W7g7Np4sWhpUMTJFEjYiU7XQT5BxTcDF23pIhzKevOEqTYx38HGCzr9uJWKPqr+TClxG3l8CQAOMmwzsWbcN6XLZZ2u0puOvD4TyJL9npr/6xIWDROD4PZVHUCdlUyCInXsXEXuq9LFtjsQlFxNJFqvbo/m4MLxKhcW+5wmtXCwXw4wnpdTS7Z1GU/hS45KfwOkuu9ujpUuy14sGips9lVbgJxuV64GkUKFujwhzhJd139cui7oUcDVH4KFyUUip2AIjokTLwRMnduI8g68yVp1QZEOzARyHF8KsNPfAql0Ex2nLy1atyfqFv8GoG7garHxYlf96qDi9nlSlCvI7UwRRk7qQXRdr8Dh3KhgCN9Idy0eE9fpIoGdFXPlCjIFSgrCCXzqmFo/nK8NkF277trSork90RagJKCRtHkK1TS5nbwml6OI7C462LjfHXDXlQVDpqRg7J7YVT5BcWLJXFknV33Yurc8F+rYPRTUkfs26aqyF4vWwaLK0qjiprOJVXNtu2ijAojl/MHgrk/oLjJMJcfk3MY63gnrY+os2xYw1FMLcwqKpEGWTq7610UTO8vM7XZzxGtuWrdTOzLqyAv6iajiXavGC6WDCnU2ctUOWrCNq4h9RPBcdBHHgpYsDYhMCwj7qADDc9RzC3UbeeQFO8lVOzw+VSdZ9BMwDvauTvXX6UiLpsLfCUCJbtcmdo4XbQeVijaqtiY5TpYKjig3jxNaLkwIHc6bak+NOU1K3+0vVL7070KmIJngSOSuXTXOzRhOAVUPAKVjLdodgLqOqSghLywFTgfVNNhOvoGtyqqP7Cqi5XKBEDVvOLa6rup/mvjJymPfAMZ6HUjd4t18uoTlU/8dmFzv5Oj2uOk1Kv+Bwg1AmwBG12Z37HRVYKQmZrMv4/ZR/7rmbzafBEKm4/RpEJWmh4o71jimBbuxctNe7kl5CkQ6lgneBEil+8V13ACkLuQCGHx0YXp1Xef2YRkumkTObaogCN4QVYY6DJJ6QHX7MjV2tnZp4jGrI48P++nubbJwnZVzUUvV3iTv+ppAszluXhNM1xpfWD8Vlucjdk51rNsn8mSc7Mt40TnYqqxzFUvmAiE8n9elf7LAjb1kLrGugq3SZr+WWrqtBZr2RxuQ3HVw7FtdNZddPxIg22CIIrZr8MSqOYDw2s5CdRPSydW+7Lp62Fw/uPy6Xn/BioEs99AFVzC/sWxTv7oFyPd7GxDZALgFZnIZN1Am4HQPgw2QeGyDIXV80qpxJ7HzSmeKKHL/HKBcv4NNRQ1VmzhW/OuAU+CpUP5pQKSuzXUnyLB+t3CVzgayk++1TQs+ASxtC9METwrt29vb12AIH9OwvINStZvoOij5+lie7Ne4LQcbt9e5ipxQn4FTc4pHHP8mIOIWiMu7uegWbemoMoSmW8hPfK8thZDH0b0W2Fx36gO3W8eXb1jjERW7sLyCQrXX6U5lNajOzZr2ZS6Un1qvrhwBw/En+zK3P9sGRBxw7qHV7dfUg+x00V+Xhqxb1NyX7fXceddusiZPj5HrWEfsROcabixVB7Cq62DCpNpOYHt7e2vL+BpdCF8Bl3y2UeU3ycGG40F5txhLv1ugqHMXMrzWBqQJnMkSq/Gm7aa6H6dheafXWS+n08Gj4OOJ6T5Rj/US2N7fv37lRcHEIfzr8p9l7PZlvCdT46756tIEZBIVUwsOy9TiKT2nc1I2tcnlXR+nci5zc3H3+P7+Pr+w5iPe3A6qLZRTuQLGlV3X/D2yybKp5FxXBI+vj/Om5rTGyeBVGzy+LmEghOslkGEb04K840q692p32031eTyoq8om3e5Y6aMqJaF2XrgMRGep0hC+K+d8F+Tg8g42DmpsQvju4YPgdJ8KcXNXbW6+IsPj7/LdA2oCrHSfhEzVU0GGkiX7OtUPHo+aj67dRNeN97dF406mVk0dlaVSZQ6eacGwVVKgoV4HW5UlriKH8Kd92XX5T+urOVZzV7IuqYfCBBvOg1qkCWBK79RaTZZqY8m2+tw3nKetrprj36DxwtlYtU63C+GznpJ3C4RhwqSCIBNsKnXlCNjJvmwKhtS5GrtLbo54TFjWLSys4xZeB1ha7oIip5DxPXI63P5UZ4KwG9eH6xzeePXknXT5Rqcy5xJ2i2gLG7qLpyF8tDLOTax+qnlMvuiZAtYl3Ld1cNWR5xXlbsGdQOasXOLuTfqbNqb2+T4k0VBMdf4lvJ9GIBNdvhEMT+JCdjDxgDaw1XnqKnI59gGhS/ZlXTCk8pzcez4eKyZ3w6djtaXgcwuay7pFj3USyP6Ey6j6r2Q8Xj52/Xj5ZEjlOwvldLHMBUY6IDGvwOnAUzqsd8dVrPLreg2EOOBKF3UUZCpf59VemhxgmHdP3zv7tQ0gqtxBtnEjua+TzhbKtH013/aXih04uBhcuNvd4E05tq/K1Hn3dRcE4U4I3wVCWK/y7hevrkv/klfJ1fjS1N1wNd4q6yBD/W5xK52nIJsWuHsxvoFSybsx8fw6gD9UhcpPgY5qtAuMODAT0FjmghmYkk/g19hSV5HdOQTMuYn8YGKIHHg8B1PEMZk3Hj+Xd4uG5w3LeMGh3gTZFOZ3+7oU3gmybv+Zwjfp4ny+/LP46gQuhMl9VDfGwdtZQdVu53JiOabpE/iu7a6cgcQxd/s3d0x/9cr1LU3bYAhfswMMde+4kglk6i95beDqpYBx+2oeEoB/79F4MeAC7oBT7uYUeexcQlXmLKGrM8mVjlvkCiSEjvWuK/sWtQuG1PndND3IpgenAwzPS491TiHrXD/VRtf25Oql8iT0z/OoyuzXZHgRcRnLFJhdvrvJCjw+cprkCEdnAVEPFzwGQrCfDFy3L0uCITz+p1zHDjYeo4OKH3TJviWBbNJJYNpYzERvgkvNSWf5Xv6HNR43IXwFZnezOyvlzp+Arc55X6b06touEKJ0Kn9d2S8RqzzP5yZ1c6naQrjq6BYb1nELarugn4As+Uv7lOirMU+W70swpHP5JndQgdndaNSfoosqRN9BpazWtB9DvevqP8uIcmXhFHj8nszN0wRYCqArT/ds6l4ngLHe6cI/LXuqTuIy8ri7chkMSUP4kwvJN0rlVfsKIlXe7cHYarnPRiIUUwhfQccupYIRjw68auMUIDcHqq57UNaR55rlvIgcOKybQHZi4abXBSfWb6ObWL6XDxXjUQVGphuW6mzAUjoJbFw/Cd3j9Vm35GytNvuybn/2REBEgTiBpeptAePy7aJM/jYh/xNoNuBsZS9Rx27yeaFM4OCFnU563umg9Uqg4z7y+DaBEM53+zIFGbuCnWvI8CkdV9bBxuPkxaLyrJ8svj8BGbu3G+u27SPrd3PxEnV0IJ3uv5yOOnfX5MWgYMOBJ9DVRHTWjcFzbmK3L+v2ZCoAwnPC7mqXpvlU5QouPiaA8Tk/ZO/skU4t2fv77tMlTwVL1N+Hm0zMTy6ky09Wim98AmfpIUgu0KGii85ide/JWMYBE4SGYUPoai6xLiac7278U+rqpMGQOjIsLFcL8HQxpot52t+l152s0dS3tPy6mt8McZZN3ZAu35UpEK/rerFQU8DDBTrShLCovaJ6Vzbty7o9mQuG8NjvJBcIcXl3xLbcIlPn6b5tA1kSicR6aX11rU3fpnFe19X/rqO6Mcn+y+lzmTp3sHWuoAp0uIQgTPux0uV6eH5del+GcNXRgYd6dwIiCtAUMM5v9mu8FjbBhGQhp5HI7toboO/oqzl5f///P86DVmO6AaifgnZdrwsQy9U+DOt0uiph/zqoOKG+Cu+zjspvgyGcr3Oex03qHmYuf139fm3KV/0tVHcWfQdZ0g7WSa97CuUHNnBn/9XdQGw/CeXjTVewJdHF1JVkGFFeZR1wCrYJOhyzsmquz+oh0Y2vA65SEgzB+eB8tdHB5eR3IOuiiycRyhScU/0vL6zVBHf5RB/Pu6CF+5THdfl/CIiAJB+9YqiUhUOdOnfAJbAhdNfVv6DmMW7C+Ul5zQnrbyHDttQC5POpDNvaAPanIbvjYn55YX1n/6XkXR21ALawsZ6CCCFxiQFkWZ2XrPqDephXx+t6fXfWBUR43jaJAyHcVvdw7CDD9lPAlMwtRtT9Ltcv0Z1gPoHy5ZMhm/2X02e9KcyfyBNgujRZN+z3BJwL8V/X9QXwOq+jAq/axHP10wVub9nB2N2TDWzX1UceMd/BxXWeCv0n0ciub1vwTkCWH8G6u1+bbrKr08m5/O3t9XfyXcIF7mBloFDG5ZifIo58bS6rxOclw74k45zkKWyV2HrVMQGMz3G9qLINZMnPFijINj934MZwoi9B4yftdKNq8u5+pArlUzifP3o1/an6NQnOgjFUWK7AO4048lzejTqqusk9rLlBeQIZ5jvAqv3tYt2G75XOdWnIundtrk7Xb9c/+1nH7X4tvYkpbFWWBjrSxKAkn9DHPO+zuL0JOpwXZdWwHNPTriOm08gjyrrzukYH4p1F3AF2AswG6lTf/txcVez2a85qcf3pZifuooouTrAhHM66pZ/uSCxaB911zV+J4fOt65joqagj5rewJYBxeQfnySKeXiCf/G+2J/ZlMWh1we7ziax7XfrbxK69Sa70XFRRgaUS63HfWY/rbGG7Lv+VGBdxVHO3SRx5dPdtC1uSx+ufgKXaShf0Hciqzy7I0oE59UWC1lmiDrQ6R0uz3ZttAx2qrkoKLiVn4BRMCWzX9Rpx7PJ17n4s1T00qo9pWQeWknUwKdl1vVoD1E0Xp2pn87e1gAzZBubJolrQ1MQ5cLgeBiom2NT+ywU6th+9YoB4oWK5kqnw/bQvu67ss428F+sCIm6eXVJ6T8DWya6rD/8ncHHdPwmZumayH9z0MwINYVET7KzfBJurr6xTGmGshez2QJNV4/OT39OfIGOgFGApWC5NwE1gJcfrmgHj8w64ai+Fc/ti+bTs5Fpc7wMrTe/OkpfT3FYK2zbQMaUuhI/9doDh+XXlv6efQpZYtUqd2+jquLK7sFXi92tdfoJrs3DdX1d/C9HpK4TuT/44D+cVODzpnSyBrfTY4mxhQ1gqP30ipANO5V3QZwMZjonPS4Zj2ox/km1hq+Ssl5J1gLH+d4T+UxCSepPOdK3roi9+uhvA50/Aluy7agAIS+I+cnI/Ed4BhueYR530dxu7YAjP7d90HVU99Y4tgQzz7rzaT0CaINtYmNPAx8mDoK7z5ftoKWhVefuOTL1nOwl0JImh5DYURKlFw7oKuut69gdT/4TriEnBxceTfAcY66ULeFMH3d3EcrHszjXtHm06VzcrCXhMgY70c46qH51lY0g2wHWwMXR1nP6JBQLH84hyVdYlpztBhTqqnwxEV5YCxjopeNxOuthd3WRvV/U2biSO4ctnHd0ku3P1L5KSgEcHzBRdZFA6l7H6zOUI2ASckm+O1+VfUE/v/Z5OCBVew4GVHqd8XdsBpGQOMGwrAWsC9A5kU19R/wtoDA7fbAXRBrYqOw10qL6oh4GzbAq6KXyfWrQOMoa15Onvg6SutUpqfjuwlCyFjGXVLwUTnyfyJ6OSaai/u+4EtAWtFLoIobpxnTvYAVcLcPspEGzjuq4X68b9naBDwJSLdwLbdd0L6/PDYJMmuPj8adiuKweMz9WixfbuQraxhpt6peP6Kl1HF4msRlR08br8Tw4k0cVNVJH/XDCng4vdQbzhaHFRJ4Xtus7C+qf7Mpc6uPj8FDZ1v08BUzpq0aq6CTgbXbx2Gjhx/X17e/tPeB8nCvdRm1D+29tb+z+kTwMdSVL/46zSBB2X1/nJ7zbWsYNMWTGGDuVJ6uYtAQzzG9iuq/90COY3wFW7KSSbRT9Bg3VPQeV6X/5tE0/uFrbr6v+HNAc6ko9euYQLHiFRIfwOOoRSQVRj4n3lBFcHGQNW12YZy9Ok6jwJ23Xt3q9tzqttBc6TkCUBk83ebLqeBG0Kxys9TJv/Ic2w1CJNXEmVEDBnifjclSmd5FvUCWQdYCdwubnoZBvYruvZ92sdYEovBQ/b2cJQddNASdrub9CmoMcURTwpm9Id61ZJAe+g4rIOtgS669p9PQbrYfobriOmBK46nubZ9UyA2gC2qf8EZG0whCfZ7d1USspqcW7Am4IczroxTBisUTpTHvXdcfOCmiHjuf8O15HlTgdfEyRw1fEEvLpeCpYrU+1s/tKI4ulD4P393X8yRN2M5P1Y98mQumjnDiaupEoMoJJ3wLm8Ak8dr+v1kyEoq+vynDJ0at5PU9JOB5aS3YUMr5sA1C1g1dYGrKRut5fb/NiP/BUsHEAaBMHyu4EO1+5k3Tp5B5yCSQF1XZcsK3knu67v+8HUKfHL7A7274IN+9KBpGRKzm1t/6b6J2VdnS9fk9mE8mvRJ195SQIrU6oOd9YNIXEyBxy238HG0NUxBa/6gOf8Qjrdl3VzlcjdQ9YBxbIEvOvqw/8nwFWb3wHZqYXr9mrXJf4/2ha29IV05wqmf3xthGMDGJ+r92Woszle1/3voJ08iFzq4OLzBLb0eF17wPhcwdy5cieQnb4nS+Gs68mvyZzA5vZnLj1t3bAsBQzPr+v8W9QbyBRMHWAb6+bmUsknwDC/geu6dJje5dPzTeg/AWz7t4WsHjK/92hsmdzkVSUGygU6nvyOGcKhrNt15f84UJ2rfPepkDuQJYCxZT5JE1x8fgpbpc56JXl3Xm07eL4LsiRgkkL29vZ2vf3P//zPr1pQCAgC41w5LON63R+3eV3Xqj7ujbjdSk53k2cZPzwQCK7X5ZPzp9IE3AlslTafDnH5DWCsl8Cn2pngmupOgRJV7yW8n7iROBG1wDeuoArxJ/Xf3vR+DCcXrRDqY/0kz0e0cpXUa4Lqf+o6PuU2ujZcmTt3sFXqXmBvIcO8AozLN9BhOyd/rv4JZF/eo5XCFrYqr8XkPueYJOW+OpdRlVdy3zFzbqLL8/G6/LeokxfUynXkuXrCbXR1U9gwMViYnyBTZaeAKVnX3pOQpS+01XV/n//v//7vL+faKXeucyWVGzfV4/Zd/Um/01Uupcp3suSI+e7BpCzV33IdOaVgpccpX9d0wGyBeyposnU38doS0J8/f76ANsGWArfdd7n6XRuqjGV1zu2hXiLrjpOs0iYyu4VvYwG7l9gMjJJtIWNZ9WGydh00XO87X2A7wCLI3sT30XASur1XEmE8DeG/vX112dxHlxAIJePz9H2ZknXH68rD+u7TIZV433eaGCTXpoLJ5Z+Arfo2AcbnnexPhv6ngIlr5/8BF6IH4rVI1DcAAAAASUVORK5CYII=\" y=\"-28\"/>\r\n   </g>\r\n   <g id=\"matplotlib.axis_1\">\r\n    <g id=\"xtick_1\">\r\n     <g id=\"line2d_1\">\r\n      <defs>\r\n       <path d=\"M 0 0 \r\nL 0 3.5 \r\n\" id=\"mf6e0cc2bb0\" style=\"stroke:#000000;stroke-width:0.8;\"/>\r\n      </defs>\r\n      <g>\r\n       <use style=\"stroke:#000000;stroke-width:0.8;\" x=\"33.39622\" xlink:href=\"#mf6e0cc2bb0\" y=\"246\"/>\r\n      </g>\r\n     </g>\r\n     <g id=\"text_1\">\r\n      <!-- 0 -->\r\n      <g transform=\"translate(30.21497 260.598437)scale(0.1 -0.1)\">\r\n       <defs>\r\n        <path d=\"M 31.78125 66.40625 \r\nQ 24.171875 66.40625 20.328125 58.90625 \r\nQ 16.5 51.421875 16.5 36.375 \r\nQ 16.5 21.390625 20.328125 13.890625 \r\nQ 24.171875 6.390625 31.78125 6.390625 \r\nQ 39.453125 6.390625 43.28125 13.890625 \r\nQ 47.125 21.390625 47.125 36.375 \r\nQ 47.125 51.421875 43.28125 58.90625 \r\nQ 39.453125 66.40625 31.78125 66.40625 \r\nz\r\nM 31.78125 74.21875 \r\nQ 44.046875 74.21875 50.515625 64.515625 \r\nQ 56.984375 54.828125 56.984375 36.375 \r\nQ 56.984375 17.96875 50.515625 8.265625 \r\nQ 44.046875 -1.421875 31.78125 -1.421875 \r\nQ 19.53125 -1.421875 13.0625 8.265625 \r\nQ 6.59375 17.96875 6.59375 36.375 \r\nQ 6.59375 54.828125 13.0625 64.515625 \r\nQ 19.53125 74.21875 31.78125 74.21875 \r\nz\r\n\" id=\"DejaVuSans-48\"/>\r\n       </defs>\r\n       <use xlink:href=\"#DejaVuSans-48\"/>\r\n      </g>\r\n     </g>\r\n    </g>\r\n    <g id=\"xtick_2\">\r\n     <g id=\"line2d_2\">\r\n      <g>\r\n       <use style=\"stroke:#000000;stroke-width:0.8;\" x=\"76.88422\" xlink:href=\"#mf6e0cc2bb0\" y=\"246\"/>\r\n      </g>\r\n     </g>\r\n     <g id=\"text_2\">\r\n      <!-- 200 -->\r\n      <g transform=\"translate(67.34047 260.598437)scale(0.1 -0.1)\">\r\n       <defs>\r\n        <path d=\"M 19.1875 8.296875 \r\nL 53.609375 8.296875 \r\nL 53.609375 0 \r\nL 7.328125 0 \r\nL 7.328125 8.296875 \r\nQ 12.9375 14.109375 22.625 23.890625 \r\nQ 32.328125 33.6875 34.8125 36.53125 \r\nQ 39.546875 41.84375 41.421875 45.53125 \r\nQ 43.3125 49.21875 43.3125 52.78125 \r\nQ 43.3125 58.59375 39.234375 62.25 \r\nQ 35.15625 65.921875 28.609375 65.921875 \r\nQ 23.96875 65.921875 18.8125 64.3125 \r\nQ 13.671875 62.703125 7.8125 59.421875 \r\nL 7.8125 69.390625 \r\nQ 13.765625 71.78125 18.9375 73 \r\nQ 24.125 74.21875 28.421875 74.21875 \r\nQ 39.75 74.21875 46.484375 68.546875 \r\nQ 53.21875 62.890625 53.21875 53.421875 \r\nQ 53.21875 48.921875 51.53125 44.890625 \r\nQ 49.859375 40.875 45.40625 35.40625 \r\nQ 44.1875 33.984375 37.640625 27.21875 \r\nQ 31.109375 20.453125 19.1875 8.296875 \r\nz\r\n\" id=\"DejaVuSans-50\"/>\r\n       </defs>\r\n       <use xlink:href=\"#DejaVuSans-50\"/>\r\n       <use x=\"63.623047\" xlink:href=\"#DejaVuSans-48\"/>\r\n       <use x=\"127.246094\" xlink:href=\"#DejaVuSans-48\"/>\r\n      </g>\r\n     </g>\r\n    </g>\r\n    <g id=\"xtick_3\">\r\n     <g id=\"line2d_3\">\r\n      <g>\r\n       <use style=\"stroke:#000000;stroke-width:0.8;\" x=\"120.37222\" xlink:href=\"#mf6e0cc2bb0\" y=\"246\"/>\r\n      </g>\r\n     </g>\r\n     <g id=\"text_3\">\r\n      <!-- 400 -->\r\n      <g transform=\"translate(110.82847 260.598437)scale(0.1 -0.1)\">\r\n       <defs>\r\n        <path d=\"M 37.796875 64.3125 \r\nL 12.890625 25.390625 \r\nL 37.796875 25.390625 \r\nz\r\nM 35.203125 72.90625 \r\nL 47.609375 72.90625 \r\nL 47.609375 25.390625 \r\nL 58.015625 25.390625 \r\nL 58.015625 17.1875 \r\nL 47.609375 17.1875 \r\nL 47.609375 0 \r\nL 37.796875 0 \r\nL 37.796875 17.1875 \r\nL 4.890625 17.1875 \r\nL 4.890625 26.703125 \r\nz\r\n\" id=\"DejaVuSans-52\"/>\r\n       </defs>\r\n       <use xlink:href=\"#DejaVuSans-52\"/>\r\n       <use x=\"63.623047\" xlink:href=\"#DejaVuSans-48\"/>\r\n       <use x=\"127.246094\" xlink:href=\"#DejaVuSans-48\"/>\r\n      </g>\r\n     </g>\r\n    </g>\r\n    <g id=\"xtick_4\">\r\n     <g id=\"line2d_4\">\r\n      <g>\r\n       <use style=\"stroke:#000000;stroke-width:0.8;\" x=\"163.86022\" xlink:href=\"#mf6e0cc2bb0\" y=\"246\"/>\r\n      </g>\r\n     </g>\r\n     <g id=\"text_4\">\r\n      <!-- 600 -->\r\n      <g transform=\"translate(154.31647 260.598437)scale(0.1 -0.1)\">\r\n       <defs>\r\n        <path d=\"M 33.015625 40.375 \r\nQ 26.375 40.375 22.484375 35.828125 \r\nQ 18.609375 31.296875 18.609375 23.390625 \r\nQ 18.609375 15.53125 22.484375 10.953125 \r\nQ 26.375 6.390625 33.015625 6.390625 \r\nQ 39.65625 6.390625 43.53125 10.953125 \r\nQ 47.40625 15.53125 47.40625 23.390625 \r\nQ 47.40625 31.296875 43.53125 35.828125 \r\nQ 39.65625 40.375 33.015625 40.375 \r\nz\r\nM 52.59375 71.296875 \r\nL 52.59375 62.3125 \r\nQ 48.875 64.0625 45.09375 64.984375 \r\nQ 41.3125 65.921875 37.59375 65.921875 \r\nQ 27.828125 65.921875 22.671875 59.328125 \r\nQ 17.53125 52.734375 16.796875 39.40625 \r\nQ 19.671875 43.65625 24.015625 45.921875 \r\nQ 28.375 48.1875 33.59375 48.1875 \r\nQ 44.578125 48.1875 50.953125 41.515625 \r\nQ 57.328125 34.859375 57.328125 23.390625 \r\nQ 57.328125 12.15625 50.6875 5.359375 \r\nQ 44.046875 -1.421875 33.015625 -1.421875 \r\nQ 20.359375 -1.421875 13.671875 8.265625 \r\nQ 6.984375 17.96875 6.984375 36.375 \r\nQ 6.984375 53.65625 15.1875 63.9375 \r\nQ 23.390625 74.21875 37.203125 74.21875 \r\nQ 40.921875 74.21875 44.703125 73.484375 \r\nQ 48.484375 72.75 52.59375 71.296875 \r\nz\r\n\" id=\"DejaVuSans-54\"/>\r\n       </defs>\r\n       <use xlink:href=\"#DejaVuSans-54\"/>\r\n       <use x=\"63.623047\" xlink:href=\"#DejaVuSans-48\"/>\r\n       <use x=\"127.246094\" xlink:href=\"#DejaVuSans-48\"/>\r\n      </g>\r\n     </g>\r\n    </g>\r\n    <g id=\"xtick_5\">\r\n     <g id=\"line2d_5\">\r\n      <g>\r\n       <use style=\"stroke:#000000;stroke-width:0.8;\" x=\"207.34822\" xlink:href=\"#mf6e0cc2bb0\" y=\"246\"/>\r\n      </g>\r\n     </g>\r\n     <g id=\"text_5\">\r\n      <!-- 800 -->\r\n      <g transform=\"translate(197.80447 260.598437)scale(0.1 -0.1)\">\r\n       <defs>\r\n        <path d=\"M 31.78125 34.625 \r\nQ 24.75 34.625 20.71875 30.859375 \r\nQ 16.703125 27.09375 16.703125 20.515625 \r\nQ 16.703125 13.921875 20.71875 10.15625 \r\nQ 24.75 6.390625 31.78125 6.390625 \r\nQ 38.8125 6.390625 42.859375 10.171875 \r\nQ 46.921875 13.96875 46.921875 20.515625 \r\nQ 46.921875 27.09375 42.890625 30.859375 \r\nQ 38.875 34.625 31.78125 34.625 \r\nz\r\nM 21.921875 38.8125 \r\nQ 15.578125 40.375 12.03125 44.71875 \r\nQ 8.5 49.078125 8.5 55.328125 \r\nQ 8.5 64.0625 14.71875 69.140625 \r\nQ 20.953125 74.21875 31.78125 74.21875 \r\nQ 42.671875 74.21875 48.875 69.140625 \r\nQ 55.078125 64.0625 55.078125 55.328125 \r\nQ 55.078125 49.078125 51.53125 44.71875 \r\nQ 48 40.375 41.703125 38.8125 \r\nQ 48.828125 37.15625 52.796875 32.3125 \r\nQ 56.78125 27.484375 56.78125 20.515625 \r\nQ 56.78125 9.90625 50.3125 4.234375 \r\nQ 43.84375 -1.421875 31.78125 -1.421875 \r\nQ 19.734375 -1.421875 13.25 4.234375 \r\nQ 6.78125 9.90625 6.78125 20.515625 \r\nQ 6.78125 27.484375 10.78125 32.3125 \r\nQ 14.796875 37.15625 21.921875 38.8125 \r\nz\r\nM 18.3125 54.390625 \r\nQ 18.3125 48.734375 21.84375 45.5625 \r\nQ 25.390625 42.390625 31.78125 42.390625 \r\nQ 38.140625 42.390625 41.71875 45.5625 \r\nQ 45.3125 48.734375 45.3125 54.390625 \r\nQ 45.3125 60.0625 41.71875 63.234375 \r\nQ 38.140625 66.40625 31.78125 66.40625 \r\nQ 25.390625 66.40625 21.84375 63.234375 \r\nQ 18.3125 60.0625 18.3125 54.390625 \r\nz\r\n\" id=\"DejaVuSans-56\"/>\r\n       </defs>\r\n       <use xlink:href=\"#DejaVuSans-56\"/>\r\n       <use x=\"63.623047\" xlink:href=\"#DejaVuSans-48\"/>\r\n       <use x=\"127.246094\" xlink:href=\"#DejaVuSans-48\"/>\r\n      </g>\r\n     </g>\r\n    </g>\r\n   </g>\r\n   <g id=\"matplotlib.axis_2\">\r\n    <g id=\"ytick_1\">\r\n     <g id=\"line2d_6\">\r\n      <defs>\r\n       <path d=\"M 0 0 \r\nL -3.5 0 \r\n\" id=\"mda99d2b72d\" style=\"stroke:#000000;stroke-width:0.8;\"/>\r\n      </defs>\r\n      <g>\r\n       <use style=\"stroke:#000000;stroke-width:0.8;\" x=\"33.2875\" xlink:href=\"#mda99d2b72d\" y=\"28.66872\"/>\r\n      </g>\r\n     </g>\r\n     <g id=\"text_6\">\r\n      <!-- 0 -->\r\n      <g transform=\"translate(19.925 32.467939)scale(0.1 -0.1)\">\r\n       <use xlink:href=\"#DejaVuSans-48\"/>\r\n      </g>\r\n     </g>\r\n    </g>\r\n    <g id=\"ytick_2\">\r\n     <g id=\"line2d_7\">\r\n      <g>\r\n       <use style=\"stroke:#000000;stroke-width:0.8;\" x=\"33.2875\" xlink:href=\"#mda99d2b72d\" y=\"72.15672\"/>\r\n      </g>\r\n     </g>\r\n     <g id=\"text_7\">\r\n      <!-- 200 -->\r\n      <g transform=\"translate(7.2 75.955939)scale(0.1 -0.1)\">\r\n       <use xlink:href=\"#DejaVuSans-50\"/>\r\n       <use x=\"63.623047\" xlink:href=\"#DejaVuSans-48\"/>\r\n       <use x=\"127.246094\" xlink:href=\"#DejaVuSans-48\"/>\r\n      </g>\r\n     </g>\r\n    </g>\r\n    <g id=\"ytick_3\">\r\n     <g id=\"line2d_8\">\r\n      <g>\r\n       <use style=\"stroke:#000000;stroke-width:0.8;\" x=\"33.2875\" xlink:href=\"#mda99d2b72d\" y=\"115.64472\"/>\r\n      </g>\r\n     </g>\r\n     <g id=\"text_8\">\r\n      <!-- 400 -->\r\n      <g transform=\"translate(7.2 119.443939)scale(0.1 -0.1)\">\r\n       <use xlink:href=\"#DejaVuSans-52\"/>\r\n       <use x=\"63.623047\" xlink:href=\"#DejaVuSans-48\"/>\r\n       <use x=\"127.246094\" xlink:href=\"#DejaVuSans-48\"/>\r\n      </g>\r\n     </g>\r\n    </g>\r\n    <g id=\"ytick_4\">\r\n     <g id=\"line2d_9\">\r\n      <g>\r\n       <use style=\"stroke:#000000;stroke-width:0.8;\" x=\"33.2875\" xlink:href=\"#mda99d2b72d\" y=\"159.13272\"/>\r\n      </g>\r\n     </g>\r\n     <g id=\"text_9\">\r\n      <!-- 600 -->\r\n      <g transform=\"translate(7.2 162.931939)scale(0.1 -0.1)\">\r\n       <use xlink:href=\"#DejaVuSans-54\"/>\r\n       <use x=\"63.623047\" xlink:href=\"#DejaVuSans-48\"/>\r\n       <use x=\"127.246094\" xlink:href=\"#DejaVuSans-48\"/>\r\n      </g>\r\n     </g>\r\n    </g>\r\n    <g id=\"ytick_5\">\r\n     <g id=\"line2d_10\">\r\n      <g>\r\n       <use style=\"stroke:#000000;stroke-width:0.8;\" x=\"33.2875\" xlink:href=\"#mda99d2b72d\" y=\"202.62072\"/>\r\n      </g>\r\n     </g>\r\n     <g id=\"text_10\">\r\n      <!-- 800 -->\r\n      <g transform=\"translate(7.2 206.419939)scale(0.1 -0.1)\">\r\n       <use xlink:href=\"#DejaVuSans-56\"/>\r\n       <use x=\"63.623047\" xlink:href=\"#DejaVuSans-48\"/>\r\n       <use x=\"127.246094\" xlink:href=\"#DejaVuSans-48\"/>\r\n      </g>\r\n     </g>\r\n    </g>\r\n   </g>\r\n   <g id=\"patch_3\">\r\n    <path d=\"M 33.2875 246 \r\nL 33.2875 28.56 \r\n\" style=\"fill:none;stroke:#000000;stroke-linecap:square;stroke-linejoin:miter;stroke-width:0.8;\"/>\r\n   </g>\r\n   <g id=\"patch_4\">\r\n    <path d=\"M 250.7275 246 \r\nL 250.7275 28.56 \r\n\" style=\"fill:none;stroke:#000000;stroke-linecap:square;stroke-linejoin:miter;stroke-width:0.8;\"/>\r\n   </g>\r\n   <g id=\"patch_5\">\r\n    <path d=\"M 33.2875 246 \r\nL 250.7275 246 \r\n\" style=\"fill:none;stroke:#000000;stroke-linecap:square;stroke-linejoin:miter;stroke-width:0.8;\"/>\r\n   </g>\r\n   <g id=\"patch_6\">\r\n    <path d=\"M 33.2875 28.56 \r\nL 250.7275 28.56 \r\n\" style=\"fill:none;stroke:#000000;stroke-linecap:square;stroke-linejoin:miter;stroke-width:0.8;\"/>\r\n   </g>\r\n   <g id=\"text_11\">\r\n    <!-- Image plot of $\\sqrt{x^2 + y^2}$ for a grid of values -->\r\n    <g transform=\"translate(14.8075 22.56)scale(0.12 -0.12)\">\r\n     <defs>\r\n      <path d=\"M 9.8125 72.90625 \r\nL 19.671875 72.90625 \r\nL 19.671875 0 \r\nL 9.8125 0 \r\nz\r\n\" id=\"DejaVuSans-73\"/>\r\n      <path d=\"M 52 44.1875 \r\nQ 55.375 50.25 60.0625 53.125 \r\nQ 64.75 56 71.09375 56 \r\nQ 79.640625 56 84.28125 50.015625 \r\nQ 88.921875 44.046875 88.921875 33.015625 \r\nL 88.921875 0 \r\nL 79.890625 0 \r\nL 79.890625 32.71875 \r\nQ 79.890625 40.578125 77.09375 44.375 \r\nQ 74.3125 48.1875 68.609375 48.1875 \r\nQ 61.625 48.1875 57.5625 43.546875 \r\nQ 53.515625 38.921875 53.515625 30.90625 \r\nL 53.515625 0 \r\nL 44.484375 0 \r\nL 44.484375 32.71875 \r\nQ 44.484375 40.625 41.703125 44.40625 \r\nQ 38.921875 48.1875 33.109375 48.1875 \r\nQ 26.21875 48.1875 22.15625 43.53125 \r\nQ 18.109375 38.875 18.109375 30.90625 \r\nL 18.109375 0 \r\nL 9.078125 0 \r\nL 9.078125 54.6875 \r\nL 18.109375 54.6875 \r\nL 18.109375 46.1875 \r\nQ 21.1875 51.21875 25.484375 53.609375 \r\nQ 29.78125 56 35.6875 56 \r\nQ 41.65625 56 45.828125 52.96875 \r\nQ 50 49.953125 52 44.1875 \r\nz\r\n\" id=\"DejaVuSans-109\"/>\r\n      <path d=\"M 34.28125 27.484375 \r\nQ 23.390625 27.484375 19.1875 25 \r\nQ 14.984375 22.515625 14.984375 16.5 \r\nQ 14.984375 11.71875 18.140625 8.90625 \r\nQ 21.296875 6.109375 26.703125 6.109375 \r\nQ 34.1875 6.109375 38.703125 11.40625 \r\nQ 43.21875 16.703125 43.21875 25.484375 \r\nL 43.21875 27.484375 \r\nz\r\nM 52.203125 31.203125 \r\nL 52.203125 0 \r\nL 43.21875 0 \r\nL 43.21875 8.296875 \r\nQ 40.140625 3.328125 35.546875 0.953125 \r\nQ 30.953125 -1.421875 24.3125 -1.421875 \r\nQ 15.921875 -1.421875 10.953125 3.296875 \r\nQ 6 8.015625 6 15.921875 \r\nQ 6 25.140625 12.171875 29.828125 \r\nQ 18.359375 34.515625 30.609375 34.515625 \r\nL 43.21875 34.515625 \r\nL 43.21875 35.40625 \r\nQ 43.21875 41.609375 39.140625 45 \r\nQ 35.0625 48.390625 27.6875 48.390625 \r\nQ 23 48.390625 18.546875 47.265625 \r\nQ 14.109375 46.140625 10.015625 43.890625 \r\nL 10.015625 52.203125 \r\nQ 14.9375 54.109375 19.578125 55.046875 \r\nQ 24.21875 56 28.609375 56 \r\nQ 40.484375 56 46.34375 49.84375 \r\nQ 52.203125 43.703125 52.203125 31.203125 \r\nz\r\n\" id=\"DejaVuSans-97\"/>\r\n      <path d=\"M 45.40625 27.984375 \r\nQ 45.40625 37.75 41.375 43.109375 \r\nQ 37.359375 48.484375 30.078125 48.484375 \r\nQ 22.859375 48.484375 18.828125 43.109375 \r\nQ 14.796875 37.75 14.796875 27.984375 \r\nQ 14.796875 18.265625 18.828125 12.890625 \r\nQ 22.859375 7.515625 30.078125 7.515625 \r\nQ 37.359375 7.515625 41.375 12.890625 \r\nQ 45.40625 18.265625 45.40625 27.984375 \r\nz\r\nM 54.390625 6.78125 \r\nQ 54.390625 -7.171875 48.1875 -13.984375 \r\nQ 42 -20.796875 29.203125 -20.796875 \r\nQ 24.46875 -20.796875 20.265625 -20.09375 \r\nQ 16.0625 -19.390625 12.109375 -17.921875 \r\nL 12.109375 -9.1875 \r\nQ 16.0625 -11.328125 19.921875 -12.34375 \r\nQ 23.78125 -13.375 27.78125 -13.375 \r\nQ 36.625 -13.375 41.015625 -8.765625 \r\nQ 45.40625 -4.15625 45.40625 5.171875 \r\nL 45.40625 9.625 \r\nQ 42.625 4.78125 38.28125 2.390625 \r\nQ 33.9375 0 27.875 0 \r\nQ 17.828125 0 11.671875 7.65625 \r\nQ 5.515625 15.328125 5.515625 27.984375 \r\nQ 5.515625 40.671875 11.671875 48.328125 \r\nQ 17.828125 56 27.875 56 \r\nQ 33.9375 56 38.28125 53.609375 \r\nQ 42.625 51.21875 45.40625 46.390625 \r\nL 45.40625 54.6875 \r\nL 54.390625 54.6875 \r\nz\r\n\" id=\"DejaVuSans-103\"/>\r\n      <path d=\"M 56.203125 29.59375 \r\nL 56.203125 25.203125 \r\nL 14.890625 25.203125 \r\nQ 15.484375 15.921875 20.484375 11.0625 \r\nQ 25.484375 6.203125 34.421875 6.203125 \r\nQ 39.59375 6.203125 44.453125 7.46875 \r\nQ 49.3125 8.734375 54.109375 11.28125 \r\nL 54.109375 2.78125 \r\nQ 49.265625 0.734375 44.1875 -0.34375 \r\nQ 39.109375 -1.421875 33.890625 -1.421875 \r\nQ 20.796875 -1.421875 13.15625 6.1875 \r\nQ 5.515625 13.8125 5.515625 26.8125 \r\nQ 5.515625 40.234375 12.765625 48.109375 \r\nQ 20.015625 56 32.328125 56 \r\nQ 43.359375 56 49.78125 48.890625 \r\nQ 56.203125 41.796875 56.203125 29.59375 \r\nz\r\nM 47.21875 32.234375 \r\nQ 47.125 39.59375 43.09375 43.984375 \r\nQ 39.0625 48.390625 32.421875 48.390625 \r\nQ 24.90625 48.390625 20.390625 44.140625 \r\nQ 15.875 39.890625 15.1875 32.171875 \r\nz\r\n\" id=\"DejaVuSans-101\"/>\r\n      <path id=\"DejaVuSans-32\"/>\r\n      <path d=\"M 18.109375 8.203125 \r\nL 18.109375 -20.796875 \r\nL 9.078125 -20.796875 \r\nL 9.078125 54.6875 \r\nL 18.109375 54.6875 \r\nL 18.109375 46.390625 \r\nQ 20.953125 51.265625 25.265625 53.625 \r\nQ 29.59375 56 35.59375 56 \r\nQ 45.5625 56 51.78125 48.09375 \r\nQ 58.015625 40.1875 58.015625 27.296875 \r\nQ 58.015625 14.40625 51.78125 6.484375 \r\nQ 45.5625 -1.421875 35.59375 -1.421875 \r\nQ 29.59375 -1.421875 25.265625 0.953125 \r\nQ 20.953125 3.328125 18.109375 8.203125 \r\nz\r\nM 48.6875 27.296875 \r\nQ 48.6875 37.203125 44.609375 42.84375 \r\nQ 40.53125 48.484375 33.40625 48.484375 \r\nQ 26.265625 48.484375 22.1875 42.84375 \r\nQ 18.109375 37.203125 18.109375 27.296875 \r\nQ 18.109375 17.390625 22.1875 11.75 \r\nQ 26.265625 6.109375 33.40625 6.109375 \r\nQ 40.53125 6.109375 44.609375 11.75 \r\nQ 48.6875 17.390625 48.6875 27.296875 \r\nz\r\n\" id=\"DejaVuSans-112\"/>\r\n      <path d=\"M 9.421875 75.984375 \r\nL 18.40625 75.984375 \r\nL 18.40625 0 \r\nL 9.421875 0 \r\nz\r\n\" id=\"DejaVuSans-108\"/>\r\n      <path d=\"M 30.609375 48.390625 \r\nQ 23.390625 48.390625 19.1875 42.75 \r\nQ 14.984375 37.109375 14.984375 27.296875 \r\nQ 14.984375 17.484375 19.15625 11.84375 \r\nQ 23.34375 6.203125 30.609375 6.203125 \r\nQ 37.796875 6.203125 41.984375 11.859375 \r\nQ 46.1875 17.53125 46.1875 27.296875 \r\nQ 46.1875 37.015625 41.984375 42.703125 \r\nQ 37.796875 48.390625 30.609375 48.390625 \r\nz\r\nM 30.609375 56 \r\nQ 42.328125 56 49.015625 48.375 \r\nQ 55.71875 40.765625 55.71875 27.296875 \r\nQ 55.71875 13.875 49.015625 6.21875 \r\nQ 42.328125 -1.421875 30.609375 -1.421875 \r\nQ 18.84375 -1.421875 12.171875 6.21875 \r\nQ 5.515625 13.875 5.515625 27.296875 \r\nQ 5.515625 40.765625 12.171875 48.375 \r\nQ 18.84375 56 30.609375 56 \r\nz\r\n\" id=\"DejaVuSans-111\"/>\r\n      <path d=\"M 18.3125 70.21875 \r\nL 18.3125 54.6875 \r\nL 36.8125 54.6875 \r\nL 36.8125 47.703125 \r\nL 18.3125 47.703125 \r\nL 18.3125 18.015625 \r\nQ 18.3125 11.328125 20.140625 9.421875 \r\nQ 21.96875 7.515625 27.59375 7.515625 \r\nL 36.8125 7.515625 \r\nL 36.8125 0 \r\nL 27.59375 0 \r\nQ 17.1875 0 13.234375 3.875 \r\nQ 9.28125 7.765625 9.28125 18.015625 \r\nL 9.28125 47.703125 \r\nL 2.6875 47.703125 \r\nL 2.6875 54.6875 \r\nL 9.28125 54.6875 \r\nL 9.28125 70.21875 \r\nz\r\n\" id=\"DejaVuSans-116\"/>\r\n      <path d=\"M 37.109375 75.984375 \r\nL 37.109375 68.5 \r\nL 28.515625 68.5 \r\nQ 23.6875 68.5 21.796875 66.546875 \r\nQ 19.921875 64.59375 19.921875 59.515625 \r\nL 19.921875 54.6875 \r\nL 34.71875 54.6875 \r\nL 34.71875 47.703125 \r\nL 19.921875 47.703125 \r\nL 19.921875 0 \r\nL 10.890625 0 \r\nL 10.890625 47.703125 \r\nL 2.296875 47.703125 \r\nL 2.296875 54.6875 \r\nL 10.890625 54.6875 \r\nL 10.890625 58.5 \r\nQ 10.890625 67.625 15.140625 71.796875 \r\nQ 19.390625 75.984375 28.609375 75.984375 \r\nz\r\n\" id=\"DejaVuSans-102\"/>\r\n      <path d=\"M 108.90625 155.203125 \r\nL 52.703125 -29.5 \r\nL 48.5 -29.5 \r\nL 25.40625 45.59375 \r\nQ 24.296875 49.203125 22.890625 50.796875 \r\nQ 21.5 52.40625 19.203125 52.40625 \r\nQ 15.796875 52.40625 12.40625 49.703125 \r\nL 11.203125 51.703125 \r\nL 27.59375 64.296875 \r\nL 30.09375 64.296875 \r\nL 52.796875 -9.40625 \r\nL 53.203125 -9.40625 \r\nL 103.203125 155.203125 \r\nz\r\n\" id=\"STIXSizeOneSym-Regular-8730\"/>\r\n      <path d=\"M 60.015625 54.6875 \r\nL 34.90625 27.875 \r\nL 50.296875 0 \r\nL 39.984375 0 \r\nL 28.421875 21.6875 \r\nL 8.296875 0 \r\nL -2.59375 0 \r\nL 24.3125 28.8125 \r\nL 10.015625 54.6875 \r\nL 20.3125 54.6875 \r\nL 30.8125 34.90625 \r\nL 49.125 54.6875 \r\nz\r\n\" id=\"DejaVuSans-Oblique-120\"/>\r\n      <path d=\"M 46 62.703125 \r\nL 46 35.5 \r\nL 73.1875 35.5 \r\nL 73.1875 27.203125 \r\nL 46 27.203125 \r\nL 46 0 \r\nL 37.796875 0 \r\nL 37.796875 27.203125 \r\nL 10.59375 27.203125 \r\nL 10.59375 35.5 \r\nL 37.796875 35.5 \r\nL 37.796875 62.703125 \r\nz\r\n\" id=\"DejaVuSans-43\"/>\r\n      <path d=\"M 24.8125 -5.078125 \r\nQ 18.5625 -15.578125 14.625 -18.1875 \r\nQ 10.6875 -20.796875 4.59375 -20.796875 \r\nL -2.484375 -20.796875 \r\nL -0.984375 -13.28125 \r\nL 4.203125 -13.28125 \r\nQ 7.953125 -13.28125 10.59375 -11.234375 \r\nQ 13.234375 -9.1875 16.5 -3.21875 \r\nL 19.28125 2 \r\nL 7.171875 54.6875 \r\nL 16.703125 54.6875 \r\nL 25.78125 12.796875 \r\nL 50.875 54.6875 \r\nL 60.296875 54.6875 \r\nz\r\n\" id=\"DejaVuSans-Oblique-121\"/>\r\n      <path d=\"M 41.109375 46.296875 \r\nQ 39.59375 47.171875 37.8125 47.578125 \r\nQ 36.03125 48 33.890625 48 \r\nQ 26.265625 48 22.1875 43.046875 \r\nQ 18.109375 38.09375 18.109375 28.8125 \r\nL 18.109375 0 \r\nL 9.078125 0 \r\nL 9.078125 54.6875 \r\nL 18.109375 54.6875 \r\nL 18.109375 46.1875 \r\nQ 20.953125 51.171875 25.484375 53.578125 \r\nQ 30.03125 56 36.53125 56 \r\nQ 37.453125 56 38.578125 55.875 \r\nQ 39.703125 55.765625 41.0625 55.515625 \r\nz\r\n\" id=\"DejaVuSans-114\"/>\r\n      <path d=\"M 9.421875 54.6875 \r\nL 18.40625 54.6875 \r\nL 18.40625 0 \r\nL 9.421875 0 \r\nz\r\nM 9.421875 75.984375 \r\nL 18.40625 75.984375 \r\nL 18.40625 64.59375 \r\nL 9.421875 64.59375 \r\nz\r\n\" id=\"DejaVuSans-105\"/>\r\n      <path d=\"M 45.40625 46.390625 \r\nL 45.40625 75.984375 \r\nL 54.390625 75.984375 \r\nL 54.390625 0 \r\nL 45.40625 0 \r\nL 45.40625 8.203125 \r\nQ 42.578125 3.328125 38.25 0.953125 \r\nQ 33.9375 -1.421875 27.875 -1.421875 \r\nQ 17.96875 -1.421875 11.734375 6.484375 \r\nQ 5.515625 14.40625 5.515625 27.296875 \r\nQ 5.515625 40.1875 11.734375 48.09375 \r\nQ 17.96875 56 27.875 56 \r\nQ 33.9375 56 38.25 53.625 \r\nQ 42.578125 51.265625 45.40625 46.390625 \r\nz\r\nM 14.796875 27.296875 \r\nQ 14.796875 17.390625 18.875 11.75 \r\nQ 22.953125 6.109375 30.078125 6.109375 \r\nQ 37.203125 6.109375 41.296875 11.75 \r\nQ 45.40625 17.390625 45.40625 27.296875 \r\nQ 45.40625 37.203125 41.296875 42.84375 \r\nQ 37.203125 48.484375 30.078125 48.484375 \r\nQ 22.953125 48.484375 18.875 42.84375 \r\nQ 14.796875 37.203125 14.796875 27.296875 \r\nz\r\n\" id=\"DejaVuSans-100\"/>\r\n      <path d=\"M 2.984375 54.6875 \r\nL 12.5 54.6875 \r\nL 29.59375 8.796875 \r\nL 46.6875 54.6875 \r\nL 56.203125 54.6875 \r\nL 35.6875 0 \r\nL 23.484375 0 \r\nz\r\n\" id=\"DejaVuSans-118\"/>\r\n      <path d=\"M 8.5 21.578125 \r\nL 8.5 54.6875 \r\nL 17.484375 54.6875 \r\nL 17.484375 21.921875 \r\nQ 17.484375 14.15625 20.5 10.265625 \r\nQ 23.53125 6.390625 29.59375 6.390625 \r\nQ 36.859375 6.390625 41.078125 11.03125 \r\nQ 45.3125 15.671875 45.3125 23.6875 \r\nL 45.3125 54.6875 \r\nL 54.296875 54.6875 \r\nL 54.296875 0 \r\nL 45.3125 0 \r\nL 45.3125 8.40625 \r\nQ 42.046875 3.421875 37.71875 1 \r\nQ 33.40625 -1.421875 27.6875 -1.421875 \r\nQ 18.265625 -1.421875 13.375 4.4375 \r\nQ 8.5 10.296875 8.5 21.578125 \r\nz\r\nM 31.109375 56 \r\nz\r\n\" id=\"DejaVuSans-117\"/>\r\n      <path d=\"M 44.28125 53.078125 \r\nL 44.28125 44.578125 \r\nQ 40.484375 46.53125 36.375 47.5 \r\nQ 32.28125 48.484375 27.875 48.484375 \r\nQ 21.1875 48.484375 17.84375 46.4375 \r\nQ 14.5 44.390625 14.5 40.28125 \r\nQ 14.5 37.15625 16.890625 35.375 \r\nQ 19.28125 33.59375 26.515625 31.984375 \r\nL 29.59375 31.296875 \r\nQ 39.15625 29.25 43.1875 25.515625 \r\nQ 47.21875 21.78125 47.21875 15.09375 \r\nQ 47.21875 7.46875 41.1875 3.015625 \r\nQ 35.15625 -1.421875 24.609375 -1.421875 \r\nQ 20.21875 -1.421875 15.453125 -0.5625 \r\nQ 10.6875 0.296875 5.421875 2 \r\nL 5.421875 11.28125 \r\nQ 10.40625 8.6875 15.234375 7.390625 \r\nQ 20.0625 6.109375 24.8125 6.109375 \r\nQ 31.15625 6.109375 34.5625 8.28125 \r\nQ 37.984375 10.453125 37.984375 14.40625 \r\nQ 37.984375 18.0625 35.515625 20.015625 \r\nQ 33.0625 21.96875 24.703125 23.78125 \r\nL 21.578125 24.515625 \r\nQ 13.234375 26.265625 9.515625 29.90625 \r\nQ 5.8125 33.546875 5.8125 39.890625 \r\nQ 5.8125 47.609375 11.28125 51.796875 \r\nQ 16.75 56 26.8125 56 \r\nQ 31.78125 56 36.171875 55.265625 \r\nQ 40.578125 54.546875 44.28125 53.078125 \r\nz\r\n\" id=\"DejaVuSans-115\"/>\r\n     </defs>\r\n     <use transform=\"translate(0 0.578125)\" xlink:href=\"#DejaVuSans-73\"/>\r\n     <use transform=\"translate(25.867188 0.578125)\" xlink:href=\"#DejaVuSans-109\"/>\r\n     <use transform=\"translate(123.279297 0.578125)\" xlink:href=\"#DejaVuSans-97\"/>\r\n     <use transform=\"translate(184.558594 0.578125)\" xlink:href=\"#DejaVuSans-103\"/>\r\n     <use transform=\"translate(248.035156 0.578125)\" xlink:href=\"#DejaVuSans-101\"/>\r\n     <use transform=\"translate(309.558594 0.578125)\" xlink:href=\"#DejaVuSans-32\"/>\r\n     <use transform=\"translate(341.345703 0.578125)\" xlink:href=\"#DejaVuSans-112\"/>\r\n     <use transform=\"translate(404.822266 0.578125)\" xlink:href=\"#DejaVuSans-108\"/>\r\n     <use transform=\"translate(432.605469 0.578125)\" xlink:href=\"#DejaVuSans-111\"/>\r\n     <use transform=\"translate(493.787109 0.578125)\" xlink:href=\"#DejaVuSans-116\"/>\r\n     <use transform=\"translate(532.996094 0.578125)\" xlink:href=\"#DejaVuSans-32\"/>\r\n     <use transform=\"translate(564.783203 0.578125)\" xlink:href=\"#DejaVuSans-111\"/>\r\n     <use transform=\"translate(625.964844 0.578125)\" xlink:href=\"#DejaVuSans-102\"/>\r\n     <use transform=\"translate(661.169922 0.578125)\" xlink:href=\"#DejaVuSans-32\"/>\r\n     <use transform=\"translate(692.957031 2.5)scale(0.770324)\" xlink:href=\"#STIXSizeOneSym-Regular-8730\"/>\r\n     <use transform=\"translate(786.846024 0.515625)\" xlink:href=\"#DejaVuSans-Oblique-120\"/>\r\n     <use transform=\"translate(850.491857 38.796875)scale(0.7)\" xlink:href=\"#DejaVuSans-50\"/>\r\n     <use transform=\"translate(917.244787 0.515625)\" xlink:href=\"#DejaVuSans-43\"/>\r\n     <use transform=\"translate(1020.516271 0.515625)\" xlink:href=\"#DejaVuSans-Oblique-121\"/>\r\n     <use transform=\"translate(1084.162104 38.796875)scale(0.7)\" xlink:href=\"#DejaVuSans-50\"/>\r\n     <use transform=\"translate(1143.932612 0.578125)\" xlink:href=\"#DejaVuSans-32\"/>\r\n     <use transform=\"translate(1175.719721 0.578125)\" xlink:href=\"#DejaVuSans-102\"/>\r\n     <use transform=\"translate(1210.9248 0.578125)\" xlink:href=\"#DejaVuSans-111\"/>\r\n     <use transform=\"translate(1272.10644 0.578125)\" xlink:href=\"#DejaVuSans-114\"/>\r\n     <use transform=\"translate(1313.219721 0.578125)\" xlink:href=\"#DejaVuSans-32\"/>\r\n     <use transform=\"translate(1345.006831 0.578125)\" xlink:href=\"#DejaVuSans-97\"/>\r\n     <use transform=\"translate(1406.286128 0.578125)\" xlink:href=\"#DejaVuSans-32\"/>\r\n     <use transform=\"translate(1438.073237 0.578125)\" xlink:href=\"#DejaVuSans-103\"/>\r\n     <use transform=\"translate(1501.5498 0.578125)\" xlink:href=\"#DejaVuSans-114\"/>\r\n     <use transform=\"translate(1542.663081 0.578125)\" xlink:href=\"#DejaVuSans-105\"/>\r\n     <use transform=\"translate(1570.446284 0.578125)\" xlink:href=\"#DejaVuSans-100\"/>\r\n     <use transform=\"translate(1633.922846 0.578125)\" xlink:href=\"#DejaVuSans-32\"/>\r\n     <use transform=\"translate(1665.709956 0.578125)\" xlink:href=\"#DejaVuSans-111\"/>\r\n     <use transform=\"translate(1726.891596 0.578125)\" xlink:href=\"#DejaVuSans-102\"/>\r\n     <use transform=\"translate(1762.096675 0.578125)\" xlink:href=\"#DejaVuSans-32\"/>\r\n     <use transform=\"translate(1793.883784 0.578125)\" xlink:href=\"#DejaVuSans-118\"/>\r\n     <use transform=\"translate(1853.063471 0.578125)\" xlink:href=\"#DejaVuSans-97\"/>\r\n     <use transform=\"translate(1914.342768 0.578125)\" xlink:href=\"#DejaVuSans-108\"/>\r\n     <use transform=\"translate(1942.125971 0.578125)\" xlink:href=\"#DejaVuSans-117\"/>\r\n     <use transform=\"translate(2005.504878 0.578125)\" xlink:href=\"#DejaVuSans-101\"/>\r\n     <use transform=\"translate(2067.028315 0.578125)\" xlink:href=\"#DejaVuSans-115\"/>\r\n     <path d=\"M 774.346024 115.5 \r\nL 774.346024 121.75 \r\nL 1143.932612 121.75 \r\nL 1143.932612 115.5 \r\nL 774.346024 115.5 \r\nz\r\n\"/>\r\n    </g>\r\n   </g>\r\n  </g>\r\n  <g id=\"axes_2\">\r\n   <g id=\"patch_7\">\r\n    <path clip-path=\"url(#p5aebcf989c)\" d=\"M 267.4675 246 \r\nL 267.4675 245.150625 \r\nL 267.4675 29.409375 \r\nL 267.4675 28.56 \r\nL 278.3395 28.56 \r\nL 278.3395 29.409375 \r\nL 278.3395 245.150625 \r\nL 278.3395 246 \r\nz\r\n\" style=\"fill:#ffffff;stroke:#ffffff;stroke-linejoin:miter;stroke-width:0.01;\"/>\r\n   </g>\r\n   <image height=\"217\" id=\"image29470170af\" transform=\"scale(1 -1)translate(0 -217)\" width=\"11\" x=\"267\" xlink:href=\"data:image/png;base64,\r\niVBORw0KGgoAAAANSUhEUgAAAAsAAADZCAYAAAD2WsoCAAAAgklEQVR4nO3QMQrAMBADwcj4/19O2iuNIGCWvXqL0yTJ+xzeTnLa/hmvtW5445JYjRnjNfAD1ahjvAZ+oBozxg9Uo47xGviBatQxXgM/UI06xmvgB6oxY/xANeoYr4EfqEYd4zXwA9WoY7wGfqAadYzXwA9UY8b4gWrUMV4DP5Cu8QHdRgdeRvf/PQAAAABJRU5ErkJggg==\" y=\"-28\"/>\r\n   <g id=\"matplotlib.axis_3\"/>\r\n   <g id=\"matplotlib.axis_4\">\r\n    <g id=\"ytick_6\">\r\n     <g id=\"line2d_11\">\r\n      <defs>\r\n       <path d=\"M 0 0 \r\nL 3.5 0 \r\n\" id=\"m4ef3b82c1d\" style=\"stroke:#000000;stroke-width:0.8;\"/>\r\n      </defs>\r\n      <g>\r\n       <use style=\"stroke:#000000;stroke-width:0.8;\" x=\"278.3395\" xlink:href=\"#m4ef3b82c1d\" y=\"246\"/>\r\n      </g>\r\n     </g>\r\n     <g id=\"text_12\">\r\n      <!-- 0 -->\r\n      <g transform=\"translate(285.3395 249.799219)scale(0.1 -0.1)\">\r\n       <use xlink:href=\"#DejaVuSans-48\"/>\r\n      </g>\r\n     </g>\r\n    </g>\r\n    <g id=\"ytick_7\">\r\n     <g id=\"line2d_12\">\r\n      <g>\r\n       <use style=\"stroke:#000000;stroke-width:0.8;\" x=\"278.3395\" xlink:href=\"#m4ef3b82c1d\" y=\"215.24934\"/>\r\n      </g>\r\n     </g>\r\n     <g id=\"text_13\">\r\n      <!-- 1 -->\r\n      <g transform=\"translate(285.3395 219.048559)scale(0.1 -0.1)\">\r\n       <defs>\r\n        <path d=\"M 12.40625 8.296875 \r\nL 28.515625 8.296875 \r\nL 28.515625 63.921875 \r\nL 10.984375 60.40625 \r\nL 10.984375 69.390625 \r\nL 28.421875 72.90625 \r\nL 38.28125 72.90625 \r\nL 38.28125 8.296875 \r\nL 54.390625 8.296875 \r\nL 54.390625 0 \r\nL 12.40625 0 \r\nz\r\n\" id=\"DejaVuSans-49\"/>\r\n       </defs>\r\n       <use xlink:href=\"#DejaVuSans-49\"/>\r\n      </g>\r\n     </g>\r\n    </g>\r\n    <g id=\"ytick_8\">\r\n     <g id=\"line2d_13\">\r\n      <g>\r\n       <use style=\"stroke:#000000;stroke-width:0.8;\" x=\"278.3395\" xlink:href=\"#m4ef3b82c1d\" y=\"184.498681\"/>\r\n      </g>\r\n     </g>\r\n     <g id=\"text_14\">\r\n      <!-- 2 -->\r\n      <g transform=\"translate(285.3395 188.297899)scale(0.1 -0.1)\">\r\n       <use xlink:href=\"#DejaVuSans-50\"/>\r\n      </g>\r\n     </g>\r\n    </g>\r\n    <g id=\"ytick_9\">\r\n     <g id=\"line2d_14\">\r\n      <g>\r\n       <use style=\"stroke:#000000;stroke-width:0.8;\" x=\"278.3395\" xlink:href=\"#m4ef3b82c1d\" y=\"153.748021\"/>\r\n      </g>\r\n     </g>\r\n     <g id=\"text_15\">\r\n      <!-- 3 -->\r\n      <g transform=\"translate(285.3395 157.54724)scale(0.1 -0.1)\">\r\n       <defs>\r\n        <path d=\"M 40.578125 39.3125 \r\nQ 47.65625 37.796875 51.625 33 \r\nQ 55.609375 28.21875 55.609375 21.1875 \r\nQ 55.609375 10.40625 48.1875 4.484375 \r\nQ 40.765625 -1.421875 27.09375 -1.421875 \r\nQ 22.515625 -1.421875 17.65625 -0.515625 \r\nQ 12.796875 0.390625 7.625 2.203125 \r\nL 7.625 11.71875 \r\nQ 11.71875 9.328125 16.59375 8.109375 \r\nQ 21.484375 6.890625 26.8125 6.890625 \r\nQ 36.078125 6.890625 40.9375 10.546875 \r\nQ 45.796875 14.203125 45.796875 21.1875 \r\nQ 45.796875 27.640625 41.28125 31.265625 \r\nQ 36.765625 34.90625 28.71875 34.90625 \r\nL 20.21875 34.90625 \r\nL 20.21875 43.015625 \r\nL 29.109375 43.015625 \r\nQ 36.375 43.015625 40.234375 45.921875 \r\nQ 44.09375 48.828125 44.09375 54.296875 \r\nQ 44.09375 59.90625 40.109375 62.90625 \r\nQ 36.140625 65.921875 28.71875 65.921875 \r\nQ 24.65625 65.921875 20.015625 65.03125 \r\nQ 15.375 64.15625 9.8125 62.3125 \r\nL 9.8125 71.09375 \r\nQ 15.4375 72.65625 20.34375 73.4375 \r\nQ 25.25 74.21875 29.59375 74.21875 \r\nQ 40.828125 74.21875 47.359375 69.109375 \r\nQ 53.90625 64.015625 53.90625 55.328125 \r\nQ 53.90625 49.265625 50.4375 45.09375 \r\nQ 46.96875 40.921875 40.578125 39.3125 \r\nz\r\n\" id=\"DejaVuSans-51\"/>\r\n       </defs>\r\n       <use xlink:href=\"#DejaVuSans-51\"/>\r\n      </g>\r\n     </g>\r\n    </g>\r\n    <g id=\"ytick_10\">\r\n     <g id=\"line2d_15\">\r\n      <g>\r\n       <use style=\"stroke:#000000;stroke-width:0.8;\" x=\"278.3395\" xlink:href=\"#m4ef3b82c1d\" y=\"122.997361\"/>\r\n      </g>\r\n     </g>\r\n     <g id=\"text_16\">\r\n      <!-- 4 -->\r\n      <g transform=\"translate(285.3395 126.79658)scale(0.1 -0.1)\">\r\n       <use xlink:href=\"#DejaVuSans-52\"/>\r\n      </g>\r\n     </g>\r\n    </g>\r\n    <g id=\"ytick_11\">\r\n     <g id=\"line2d_16\">\r\n      <g>\r\n       <use style=\"stroke:#000000;stroke-width:0.8;\" x=\"278.3395\" xlink:href=\"#m4ef3b82c1d\" y=\"92.246701\"/>\r\n      </g>\r\n     </g>\r\n     <g id=\"text_17\">\r\n      <!-- 5 -->\r\n      <g transform=\"translate(285.3395 96.04592)scale(0.1 -0.1)\">\r\n       <defs>\r\n        <path d=\"M 10.796875 72.90625 \r\nL 49.515625 72.90625 \r\nL 49.515625 64.59375 \r\nL 19.828125 64.59375 \r\nL 19.828125 46.734375 \r\nQ 21.96875 47.46875 24.109375 47.828125 \r\nQ 26.265625 48.1875 28.421875 48.1875 \r\nQ 40.625 48.1875 47.75 41.5 \r\nQ 54.890625 34.8125 54.890625 23.390625 \r\nQ 54.890625 11.625 47.5625 5.09375 \r\nQ 40.234375 -1.421875 26.90625 -1.421875 \r\nQ 22.3125 -1.421875 17.546875 -0.640625 \r\nQ 12.796875 0.140625 7.71875 1.703125 \r\nL 7.71875 11.625 \r\nQ 12.109375 9.234375 16.796875 8.0625 \r\nQ 21.484375 6.890625 26.703125 6.890625 \r\nQ 35.15625 6.890625 40.078125 11.328125 \r\nQ 45.015625 15.765625 45.015625 23.390625 \r\nQ 45.015625 31 40.078125 35.4375 \r\nQ 35.15625 39.890625 26.703125 39.890625 \r\nQ 22.75 39.890625 18.8125 39.015625 \r\nQ 14.890625 38.140625 10.796875 36.28125 \r\nz\r\n\" id=\"DejaVuSans-53\"/>\r\n       </defs>\r\n       <use xlink:href=\"#DejaVuSans-53\"/>\r\n      </g>\r\n     </g>\r\n    </g>\r\n    <g id=\"ytick_12\">\r\n     <g id=\"line2d_17\">\r\n      <g>\r\n       <use style=\"stroke:#000000;stroke-width:0.8;\" x=\"278.3395\" xlink:href=\"#m4ef3b82c1d\" y=\"61.496042\"/>\r\n      </g>\r\n     </g>\r\n     <g id=\"text_18\">\r\n      <!-- 6 -->\r\n      <g transform=\"translate(285.3395 65.295261)scale(0.1 -0.1)\">\r\n       <use xlink:href=\"#DejaVuSans-54\"/>\r\n      </g>\r\n     </g>\r\n    </g>\r\n    <g id=\"ytick_13\">\r\n     <g id=\"line2d_18\">\r\n      <g>\r\n       <use style=\"stroke:#000000;stroke-width:0.8;\" x=\"278.3395\" xlink:href=\"#m4ef3b82c1d\" y=\"30.745382\"/>\r\n      </g>\r\n     </g>\r\n     <g id=\"text_19\">\r\n      <!-- 7 -->\r\n      <g transform=\"translate(285.3395 34.544601)scale(0.1 -0.1)\">\r\n       <defs>\r\n        <path d=\"M 8.203125 72.90625 \r\nL 55.078125 72.90625 \r\nL 55.078125 68.703125 \r\nL 28.609375 0 \r\nL 18.3125 0 \r\nL 43.21875 64.59375 \r\nL 8.203125 64.59375 \r\nz\r\n\" id=\"DejaVuSans-55\"/>\r\n       </defs>\r\n       <use xlink:href=\"#DejaVuSans-55\"/>\r\n      </g>\r\n     </g>\r\n    </g>\r\n   </g>\r\n   <g id=\"patch_8\">\r\n    <path d=\"M 267.4675 246 \r\nL 267.4675 245.150625 \r\nL 267.4675 29.409375 \r\nL 267.4675 28.56 \r\nL 278.3395 28.56 \r\nL 278.3395 29.409375 \r\nL 278.3395 245.150625 \r\nL 278.3395 246 \r\nz\r\n\" style=\"fill:none;stroke:#000000;stroke-linejoin:miter;stroke-width:0.8;\"/>\r\n   </g>\r\n  </g>\r\n </g>\r\n <defs>\r\n  <clipPath id=\"pbba1681755\">\r\n   <rect height=\"217.44\" width=\"217.44\" x=\"33.2875\" y=\"28.56\"/>\r\n  </clipPath>\r\n  <clipPath id=\"p5aebcf989c\">\r\n   <rect height=\"217.44\" width=\"10.872\" x=\"267.4675\" y=\"28.56\"/>\r\n  </clipPath>\r\n </defs>\r\n</svg>\r\n",
      "image/png": "[encoded data removed]"
     },
     "metadata": {
      "needs_background": "light"
     }
    }
   ],
   "source": [
    "import matplotlib.pyplot as pyplot\n",
    "plt.imshow(z, cmap=plt.cm.gray); plt.colorbar()\n",
    "plt.title(\"Image plot of $\\sqrt{x^2 + y^2}$ for a grid of values\")"
   ]
  },
  {
   "source": [
    "## Expressing Conditional Logic as Array Operations "
   ],
   "cell_type": "markdown",
   "metadata": {}
  },
  {
   "cell_type": "code",
   "execution_count": 106,
   "metadata": {},
   "outputs": [],
   "source": [
    "xarr = np.array([1.1, 1.2, 1.3, 1.4, 1.5])\n",
    "yarr = np.array([2.1, 2.2, 2.3, 2.4, 2.5])\n",
    "cond = np.array([True, False, True, True, False])"
   ]
  },
  {
   "cell_type": "code",
   "execution_count": 107,
   "metadata": {},
   "outputs": [
    {
     "output_type": "execute_result",
     "data": {
      "text/plain": [
       "[1.1, 2.2, 1.3, 1.4, 2.5]"
      ]
     },
     "metadata": {},
     "execution_count": 107
    }
   ],
   "source": [
    "result = [(x if c else y) \n",
    "        for x, y, c in zip(xarr, yarr, cond)]\n",
    "result"
   ]
  },
  {
   "cell_type": "code",
   "execution_count": 110,
   "metadata": {},
   "outputs": [
    {
     "output_type": "stream",
     "name": "stdout",
     "text": [
      "<zip object at 0x0000024D0692C5C0>\n(('John', 'Jenny'), ('Charles', 'Christy'), ('Mike', 'Monica'))\n"
     ]
    }
   ],
   "source": [
    "a1 = (\"John\", \"Charles\", \"Mike\")\n",
    "b1 = (\"Jenny\", \"Christy\", \"Monica\", \"Vicky\")\n",
    "lol = zip(a1, b1) \n",
    "\n",
    "print(lol) # The zip()function returns an iterator of tuples based on the iterable objects. \n",
    "print(tuple(lol))"
   ]
  },
  {
   "cell_type": "code",
   "execution_count": 111,
   "metadata": {},
   "outputs": [
    {
     "output_type": "execute_result",
     "data": {
      "text/plain": [
       "array([1.1, 2.2, 1.3, 1.4, 2.5])"
      ]
     },
     "metadata": {},
     "execution_count": 111
    }
   ],
   "source": [
    "result = np.where(cond, xarr, yarr)\n",
    "result"
   ]
  },
  {
   "cell_type": "code",
   "execution_count": 112,
   "metadata": {},
   "outputs": [
    {
     "output_type": "execute_result",
     "data": {
      "text/plain": [
       "array([[-0.21887955, -2.06580138,  0.51139187, -0.02320188],\n",
       "       [-0.4048054 ,  1.00882369,  1.27711406, -0.35660581],\n",
       "       [ 0.30849319, -1.17371575, -0.958477  ,  0.77304421],\n",
       "       [ 0.615835  ,  0.21886802,  1.06866497,  0.7479468 ]])"
      ]
     },
     "metadata": {},
     "execution_count": 112
    }
   ],
   "source": [
    "arr = np.random.randn(4, 4)\n",
    "arr"
   ]
  },
  {
   "cell_type": "code",
   "execution_count": 113,
   "metadata": {},
   "outputs": [
    {
     "output_type": "execute_result",
     "data": {
      "text/plain": [
       "array([[False, False,  True, False],\n",
       "       [False,  True,  True, False],\n",
       "       [ True, False, False,  True],\n",
       "       [ True,  True,  True,  True]])"
      ]
     },
     "metadata": {},
     "execution_count": 113
    }
   ],
   "source": [
    "arr > 0"
   ]
  },
  {
   "cell_type": "code",
   "execution_count": 114,
   "metadata": {},
   "outputs": [
    {
     "output_type": "execute_result",
     "data": {
      "text/plain": [
       "array([[-2, -2,  2, -2],\n",
       "       [-2,  2,  2, -2],\n",
       "       [ 2, -2, -2,  2],\n",
       "       [ 2,  2,  2,  2]])"
      ]
     },
     "metadata": {},
     "execution_count": 114
    }
   ],
   "source": [
    "np.where(arr > 0, 2, -2)"
   ]
  },
  {
   "cell_type": "code",
   "execution_count": 115,
   "metadata": {},
   "outputs": [
    {
     "output_type": "execute_result",
     "data": {
      "text/plain": [
       "array([[-0.21887955, -2.06580138,  2.        , -0.02320188],\n",
       "       [-0.4048054 ,  2.        ,  2.        , -0.35660581],\n",
       "       [ 2.        , -1.17371575, -0.958477  ,  2.        ],\n",
       "       [ 2.        ,  2.        ,  2.        ,  2.        ]])"
      ]
     },
     "metadata": {},
     "execution_count": 115
    }
   ],
   "source": [
    "np.where(arr > 0, 2, arr) #set only postitive values to 2"
   ]
  },
  {
   "source": [
    "## Mathematical and Statistical Methods"
   ],
   "cell_type": "markdown",
   "metadata": {}
  },
  {
   "cell_type": "code",
   "execution_count": 116,
   "metadata": {},
   "outputs": [
    {
     "output_type": "execute_result",
     "data": {
      "text/plain": [
       "array([[-0.26841294,  0.4664415 ,  0.90532865,  2.49314051],\n",
       "       [ 0.11345648,  1.13494207, -1.58929181,  0.02957015],\n",
       "       [-1.0192493 , -0.6478939 ,  0.72230035, -1.50132624],\n",
       "       [-0.69877122, -0.32197916, -0.41723424,  0.95242324],\n",
       "       [-0.80440334, -1.02632302,  1.95681452,  0.01647678]])"
      ]
     },
     "metadata": {},
     "execution_count": 116
    }
   ],
   "source": [
    "arr = np.random.randn(5, 4)\n",
    "arr"
   ]
  },
  {
   "cell_type": "code",
   "execution_count": 117,
   "metadata": {},
   "outputs": [
    {
     "output_type": "execute_result",
     "data": {
      "text/plain": [
       "0.024800454972719217"
      ]
     },
     "metadata": {},
     "execution_count": 117
    }
   ],
   "source": [
    "arr.mean()"
   ]
  },
  {
   "source": [
    "np.mean(arr)"
   ],
   "cell_type": "code",
   "metadata": {},
   "execution_count": 118,
   "outputs": [
    {
     "output_type": "execute_result",
     "data": {
      "text/plain": [
       "0.024800454972719217"
      ]
     },
     "metadata": {},
     "execution_count": 118
    }
   ]
  },
  {
   "cell_type": "code",
   "execution_count": 119,
   "metadata": {},
   "outputs": [
    {
     "output_type": "execute_result",
     "data": {
      "text/plain": [
       "0.4960090994543844"
      ]
     },
     "metadata": {},
     "execution_count": 119
    }
   ],
   "source": [
    "arr.sum()"
   ]
  },
  {
   "cell_type": "code",
   "execution_count": 120,
   "metadata": {},
   "outputs": [
    {
     "output_type": "execute_result",
     "data": {
      "text/plain": [
       "array([ 0.89912443, -0.07783078, -0.61154227, -0.12139034,  0.03564124])"
      ]
     },
     "metadata": {},
     "execution_count": 120
    }
   ],
   "source": [
    "arr.mean(axis = 1)"
   ]
  },
  {
   "cell_type": "code",
   "execution_count": 121,
   "metadata": {},
   "outputs": [
    {
     "output_type": "execute_result",
     "data": {
      "text/plain": [
       "array([-2.67738031, -0.39481252,  1.57791747,  1.99028446])"
      ]
     },
     "metadata": {},
     "execution_count": 121
    }
   ],
   "source": [
    "arr.sum(axis = 0)"
   ]
  },
  {
   "cell_type": "code",
   "execution_count": 124,
   "metadata": {},
   "outputs": [
    {
     "output_type": "execute_result",
     "data": {
      "text/plain": [
       "array([ 0,  1,  3,  6, 10, 15, 21, 28], dtype=int32)"
      ]
     },
     "metadata": {},
     "execution_count": 124
    }
   ],
   "source": [
    "arr = np.array([0, 1, 2, 3, 4, 5, 6, 7])\n",
    "arr.cumsum()"
   ]
  },
  {
   "cell_type": "code",
   "execution_count": 126,
   "metadata": {},
   "outputs": [
    {
     "output_type": "execute_result",
     "data": {
      "text/plain": [
       "array([[0, 1, 2],\n",
       "       [3, 4, 5],\n",
       "       [6, 7, 8]])"
      ]
     },
     "metadata": {},
     "execution_count": 126
    }
   ],
   "source": [
    "arr = np.array([[0,1,2], [3,4,5],[6,7,8]])\n",
    "arr"
   ]
  },
  {
   "cell_type": "code",
   "execution_count": 127,
   "metadata": {},
   "outputs": [
    {
     "output_type": "execute_result",
     "data": {
      "text/plain": [
       "array([[ 0,  1,  2],\n",
       "       [ 3,  5,  7],\n",
       "       [ 9, 12, 15]], dtype=int32)"
      ]
     },
     "metadata": {},
     "execution_count": 127
    }
   ],
   "source": [
    "arr.cumsum(axis= 0)"
   ]
  },
  {
   "cell_type": "code",
   "execution_count": 128,
   "metadata": {},
   "outputs": [
    {
     "output_type": "execute_result",
     "data": {
      "text/plain": [
       "array([[  0,   0,   0],\n",
       "       [  3,  12,  60],\n",
       "       [  6,  42, 336]], dtype=int32)"
      ]
     },
     "metadata": {},
     "execution_count": 128
    }
   ],
   "source": [
    "arr.cumprod(axis = 1)"
   ]
  },
  {
   "source": [
    "## Methods for Boolean Arrays"
   ],
   "cell_type": "markdown",
   "metadata": {}
  },
  {
   "cell_type": "code",
   "execution_count": 129,
   "metadata": {},
   "outputs": [
    {
     "output_type": "execute_result",
     "data": {
      "text/plain": [
       "array([ 0.47019698, -0.95237701, -0.76470354,  0.75423173, -0.08719746,\n",
       "       -0.01030124, -0.59901437,  0.72098314,  0.10518216,  2.28637922,\n",
       "        2.37281126,  0.17800096, -0.12752712, -0.91174568,  0.88216705,\n",
       "       -0.73799163,  0.28050657, -0.8919762 ,  1.05924332,  0.78125834,\n",
       "        0.33257813, -0.48704436,  0.2360624 , -1.73693414, -1.08486186,\n",
       "       -0.37555611,  0.3323042 , -0.32997672, -1.63924898, -0.61093941,\n",
       "        0.0523003 , -0.16985859, -0.48728716,  2.19213763, -1.72169238,\n",
       "        0.53921981, -0.36253678, -1.6991176 ,  1.11593352, -0.7063077 ,\n",
       "        0.76095965, -0.63328543, -0.56724413, -0.41294408, -0.64680974,\n",
       "        0.85014173,  0.60928596, -0.4489604 , -1.14928281,  1.13160423,\n",
       "        0.33949334, -0.17538793, -0.64036853,  0.62838183,  1.2691231 ,\n",
       "       -0.61340204, -0.07320673, -0.74468969, -1.79225297,  1.21740524,\n",
       "        0.22959824,  0.5332457 ,  0.7062132 , -0.47153506, -0.51232462,\n",
       "       -0.49978332, -0.19564702,  0.45261804,  0.34830352, -1.20846369,\n",
       "        1.86370762, -0.55319983,  0.0135375 ,  1.69699808,  0.26655181,\n",
       "        0.94448973, -1.60779403,  0.39989663, -1.87821529,  0.3829456 ,\n",
       "        0.61383973, -0.31383277, -0.42233481,  1.44356905,  0.7400884 ,\n",
       "        0.36912273,  0.38365391,  2.50277443, -0.84342145,  1.52296513,\n",
       "       -0.42048431, -1.02521397, -0.52794086,  1.18931088,  0.26363514,\n",
       "        0.43216963,  0.74432933, -1.29546664, -1.57415633,  0.43557034])"
      ]
     },
     "metadata": {},
     "execution_count": 129
    }
   ],
   "source": [
    "arr = np.random.randn(100)\n",
    "arr"
   ]
  },
  {
   "cell_type": "code",
   "execution_count": 130,
   "metadata": {},
   "outputs": [
    {
     "output_type": "execute_result",
     "data": {
      "text/plain": [
       "50"
      ]
     },
     "metadata": {},
     "execution_count": 130
    }
   ],
   "source": [
    "(arr > 0).sum()"
   ]
  },
  {
   "cell_type": "code",
   "execution_count": 131,
   "metadata": {},
   "outputs": [],
   "source": [
    "bools = np.array([False, False, True, False])"
   ]
  },
  {
   "cell_type": "code",
   "execution_count": 132,
   "metadata": {},
   "outputs": [
    {
     "output_type": "execute_result",
     "data": {
      "text/plain": [
       "True"
      ]
     },
     "metadata": {},
     "execution_count": 132
    }
   ],
   "source": [
    "bools.any()"
   ]
  },
  {
   "cell_type": "code",
   "execution_count": 133,
   "metadata": {},
   "outputs": [
    {
     "output_type": "execute_result",
     "data": {
      "text/plain": [
       "False"
      ]
     },
     "metadata": {},
     "execution_count": 133
    }
   ],
   "source": [
    "bools.all()"
   ]
  },
  {
   "source": [
    "## Sorting"
   ],
   "cell_type": "markdown",
   "metadata": {}
  },
  {
   "cell_type": "code",
   "execution_count": 134,
   "metadata": {},
   "outputs": [],
   "source": [
    "arr = np.random.randn(6)"
   ]
  },
  {
   "cell_type": "code",
   "execution_count": 135,
   "metadata": {},
   "outputs": [
    {
     "output_type": "execute_result",
     "data": {
      "text/plain": [
       "array([ 1.46957026,  0.67584229, -0.03107186, -0.39031968,  1.09259889,\n",
       "        0.40684881])"
      ]
     },
     "metadata": {},
     "execution_count": 135
    }
   ],
   "source": [
    "arr"
   ]
  },
  {
   "cell_type": "code",
   "execution_count": 137,
   "metadata": {},
   "outputs": [
    {
     "output_type": "execute_result",
     "data": {
      "text/plain": [
       "array([-0.39031968, -0.03107186,  0.40684881,  0.67584229,  1.09259889,\n",
       "        1.46957026])"
      ]
     },
     "metadata": {},
     "execution_count": 137
    }
   ],
   "source": [
    "arr.sort()\n",
    "arr"
   ]
  },
  {
   "cell_type": "code",
   "execution_count": 138,
   "metadata": {},
   "outputs": [
    {
     "output_type": "execute_result",
     "data": {
      "text/plain": [
       "array([[ 0.39408727,  0.53423047,  0.09544323],\n",
       "       [ 0.76390111,  0.10065071, -0.58759279],\n",
       "       [-0.02422802, -1.06011346, -1.84429217],\n",
       "       [ 0.63379636, -1.96439411,  0.91117839],\n",
       "       [-1.80457869, -0.63619833, -0.8922539 ]])"
      ]
     },
     "metadata": {},
     "execution_count": 138
    }
   ],
   "source": [
    "arr = np.random.randn(5, 3) \n",
    "arr"
   ]
  },
  {
   "cell_type": "code",
   "execution_count": 140,
   "metadata": {},
   "outputs": [
    {
     "output_type": "execute_result",
     "data": {
      "text/plain": [
       "array([[ 0.09544323,  0.39408727,  0.53423047],\n",
       "       [-0.58759279,  0.10065071,  0.76390111],\n",
       "       [-1.84429217, -1.06011346, -0.02422802],\n",
       "       [-1.96439411,  0.63379636,  0.91117839],\n",
       "       [-1.80457869, -0.8922539 , -0.63619833]])"
      ]
     },
     "metadata": {},
     "execution_count": 140
    }
   ],
   "source": [
    "arr.sort(1)\n",
    "arr"
   ]
  },
  {
   "cell_type": "code",
   "execution_count": 143,
   "metadata": {},
   "outputs": [
    {
     "output_type": "execute_result",
     "data": {
      "text/plain": [
       "-1.7101602334176444"
      ]
     },
     "metadata": {},
     "execution_count": 143
    }
   ],
   "source": [
    "large_arr = np.random.randn(1000)\n",
    "large_arr.sort()\n",
    "large_arr[int(0.05 * len(large_arr))]"
   ]
  },
  {
   "source": [
    "## unique and Other Set Logic "
   ],
   "cell_type": "markdown",
   "metadata": {}
  },
  {
   "cell_type": "code",
   "execution_count": 144,
   "metadata": {},
   "outputs": [],
   "source": [
    "names = np.array(['Bob', 'Joe', 'Will', 'Bob', 'Will', 'Joe', 'Joe'])"
   ]
  },
  {
   "cell_type": "code",
   "execution_count": 145,
   "metadata": {},
   "outputs": [
    {
     "output_type": "execute_result",
     "data": {
      "text/plain": [
       "array(['Bob', 'Joe', 'Will'], dtype='<U4')"
      ]
     },
     "metadata": {},
     "execution_count": 145
    }
   ],
   "source": [
    "np.unique(names)"
   ]
  },
  {
   "cell_type": "code",
   "execution_count": 147,
   "metadata": {},
   "outputs": [],
   "source": [
    "ints = np.array([3, 3, 3, 2, 2, 1, 1, 4, 4])"
   ]
  },
  {
   "cell_type": "code",
   "execution_count": 148,
   "metadata": {},
   "outputs": [
    {
     "output_type": "execute_result",
     "data": {
      "text/plain": [
       "array([1, 2, 3, 4])"
      ]
     },
     "metadata": {},
     "execution_count": 148
    }
   ],
   "source": [
    "np.unique(ints)"
   ]
  },
  {
   "cell_type": "code",
   "execution_count": 149,
   "metadata": {},
   "outputs": [
    {
     "output_type": "execute_result",
     "data": {
      "text/plain": [
       "['Bob', 'Joe', 'Will']"
      ]
     },
     "metadata": {},
     "execution_count": 149
    }
   ],
   "source": [
    "sorted(set(names))"
   ]
  },
  {
   "cell_type": "code",
   "execution_count": 150,
   "metadata": {},
   "outputs": [],
   "source": [
    "values = np.array([6, 0, 0, 3, 2, 5, 6])"
   ]
  },
  {
   "cell_type": "code",
   "execution_count": 151,
   "metadata": {},
   "outputs": [
    {
     "output_type": "execute_result",
     "data": {
      "text/plain": [
       "array([ True, False, False,  True,  True, False,  True])"
      ]
     },
     "metadata": {},
     "execution_count": 151
    }
   ],
   "source": [
    "np.in1d(values, [2,3,6])"
   ]
  },
  {
   "cell_type": "code",
   "execution_count": 152,
   "metadata": {},
   "outputs": [
    {
     "output_type": "execute_result",
     "data": {
      "text/plain": [
       "array([0, 1, 2, 3, 5, 6])"
      ]
     },
     "metadata": {},
     "execution_count": 152
    }
   ],
   "source": [
    "np.union1d(values, [1,2,3])"
   ]
  },
  {
   "source": [
    "## File Input and Output with Arrays   "
   ],
   "cell_type": "markdown",
   "metadata": {}
  },
  {
   "cell_type": "code",
   "execution_count": 153,
   "metadata": {},
   "outputs": [],
   "source": [
    "arr = np.arange(10)"
   ]
  },
  {
   "cell_type": "code",
   "execution_count": 154,
   "metadata": {},
   "outputs": [],
   "source": [
    "np.save('some_array', arr)"
   ]
  },
  {
   "cell_type": "code",
   "execution_count": 155,
   "metadata": {},
   "outputs": [
    {
     "output_type": "execute_result",
     "data": {
      "text/plain": [
       "array([0, 1, 2, 3, 4, 5, 6, 7, 8, 9])"
      ]
     },
     "metadata": {},
     "execution_count": 155
    }
   ],
   "source": [
    "np.load('some_array.npy')"
   ]
  },
  {
   "cell_type": "code",
   "execution_count": 156,
   "metadata": {},
   "outputs": [],
   "source": [
    "np.savez('array_archive.npz', a=arr, b=arr)"
   ]
  },
  {
   "cell_type": "code",
   "execution_count": 158,
   "metadata": {},
   "outputs": [
    {
     "output_type": "execute_result",
     "data": {
      "text/plain": [
       "array([0, 1, 2, 3, 4, 5, 6, 7, 8, 9])"
      ]
     },
     "metadata": {},
     "execution_count": 158
    }
   ],
   "source": [
    "arch = np.load('array_archive.npz')\n",
    "arch['b']"
   ]
  },
  {
   "cell_type": "code",
   "execution_count": 167,
   "metadata": {},
   "outputs": [
    {
     "output_type": "execute_result",
     "data": {
      "text/plain": [
       "array([0, 1, 2, 3, 4, 5, 6, 7, 8, 9])"
      ]
     },
     "metadata": {},
     "execution_count": 167
    }
   ],
   "source": [
    "np.savez_compressed('arrays__compressed.npz', a=arr, b=arr)\n",
    "arrays = np.load('arrays__compressed.npz')\n",
    "arrays['b']"
   ]
  },
  {
   "source": [
    "## Linear Algebra "
   ],
   "cell_type": "markdown",
   "metadata": {}
  },
  {
   "cell_type": "code",
   "execution_count": 168,
   "metadata": {},
   "outputs": [],
   "source": [
    "x = np.array([[1., 2., 3.], [4., 5., 6.]]) \n",
    "y = np.array([[6., 23.], [-1, 7], [8, 9]]) "
   ]
  },
  {
   "cell_type": "code",
   "execution_count": 169,
   "metadata": {},
   "outputs": [
    {
     "output_type": "execute_result",
     "data": {
      "text/plain": [
       "array([[1., 2., 3.],\n",
       "       [4., 5., 6.]])"
      ]
     },
     "metadata": {},
     "execution_count": 169
    }
   ],
   "source": [
    "x"
   ]
  },
  {
   "cell_type": "code",
   "execution_count": 170,
   "metadata": {},
   "outputs": [
    {
     "output_type": "execute_result",
     "data": {
      "text/plain": [
       "array([[ 6., 23.],\n",
       "       [-1.,  7.],\n",
       "       [ 8.,  9.]])"
      ]
     },
     "metadata": {},
     "execution_count": 170
    }
   ],
   "source": [
    "y"
   ]
  },
  {
   "cell_type": "code",
   "execution_count": 171,
   "metadata": {},
   "outputs": [
    {
     "output_type": "execute_result",
     "data": {
      "text/plain": [
       "array([[ 28.,  64.],\n",
       "       [ 67., 181.]])"
      ]
     },
     "metadata": {},
     "execution_count": 171
    }
   ],
   "source": [
    "x.dot(y)"
   ]
  },
  {
   "cell_type": "code",
   "execution_count": 172,
   "metadata": {},
   "outputs": [
    {
     "output_type": "execute_result",
     "data": {
      "text/plain": [
       "array([[ 28.,  64.],\n",
       "       [ 67., 181.]])"
      ]
     },
     "metadata": {},
     "execution_count": 172
    }
   ],
   "source": [
    "np.dot(x, y)"
   ]
  },
  {
   "cell_type": "code",
   "execution_count": 173,
   "metadata": {},
   "outputs": [
    {
     "output_type": "execute_result",
     "data": {
      "text/plain": [
       "array([ 6., 15.])"
      ]
     },
     "metadata": {},
     "execution_count": 173
    }
   ],
   "source": [
    "np.dot(x, np.ones(3))"
   ]
  },
  {
   "cell_type": "code",
   "execution_count": 174,
   "metadata": {},
   "outputs": [
    {
     "output_type": "execute_result",
     "data": {
      "text/plain": [
       "array([ 6., 15.])"
      ]
     },
     "metadata": {},
     "execution_count": 174
    }
   ],
   "source": [
    "x @ np.ones(3)"
   ]
  },
  {
   "cell_type": "code",
   "execution_count": 176,
   "metadata": {},
   "outputs": [
    {
     "output_type": "execute_result",
     "data": {
      "text/plain": [
       "array([[  1.96034304,  -6.60714604,   0.6047811 ,  -1.72421239,\n",
       "          2.55346288],\n",
       "       [ -6.60714604,  25.80039431,  -2.62677384,   6.65986452,\n",
       "        -10.09664197],\n",
       "       [  0.6047811 ,  -2.62677384,   0.67610167,  -0.51896967,\n",
       "          0.92059923],\n",
       "       [ -1.72421239,   6.65986452,  -0.51896967,   1.88350652,\n",
       "         -2.64577741],\n",
       "       [  2.55346288, -10.09664197,   0.92059923,  -2.64577741,\n",
       "          4.10921187]])"
      ]
     },
     "metadata": {},
     "execution_count": 176
    }
   ],
   "source": [
    "from numpy.linalg import inv,qr\n",
    "\n",
    "X = np.random.randn(5,5)\n",
    "mat = X.T.dot(X)\n",
    "\n",
    "inv(mat)"
   ]
  },
  {
   "cell_type": "code",
   "execution_count": 177,
   "metadata": {},
   "outputs": [
    {
     "output_type": "execute_result",
     "data": {
      "text/plain": [
       "array([[ 1.00000000e+00, -5.16152040e-16,  4.36822557e-17,\n",
       "         1.42401746e-16,  1.08026813e-16],\n",
       "       [-2.70280723e-15,  1.00000000e+00, -1.80530159e-16,\n",
       "         3.85887178e-15, -2.67519193e-15],\n",
       "       [ 4.90912947e-16, -5.42002525e-15,  1.00000000e+00,\n",
       "         3.06050448e-15,  2.46954312e-15],\n",
       "       [ 4.45120904e-15, -2.42782527e-14,  2.58755974e-16,\n",
       "         1.00000000e+00,  8.60138618e-15],\n",
       "       [ 2.87252902e-15,  5.59963878e-16,  1.09341121e-15,\n",
       "         1.64275504e-15,  1.00000000e+00]])"
      ]
     },
     "metadata": {},
     "execution_count": 177
    }
   ],
   "source": [
    "mat.dot(inv(mat))"
   ]
  },
  {
   "cell_type": "code",
   "execution_count": 179,
   "metadata": {},
   "outputs": [
    {
     "output_type": "execute_result",
     "data": {
      "text/plain": [
       "array([[-5.09288255, -5.04210244, -4.44709866,  3.25036844, -6.21292087],\n",
       "       [ 0.        , -4.77499197, -5.41562473,  7.88102004, -5.56761601],\n",
       "       [ 0.        ,  0.        , -2.57755774,  4.27033243,  3.47557681],\n",
       "       [ 0.        ,  0.        ,  0.        , -5.5389197 , -3.65855786],\n",
       "       [ 0.        ,  0.        ,  0.        ,  0.        ,  0.0866473 ]])"
      ]
     },
     "metadata": {},
     "execution_count": 179
    }
   ],
   "source": [
    "q,r = qr(mat)\n",
    "r"
   ]
  },
  {
   "source": [
    "## Pseudorandom Number Generation"
   ],
   "cell_type": "markdown",
   "metadata": {}
  },
  {
   "cell_type": "code",
   "execution_count": 186,
   "metadata": {},
   "outputs": [
    {
     "output_type": "execute_result",
     "data": {
      "text/plain": [
       "array([[-0.2329879 ,  0.70650664, -1.80243514,  2.20453072],\n",
       "       [ 1.78119832, -0.58257874,  0.13574131,  0.21711705],\n",
       "       [ 0.63077906, -1.93338322, -0.9733824 , -0.20905147],\n",
       "       [-0.05573006,  0.49866892,  0.31501914, -1.01179922]])"
      ]
     },
     "metadata": {},
     "execution_count": 186
    }
   ],
   "source": [
    "samples = np.random.normal(size = (4, 4))\r\n",
    "samples"
   ]
  },
  {
   "cell_type": "code",
   "execution_count": 187,
   "metadata": {},
   "outputs": [
    {
     "output_type": "stream",
     "name": "stdout",
     "text": [
      "957 ms ± 14.7 ms per loop (mean ± std. dev. of 7 runs, 1 loop each)\n"
     ]
    }
   ],
   "source": [
    "from random import normalvariate\n",
    "\n",
    "N= 1000000\n",
    "%timeit samples = [normalvariate(0,1) for _ in range(N)]"
   ]
  },
  {
   "cell_type": "code",
   "execution_count": 188,
   "metadata": {},
   "outputs": [
    {
     "output_type": "stream",
     "name": "stdout",
     "text": [
      "30.4 ms ± 1.69 ms per loop (mean ± std. dev. of 7 runs, 10 loops each)\n"
     ]
    }
   ],
   "source": [
    "%timeit np.random.normal(size = N)"
   ]
  },
  {
   "cell_type": "code",
   "execution_count": 189,
   "metadata": {},
   "outputs": [],
   "source": [
    "np.random.seed(1234)"
   ]
  },
  {
   "cell_type": "code",
   "execution_count": 191,
   "metadata": {},
   "outputs": [
    {
     "output_type": "execute_result",
     "data": {
      "text/plain": [
       "array([ 0.47143516, -1.19097569,  1.43270697, -0.3126519 , -0.72058873,\n",
       "        0.88716294,  0.85958841, -0.6365235 ,  0.01569637, -2.24268495])"
      ]
     },
     "metadata": {},
     "execution_count": 191
    }
   ],
   "source": [
    "rng = np.random.RandomState(1234)\n",
    "rng.randn(10)"
   ]
  },
  {
   "cell_type": "code",
   "execution_count": null,
   "metadata": {},
   "outputs": [],
   "source": []
  },
  {
   "source": [
    "## Random Walks"
   ],
   "cell_type": "markdown",
   "metadata": {}
  },
  {
   "cell_type": "code",
   "execution_count": 195,
   "metadata": {},
   "outputs": [
    {
     "output_type": "execute_result",
     "data": {
      "text/plain": [
       "[<matplotlib.lines.Line2D at 0x24d094b41c0>]"
      ]
     },
     "metadata": {},
     "execution_count": 195
    },
    {
     "output_type": "display_data",
     "data": {
      "text/plain": "<Figure size 432x288 with 1 Axes>",
      "image/svg+xml": "<?xml version=\"1.0\" encoding=\"utf-8\" standalone=\"no\"?>\r\n<!DOCTYPE svg PUBLIC \"-//W3C//DTD SVG 1.1//EN\"\r\n  \"http://www.w3.org/Graphics/SVG/1.1/DTD/svg11.dtd\">\r\n<!-- Created with matplotlib (https://matplotlib.org/) -->\r\n<svg height=\"248.518125pt\" version=\"1.1\" viewBox=\"0 0 368.925 248.518125\" width=\"368.925pt\" xmlns=\"http://www.w3.org/2000/svg\" xmlns:xlink=\"http://www.w3.org/1999/xlink\">\r\n <metadata>\r\n  <rdf:RDF xmlns:cc=\"http://creativecommons.org/ns#\" xmlns:dc=\"http://purl.org/dc/elements/1.1/\" xmlns:rdf=\"http://www.w3.org/1999/02/22-rdf-syntax-ns#\">\r\n   <cc:Work>\r\n    <dc:type rdf:resource=\"http://purl.org/dc/dcmitype/StillImage\"/>\r\n    <dc:date>2020-12-31T16:45:21.333162</dc:date>\r\n    <dc:format>image/svg+xml</dc:format>\r\n    <dc:creator>\r\n     <cc:Agent>\r\n      <dc:title>Matplotlib v3.3.3, https://matplotlib.org/</dc:title>\r\n     </cc:Agent>\r\n    </dc:creator>\r\n   </cc:Work>\r\n  </rdf:RDF>\r\n </metadata>\r\n <defs>\r\n  <style type=\"text/css\">*{stroke-linecap:butt;stroke-linejoin:round;}</style>\r\n </defs>\r\n <g id=\"figure_1\">\r\n  <g id=\"patch_1\">\r\n   <path d=\"M -0 248.518125 \r\nL 368.925 248.518125 \r\nL 368.925 0 \r\nL -0 0 \r\nz\r\n\" style=\"fill:none;\"/>\r\n  </g>\r\n  <g id=\"axes_1\">\r\n   <g id=\"patch_2\">\r\n    <path d=\"M 26.925 224.64 \r\nL 361.725 224.64 \r\nL 361.725 7.2 \r\nL 26.925 7.2 \r\nz\r\n\" style=\"fill:#ffffff;\"/>\r\n   </g>\r\n   <g id=\"matplotlib.axis_1\">\r\n    <g id=\"xtick_1\">\r\n     <g id=\"line2d_1\">\r\n      <defs>\r\n       <path d=\"M 0 0 \r\nL 0 3.5 \r\n\" id=\"m02738d5abc\" style=\"stroke:#000000;stroke-width:0.8;\"/>\r\n      </defs>\r\n      <g>\r\n       <use style=\"stroke:#000000;stroke-width:0.8;\" x=\"42.143182\" xlink:href=\"#m02738d5abc\" y=\"224.64\"/>\r\n      </g>\r\n     </g>\r\n     <g id=\"text_1\">\r\n      <!-- 0 -->\r\n      <g transform=\"translate(38.961932 239.238437)scale(0.1 -0.1)\">\r\n       <defs>\r\n        <path d=\"M 31.78125 66.40625 \r\nQ 24.171875 66.40625 20.328125 58.90625 \r\nQ 16.5 51.421875 16.5 36.375 \r\nQ 16.5 21.390625 20.328125 13.890625 \r\nQ 24.171875 6.390625 31.78125 6.390625 \r\nQ 39.453125 6.390625 43.28125 13.890625 \r\nQ 47.125 21.390625 47.125 36.375 \r\nQ 47.125 51.421875 43.28125 58.90625 \r\nQ 39.453125 66.40625 31.78125 66.40625 \r\nz\r\nM 31.78125 74.21875 \r\nQ 44.046875 74.21875 50.515625 64.515625 \r\nQ 56.984375 54.828125 56.984375 36.375 \r\nQ 56.984375 17.96875 50.515625 8.265625 \r\nQ 44.046875 -1.421875 31.78125 -1.421875 \r\nQ 19.53125 -1.421875 13.0625 8.265625 \r\nQ 6.59375 17.96875 6.59375 36.375 \r\nQ 6.59375 54.828125 13.0625 64.515625 \r\nQ 19.53125 74.21875 31.78125 74.21875 \r\nz\r\n\" id=\"DejaVuSans-48\"/>\r\n       </defs>\r\n       <use xlink:href=\"#DejaVuSans-48\"/>\r\n      </g>\r\n     </g>\r\n    </g>\r\n    <g id=\"xtick_2\">\r\n     <g id=\"line2d_2\">\r\n      <g>\r\n       <use style=\"stroke:#000000;stroke-width:0.8;\" x=\"103.630785\" xlink:href=\"#m02738d5abc\" y=\"224.64\"/>\r\n      </g>\r\n     </g>\r\n     <g id=\"text_2\">\r\n      <!-- 20 -->\r\n      <g transform=\"translate(97.268285 239.238437)scale(0.1 -0.1)\">\r\n       <defs>\r\n        <path d=\"M 19.1875 8.296875 \r\nL 53.609375 8.296875 \r\nL 53.609375 0 \r\nL 7.328125 0 \r\nL 7.328125 8.296875 \r\nQ 12.9375 14.109375 22.625 23.890625 \r\nQ 32.328125 33.6875 34.8125 36.53125 \r\nQ 39.546875 41.84375 41.421875 45.53125 \r\nQ 43.3125 49.21875 43.3125 52.78125 \r\nQ 43.3125 58.59375 39.234375 62.25 \r\nQ 35.15625 65.921875 28.609375 65.921875 \r\nQ 23.96875 65.921875 18.8125 64.3125 \r\nQ 13.671875 62.703125 7.8125 59.421875 \r\nL 7.8125 69.390625 \r\nQ 13.765625 71.78125 18.9375 73 \r\nQ 24.125 74.21875 28.421875 74.21875 \r\nQ 39.75 74.21875 46.484375 68.546875 \r\nQ 53.21875 62.890625 53.21875 53.421875 \r\nQ 53.21875 48.921875 51.53125 44.890625 \r\nQ 49.859375 40.875 45.40625 35.40625 \r\nQ 44.1875 33.984375 37.640625 27.21875 \r\nQ 31.109375 20.453125 19.1875 8.296875 \r\nz\r\n\" id=\"DejaVuSans-50\"/>\r\n       </defs>\r\n       <use xlink:href=\"#DejaVuSans-50\"/>\r\n       <use x=\"63.623047\" xlink:href=\"#DejaVuSans-48\"/>\r\n      </g>\r\n     </g>\r\n    </g>\r\n    <g id=\"xtick_3\">\r\n     <g id=\"line2d_3\">\r\n      <g>\r\n       <use style=\"stroke:#000000;stroke-width:0.8;\" x=\"165.118388\" xlink:href=\"#m02738d5abc\" y=\"224.64\"/>\r\n      </g>\r\n     </g>\r\n     <g id=\"text_3\">\r\n      <!-- 40 -->\r\n      <g transform=\"translate(158.755888 239.238437)scale(0.1 -0.1)\">\r\n       <defs>\r\n        <path d=\"M 37.796875 64.3125 \r\nL 12.890625 25.390625 \r\nL 37.796875 25.390625 \r\nz\r\nM 35.203125 72.90625 \r\nL 47.609375 72.90625 \r\nL 47.609375 25.390625 \r\nL 58.015625 25.390625 \r\nL 58.015625 17.1875 \r\nL 47.609375 17.1875 \r\nL 47.609375 0 \r\nL 37.796875 0 \r\nL 37.796875 17.1875 \r\nL 4.890625 17.1875 \r\nL 4.890625 26.703125 \r\nz\r\n\" id=\"DejaVuSans-52\"/>\r\n       </defs>\r\n       <use xlink:href=\"#DejaVuSans-52\"/>\r\n       <use x=\"63.623047\" xlink:href=\"#DejaVuSans-48\"/>\r\n      </g>\r\n     </g>\r\n    </g>\r\n    <g id=\"xtick_4\">\r\n     <g id=\"line2d_4\">\r\n      <g>\r\n       <use style=\"stroke:#000000;stroke-width:0.8;\" x=\"226.605992\" xlink:href=\"#m02738d5abc\" y=\"224.64\"/>\r\n      </g>\r\n     </g>\r\n     <g id=\"text_4\">\r\n      <!-- 60 -->\r\n      <g transform=\"translate(220.243492 239.238437)scale(0.1 -0.1)\">\r\n       <defs>\r\n        <path d=\"M 33.015625 40.375 \r\nQ 26.375 40.375 22.484375 35.828125 \r\nQ 18.609375 31.296875 18.609375 23.390625 \r\nQ 18.609375 15.53125 22.484375 10.953125 \r\nQ 26.375 6.390625 33.015625 6.390625 \r\nQ 39.65625 6.390625 43.53125 10.953125 \r\nQ 47.40625 15.53125 47.40625 23.390625 \r\nQ 47.40625 31.296875 43.53125 35.828125 \r\nQ 39.65625 40.375 33.015625 40.375 \r\nz\r\nM 52.59375 71.296875 \r\nL 52.59375 62.3125 \r\nQ 48.875 64.0625 45.09375 64.984375 \r\nQ 41.3125 65.921875 37.59375 65.921875 \r\nQ 27.828125 65.921875 22.671875 59.328125 \r\nQ 17.53125 52.734375 16.796875 39.40625 \r\nQ 19.671875 43.65625 24.015625 45.921875 \r\nQ 28.375 48.1875 33.59375 48.1875 \r\nQ 44.578125 48.1875 50.953125 41.515625 \r\nQ 57.328125 34.859375 57.328125 23.390625 \r\nQ 57.328125 12.15625 50.6875 5.359375 \r\nQ 44.046875 -1.421875 33.015625 -1.421875 \r\nQ 20.359375 -1.421875 13.671875 8.265625 \r\nQ 6.984375 17.96875 6.984375 36.375 \r\nQ 6.984375 53.65625 15.1875 63.9375 \r\nQ 23.390625 74.21875 37.203125 74.21875 \r\nQ 40.921875 74.21875 44.703125 73.484375 \r\nQ 48.484375 72.75 52.59375 71.296875 \r\nz\r\n\" id=\"DejaVuSans-54\"/>\r\n       </defs>\r\n       <use xlink:href=\"#DejaVuSans-54\"/>\r\n       <use x=\"63.623047\" xlink:href=\"#DejaVuSans-48\"/>\r\n      </g>\r\n     </g>\r\n    </g>\r\n    <g id=\"xtick_5\">\r\n     <g id=\"line2d_5\">\r\n      <g>\r\n       <use style=\"stroke:#000000;stroke-width:0.8;\" x=\"288.093595\" xlink:href=\"#m02738d5abc\" y=\"224.64\"/>\r\n      </g>\r\n     </g>\r\n     <g id=\"text_5\">\r\n      <!-- 80 -->\r\n      <g transform=\"translate(281.731095 239.238437)scale(0.1 -0.1)\">\r\n       <defs>\r\n        <path d=\"M 31.78125 34.625 \r\nQ 24.75 34.625 20.71875 30.859375 \r\nQ 16.703125 27.09375 16.703125 20.515625 \r\nQ 16.703125 13.921875 20.71875 10.15625 \r\nQ 24.75 6.390625 31.78125 6.390625 \r\nQ 38.8125 6.390625 42.859375 10.171875 \r\nQ 46.921875 13.96875 46.921875 20.515625 \r\nQ 46.921875 27.09375 42.890625 30.859375 \r\nQ 38.875 34.625 31.78125 34.625 \r\nz\r\nM 21.921875 38.8125 \r\nQ 15.578125 40.375 12.03125 44.71875 \r\nQ 8.5 49.078125 8.5 55.328125 \r\nQ 8.5 64.0625 14.71875 69.140625 \r\nQ 20.953125 74.21875 31.78125 74.21875 \r\nQ 42.671875 74.21875 48.875 69.140625 \r\nQ 55.078125 64.0625 55.078125 55.328125 \r\nQ 55.078125 49.078125 51.53125 44.71875 \r\nQ 48 40.375 41.703125 38.8125 \r\nQ 48.828125 37.15625 52.796875 32.3125 \r\nQ 56.78125 27.484375 56.78125 20.515625 \r\nQ 56.78125 9.90625 50.3125 4.234375 \r\nQ 43.84375 -1.421875 31.78125 -1.421875 \r\nQ 19.734375 -1.421875 13.25 4.234375 \r\nQ 6.78125 9.90625 6.78125 20.515625 \r\nQ 6.78125 27.484375 10.78125 32.3125 \r\nQ 14.796875 37.15625 21.921875 38.8125 \r\nz\r\nM 18.3125 54.390625 \r\nQ 18.3125 48.734375 21.84375 45.5625 \r\nQ 25.390625 42.390625 31.78125 42.390625 \r\nQ 38.140625 42.390625 41.71875 45.5625 \r\nQ 45.3125 48.734375 45.3125 54.390625 \r\nQ 45.3125 60.0625 41.71875 63.234375 \r\nQ 38.140625 66.40625 31.78125 66.40625 \r\nQ 25.390625 66.40625 21.84375 63.234375 \r\nQ 18.3125 60.0625 18.3125 54.390625 \r\nz\r\n\" id=\"DejaVuSans-56\"/>\r\n       </defs>\r\n       <use xlink:href=\"#DejaVuSans-56\"/>\r\n       <use x=\"63.623047\" xlink:href=\"#DejaVuSans-48\"/>\r\n      </g>\r\n     </g>\r\n    </g>\r\n    <g id=\"xtick_6\">\r\n     <g id=\"line2d_6\">\r\n      <g>\r\n       <use style=\"stroke:#000000;stroke-width:0.8;\" x=\"349.581198\" xlink:href=\"#m02738d5abc\" y=\"224.64\"/>\r\n      </g>\r\n     </g>\r\n     <g id=\"text_6\">\r\n      <!-- 100 -->\r\n      <g transform=\"translate(340.037448 239.238437)scale(0.1 -0.1)\">\r\n       <defs>\r\n        <path d=\"M 12.40625 8.296875 \r\nL 28.515625 8.296875 \r\nL 28.515625 63.921875 \r\nL 10.984375 60.40625 \r\nL 10.984375 69.390625 \r\nL 28.421875 72.90625 \r\nL 38.28125 72.90625 \r\nL 38.28125 8.296875 \r\nL 54.390625 8.296875 \r\nL 54.390625 0 \r\nL 12.40625 0 \r\nz\r\n\" id=\"DejaVuSans-49\"/>\r\n       </defs>\r\n       <use xlink:href=\"#DejaVuSans-49\"/>\r\n       <use x=\"63.623047\" xlink:href=\"#DejaVuSans-48\"/>\r\n       <use x=\"127.246094\" xlink:href=\"#DejaVuSans-48\"/>\r\n      </g>\r\n     </g>\r\n    </g>\r\n   </g>\r\n   <g id=\"matplotlib.axis_2\">\r\n    <g id=\"ytick_1\">\r\n     <g id=\"line2d_7\">\r\n      <defs>\r\n       <path d=\"M 0 0 \r\nL -3.5 0 \r\n\" id=\"m4071e3a3d9\" style=\"stroke:#000000;stroke-width:0.8;\"/>\r\n      </defs>\r\n      <g>\r\n       <use style=\"stroke:#000000;stroke-width:0.8;\" x=\"26.925\" xlink:href=\"#m4071e3a3d9\" y=\"214.756364\"/>\r\n      </g>\r\n     </g>\r\n     <g id=\"text_7\">\r\n      <!-- 0 -->\r\n      <g transform=\"translate(13.5625 218.555582)scale(0.1 -0.1)\">\r\n       <use xlink:href=\"#DejaVuSans-48\"/>\r\n      </g>\r\n     </g>\r\n    </g>\r\n    <g id=\"ytick_2\">\r\n     <g id=\"line2d_8\">\r\n      <g>\r\n       <use style=\"stroke:#000000;stroke-width:0.8;\" x=\"26.925\" xlink:href=\"#m4071e3a3d9\" y=\"178.815868\"/>\r\n      </g>\r\n     </g>\r\n     <g id=\"text_8\">\r\n      <!-- 2 -->\r\n      <g transform=\"translate(13.5625 182.615087)scale(0.1 -0.1)\">\r\n       <use xlink:href=\"#DejaVuSans-50\"/>\r\n      </g>\r\n     </g>\r\n    </g>\r\n    <g id=\"ytick_3\">\r\n     <g id=\"line2d_9\">\r\n      <g>\r\n       <use style=\"stroke:#000000;stroke-width:0.8;\" x=\"26.925\" xlink:href=\"#m4071e3a3d9\" y=\"142.875372\"/>\r\n      </g>\r\n     </g>\r\n     <g id=\"text_9\">\r\n      <!-- 4 -->\r\n      <g transform=\"translate(13.5625 146.674591)scale(0.1 -0.1)\">\r\n       <use xlink:href=\"#DejaVuSans-52\"/>\r\n      </g>\r\n     </g>\r\n    </g>\r\n    <g id=\"ytick_4\">\r\n     <g id=\"line2d_10\">\r\n      <g>\r\n       <use style=\"stroke:#000000;stroke-width:0.8;\" x=\"26.925\" xlink:href=\"#m4071e3a3d9\" y=\"106.934876\"/>\r\n      </g>\r\n     </g>\r\n     <g id=\"text_10\">\r\n      <!-- 6 -->\r\n      <g transform=\"translate(13.5625 110.734095)scale(0.1 -0.1)\">\r\n       <use xlink:href=\"#DejaVuSans-54\"/>\r\n      </g>\r\n     </g>\r\n    </g>\r\n    <g id=\"ytick_5\">\r\n     <g id=\"line2d_11\">\r\n      <g>\r\n       <use style=\"stroke:#000000;stroke-width:0.8;\" x=\"26.925\" xlink:href=\"#m4071e3a3d9\" y=\"70.99438\"/>\r\n      </g>\r\n     </g>\r\n     <g id=\"text_11\">\r\n      <!-- 8 -->\r\n      <g transform=\"translate(13.5625 74.793599)scale(0.1 -0.1)\">\r\n       <use xlink:href=\"#DejaVuSans-56\"/>\r\n      </g>\r\n     </g>\r\n    </g>\r\n    <g id=\"ytick_6\">\r\n     <g id=\"line2d_12\">\r\n      <g>\r\n       <use style=\"stroke:#000000;stroke-width:0.8;\" x=\"26.925\" xlink:href=\"#m4071e3a3d9\" y=\"35.053884\"/>\r\n      </g>\r\n     </g>\r\n     <g id=\"text_12\">\r\n      <!-- 10 -->\r\n      <g transform=\"translate(7.2 38.853103)scale(0.1 -0.1)\">\r\n       <use xlink:href=\"#DejaVuSans-49\"/>\r\n       <use x=\"63.623047\" xlink:href=\"#DejaVuSans-48\"/>\r\n      </g>\r\n     </g>\r\n    </g>\r\n   </g>\r\n   <g id=\"line2d_13\">\r\n    <path clip-path=\"url(#pd18e35d275)\" d=\"M 42.143182 214.756364 \r\nL 45.217562 196.786116 \r\nL 48.291942 214.756364 \r\nL 51.366322 196.786116 \r\nL 54.440702 214.756364 \r\nL 57.515083 196.786116 \r\nL 60.589463 178.815868 \r\nL 63.663843 160.84562 \r\nL 66.738223 142.875372 \r\nL 69.812603 124.905124 \r\nL 72.886983 106.934876 \r\nL 75.961364 88.964628 \r\nL 79.035744 70.99438 \r\nL 82.110124 88.964628 \r\nL 85.184504 70.99438 \r\nL 88.258884 53.024132 \r\nL 91.333264 70.99438 \r\nL 94.407645 53.024132 \r\nL 97.482025 70.99438 \r\nL 100.556405 53.024132 \r\nL 103.630785 70.99438 \r\nL 106.705165 88.964628 \r\nL 109.779545 106.934876 \r\nL 112.853926 124.905124 \r\nL 115.928306 142.875372 \r\nL 119.002686 124.905124 \r\nL 122.077066 106.934876 \r\nL 125.151446 124.905124 \r\nL 128.225826 106.934876 \r\nL 131.300207 124.905124 \r\nL 134.374587 142.875372 \r\nL 137.448967 160.84562 \r\nL 140.523347 178.815868 \r\nL 143.597727 196.786116 \r\nL 146.672107 178.815868 \r\nL 149.746488 160.84562 \r\nL 152.820868 142.875372 \r\nL 155.895248 124.905124 \r\nL 158.969628 106.934876 \r\nL 162.044008 124.905124 \r\nL 165.118388 142.875372 \r\nL 168.192769 124.905124 \r\nL 171.267149 106.934876 \r\nL 174.341529 88.964628 \r\nL 177.415909 70.99438 \r\nL 180.490289 88.964628 \r\nL 183.564669 106.934876 \r\nL 186.63905 124.905124 \r\nL 189.71343 106.934876 \r\nL 192.78781 124.905124 \r\nL 195.86219 106.934876 \r\nL 198.93657 88.964628 \r\nL 202.01095 106.934876 \r\nL 205.085331 88.964628 \r\nL 208.159711 70.99438 \r\nL 211.234091 53.024132 \r\nL 214.308471 70.99438 \r\nL 217.382851 53.024132 \r\nL 220.457231 70.99438 \r\nL 223.531612 88.964628 \r\nL 226.605992 70.99438 \r\nL 229.680372 88.964628 \r\nL 232.754752 70.99438 \r\nL 235.829132 88.964628 \r\nL 238.903512 106.934876 \r\nL 241.977893 124.905124 \r\nL 245.052273 142.875372 \r\nL 248.126653 160.84562 \r\nL 251.201033 142.875372 \r\nL 254.275413 160.84562 \r\nL 257.349793 142.875372 \r\nL 260.424174 160.84562 \r\nL 263.498554 178.815868 \r\nL 266.572934 160.84562 \r\nL 269.647314 142.875372 \r\nL 272.721694 124.905124 \r\nL 275.796074 106.934876 \r\nL 278.870455 124.905124 \r\nL 281.944835 142.875372 \r\nL 285.019215 160.84562 \r\nL 288.093595 178.815868 \r\nL 291.167975 160.84562 \r\nL 294.242355 142.875372 \r\nL 297.316736 124.905124 \r\nL 300.391116 142.875372 \r\nL 303.465496 124.905124 \r\nL 306.539876 106.934876 \r\nL 309.614256 124.905124 \r\nL 312.688636 106.934876 \r\nL 315.763017 88.964628 \r\nL 318.837397 106.934876 \r\nL 321.911777 88.964628 \r\nL 324.986157 70.99438 \r\nL 328.060537 53.024132 \r\nL 331.134917 70.99438 \r\nL 334.209298 53.024132 \r\nL 337.283678 70.99438 \r\nL 340.358058 53.024132 \r\nL 343.432438 35.053884 \r\nL 346.506818 17.083636 \r\n\" style=\"fill:none;stroke:#1f77b4;stroke-linecap:square;stroke-width:1.5;\"/>\r\n   </g>\r\n   <g id=\"patch_3\">\r\n    <path d=\"M 26.925 224.64 \r\nL 26.925 7.2 \r\n\" style=\"fill:none;stroke:#000000;stroke-linecap:square;stroke-linejoin:miter;stroke-width:0.8;\"/>\r\n   </g>\r\n   <g id=\"patch_4\">\r\n    <path d=\"M 361.725 224.64 \r\nL 361.725 7.2 \r\n\" style=\"fill:none;stroke:#000000;stroke-linecap:square;stroke-linejoin:miter;stroke-width:0.8;\"/>\r\n   </g>\r\n   <g id=\"patch_5\">\r\n    <path d=\"M 26.925 224.64 \r\nL 361.725 224.64 \r\n\" style=\"fill:none;stroke:#000000;stroke-linecap:square;stroke-linejoin:miter;stroke-width:0.8;\"/>\r\n   </g>\r\n   <g id=\"patch_6\">\r\n    <path d=\"M 26.925 7.2 \r\nL 361.725 7.2 \r\n\" style=\"fill:none;stroke:#000000;stroke-linecap:square;stroke-linejoin:miter;stroke-width:0.8;\"/>\r\n   </g>\r\n  </g>\r\n </g>\r\n <defs>\r\n  <clipPath id=\"pd18e35d275\">\r\n   <rect height=\"217.44\" width=\"334.8\" x=\"26.925\" y=\"7.2\"/>\r\n  </clipPath>\r\n </defs>\r\n</svg>\r\n",
      "image/png": "[encoded data removed]"
     },
     "metadata": {
      "needs_background": "light"
     }
    }
   ],
   "source": [
    "import random \n",
    "position = 0\n",
    "walk = [position] # assign the list of position elements to walk in advance\n",
    "steps = 1000\n",
    "for i in range(steps):\n",
    "    step = 1 if random.randint(0, 1) else -1\n",
    "    position += step\n",
    "    walk.append(position)\n",
    "plt.plot(walk[:100])"
   ]
  },
  {
   "cell_type": "code",
   "execution_count": 196,
   "metadata": {},
   "outputs": [],
   "source": [
    "nsteps = 1000\n",
    "\n",
    "draws = np.random.randint(0, 2 ,size= nsteps)\n",
    "\n",
    "steps = np.where(draws > 0, 1, -1)\n",
    "\n",
    "walk = steps.cumsum()"
   ]
  },
  {
   "cell_type": "code",
   "execution_count": 197,
   "metadata": {},
   "outputs": [
    {
     "output_type": "execute_result",
     "data": {
      "text/plain": [
       "-9"
      ]
     },
     "metadata": {},
     "execution_count": 197
    }
   ],
   "source": [
    "walk.min()"
   ]
  },
  {
   "cell_type": "code",
   "execution_count": 198,
   "metadata": {},
   "outputs": [
    {
     "output_type": "execute_result",
     "data": {
      "text/plain": [
       "60"
      ]
     },
     "metadata": {},
     "execution_count": 198
    }
   ],
   "source": [
    "walk.max()"
   ]
  },
  {
   "cell_type": "code",
   "execution_count": 199,
   "metadata": {},
   "outputs": [
    {
     "output_type": "execute_result",
     "data": {
      "text/plain": [
       "297"
      ]
     },
     "metadata": {},
     "execution_count": 199
    }
   ],
   "source": [
    "(np.abs(walk) >= 10).argmax()"
   ]
  },
  {
   "source": [
    "## Simulating Many Random Walks at Once"
   ],
   "cell_type": "markdown",
   "metadata": {}
  },
  {
   "cell_type": "code",
   "execution_count": 200,
   "metadata": {},
   "outputs": [],
   "source": [
    "nwalks = 5000\n",
    "nsteps = 1000\n",
    "\n",
    "draws = np.random.randint(0, 2, size = (nwalks, nsteps))"
   ]
  },
  {
   "cell_type": "code",
   "execution_count": 201,
   "metadata": {},
   "outputs": [
    {
     "output_type": "execute_result",
     "data": {
      "text/plain": [
       "array([[  1,   2,   3, ...,  46,  47,  46],\n",
       "       [  1,   0,   1, ...,  40,  41,  42],\n",
       "       [  1,   2,   3, ..., -26, -27, -28],\n",
       "       ...,\n",
       "       [  1,   0,   1, ...,  64,  65,  66],\n",
       "       [  1,   2,   1, ...,   2,   1,   0],\n",
       "       [ -1,  -2,  -3, ...,  32,  33,  34]], dtype=int32)"
      ]
     },
     "metadata": {},
     "execution_count": 201
    }
   ],
   "source": [
    "steps =np.where(draws > 0, 1, -1)\n",
    "\n",
    "walks = steps.cumsum(1)\n",
    "walks"
   ]
  },
  {
   "cell_type": "code",
   "execution_count": 202,
   "metadata": {},
   "outputs": [
    {
     "output_type": "execute_result",
     "data": {
      "text/plain": [
       "122"
      ]
     },
     "metadata": {},
     "execution_count": 202
    }
   ],
   "source": [
    "walks.max()"
   ]
  },
  {
   "cell_type": "code",
   "execution_count": 203,
   "metadata": {},
   "outputs": [
    {
     "output_type": "execute_result",
     "data": {
      "text/plain": [
       "-128"
      ]
     },
     "metadata": {},
     "execution_count": 203
    }
   ],
   "source": [
    "walks.min()"
   ]
  },
  {
   "cell_type": "code",
   "execution_count": 204,
   "metadata": {},
   "outputs": [],
   "source": [
    "hits30 = (np.abs(walks) >= 30).any(1)"
   ]
  },
  {
   "cell_type": "code",
   "execution_count": 205,
   "metadata": {},
   "outputs": [
    {
     "output_type": "execute_result",
     "data": {
      "text/plain": [
       "array([ True,  True,  True, ...,  True, False,  True])"
      ]
     },
     "metadata": {},
     "execution_count": 205
    }
   ],
   "source": [
    "hits30"
   ]
  },
  {
   "cell_type": "code",
   "execution_count": 207,
   "metadata": {},
   "outputs": [
    {
     "output_type": "execute_result",
     "data": {
      "text/plain": [
       "3368"
      ]
     },
     "metadata": {},
     "execution_count": 207
    }
   ],
   "source": [
    "hits30.sum()"
   ]
  },
  {
   "cell_type": "code",
   "execution_count": 209,
   "metadata": {},
   "outputs": [
    {
     "output_type": "execute_result",
     "data": {
      "text/plain": [
       "256.9720902612827"
      ]
     },
     "metadata": {},
     "execution_count": 209
    }
   ],
   "source": [
    "crossing_times = (np.abs(walks[hits30] >= 30)).argmax(1) \n",
    "crossing_times.mean()"
   ]
  },
  {
   "cell_type": "code",
   "execution_count": 210,
   "metadata": {},
   "outputs": [],
   "source": [
    "steps = np.random.normal(loc = 0, scale= 0.25, size = (nwalks, nsteps))"
   ]
  },
  {
   "cell_type": "code",
   "execution_count": null,
   "metadata": {},
   "outputs": [],
   "source": []
  },
  {
   "cell_type": "code",
   "execution_count": null,
   "metadata": {},
   "outputs": [],
   "source": []
  },
  {
   "cell_type": "code",
   "execution_count": null,
   "metadata": {},
   "outputs": [],
   "source": []
  },
  {
   "cell_type": "code",
   "execution_count": null,
   "metadata": {},
   "outputs": [],
   "source": []
  },
  {
   "cell_type": "code",
   "execution_count": null,
   "metadata": {},
   "outputs": [],
   "source": []
  },
  {
   "cell_type": "code",
   "execution_count": null,
   "metadata": {},
   "outputs": [],
   "source": []
  },
  {
   "cell_type": "code",
   "execution_count": null,
   "metadata": {},
   "outputs": [],
   "source": []
  },
  {
   "cell_type": "code",
   "execution_count": null,
   "metadata": {},
   "outputs": [],
   "source": []
  },
  {
   "cell_type": "code",
   "execution_count": null,
   "metadata": {},
   "outputs": [],
   "source": []
  },
  {
   "cell_type": "code",
   "execution_count": null,
   "metadata": {},
   "outputs": [],
   "source": []
  },
  {
   "cell_type": "code",
   "execution_count": null,
   "metadata": {},
   "outputs": [],
   "source": []
  },
  {
   "cell_type": "code",
   "execution_count": null,
   "metadata": {},
   "outputs": [],
   "source": []
  },
  {
   "cell_type": "code",
   "execution_count": null,
   "metadata": {},
   "outputs": [],
   "source": []
  },
  {
   "cell_type": "code",
   "execution_count": null,
   "metadata": {},
   "outputs": [],
   "source": []
  },
  {
   "cell_type": "code",
   "execution_count": null,
   "metadata": {},
   "outputs": [],
   "source": []
  },
  {
   "cell_type": "code",
   "execution_count": null,
   "metadata": {},
   "outputs": [],
   "source": []
  }
 ]
}