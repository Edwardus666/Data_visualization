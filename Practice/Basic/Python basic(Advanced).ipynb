{
 "cells": [
  {
   "cell_type": "code",
   "execution_count": 1,
   "metadata": {
    "ExecuteTime": {
     "end_time": "2021-01-23T17:18:45.748808Z",
     "start_time": "2021-01-23T17:18:45.739151Z"
    }
   },
   "outputs": [
    {
     "data": {
      "text/plain": [
       "{'0': 0, '1': 1, '2': 2, '3': 3, '4': 4}"
      ]
     },
     "execution_count": 1,
     "metadata": {},
     "output_type": "execute_result"
    }
   ],
   "source": [
    "mydict = {str(i):i for i in range(5)}\n",
    "mydict"
   ]
  },
  {
   "cell_type": "code",
   "execution_count": 2,
   "metadata": {
    "ExecuteTime": {
     "end_time": "2021-01-23T17:18:45.777562Z",
     "start_time": "2021-01-23T17:18:45.754785Z"
    }
   },
   "outputs": [
    {
     "name": "stdout",
     "output_type": "stream",
     "text": [
      "C:\\Users\\Edwar\\AppData\\Local\\Programs\\Python\\Python38-32\\Lib\\site-packages\n"
     ]
    }
   ],
   "source": [
    "# find the directory from the installation\n",
    "from distutils.sysconfig import get_python_lib\n",
    "print(get_python_lib())"
   ]
  },
  {
   "cell_type": "code",
   "execution_count": 3,
   "metadata": {
    "ExecuteTime": {
     "end_time": "2021-01-23T17:18:45.786538Z",
     "start_time": "2021-01-23T17:18:45.782551Z"
    }
   },
   "outputs": [],
   "source": [
    "# test the time of the dict() and {}"
   ]
  },
  {
   "cell_type": "code",
   "execution_count": 4,
   "metadata": {
    "ExecuteTime": {
     "end_time": "2021-01-23T17:18:45.917980Z",
     "start_time": "2021-01-23T17:18:45.790521Z"
    }
   },
   "outputs": [
    {
     "name": "stdout",
     "output_type": "stream",
     "text": [
      "23.8 ns ± 3.82 ns per loop (mean ± std. dev. of 5 runs, 1000000 loops each)\n"
     ]
    }
   ],
   "source": [
    "timeit -n 1000000 -r 5 \"dict()\""
   ]
  },
  {
   "cell_type": "code",
   "execution_count": 5,
   "metadata": {
    "ExecuteTime": {
     "end_time": "2021-01-23T17:18:46.027140Z",
     "start_time": "2021-01-23T17:18:45.920949Z"
    }
   },
   "outputs": [
    {
     "name": "stdout",
     "output_type": "stream",
     "text": [
      "20.2 ns ± 3.86 ns per loop (mean ± std. dev. of 5 runs, 1000000 loops each)\n"
     ]
    }
   ],
   "source": [
    "timeit -n 1000000 -r 5 \"{}\""
   ]
  },
  {
   "cell_type": "code",
   "execution_count": 6,
   "metadata": {
    "ExecuteTime": {
     "end_time": "2021-01-23T17:18:46.579553Z",
     "start_time": "2021-01-23T17:18:46.032172Z"
    }
   },
   "outputs": [
    {
     "ename": "TypeError",
     "evalue": "don't know how to disassemble dict objects",
     "output_type": "error",
     "traceback": [
      "\u001b[1;31m---------------------------------------------------------------------------\u001b[0m",
      "\u001b[1;31mTypeError\u001b[0m                                 Traceback (most recent call last)",
      "\u001b[1;32m<ipython-input-6-5736df0df2d7>\u001b[0m in \u001b[0;36m<module>\u001b[1;34m\u001b[0m\n\u001b[0;32m      1\u001b[0m \u001b[1;32mimport\u001b[0m \u001b[0mdis\u001b[0m \u001b[1;32mas\u001b[0m \u001b[0mdis\u001b[0m\u001b[1;33m\u001b[0m\u001b[1;33m\u001b[0m\u001b[0m\n\u001b[1;32m----> 2\u001b[1;33m \u001b[0mdis\u001b[0m\u001b[1;33m.\u001b[0m\u001b[0mdis\u001b[0m\u001b[1;33m(\u001b[0m\u001b[0mdict\u001b[0m\u001b[1;33m(\u001b[0m\u001b[1;33m)\u001b[0m\u001b[1;33m)\u001b[0m\u001b[1;33m\u001b[0m\u001b[1;33m\u001b[0m\u001b[0m\n\u001b[0m",
      "\u001b[1;32m~\\AppData\\Local\\Programs\\Python\\Python38-32\\lib\\dis.py\u001b[0m in \u001b[0;36mdis\u001b[1;34m(x, file, depth)\u001b[0m\n\u001b[0;32m     83\u001b[0m         \u001b[0m_disassemble_str\u001b[0m\u001b[1;33m(\u001b[0m\u001b[0mx\u001b[0m\u001b[1;33m,\u001b[0m \u001b[0mfile\u001b[0m\u001b[1;33m=\u001b[0m\u001b[0mfile\u001b[0m\u001b[1;33m,\u001b[0m \u001b[0mdepth\u001b[0m\u001b[1;33m=\u001b[0m\u001b[0mdepth\u001b[0m\u001b[1;33m)\u001b[0m\u001b[1;33m\u001b[0m\u001b[1;33m\u001b[0m\u001b[0m\n\u001b[0;32m     84\u001b[0m     \u001b[1;32melse\u001b[0m\u001b[1;33m:\u001b[0m\u001b[1;33m\u001b[0m\u001b[1;33m\u001b[0m\u001b[0m\n\u001b[1;32m---> 85\u001b[1;33m         raise TypeError(\"don't know how to disassemble %s objects\" %\n\u001b[0m\u001b[0;32m     86\u001b[0m                         type(x).__name__)\n\u001b[0;32m     87\u001b[0m \u001b[1;33m\u001b[0m\u001b[0m\n",
      "\u001b[1;31mTypeError\u001b[0m: don't know how to disassemble dict objects"
     ]
    }
   ],
   "source": [
    "import dis as dis\n",
    "dis.dis(dict())"
   ]
  },
  {
   "cell_type": "code",
   "execution_count": null,
   "metadata": {
    "ExecuteTime": {
     "end_time": "2021-01-23T17:18:46.624805Z",
     "start_time": "2021-01-23T17:18:40.807Z"
    }
   },
   "outputs": [],
   "source": [
    "import antigravity"
   ]
  },
  {
   "cell_type": "code",
   "execution_count": null,
   "metadata": {
    "ExecuteTime": {
     "end_time": "2021-01-23T17:18:46.627799Z",
     "start_time": "2021-01-23T17:18:40.809Z"
    }
   },
   "outputs": [],
   "source": [
    "alist = [0, 1, 2, 3, 4]\n",
    "alist[5:]"
   ]
  },
  {
   "cell_type": "code",
   "execution_count": null,
   "metadata": {
    "ExecuteTime": {
     "end_time": "2021-01-23T17:18:46.630273Z",
     "start_time": "2021-01-23T17:18:40.811Z"
    }
   },
   "outputs": [],
   "source": [
    "alist = [0, 1, 2, 3, 4]\n",
    "alist[100:]"
   ]
  },
  {
   "cell_type": "code",
   "execution_count": null,
   "metadata": {
    "ExecuteTime": {
     "end_time": "2021-01-23T17:18:46.631588Z",
     "start_time": "2021-01-23T17:18:40.813Z"
    }
   },
   "outputs": [],
   "source": [
    "from collections import Counter\n",
    "ct = Counter('abcdbcaa')\n",
    "ct"
   ]
  },
  {
   "cell_type": "code",
   "execution_count": null,
   "metadata": {
    "ExecuteTime": {
     "end_time": "2021-01-23T17:18:46.633619Z",
     "start_time": "2021-01-23T17:18:40.815Z"
    }
   },
   "outputs": [],
   "source": [
    "ct['c'] = 0\n",
    "ct['d'] = -2"
   ]
  },
  {
   "cell_type": "code",
   "execution_count": null,
   "metadata": {
    "ExecuteTime": {
     "end_time": "2021-01-23T17:18:46.634578Z",
     "start_time": "2021-01-23T17:18:40.818Z"
    }
   },
   "outputs": [],
   "source": [
    "ct"
   ]
  },
  {
   "cell_type": "code",
   "execution_count": null,
   "metadata": {
    "ExecuteTime": {
     "end_time": "2021-01-23T17:18:46.637570Z",
     "start_time": "2021-01-23T17:18:40.820Z"
    }
   },
   "outputs": [],
   "source": [
    "# Ways of changing a string to list of characters\n",
    "# One way\n",
    "language = 'Python'\n",
    "lst = tuple(language) "
   ]
  },
  {
   "cell_type": "code",
   "execution_count": null,
   "metadata": {
    "ExecuteTime": {
     "end_time": "2021-01-23T17:18:46.639164Z",
     "start_time": "2021-01-23T17:18:40.822Z"
    }
   },
   "outputs": [],
   "source": [
    "print(type(lst))\n",
    "print(lst)"
   ]
  },
  {
   "cell_type": "code",
   "execution_count": null,
   "metadata": {
    "ExecuteTime": {
     "end_time": "2021-01-23T17:18:46.640160Z",
     "start_time": "2021-01-23T17:18:40.824Z"
    }
   },
   "outputs": [],
   "source": [
    "lst = list(language)\n",
    "print(type(lst))\n",
    "print(lst)"
   ]
  },
  {
   "cell_type": "code",
   "execution_count": null,
   "metadata": {
    "ExecuteTime": {
     "end_time": "2021-01-23T17:18:46.642156Z",
     "start_time": "2021-01-23T17:18:40.828Z"
    }
   },
   "outputs": [],
   "source": [
    "# Second way: using list comprehension\n",
    "lst = [i for i in language]\n",
    "print(type(lst))\n",
    "print(lst)"
   ]
  },
  {
   "cell_type": "code",
   "execution_count": null,
   "metadata": {
    "ExecuteTime": {
     "end_time": "2021-01-23T17:18:46.646146Z",
     "start_time": "2021-01-23T17:18:40.830Z"
    }
   },
   "outputs": [],
   "source": [
    "numbers = [i for i in range(11)]\n",
    "print(numbers)"
   ]
  },
  {
   "cell_type": "code",
   "execution_count": null,
   "metadata": {
    "ExecuteTime": {
     "end_time": "2021-01-23T17:18:46.647142Z",
     "start_time": "2021-01-23T17:18:40.834Z"
    }
   },
   "outputs": [],
   "source": [
    "sqaures = [i * i for i in range(11)]"
   ]
  },
  {
   "cell_type": "code",
   "execution_count": null,
   "metadata": {
    "ExecuteTime": {
     "end_time": "2021-01-23T17:18:46.648139Z",
     "start_time": "2021-01-23T17:18:40.837Z"
    }
   },
   "outputs": [],
   "source": [
    "sqaures"
   ]
  },
  {
   "cell_type": "code",
   "execution_count": null,
   "metadata": {
    "ExecuteTime": {
     "end_time": "2021-01-23T17:18:46.648759Z",
     "start_time": "2021-01-23T17:18:40.841Z"
    }
   },
   "outputs": [],
   "source": [
    "numbers = [(i, i* i) for i in range(11)]\n",
    "print(numbers)"
   ]
  },
  {
   "cell_type": "code",
   "execution_count": null,
   "metadata": {
    "ExecuteTime": {
     "end_time": "2021-01-23T17:18:46.656736Z",
     "start_time": "2021-01-23T17:18:40.843Z"
    }
   },
   "outputs": [],
   "source": [
    "numbers = [(i, i * i) for i in range(11)]\n",
    "print(numbers)"
   ]
  },
  {
   "cell_type": "code",
   "execution_count": null,
   "metadata": {
    "ExecuteTime": {
     "end_time": "2021-01-23T17:18:46.661156Z",
     "start_time": "2021-01-23T17:18:40.845Z"
    }
   },
   "outputs": [],
   "source": [
    "# Generating even numbers\n",
    "even_numbers = [i for i in range(21) if i % 2 == 0]\n",
    "even_numbers"
   ]
  },
  {
   "cell_type": "code",
   "execution_count": null,
   "metadata": {
    "ExecuteTime": {
     "end_time": "2021-01-23T17:18:46.663174Z",
     "start_time": "2021-01-23T17:18:40.847Z"
    }
   },
   "outputs": [],
   "source": [
    "odd_numbers = [i for i in range(21) if i % 2!= 0]\n",
    "odd_numbers"
   ]
  },
  {
   "cell_type": "code",
   "execution_count": null,
   "metadata": {
    "ExecuteTime": {
     "end_time": "2021-01-23T17:18:46.666133Z",
     "start_time": "2021-01-23T17:18:40.853Z"
    }
   },
   "outputs": [],
   "source": [
    "numbers = [-8, -7, -3, -1, 0, 1, 3, 4, 5, 7, 6, 8, 10]\n",
    "positive_even_numbers = [i for i in range(21) if i% 2 == 0 and i > 0]\n",
    "print(positive_even_numbers)"
   ]
  },
  {
   "cell_type": "code",
   "execution_count": null,
   "metadata": {
    "ExecuteTime": {
     "end_time": "2021-01-23T17:18:46.668129Z",
     "start_time": "2021-01-23T17:18:40.856Z"
    }
   },
   "outputs": [],
   "source": [
    "# Flattening a three dimensional array\n",
    "three_dimen_list = [[1, 2, 3], [4, 5, 6], [7, 8, 9]]\n",
    "flattened_list = [ number for row in three_dimen_list for number in row ]\n",
    "flattened_list"
   ]
  },
  {
   "cell_type": "code",
   "execution_count": null,
   "metadata": {
    "ExecuteTime": {
     "end_time": "2021-01-23T17:18:46.670123Z",
     "start_time": "2021-01-23T17:18:40.861Z"
    }
   },
   "outputs": [],
   "source": [
    "total_flattened_list = [ number for number in flattened_list]\n",
    "total_flattened_list"
   ]
  },
  {
   "cell_type": "code",
   "execution_count": null,
   "metadata": {
    "ExecuteTime": {
     "end_time": "2021-01-23T17:18:46.671119Z",
     "start_time": "2021-01-23T17:18:40.864Z"
    }
   },
   "outputs": [],
   "source": [
    "x = lambda param1, param2, param3 : param1 + param2 + param3\n",
    "print(x(arg1, arg2, arg3))"
   ]
  },
  {
   "cell_type": "code",
   "execution_count": null,
   "metadata": {
    "ExecuteTime": {
     "end_time": "2021-01-23T17:18:46.673118Z",
     "start_time": "2021-01-23T17:18:40.869Z"
    }
   },
   "outputs": [],
   "source": [
    "# Named function\n",
    "def add_two_nums(a, b):\n",
    "    return a + b\n",
    "print(2,3)     # 5\n",
    "\n",
    "# Lets change the above function to a lambda function\n",
    "add_two_nums = lambda a, b: a + b\n",
    "print(add_two_nums(2,3))    # 5"
   ]
  },
  {
   "cell_type": "code",
   "execution_count": null,
   "metadata": {
    "ExecuteTime": {
     "end_time": "2021-01-23T17:18:46.674111Z",
     "start_time": "2021-01-23T17:18:40.873Z"
    }
   },
   "outputs": [],
   "source": [
    "(lambda a, b: a+b)(2,3) \n",
    "square = lambda x: x ** 2\n",
    "print(square(3))\n",
    "\n",
    "cube = lambda x: x**3\n",
    "print(cube(3))"
   ]
  },
  {
   "cell_type": "code",
   "execution_count": null,
   "metadata": {
    "ExecuteTime": {
     "end_time": "2021-01-23T17:18:46.675118Z",
     "start_time": "2021-01-23T17:18:40.876Z"
    }
   },
   "outputs": [],
   "source": [
    "Multiple_variable = lambda a, b, c: a ** 2 - 3 * b + 3 * c\n",
    "print(Multiple_variable(5, 5, 3))"
   ]
  },
  {
   "cell_type": "code",
   "execution_count": null,
   "metadata": {
    "ExecuteTime": {
     "end_time": "2021-01-23T17:18:46.676106Z",
     "start_time": "2021-01-23T17:18:40.878Z"
    }
   },
   "outputs": [],
   "source": [
    "# Using a lambda function inside another function\n",
    "\n",
    "def power(x):\n",
    "    return lambda n : x ** n\n",
    "cube = power(2)(3)\n",
    "print(cube)"
   ]
  },
  {
   "cell_type": "code",
   "execution_count": null,
   "metadata": {
    "ExecuteTime": {
     "end_time": "2021-01-23T17:18:46.678142Z",
     "start_time": "2021-01-23T17:18:40.880Z"
    }
   },
   "outputs": [],
   "source": [
    "two_power_of_five = power(2)(5)\n",
    "print(two_power_of_five)"
   ]
  },
  {
   "cell_type": "code",
   "execution_count": null,
   "metadata": {
    "ExecuteTime": {
     "end_time": "2021-01-23T17:18:46.678869Z",
     "start_time": "2021-01-23T17:18:40.882Z"
    }
   },
   "outputs": [],
   "source": [
    "def only_upper(t):\n",
    "    res = []\n",
    "    for s in t:\n",
    "        if s.isupper():\n",
    "            res.append(s)\n",
    "        return res\n",
    "    "
   ]
  },
  {
   "cell_type": "code",
   "execution_count": null,
   "metadata": {
    "ExecuteTime": {
     "end_time": "2021-01-23T17:18:46.680075Z",
     "start_time": "2021-01-23T17:18:40.885Z"
    }
   },
   "outputs": [],
   "source": [
    "# Conditional Expression\n",
    "def __init(self, name, contents = None):\n",
    "    self.name = name\n",
    "    if contents ==None:\n",
    "        contents = []\n",
    "    self.pouch_contents = contents"
   ]
  },
  {
   "cell_type": "code",
   "execution_count": null,
   "metadata": {
    "ExecuteTime": {
     "end_time": "2021-01-23T17:18:46.681070Z",
     "start_time": "2021-01-23T17:18:40.887Z"
    }
   },
   "outputs": [],
   "source": [
    "def __init__(self, name, contents = None):\n",
    "    self.name = name\n",
    "    self.pouch_contents = [] if contents == None else contents"
   ]
  },
  {
   "cell_type": "code",
   "execution_count": null,
   "metadata": {
    "ExecuteTime": {
     "end_time": "2021-01-23T17:18:46.682069Z",
     "start_time": "2021-01-23T17:18:40.890Z"
    }
   },
   "outputs": [],
   "source": [
    "# List Comprehensions\n",
    "def capitalize_all(t):\n",
    "    res = []\n",
    "    for s in t:\n",
    "        res.append(s.capiltalize)\n",
    "    return res\n"
   ]
  },
  {
   "cell_type": "code",
   "execution_count": null,
   "metadata": {
    "ExecuteTime": {
     "end_time": "2021-01-23T17:18:46.683066Z",
     "start_time": "2021-01-23T17:18:40.892Z"
    }
   },
   "outputs": [],
   "source": [
    "def capitalize_all(t):\n",
    "    return [s.caplitalize() for s in t] # ignore the step of creating a itermediate variable"
   ]
  },
  {
   "cell_type": "code",
   "execution_count": null,
   "metadata": {
    "ExecuteTime": {
     "end_time": "2021-01-23T17:18:46.684062Z",
     "start_time": "2021-01-23T17:18:40.894Z"
    }
   },
   "outputs": [],
   "source": [
    "def only_upper(t):\n",
    "    return [s for s in t if s.usupper()]\n"
   ]
  },
  {
   "cell_type": "code",
   "execution_count": null,
   "metadata": {
    "ExecuteTime": {
     "end_time": "2021-01-23T17:18:46.689070Z",
     "start_time": "2021-01-23T17:18:40.895Z"
    }
   },
   "outputs": [],
   "source": [
    "# Generator expressions\n",
    "sum(x **2 for x in range(5))"
   ]
  },
  {
   "cell_type": "code",
   "execution_count": null,
   "metadata": {
    "ExecuteTime": {
     "end_time": "2021-01-23T17:18:46.693081Z",
     "start_time": "2021-01-23T17:18:40.897Z"
    }
   },
   "outputs": [],
   "source": [
    "max(x ** 2 for x in range(5))"
   ]
  },
  {
   "cell_type": "code",
   "execution_count": null,
   "metadata": {
    "ExecuteTime": {
     "end_time": "2021-01-23T17:18:46.695076Z",
     "start_time": "2021-01-23T17:18:40.900Z"
    }
   },
   "outputs": [],
   "source": [
    "any([False, False, True]) "
   ]
  },
  {
   "cell_type": "code",
   "execution_count": null,
   "metadata": {
    "ExecuteTime": {
     "end_time": "2021-01-23T17:18:46.699064Z",
     "start_time": "2021-01-23T17:18:40.903Z"
    }
   },
   "outputs": [],
   "source": [
    "any(letter == 't' for letter in 'monty')"
   ]
  },
  {
   "cell_type": "code",
   "execution_count": null,
   "metadata": {
    "ExecuteTime": {
     "end_time": "2021-01-23T17:18:46.705062Z",
     "start_time": "2021-01-23T17:18:40.905Z"
    }
   },
   "outputs": [],
   "source": [
    "def avoids(word, forbidden):\n",
    "    return not any(letter in forbidden for letter in word) "
   ]
  },
  {
   "cell_type": "code",
   "execution_count": null,
   "metadata": {
    "ExecuteTime": {
     "end_time": "2021-01-23T17:18:46.709040Z",
     "start_time": "2021-01-23T17:18:40.907Z"
    }
   },
   "outputs": [],
   "source": [
    "def subtract(d1, d2):\n",
    "    res = dict()\n",
    "    for key in d1:\n",
    "        if key not in d2:\n",
    "            res[key] = None\n",
    "        return res"
   ]
  },
  {
   "cell_type": "code",
   "execution_count": null,
   "metadata": {
    "ExecuteTime": {
     "end_time": "2021-01-23T17:18:46.714027Z",
     "start_time": "2021-01-23T17:18:40.909Z"
    }
   },
   "outputs": [],
   "source": [
    "def subtract(d1, d2):\n",
    "    return set(d1) - set(d2)"
   ]
  },
  {
   "cell_type": "code",
   "execution_count": null,
   "metadata": {
    "ExecuteTime": {
     "end_time": "2021-01-23T17:18:46.716021Z",
     "start_time": "2021-01-23T17:18:40.911Z"
    }
   },
   "outputs": [],
   "source": [
    "def has_duplicates(t):\n",
    "    d = {}\n",
    "    for x in t:\n",
    "        if x in d:\n",
    "            return True\n",
    "        d[x] = True\n",
    "    return False"
   ]
  },
  {
   "cell_type": "code",
   "execution_count": null,
   "metadata": {
    "ExecuteTime": {
     "end_time": "2021-01-23T17:18:46.719011Z",
     "start_time": "2021-01-23T17:18:40.914Z"
    }
   },
   "outputs": [],
   "source": [
    "def has_duplicates(t):\n",
    "    return len(set(t)) < len(t)\n",
    "\n",
    "has_duplicates((1,2,2,3))"
   ]
  },
  {
   "cell_type": "code",
   "execution_count": null,
   "metadata": {
    "ExecuteTime": {
     "end_time": "2021-01-23T17:18:46.722004Z",
     "start_time": "2021-01-23T17:18:40.915Z"
    }
   },
   "outputs": [],
   "source": [
    "has_duplicates((1,2,3))"
   ]
  },
  {
   "cell_type": "code",
   "execution_count": null,
   "metadata": {
    "ExecuteTime": {
     "end_time": "2021-01-23T17:18:46.723000Z",
     "start_time": "2021-01-23T17:18:40.917Z"
    }
   },
   "outputs": [],
   "source": [
    "set((1,2,2))"
   ]
  },
  {
   "cell_type": "code",
   "execution_count": null,
   "metadata": {
    "ExecuteTime": {
     "end_time": "2021-01-23T17:18:46.724994Z",
     "start_time": "2021-01-23T17:18:40.923Z"
    }
   },
   "outputs": [],
   "source": [
    "len((1,2,3))"
   ]
  },
  {
   "cell_type": "code",
   "execution_count": null,
   "metadata": {
    "ExecuteTime": {
     "end_time": "2021-01-23T17:18:46.725992Z",
     "start_time": "2021-01-23T17:18:40.930Z"
    }
   },
   "outputs": [],
   "source": [
    "len(set((1,2,3)))"
   ]
  },
  {
   "cell_type": "code",
   "execution_count": null,
   "metadata": {
    "ExecuteTime": {
     "end_time": "2021-01-23T17:18:46.726989Z",
     "start_time": "2021-01-23T17:18:40.935Z"
    }
   },
   "outputs": [],
   "source": [
    "def uses_only(word, available):\n",
    "    for letter in word:\n",
    "        if letter not in available:\n",
    "            return False\n",
    "    return True"
   ]
  },
  {
   "cell_type": "code",
   "execution_count": null,
   "metadata": {
    "ExecuteTime": {
     "end_time": "2021-01-23T17:18:46.727986Z",
     "start_time": "2021-01-23T17:18:40.939Z"
    }
   },
   "outputs": [],
   "source": [
    " def uses_only(word, available):\n",
    "        return set(word) <= set(available)\n",
    "    \n",
    "uses_only('lol','lsklo')\n"
   ]
  },
  {
   "cell_type": "code",
   "execution_count": null,
   "metadata": {
    "ExecuteTime": {
     "end_time": "2021-01-23T17:18:46.729981Z",
     "start_time": "2021-01-23T17:18:40.942Z"
    }
   },
   "outputs": [],
   "source": [
    "from collections import Counter\n",
    "count = Counter('parror')\n",
    "count"
   ]
  },
  {
   "cell_type": "code",
   "execution_count": null,
   "metadata": {
    "ExecuteTime": {
     "end_time": "2021-01-23T17:18:46.730979Z",
     "start_time": "2021-01-23T17:18:40.945Z"
    }
   },
   "outputs": [],
   "source": [
    "sorted(count)   "
   ]
  },
  {
   "cell_type": "code",
   "execution_count": null,
   "metadata": {
    "ExecuteTime": {
     "end_time": "2021-01-23T17:18:46.731976Z",
     "start_time": "2021-01-23T17:18:40.947Z"
    }
   },
   "outputs": [],
   "source": [
    "def is_anagram(word1, word2):\n",
    "    return Counter(word1) == Counter(word2)\n",
    "\n",
    "is_anagram('abc','bca')"
   ]
  },
  {
   "cell_type": "code",
   "execution_count": null,
   "metadata": {
    "ExecuteTime": {
     "end_time": "2021-01-23T17:18:46.732973Z",
     "start_time": "2021-01-23T17:18:40.949Z"
    }
   },
   "outputs": [],
   "source": [
    "count = Counter('parrot')\n",
    "for val, freq in count.most_common(3):\n",
    "    print(val, freq)"
   ]
  },
  {
   "cell_type": "code",
   "execution_count": null,
   "metadata": {
    "ExecuteTime": {
     "end_time": "2021-01-23T17:18:46.734968Z",
     "start_time": "2021-01-23T17:18:40.951Z"
    }
   },
   "outputs": [],
   "source": [
    ">>> list01 = [1,2,3]\n",
    ">>> list02 = [4,5,6]\n",
    ">>> list03 = [7,8,9]\n",
    ">>>\n",
    ">>> list01 + list02 + list03"
   ]
  },
  {
   "cell_type": "code",
   "execution_count": null,
   "metadata": {
    "ExecuteTime": {
     "end_time": "2021-01-23T17:18:46.735965Z",
     "start_time": "2021-01-23T17:18:40.953Z"
    }
   },
   "outputs": [],
   "source": [
    "from itertools import chain\n",
    ">>> list01 = [1,2,3]\n",
    ">>> list02 = [4,5,6]\n",
    ">>> list03 = [7,8,9]\n",
    "\n",
    "list(chain(list01, list02, list03))"
   ]
  },
  {
   "cell_type": "code",
   "execution_count": null,
   "metadata": {
    "ExecuteTime": {
     "end_time": "2021-01-23T17:18:46.737964Z",
     "start_time": "2021-01-23T17:18:40.955Z"
    }
   },
   "outputs": [],
   "source": [
    ">>> list01 = [1,2,3]\n",
    ">>> list02 = [4,5,6]\n",
    ">>> [*list01, *list02]"
   ]
  },
  {
   "cell_type": "code",
   "execution_count": null,
   "metadata": {
    "ExecuteTime": {
     "end_time": "2021-01-23T17:18:46.741943Z",
     "start_time": "2021-01-23T17:18:40.957Z"
    }
   },
   "outputs": [],
   "source": [
    ">>> list01 = [1,2,3]\n",
    ">>> list02 = [4,5,6]\n",
    "list01.extend(list02)\n",
    "list01"
   ]
  },
  {
   "cell_type": "code",
   "execution_count": null,
   "metadata": {
    "ExecuteTime": {
     "end_time": "2021-01-23T17:18:46.746906Z",
     "start_time": "2021-01-23T17:18:40.960Z"
    }
   },
   "outputs": [],
   "source": [
    ">>> list01 = [1,2,3]\n",
    ">>> list02 = [4,5,6]\n",
    ">>> list03 = [7,8,9]\n",
    "\n",
    "[x for l in (list01, list02, list03) for x in l]"
   ]
  },
  {
   "cell_type": "code",
   "execution_count": null,
   "metadata": {
    "ExecuteTime": {
     "end_time": "2021-01-23T17:18:46.752890Z",
     "start_time": "2021-01-23T17:18:40.962Z"
    }
   },
   "outputs": [],
   "source": [
    ">>> list01 = [1,2,3]\n",
    ">>> list02 = [4,5,6]\n",
    ">>> list03 = [7,8,9]\n",
    "\n",
    "from heapq import merge\n",
    "a = merge(list01, list02, list03)\n",
    "list(a)"
   ]
  },
  {
   "cell_type": "code",
   "execution_count": null,
   "metadata": {
    "ExecuteTime": {
     "end_time": "2021-01-23T17:18:46.759409Z",
     "start_time": "2021-01-23T17:18:40.964Z"
    }
   },
   "outputs": [],
   "source": [
    ">>> list01 = [2,5,3]\n",
    ">>> list02 = [1,4,6]\n",
    ">>> list03 = [7,9,8]\n",
    ">>>\n",
    ">>> from heapq import merge\n",
    ">>>\n",
    ">>> list(merge(list01, list02, list03))"
   ]
  },
  {
   "cell_type": "code",
   "execution_count": null,
   "metadata": {
    "ExecuteTime": {
     "end_time": "2021-01-23T17:18:46.763377Z",
     "start_time": "2021-01-23T17:18:40.966Z"
    }
   },
   "outputs": [],
   "source": [
    "sorted(itertools.chain(*iterables))"
   ]
  },
  {
   "cell_type": "code",
   "execution_count": null,
   "metadata": {
    "ExecuteTime": {
     "end_time": "2021-01-23T17:18:46.765372Z",
     "start_time": "2021-01-23T17:18:40.972Z"
    }
   },
   "outputs": [],
   "source": [
    "list01 = [1,2,3]\n",
    "list02 = [4, 5, 6]\n",
    "list01 + list02"
   ]
  },
  {
   "cell_type": "code",
   "execution_count": null,
   "metadata": {
    "ExecuteTime": {
     "end_time": "2021-01-23T17:18:46.768407Z",
     "start_time": "2021-01-23T17:18:40.977Z"
    }
   },
   "outputs": [],
   "source": [
    "list01.__add__(list02)"
   ]
  },
  {
   "cell_type": "code",
   "execution_count": null,
   "metadata": {
    "ExecuteTime": {
     "end_time": "2021-01-23T17:18:46.770382Z",
     "start_time": "2021-01-23T17:18:40.981Z"
    }
   },
   "outputs": [],
   "source": [
    ">>> list01 = [1,2,3]\n",
    ">>> list02 = [4,5,6]\n",
    ">>> list03 = [7,8,9]\n",
    "\n",
    "from functools import reduce\n",
    "reduce(list.__add__, (list01, list02, list03))"
   ]
  },
  {
   "cell_type": "code",
   "execution_count": null,
   "metadata": {
    "ExecuteTime": {
     "end_time": "2021-01-23T17:18:46.772378Z",
     "start_time": "2021-01-23T17:18:40.984Z"
    }
   },
   "outputs": [],
   "source": [
    ">>> list01 = [1,2,3]\n",
    ">>> list02 = [4,5,6]\n",
    ">>> list03 = [7,8,9]\n",
    "\n",
    "def merge(*lists):\n",
    "    for l in lists:\n",
    "        yield from l\n",
    "\n",
    "list(merge(list01, list02, list03))"
   ]
  },
  {
   "cell_type": "code",
   "execution_count": null,
   "metadata": {
    "ExecuteTime": {
     "end_time": "2021-01-23T17:18:46.773374Z",
     "start_time": "2021-01-23T17:18:40.987Z"
    }
   },
   "outputs": [],
   "source": [
    "profile = {\"name\": \"xiaoming\", \"age\": 27}\n",
    "ext_info = {\"gender\": \"male\"}\n",
    "\n",
    "profile.update(ext_info)\n",
    "print(profile)"
   ]
  },
  {
   "cell_type": "code",
   "execution_count": null,
   "metadata": {
    "ExecuteTime": {
     "end_time": "2021-01-23T17:18:46.774373Z",
     "start_time": "2021-01-23T17:18:40.990Z"
    }
   },
   "outputs": [],
   "source": [
    ">>> profile = {\"name\": \"xiaoming\", \"age\": 27}\n",
    ">>> ext_info = {\"gender\": \"male\"}\n",
    "\n",
    "from copy import deepcopy\n",
    "\n",
    "full_profile = deepcopy(profile)\n",
    "full_profile.update(ext_info)\n",
    "\n",
    "print(full_profile)\n"
   ]
  },
  {
   "cell_type": "code",
   "execution_count": null,
   "metadata": {
    "ExecuteTime": {
     "end_time": "2021-01-23T17:18:46.775368Z",
     "start_time": "2021-01-23T17:18:40.992Z"
    }
   },
   "outputs": [],
   "source": [
    "print(profile)"
   ]
  },
  {
   "cell_type": "code",
   "execution_count": null,
   "metadata": {
    "ExecuteTime": {
     "end_time": "2021-01-23T17:18:46.777364Z",
     "start_time": "2021-01-23T17:18:40.994Z"
    }
   },
   "outputs": [],
   "source": [
    ">>> profile = {\"name\": \"xiaoming\", \"age\": 27}\n",
    ">>> ext_info = {\"gender\": \"male\"}\n",
    "\n",
    "full_profile01= {**profile, **ext_info}\n",
    "print(full_profile01)\n",
    "print(type(full_profile01))"
   ]
  },
  {
   "cell_type": "code",
   "execution_count": null,
   "metadata": {
    "ExecuteTime": {
     "end_time": "2021-01-23T17:18:46.778362Z",
     "start_time": "2021-01-23T17:18:40.996Z"
    }
   },
   "outputs": [],
   "source": [
    "full_profile02 = dict(**profile, ** ext_info)\n",
    "print(full_profile02)"
   ]
  },
  {
   "cell_type": "code",
   "execution_count": null,
   "metadata": {
    "ExecuteTime": {
     "end_time": "2021-01-23T17:18:46.779359Z",
     "start_time": "2021-01-23T17:18:40.998Z"
    }
   },
   "outputs": [],
   "source": [
    "dict(((\"name\", \"xiaoming\"), (\"age\", 27), (\"gender\", \"male\")))"
   ]
  },
  {
   "cell_type": "code",
   "execution_count": null,
   "metadata": {
    "ExecuteTime": {
     "end_time": "2021-01-23T17:18:46.780357Z",
     "start_time": "2021-01-23T17:18:41.000Z"
    }
   },
   "outputs": [],
   "source": [
    "import itertools\n",
    "\n",
    "profile = {\"name\":\"xiaoming\",\"age\": 27}\n",
    "ext_info = {\"gender\":\"male\"}\n",
    "\n",
    "print(profile.items())\n",
    "print(ext_info.items())\n",
    "dict(itertools.chain(profile.items(), ext_info.items()))"
   ]
  },
  {
   "cell_type": "code",
   "execution_count": null,
   "metadata": {
    "ExecuteTime": {
     "end_time": "2021-01-23T17:18:46.781355Z",
     "start_time": "2021-01-23T17:18:41.003Z"
    }
   },
   "outputs": [],
   "source": [
    "import requests\n",
    "\n",
    "#the required first parameter of the 'get' method is the 'url':\n",
    "x = requests.get('https://www.w3schools.com/python/showpython.asp?filename=demo_requests_get_url')\n",
    "\n",
    "#print the response text (the content of the requested file):\n",
    "print(x.text)"
   ]
  },
  {
   "cell_type": "code",
   "execution_count": null,
   "metadata": {
    "ExecuteTime": {
     "end_time": "2021-01-23T17:18:46.782352Z",
     "start_time": "2021-01-23T17:18:41.004Z"
    }
   },
   "outputs": [],
   "source": [
    ">>> from collections import ChainMap\n",
    ">>>\n",
    ">>> profile = {\"name\": \"xiaoming\", \"age\": 27}\n",
    ">>> ext_info = {\"gender\": \"male\"}\n",
    ">>>\n",
    ">>> dict(ChainMap(profile, ext_info))"
   ]
  },
  {
   "cell_type": "code",
   "execution_count": null,
   "metadata": {
    "ExecuteTime": {
     "end_time": "2021-01-23T17:18:46.783349Z",
     "start_time": "2021-01-23T17:18:41.006Z"
    }
   },
   "outputs": [],
   "source": [
    "from collections import ChainMap\n",
    "profile = {\"name\": \"xiaoming\", \"age\": 27}\n",
    "ext_info={\"age\": 30}\n",
    "dict(ChainMap(profile, ext_info))"
   ]
  },
  {
   "cell_type": "code",
   "execution_count": null,
   "metadata": {
    "ExecuteTime": {
     "end_time": "2021-01-23T17:18:46.784371Z",
     "start_time": "2021-01-23T17:18:41.008Z"
    }
   },
   "outputs": [],
   "source": [
    ">>> profile = {\"name\": \"xiaoming\", \"age\": 27}\n",
    ">>> ext_info = {\"gender\": \"male\"}\n",
    "\n",
    "full_profile = dict(profile.items() | ext_info.items())\n",
    "full_profile"
   ]
  },
  {
   "cell_type": "code",
   "execution_count": null,
   "metadata": {
    "ExecuteTime": {
     "end_time": "2021-01-23T17:18:46.785344Z",
     "start_time": "2021-01-23T17:18:41.010Z"
    }
   },
   "outputs": [],
   "source": [
    ">>> profile = {\"name\": \"xiaoming\", \"age\": 27}\n",
    ">>> ext_info = {\"gender\": \"male\"}\n",
    "\n",
    "(list(profile.items()) + list(ext_info.items()))"
   ]
  },
  {
   "cell_type": "code",
   "execution_count": null,
   "metadata": {
    "ExecuteTime": {
     "end_time": "2021-01-23T17:18:46.786340Z",
     "start_time": "2021-01-23T17:18:41.015Z"
    }
   },
   "outputs": [],
   "source": [
    "dict(list(profile.items()) + list(ext_info.items()))"
   ]
  },
  {
   "cell_type": "code",
   "execution_count": null,
   "metadata": {
    "ExecuteTime": {
     "end_time": "2021-01-23T17:18:46.787337Z",
     "start_time": "2021-01-23T17:18:41.021Z"
    }
   },
   "outputs": [],
   "source": [
    ">>> profile = {\"name\": \"xiaoming\", \"age\": 27}\n",
    ">>> ext_info = {\"gender\": \"male\"}\n",
    "\n",
    "{k:v for d in [profile, ext_info] for k,v in d.items()}"
   ]
  },
  {
   "cell_type": "code",
   "execution_count": null,
   "metadata": {
    "ExecuteTime": {
     "end_time": "2021-01-23T17:18:46.788334Z",
     "start_time": "2021-01-23T17:18:41.025Z"
    }
   },
   "outputs": [],
   "source": [
    ">>> profile = {\"name\": \"xiaoming\", \"age\": 27}\n",
    ">>> ext_info = {\"gender\": \"male\"}\n",
    "\n"
   ]
  },
  {
   "cell_type": "code",
   "execution_count": null,
   "metadata": {
    "ExecuteTime": {
     "end_time": "2021-01-23T17:18:46.789062Z",
     "start_time": "2021-01-23T17:18:41.028Z"
    }
   },
   "outputs": [],
   "source": [
    "import imp\n",
    "file, pathname, desc = imp.find_module('os')\n",
    "myos = imp.load_module('sep', file, pathname, desc)\n",
    "myos"
   ]
  },
  {
   "cell_type": "code",
   "execution_count": null,
   "metadata": {
    "ExecuteTime": {
     "end_time": "2021-01-23T17:18:46.790025Z",
     "start_time": "2021-01-23T17:18:41.031Z"
    }
   },
   "outputs": [],
   "source": [
    "myos.getcwd()"
   ]
  },
  {
   "cell_type": "code",
   "execution_count": null,
   "metadata": {
    "ExecuteTime": {
     "end_time": "2021-01-23T17:18:46.790025Z",
     "start_time": "2021-01-23T17:18:41.034Z"
    }
   },
   "outputs": [],
   "source": [
    ">>> execfile(\"/usr/lib64/python2.7/os.py\")\n",
    ">>>"
   ]
  },
  {
   "cell_type": "code",
   "execution_count": null,
   "metadata": {
    "ExecuteTime": {
     "end_time": "2021-01-23T17:18:46.791019Z",
     "start_time": "2021-01-23T17:18:41.036Z"
    }
   },
   "outputs": [],
   "source": [
    "from github_com.zzzeek import sqlalchemy"
   ]
  },
  {
   "cell_type": "code",
   "execution_count": null,
   "metadata": {
    "ExecuteTime": {
     "end_time": "2021-01-23T17:18:46.792017Z",
     "start_time": "2021-01-23T17:18:41.039Z"
    }
   },
   "outputs": [],
   "source": [
    "def is_in(full_str, sub_str):\n",
    "    try:\n",
    "        full_str.index(sub_str)\n",
    "        return True\n",
    "    except ValueError:\n",
    "        return False\n",
    "    \n",
    "print(is_in(\"hello, python\", \"llo\"))  # True\n",
    "print(is_in(\"hello, python\", \"lol\"))  # False"
   ]
  },
  {
   "cell_type": "code",
   "execution_count": null,
   "metadata": {
    "ExecuteTime": {
     "end_time": "2021-01-23T17:18:46.793015Z",
     "start_time": "2021-01-23T17:18:41.042Z"
    }
   },
   "outputs": [],
   "source": [
    "def is_in(full_str, sub_str):\n",
    "    return full_str.count(sub_str) > 0"
   ]
  },
  {
   "cell_type": "code",
   "execution_count": null,
   "metadata": {
    "ExecuteTime": {
     "end_time": "2021-01-23T17:18:46.793015Z",
     "start_time": "2021-01-23T17:18:41.044Z"
    }
   },
   "outputs": [],
   "source": [
    "print(is_in(\"hello, python\", \"llo\"))"
   ]
  },
  {
   "cell_type": "code",
   "execution_count": null,
   "metadata": {
    "ExecuteTime": {
     "end_time": "2021-01-23T17:18:46.794011Z",
     "start_time": "2021-01-23T17:18:41.047Z"
    }
   },
   "outputs": [],
   "source": [
    "print(is_in(\"hello, python\", \"lol\"))  # False"
   ]
  },
  {
   "cell_type": "code",
   "execution_count": null,
   "metadata": {
    "ExecuteTime": {
     "end_time": "2021-01-23T17:18:46.795008Z",
     "start_time": "2021-01-23T17:18:41.052Z"
    }
   },
   "outputs": [],
   "source": [
    "\"hello, python\".__contains__(\"llo\")"
   ]
  },
  {
   "cell_type": "code",
   "execution_count": null,
   "metadata": {
    "ExecuteTime": {
     "end_time": "2021-01-23T17:18:46.795008Z",
     "start_time": "2021-01-23T17:18:41.055Z"
    }
   },
   "outputs": [],
   "source": [
    ">>> \"hello, python\".__contains__(\"lol\")"
   ]
  },
  {
   "cell_type": "code",
   "execution_count": null,
   "metadata": {
    "ExecuteTime": {
     "end_time": "2021-01-23T17:18:46.796006Z",
     "start_time": "2021-01-23T17:18:41.058Z"
    }
   },
   "outputs": [],
   "source": [
    "import operator\n",
    "\n",
    "operator.contains(\"hello, python\",\"llo\")\n",
    "operator.contains(\"hello, python\",\"lol\")"
   ]
  },
  {
   "cell_type": "code",
   "execution_count": null,
   "metadata": {
    "ExecuteTime": {
     "end_time": "2021-01-23T17:18:46.797003Z",
     "start_time": "2021-01-23T17:18:41.064Z"
    }
   },
   "outputs": [],
   "source": [
    "import re\n",
    "\n",
    "def is_in(full_str, sub_str):\n",
    "    if re.findall(sub_str, full_str):\n",
    "        return True\n",
    "    else:\n",
    "        return False\n",
    "    \n",
    "print(is_in(\"hello, python\", \"llo\"))  # True\n",
    "print(is_in(\"hello, python\", \"lol\"))  # False   "
   ]
  },
  {
   "cell_type": "code",
   "execution_count": null,
   "metadata": {
    "ExecuteTime": {
     "end_time": "2021-01-23T17:18:46.798000Z",
     "start_time": "2021-01-23T17:18:41.073Z"
    }
   },
   "outputs": [],
   "source": [
    "import \"fmt\"\n",
    "\n",
    "# Assignment Expressions\n",
    "func main() {\n",
    "    if age := 20;age > 18 {\n",
    "        fmt.Println(\"已经成年了\")\n",
    "    }\n",
    "}\n",
    "\n",
    "# if (age:= 20) > 18:\n",
    "    print(\"已经成年了\")"
   ]
  },
  {
   "cell_type": "code",
   "execution_count": null,
   "metadata": {
    "ExecuteTime": {
     "end_time": "2021-01-23T17:18:46.799084Z",
     "start_time": "2021-01-23T17:18:41.079Z"
    }
   },
   "outputs": [],
   "source": [
    "file = open(\"demo.txt\",\"r\")\n",
    "while True:\n",
    "    line = file.readline()\n",
    "    if not line:\n",
    "        break\n",
    "    print(line.strip())\n"
   ]
  },
  {
   "cell_type": "code",
   "execution_count": null,
   "metadata": {
    "ExecuteTime": {
     "end_time": "2021-01-23T17:18:46.800077Z",
     "start_time": "2021-01-23T17:18:41.083Z"
    }
   },
   "outputs": [],
   "source": [
    "file = open(\"demo.txt\",\"r\")\n",
    "while(line := file.readline()):\n",
    "    print(line.strip())"
   ]
  },
  {
   "cell_type": "code",
   "execution_count": null,
   "metadata": {
    "ExecuteTime": {
     "end_time": "2021-01-23T17:18:46.801075Z",
     "start_time": "2021-01-23T17:18:41.086Z"
    }
   },
   "outputs": [],
   "source": [
    "while True:\n",
    "    p = input(\"Enter the password:\")\n",
    "    if p == \"youpassword\":\n",
    "        break"
   ]
  },
  {
   "cell_type": "code",
   "execution_count": null,
   "metadata": {
    "ExecuteTime": {
     "end_time": "2021-01-23T17:18:46.802073Z",
     "start_time": "2021-01-23T17:18:41.088Z"
    }
   },
   "outputs": [],
   "source": [
    "fat_bmis = []\n",
    "\n",
    "for m in members:\n",
    "    bmi = get_bmi(m)\n",
    "    if bmi > 24:\n",
    "        fat_bmis.append(bmi)"
   ]
  },
  {
   "cell_type": "code",
   "execution_count": null,
   "metadata": {
    "ExecuteTime": {
     "end_time": "2021-01-23T17:18:46.803069Z",
     "start_time": "2021-01-23T17:18:41.090Z"
    }
   },
   "outputs": [],
   "source": [
    "fat_bmis = [bmi for m in members if (bmi := get_bmi(m)) > 24]"
   ]
  },
  {
   "cell_type": "code",
   "execution_count": null,
   "metadata": {
    "ExecuteTime": {
     "end_time": "2021-01-23T17:18:46.804067Z",
     "start_time": "2021-01-23T17:18:41.093Z"
    }
   },
   "outputs": [],
   "source": [
    ">>> msg = \"hello\\013world\\013hello\\013python\"\n",
    ">>> print(msg)\n"
   ]
  },
  {
   "cell_type": "code",
   "execution_count": null,
   "metadata": {
    "ExecuteTime": {
     "end_time": "2021-01-23T17:18:46.805064Z",
     "start_time": "2021-01-23T17:18:41.094Z"
    }
   },
   "outputs": [],
   "source": [
    ">>> msg = \"hello\\012world\"\n",
    ">>> print(msg)"
   ]
  },
  {
   "cell_type": "code",
   "execution_count": null,
   "metadata": {
    "ExecuteTime": {
     "end_time": "2021-01-23T17:18:46.805064Z",
     "start_time": "2021-01-23T17:18:41.096Z"
    }
   },
   "outputs": [],
   "source": [
    ">>> msg = \"hello\\x0aworld\"\n",
    ">>> print(msg)"
   ]
  },
  {
   "cell_type": "code",
   "execution_count": null,
   "metadata": {
    "ExecuteTime": {
     "end_time": "2021-01-23T17:18:46.806061Z",
     "start_time": "2021-01-23T17:18:41.098Z"
    }
   },
   "outputs": [],
   "source": [
    ">>> msg = \"hello\\nworld\"\n",
    ">>> print(msg)"
   ]
  },
  {
   "cell_type": "code",
   "execution_count": null,
   "metadata": {
    "ExecuteTime": {
     "end_time": "2021-01-23T17:18:46.807058Z",
     "start_time": "2021-01-23T17:18:41.100Z"
    }
   },
   "outputs": [],
   "source": [
    ">>> print(\"\\u4E2D\")"
   ]
  },
  {
   "cell_type": "code",
   "execution_count": null,
   "metadata": {
    "ExecuteTime": {
     "end_time": "2021-01-23T17:18:46.808055Z",
     "start_time": "2021-01-23T17:18:41.104Z"
    }
   },
   "outputs": [],
   "source": [
    ">>> a = u\"中\"\n",
    ">>> a"
   ]
  },
  {
   "cell_type": "code",
   "execution_count": null,
   "metadata": {
    "ExecuteTime": {
     "end_time": "2021-01-23T17:18:46.809052Z",
     "start_time": "2021-01-23T17:18:41.105Z"
    }
   },
   "outputs": [],
   "source": [
    ">>> print(r\"hello\\nworld\")"
   ]
  },
  {
   "cell_type": "code",
   "execution_count": null,
   "metadata": {
    "ExecuteTime": {
     "end_time": "2021-01-23T17:18:46.810050Z",
     "start_time": "2021-01-23T17:18:41.107Z"
    }
   },
   "outputs": [],
   "source": [
    ">>> print(R\"hello\\nworld\")"
   ]
  },
  {
   "cell_type": "code",
   "execution_count": null,
   "metadata": {
    "ExecuteTime": {
     "end_time": "2021-01-23T17:18:46.811047Z",
     "start_time": "2021-01-23T17:18:41.109Z"
    }
   },
   "outputs": [],
   "source": [
    "body = spider()\n",
    "print(body)"
   ]
  },
  {
   "cell_type": "code",
   "execution_count": null,
   "metadata": {
    "ExecuteTime": {
     "end_time": "2021-01-23T17:18:46.812045Z",
     "start_time": "2021-01-23T17:18:41.111Z"
    }
   },
   "outputs": [],
   "source": [
    ">>> body=\"hello\\\\nworld\"\n",
    ">>> body"
   ]
  },
  {
   "cell_type": "code",
   "execution_count": null,
   "metadata": {
    "ExecuteTime": {
     "end_time": "2021-01-23T17:18:46.813042Z",
     "start_time": "2021-01-23T17:18:41.120Z"
    }
   },
   "outputs": [],
   "source": [
    "bytes(body, \"utf-8\").decode(\"unicode_escape\")"
   ]
  },
  {
   "cell_type": "code",
   "execution_count": null,
   "metadata": {
    "ExecuteTime": {
     "end_time": "2021-01-23T17:18:46.814040Z",
     "start_time": "2021-01-23T17:18:41.124Z"
    }
   },
   "outputs": [],
   "source": [
    ">>> import codecs\n",
    ">>> body=\"hello\\\\nworld\"\n",
    ">>>\n",
    ">>> codecs.decode(body, 'unicode_escape')\n",
    "'hello\\nworld'\n",
    ">>>"
   ]
  },
  {
   "cell_type": "code",
   "execution_count": null,
   "metadata": {
    "ExecuteTime": {
     "end_time": "2021-01-23T17:18:46.815037Z",
     "start_time": "2021-01-23T17:18:41.128Z"
    }
   },
   "outputs": [],
   "source": [
    "pip install requests"
   ]
  },
  {
   "cell_type": "code",
   "execution_count": null,
   "metadata": {
    "ExecuteTime": {
     "end_time": "2021-01-23T17:18:46.816034Z",
     "start_time": "2021-01-23T17:18:41.131Z"
    }
   },
   "outputs": [],
   "source": [
    "# define decorator\n",
    "def decorator(func):\n",
    "    def wrapper(*args, **kw):\n",
    "        return func()\n",
    "    return wrapper\n",
    "\n",
    "# decorator\n",
    "def function():\n",
    "    print(\"hello, decorator\")\n",
    "    "
   ]
  },
  {
   "cell_type": "code",
   "execution_count": null,
   "metadata": {
    "ExecuteTime": {
     "end_time": "2021-01-23T17:18:46.817031Z",
     "start_time": "2021-01-23T17:18:41.134Z"
    }
   },
   "outputs": [],
   "source": [
    "print(type(__name__))\n",
    "print(__name__)"
   ]
  },
  {
   "cell_type": "code",
   "execution_count": null,
   "metadata": {
    "ExecuteTime": {
     "end_time": "2021-01-23T17:18:46.818030Z",
     "start_time": "2021-01-23T17:18:41.138Z"
    }
   },
   "outputs": [],
   "source": [
    "def funcl():\n",
    "    print('The value of __name__ is' + __name__)\n",
    "if __name__ == '__main__':\n",
    "    funcl()"
   ]
  },
  {
   "cell_type": "code",
   "execution_count": null,
   "metadata": {
    "ExecuteTime": {
     "end_time": "2021-01-23T17:18:46.818695Z",
     "start_time": "2021-01-23T17:18:41.162Z"
    }
   },
   "outputs": [],
   "source": [
    "help('FORMATTING')"
   ]
  },
  {
   "cell_type": "code",
   "execution_count": null,
   "metadata": {
    "ExecuteTime": {
     "end_time": "2021-01-23T17:18:46.820679Z",
     "start_time": "2021-01-23T17:18:41.164Z"
    }
   },
   "outputs": [],
   "source": [
    "def logger(func):\n",
    "    def wrapper(*args, **kw):\n",
    "        print('我准备开始执行了: {}函数了:'.format(func.__name__))\n",
    "    \n",
    "        func(*args, **kw)\n",
    "    \n",
    "        print('主人,我执行完啦')\n",
    "    return wrapper"
   ]
  },
  {
   "cell_type": "code",
   "execution_count": null,
   "metadata": {
    "ExecuteTime": {
     "end_time": "2021-01-23T17:18:46.820679Z",
     "start_time": "2021-01-23T17:18:41.166Z"
    }
   },
   "outputs": [],
   "source": [
    "@logger\n",
    "def add(x, y):\n",
    "    print(('{}+ {} = {}').format(x, y, x+y))\n",
    "    \n",
    "add(200, 50)"
   ]
  },
  {
   "cell_type": "code",
   "execution_count": null,
   "metadata": {
    "ExecuteTime": {
     "end_time": "2021-01-23T17:18:46.822673Z",
     "start_time": "2021-01-23T17:18:41.172Z"
    }
   },
   "outputs": [],
   "source": [
    "@periodic_task(spacing = 60)\n",
    "def send_mail():\n",
    "    pass\n",
    "\n",
    "@periodic_task(spacing = 86400)\n",
    "def ntp():\n",
    "    pass\n",
    "\n"
   ]
  },
  {
   "cell_type": "code",
   "execution_count": null,
   "metadata": {
    "ExecuteTime": {
     "end_time": "2021-01-23T17:18:46.822673Z",
     "start_time": "2021-01-23T17:18:41.177Z"
    }
   },
   "outputs": [],
   "source": [
    "# 小明, 中国人\n",
    "@say_hello(\"china\")\n",
    "def xiaoming():\n",
    "    pass\n",
    "\n",
    "# jack,美国人\n",
    "@say_hello(\"america\")\n",
    "def jack():\n",
    "    pass\n"
   ]
  },
  {
   "cell_type": "code",
   "execution_count": null,
   "metadata": {
    "ExecuteTime": {
     "end_time": "2021-01-23T17:18:46.823670Z",
     "start_time": "2021-01-23T17:18:41.181Z"
    },
    "code_folding": []
   },
   "outputs": [],
   "source": [
    "def say_hello(country):\n",
    "    def wrapper(func):\n",
    "        def deco(*args, **kwargs):\n",
    "            if country == \"china\":\n",
    "                print(\"你好!\")\n",
    "            elif country == \"america\":\n",
    "                print('hello.')\n",
    "            else:\n",
    "                return #this option just return the value of input argument of country without print\n",
    "            \n",
    "            # the place wehre the function really executes\n",
    "            func(*args, **kwargs)\n",
    "        return deco\n",
    "    return wrapper\n",
    "\n",
    "xiaoming()\n",
    "print(\"---------\")"
   ]
  },
  {
   "cell_type": "code",
   "execution_count": null,
   "metadata": {
    "ExecuteTime": {
     "end_time": "2021-01-23T17:18:46.824669Z",
     "start_time": "2021-01-23T17:18:41.185Z"
    }
   },
   "outputs": [],
   "source": [
    "jack()"
   ]
  },
  {
   "cell_type": "code",
   "execution_count": null,
   "metadata": {
    "ExecuteTime": {
     "end_time": "2021-01-23T17:18:46.825666Z",
     "start_time": "2021-01-23T17:18:41.188Z"
    }
   },
   "outputs": [],
   "source": [
    "# class decorator without arguments\n",
    "# you will face this type of problems when reading others codes\n",
    "class logger(object):\n",
    "    def __init__(self, func):\n",
    "        self.func = func\n",
    "    \n",
    "    def __call__(self, *args, **kwargs):\n",
    "        print(\"[INFO]: the funciton {func}() is running...\".format(func = self.func.__name__))\n",
    "        return self.func(*args, **kwargs)\n",
    "    \n",
    "# first the def say function() is as the input to the logger class object without\n",
    "# input the argument,\n",
    "# then the class object return the say function with its arguments \n",
    "# and finally the say function() itself executes itself\n",
    "@logger\n",
    "def say(something):\n",
    "    print(\"say {}!\".format(something))\n",
    "    \n",
    "    \n",
    "say(\"hello\")"
   ]
  },
  {
   "cell_type": "code",
   "execution_count": null,
   "metadata": {
    "ExecuteTime": {
     "end_time": "2021-01-23T17:18:46.826663Z",
     "start_time": "2021-01-23T17:18:41.191Z"
    }
   },
   "outputs": [],
   "source": [
    "# class decorator with arguments of function as its input\n",
    "class logger(object):\n",
    "    def __init__(self, level = 'INFO'):\n",
    "        self.level = level \n",
    "    \n",
    "    def __call__(self, func): #accept the argument\n",
    "        def wrapper(*args, **kwargs):\n",
    "            print(\"[{level}]: the function {func}() is running...\".format(level=self.level, func = func.__name__))\n",
    "            func(*args, **kwargs)\n",
    "        return wrapper\n",
    "    \n",
    "@logger(level = 'WARNING')\n",
    "def say(something):\n",
    "    print(\"say {}!\".format(something))\n",
    "\n",
    "say(\"hello\")"
   ]
  },
  {
   "cell_type": "code",
   "execution_count": null,
   "metadata": {
    "ExecuteTime": {
     "end_time": "2021-01-23T17:18:46.827661Z",
     "start_time": "2021-01-23T17:18:41.193Z"
    }
   },
   "outputs": [],
   "source": [
    "import time \n",
    "import functools\n",
    "\n",
    "class DelayFunc:\n",
    "    def __init__(self, duration, func):\n",
    "        self.duration = duration\n",
    "        self.func = func\n",
    "        \n",
    "    def __call__(self, *args, **kwargs):\n",
    "        print(f'Wait for {self.duration} seconds...')\n",
    "        time.sleep(self.duration)\n",
    "        return self.func(*args, **kwargs)\n",
    "    \n",
    "    def eager_call(self, *args, **kwargs):\n",
    "        print('Call without delay')\n",
    "        return self.func(*args, **kwargs)\n",
    "     \n",
    "def delay(duration):\n",
    "    \"\"\"\n",
    "    装饰器：推迟某个函数的执行。\n",
    "    同时提供 .eager_call 方法立即执行\n",
    "    \"\"\"\n",
    "    # 此处为了避免定义额外函数，\n",
    "    # 直接使用 functools.partial 帮助构造 DelayFunc 实例\n",
    "    \n",
    "    return functools.partial(DelayFunc, duration)\n"
   ]
  },
  {
   "cell_type": "code",
   "execution_count": null,
   "metadata": {
    "ExecuteTime": {
     "end_time": "2021-01-23T17:18:46.828418Z",
     "start_time": "2021-01-23T17:18:41.196Z"
    }
   },
   "outputs": [],
   "source": [
    "@delay(duration = 2)\n",
    "def add(a, b):\n",
    "    \n",
    "    return a+b\n"
   ]
  },
  {
   "cell_type": "code",
   "execution_count": null,
   "metadata": {
    "ExecuteTime": {
     "end_time": "2021-01-23T17:18:46.829569Z",
     "start_time": "2021-01-23T17:18:41.198Z"
    }
   },
   "outputs": [],
   "source": [
    "add"
   ]
  },
  {
   "cell_type": "code",
   "execution_count": null,
   "metadata": {
    "ExecuteTime": {
     "end_time": "2021-01-23T17:18:46.832565Z",
     "start_time": "2021-01-23T17:18:41.200Z"
    }
   },
   "outputs": [],
   "source": [
    "add(3, 5)"
   ]
  },
  {
   "cell_type": "code",
   "execution_count": null,
   "metadata": {
    "ExecuteTime": {
     "end_time": "2021-01-23T17:18:46.833554Z",
     "start_time": "2021-01-23T17:18:41.204Z"
    }
   },
   "outputs": [],
   "source": [
    "# Decorator which can decorate the class\n",
    "\n",
    "instances = {}\n",
    "\n",
    "def singleton(cls):\n",
    "    def get_instance(*args, **kw):\n",
    "        cls_name = cls.__name__\n",
    "        print('===== 1 ====')\n",
    "        if not cls_name in instances:\n",
    "            print('====2====')\n",
    "            instance = cls(*args, **kw)\n",
    "            instances[cls_name] = instance\n",
    "        return instances[cls_name]\n",
    "    return get_instance\n",
    "\n",
    "@singleton\n",
    "class User:\n",
    "    _instance = None\n",
    "    \n",
    "    def __init__(self, name):\n",
    "        print('===== 3 ====')\n",
    "        self.name = name"
   ]
  },
  {
   "cell_type": "markdown",
   "metadata": {},
   "source": [
    "## Master the management  of context"
   ]
  },
  {
   "cell_type": "code",
   "execution_count": 9,
   "metadata": {
    "ExecuteTime": {
     "end_time": "2021-01-23T17:21:27.444211Z",
     "start_time": "2021-01-23T17:21:27.440220Z"
    }
   },
   "outputs": [
    {
     "name": "stdout",
     "output_type": "stream",
     "text": [
      "Division without the remainder:  7 // 2\n"
     ]
    }
   ],
   "source": [
    "print('Division without the remainder:  7 // 2')   # gives without the floating number or without the remaining"
   ]
  },
  {
   "cell_type": "code",
   "execution_count": 10,
   "metadata": {
    "ExecuteTime": {
     "end_time": "2021-01-23T17:21:34.509434Z",
     "start_time": "2021-01-23T17:21:34.505688Z"
    }
   },
   "outputs": [
    {
     "name": "stdout",
     "output_type": "stream",
     "text": [
      "Division without the remainder:  3\n"
     ]
    }
   ],
   "source": [
    "print('Division without the remainder: ', 7 // 2)"
   ]
  },
  {
   "cell_type": "code",
   "execution_count": 11,
   "metadata": {
    "ExecuteTime": {
     "end_time": "2021-01-23T17:21:58.002786Z",
     "start_time": "2021-01-23T17:21:57.997576Z"
    }
   },
   "outputs": [
    {
     "name": "stdout",
     "output_type": "stream",
     "text": [
      "Complex number:  (1+1j)\n"
     ]
    }
   ],
   "source": [
    "# Complex numbers\n",
    "print('Complex number: ', 1+1j)"
   ]
  },
  {
   "cell_type": "code",
   "execution_count": 12,
   "metadata": {
    "ExecuteTime": {
     "end_time": "2021-01-23T17:22:05.126367Z",
     "start_time": "2021-01-23T17:22:05.122375Z"
    }
   },
   "outputs": [
    {
     "name": "stdout",
     "output_type": "stream",
     "text": [
      "Multiplying complex numbers:  (2+0j)\n"
     ]
    }
   ],
   "source": [
    "print('Multiplying complex numbers: ',(1+1j) * (1-1j))"
   ]
  },
  {
   "cell_type": "code",
   "execution_count": 13,
   "metadata": {
    "ExecuteTime": {
     "end_time": "2021-01-23T17:26:46.525217Z",
     "start_time": "2021-01-23T17:26:46.521229Z"
    }
   },
   "outputs": [],
   "source": [
    "letter = 'P'                # A string could be a single character or a bunch of texts"
   ]
  },
  {
   "cell_type": "code",
   "execution_count": 14,
   "metadata": {
    "ExecuteTime": {
     "end_time": "2021-01-23T17:27:41.307823Z",
     "start_time": "2021-01-23T17:27:41.302833Z"
    }
   },
   "outputs": [
    {
     "name": "stdout",
     "output_type": "stream",
     "text": [
      "I am a teacher and enjoy teaching.\n",
      "I didn't find anything as rewarding as empowering people.\n",
      "That is why I created 30 days of python.\n"
     ]
    }
   ],
   "source": [
    "# Multiline_string\n",
    "multiline_string = '''I am a teacher and enjoy teaching.\n",
    "I didn't find anything as rewarding as empowering people.\n",
    "That is why I created 30 days of python.'''\n",
    "print(multiline_string)"
   ]
  },
  {
   "cell_type": "code",
   "execution_count": 17,
   "metadata": {
    "ExecuteTime": {
     "end_time": "2021-01-23T17:29:03.334327Z",
     "start_time": "2021-01-23T17:29:03.327347Z"
    }
   },
   "outputs": [
    {
     "data": {
      "text/plain": [
       "'ABCDEFGH'"
      ]
     },
     "execution_count": 17,
     "metadata": {},
     "output_type": "execute_result"
    }
   ],
   "source": [
    "# String Concatenation\n",
    "first_name = 'ABCD'\n",
    "last_name = 'EFGH'\n",
    "space = ''\n",
    "full_name = first_name + space + last_name\n",
    "full_name"
   ]
  },
  {
   "cell_type": "code",
   "execution_count": 18,
   "metadata": {
    "ExecuteTime": {
     "end_time": "2021-01-23T17:29:13.277416Z",
     "start_time": "2021-01-23T17:29:13.273426Z"
    }
   },
   "outputs": [
    {
     "name": "stdout",
     "output_type": "stream",
     "text": [
      "False\n"
     ]
    }
   ],
   "source": [
    "print(len(first_name) > len(last_name)) # False"
   ]
  },
  {
   "cell_type": "code",
   "execution_count": 21,
   "metadata": {
    "ExecuteTime": {
     "end_time": "2021-01-23T17:31:49.892858Z",
     "start_time": "2021-01-23T17:31:49.888877Z"
    }
   },
   "outputs": [
    {
     "name": "stdout",
     "output_type": "stream",
     "text": [
      "Days\tTopics\tExercises\n",
      "Day 1\t3\t5\n",
      "This is a backslash  symbol (\\)\n"
     ]
    }
   ],
   "source": [
    "# Escape Sequences in Strings\n",
    "print('Days\\tTopics\\tExercises')\n",
    "print('Day 1\\t3\\t5')\n",
    "print('This is a backslash  symbol (\\\\)') # To write a backslash"
   ]
  },
  {
   "cell_type": "code",
   "execution_count": 22,
   "metadata": {
    "ExecuteTime": {
     "end_time": "2021-01-23T17:34:42.760759Z",
     "start_time": "2021-01-23T17:34:42.756379Z"
    }
   },
   "outputs": [
    {
     "name": "stdout",
     "output_type": "stream",
     "text": [
      "I am Asabeneh Yetayeh. I teach Python\n"
     ]
    }
   ],
   "source": [
    "# Strings only\n",
    "first_name = 'Asabeneh'\n",
    "last_name = 'Yetayeh'\n",
    "language = 'Python'\n",
    "formated_string = 'I am %s %s. I teach %s' %(first_name, last_name, language)\n",
    "print(formated_string)"
   ]
  },
  {
   "cell_type": "code",
   "execution_count": 25,
   "metadata": {
    "ExecuteTime": {
     "end_time": "2021-01-23T17:36:54.134894Z",
     "start_time": "2021-01-23T17:36:54.124921Z"
    }
   },
   "outputs": [
    {
     "data": {
      "text/plain": [
       "'The area of circle with a radius 10 is 314.00.'"
      ]
     },
     "execution_count": 25,
     "metadata": {},
     "output_type": "execute_result"
    }
   ],
   "source": [
    "# Strings  and numbers\n",
    "radius = 10\n",
    "pi = 3.14\n",
    "area = pi * radius ** 2\n",
    "formated_string = 'The area of circle with a radius %d is %.2f.'%(radius, area)\n",
    "formated_string"
   ]
  },
  {
   "cell_type": "code",
   "execution_count": 26,
   "metadata": {
    "ExecuteTime": {
     "end_time": "2021-01-23T17:38:33.466466Z",
     "start_time": "2021-01-23T17:38:33.462491Z"
    }
   },
   "outputs": [
    {
     "data": {
      "text/plain": [
       "\"The following are python libraries:['Django', 'Flask', 'Numpy', 'Pandas']\""
      ]
     },
     "execution_count": 26,
     "metadata": {},
     "output_type": "execute_result"
    }
   ],
   "source": [
    "# even you can format a list with %s character and display it\n",
    "python_libraries = ['Django','Flask','Numpy','Pandas']\n",
    "formated_string = 'The following are python libraries:%s'%(python_libraries)\n",
    "formated_string"
   ]
  },
  {
   "cell_type": "code",
   "execution_count": 28,
   "metadata": {
    "ExecuteTime": {
     "end_time": "2021-01-23T18:02:44.619499Z",
     "start_time": "2021-01-23T18:02:44.614305Z"
    }
   },
   "outputs": [
    {
     "data": {
      "text/plain": [
       "'I am Asabeneh Yetayeh. I teach Python'"
      ]
     },
     "execution_count": 28,
     "metadata": {},
     "output_type": "execute_result"
    }
   ],
   "source": [
    "# Python 3.0 version of String Formating\n",
    "first_name = 'Asabeneh'\n",
    "last_name = 'Yetayeh'\n",
    "language = 'Python'\n",
    "formated_string = 'I am {} {}. I teach {}'.format(first_name, last_name, language)\n",
    "formated_string"
   ]
  },
  {
   "cell_type": "code",
   "execution_count": 30,
   "metadata": {
    "ExecuteTime": {
     "end_time": "2021-01-23T18:05:41.365098Z",
     "start_time": "2021-01-23T18:05:41.359101Z"
    }
   },
   "outputs": [
    {
     "name": "stdout",
     "output_type": "stream",
     "text": [
      "P\n",
      "the first letter is P\n"
     ]
    }
   ],
   "source": [
    "# Access the Character in String\n",
    "language = 'Python'\n",
    "first_letter = language[0]\n",
    "print(first_letter)\n",
    "print('the first letter is',first_letter) #分开的原因是因为 变量 不能直接 和 字符放在一起\n",
    "                                            #除非是 被 format 成 string 就可以"
   ]
  },
  {
   "cell_type": "code",
   "execution_count": 31,
   "metadata": {
    "ExecuteTime": {
     "end_time": "2021-01-23T18:08:25.130390Z",
     "start_time": "2021-01-23T18:08:25.123410Z"
    }
   },
   "outputs": [
    {
     "data": {
      "text/plain": [
       "'n'"
      ]
     },
     "execution_count": 31,
     "metadata": {},
     "output_type": "execute_result"
    }
   ],
   "source": [
    "last_index = len(language) - 1\n",
    "last_letter = language[last_index]\n",
    "last_letter"
   ]
  },
  {
   "cell_type": "code",
   "execution_count": 32,
   "metadata": {
    "ExecuteTime": {
     "end_time": "2021-01-23T18:10:42.294166Z",
     "start_time": "2021-01-23T18:10:42.289179Z"
    }
   },
   "outputs": [
    {
     "name": "stdout",
     "output_type": "stream",
     "text": [
      "hon\n"
     ]
    }
   ],
   "source": [
    "# Slicing Python Strings\n",
    "language = 'Python'\n",
    "last_three = language[-3:]\n",
    "print(last_three)"
   ]
  },
  {
   "cell_type": "code",
   "execution_count": 33,
   "metadata": {
    "ExecuteTime": {
     "end_time": "2021-01-23T18:25:56.848378Z",
     "start_time": "2021-01-23T18:25:56.843391Z"
    }
   },
   "outputs": [
    {
     "name": "stdout",
     "output_type": "stream",
     "text": [
      "Thirty days of python\n"
     ]
    }
   ],
   "source": [
    "# String Methods\n",
    "# capitalize(): Converts the first character of the string to capital Letter\n",
    "challenge = 'thirty days of python'\n",
    "print(challenge.capitalize())"
   ]
  },
  {
   "cell_type": "code",
   "execution_count": 35,
   "metadata": {
    "ExecuteTime": {
     "end_time": "2021-01-23T18:27:52.033068Z",
     "start_time": "2021-01-23T18:27:52.028082Z"
    }
   },
   "outputs": [
    {
     "name": "stdout",
     "output_type": "stream",
     "text": [
      "5\n",
      "0\n"
     ]
    }
   ],
   "source": [
    "challenge = 'thirty days of python'\n",
    "print(challenge.find('y'))  # 5\n",
    "print(challenge.find('th')) # 0\n"
   ]
  },
  {
   "cell_type": "code",
   "execution_count": 39,
   "metadata": {
    "ExecuteTime": {
     "end_time": "2021-01-23T18:31:27.646932Z",
     "start_time": "2021-01-23T18:31:27.641932Z"
    }
   },
   "outputs": [
    {
     "name": "stdout",
     "output_type": "stream",
     "text": [
      "I am AsabenehYetayeh. I am a teacher.I live in Finland.\n"
     ]
    }
   ],
   "source": [
    "# format(): formats string into a nicer output\n",
    "first_name = 'Asabeneh'\n",
    "last_name = 'Yetayeh'\n",
    "job = 'teacher'\n",
    "country = 'Finland'\n",
    "sentence = 'I am {}{}. I am a {}.I live in {}.'.format(first_name, last_name, job, country)\n",
    "print(sentence)"
   ]
  },
  {
   "cell_type": "code",
   "execution_count": 40,
   "metadata": {
    "ExecuteTime": {
     "end_time": "2021-01-23T18:32:36.531441Z",
     "start_time": "2021-01-23T18:32:36.527451Z"
    }
   },
   "outputs": [
    {
     "name": "stdout",
     "output_type": "stream",
     "text": [
      "HTML#CSS#JavaScript#React\n"
     ]
    }
   ],
   "source": [
    "# join(): Returns a concatenated string\n",
    "# use this method you can insert the value within another value\n",
    "web_tech = ['HTML', 'CSS', 'JavaScript', 'React']\n",
    "result = '#'.join(web_tech)\n",
    "print(result)\n"
   ]
  },
  {
   "cell_type": "code",
   "execution_count": 43,
   "metadata": {
    "ExecuteTime": {
     "end_time": "2021-01-23T18:34:09.943800Z",
     "start_time": "2021-01-23T18:34:09.940795Z"
    }
   },
   "outputs": [
    {
     "name": "stdout",
     "output_type": "stream",
     "text": [
      "y days of py\n"
     ]
    }
   ],
   "source": [
    "challenge = 'thirty days of pythoonnn'\n",
    "print(challenge.strip('nothir'))"
   ]
  },
  {
   "cell_type": "code",
   "execution_count": 45,
   "metadata": {
    "ExecuteTime": {
     "end_time": "2021-01-23T18:35:42.525302Z",
     "start_time": "2021-01-23T18:35:42.521312Z"
    }
   },
   "outputs": [
    {
     "name": "stdout",
     "output_type": "stream",
     "text": [
      "['thirty', 'days', 'of', 'python']\n"
     ]
    }
   ],
   "source": [
    "# split(): Splits the string, using given string as a separator\n",
    "challenge = 'thirty days of python'\n",
    "a = challenge.split()\n",
    "print(a)"
   ]
  },
  {
   "cell_type": "code",
   "execution_count": 46,
   "metadata": {
    "ExecuteTime": {
     "end_time": "2021-01-23T18:36:23.348462Z",
     "start_time": "2021-01-23T18:36:23.344471Z"
    }
   },
   "outputs": [
    {
     "name": "stdout",
     "output_type": "stream",
     "text": [
      "Thirty Days Of Python\n"
     ]
    }
   ],
   "source": [
    "# title(): Returns a title cased string\n",
    "challenge = 'thirty days of python'\n",
    "print(challenge.title())"
   ]
  },
  {
   "cell_type": "code",
   "execution_count": 47,
   "metadata": {
    "ExecuteTime": {
     "end_time": "2021-01-23T18:37:42.865429Z",
     "start_time": "2021-01-23T18:37:42.860441Z"
    }
   },
   "outputs": [
    {
     "name": "stdout",
     "output_type": "stream",
     "text": [
      "['item4', 'item5']\n"
     ]
    }
   ],
   "source": [
    "# Unpacking List Items\n",
    "lst = ['item','item2','item3', 'item4', 'item5']\n",
    "a, v, c, *d = lst\n",
    "print(d)"
   ]
  },
  {
   "cell_type": "code",
   "execution_count": 52,
   "metadata": {
    "ExecuteTime": {
     "end_time": "2021-01-23T18:40:08.532556Z",
     "start_time": "2021-01-23T18:40:08.527568Z"
    }
   },
   "outputs": [
    {
     "data": {
      "text/plain": [
       "1"
      ]
     },
     "execution_count": 52,
     "metadata": {},
     "output_type": "execute_result"
    }
   ],
   "source": [
    "# Counting Items in a List\n",
    "lst = ['item1','item2']\n",
    "lst.count('item1')"
   ]
  },
  {
   "cell_type": "code",
   "execution_count": 56,
   "metadata": {
    "ExecuteTime": {
     "end_time": "2021-01-23T18:40:51.117967Z",
     "start_time": "2021-01-23T18:40:51.112017Z"
    }
   },
   "outputs": [
    {
     "data": {
      "text/plain": [
       "1"
      ]
     },
     "execution_count": 56,
     "metadata": {},
     "output_type": "execute_result"
    }
   ],
   "source": [
    "# Finding Index of an Item\n",
    "lst = ['item1', 'item2']\n",
    "lst.index('item2')"
   ]
  },
  {
   "cell_type": "code",
   "execution_count": 58,
   "metadata": {
    "ExecuteTime": {
     "end_time": "2021-01-23T18:41:09.184546Z",
     "start_time": "2021-01-23T18:41:09.179560Z"
    }
   },
   "outputs": [
    {
     "data": {
      "text/plain": [
       "['item2', 'item1']"
      ]
     },
     "execution_count": 58,
     "metadata": {},
     "output_type": "execute_result"
    }
   ],
   "source": [
    "lst = ['item1', 'item2']\n",
    "lst.reverse()\n",
    "lst"
   ]
  },
  {
   "cell_type": "code",
   "execution_count": 60,
   "metadata": {
    "ExecuteTime": {
     "end_time": "2021-01-23T18:41:40.009325Z",
     "start_time": "2021-01-23T18:41:40.003343Z"
    }
   },
   "outputs": [
    {
     "data": {
      "text/plain": [
       "['item1', 'item2']"
      ]
     },
     "execution_count": 60,
     "metadata": {},
     "output_type": "execute_result"
    }
   ],
   "source": [
    "# Sorting List Items\n",
    "lst = ['item1', 'item2']\n",
    "lst.sort()\n",
    "lst"
   ]
  },
  {
   "cell_type": "code",
   "execution_count": 62,
   "metadata": {
    "ExecuteTime": {
     "end_time": "2021-01-23T18:42:06.005889Z",
     "start_time": "2021-01-23T18:42:06.000903Z"
    }
   },
   "outputs": [
    {
     "data": {
      "text/plain": [
       "['item2', 'item1']"
      ]
     },
     "execution_count": 62,
     "metadata": {},
     "output_type": "execute_result"
    }
   ],
   "source": [
    "lst.sort(reverse = True)\n",
    "lst"
   ]
  },
  {
   "cell_type": "code",
   "execution_count": 63,
   "metadata": {
    "ExecuteTime": {
     "end_time": "2021-01-23T18:45:07.684682Z",
     "start_time": "2021-01-23T18:45:07.679696Z"
    }
   },
   "outputs": [
    {
     "name": "stdout",
     "output_type": "stream",
     "text": [
      "['Banana', 'orange', 'mango', 'lemon']\n"
     ]
    }
   ],
   "source": [
    "# Change tuple into list\n",
    "fruits = ('Banana','orange','mango','lemon')\n",
    "fruits = list(fruits)\n",
    "print(fruits)"
   ]
  },
  {
   "cell_type": "code",
   "execution_count": 66,
   "metadata": {
    "ExecuteTime": {
     "end_time": "2021-01-23T18:46:42.941385Z",
     "start_time": "2021-01-23T18:46:42.933407Z"
    }
   },
   "outputs": [
    {
     "ename": "NameError",
     "evalue": "name 'tuple1' is not defined",
     "output_type": "error",
     "traceback": [
      "\u001b[1;31m---------------------------------------------------------------------------\u001b[0m",
      "\u001b[1;31mNameError\u001b[0m                                 Traceback (most recent call last)",
      "\u001b[1;32m<ipython-input-66-e182853c30c6>\u001b[0m in \u001b[0;36m<module>\u001b[1;34m\u001b[0m\n\u001b[0;32m      2\u001b[0m \u001b[0mtuple1\u001b[0m \u001b[1;33m=\u001b[0m \u001b[1;33m(\u001b[0m\u001b[1;34m'a'\u001b[0m\u001b[1;33m,\u001b[0m\u001b[1;34m'b'\u001b[0m\u001b[1;33m,\u001b[0m\u001b[1;34m'c'\u001b[0m\u001b[1;33m)\u001b[0m\u001b[1;33m\u001b[0m\u001b[1;33m\u001b[0m\u001b[0m\n\u001b[0;32m      3\u001b[0m \u001b[1;32mdel\u001b[0m \u001b[0mtuple1\u001b[0m\u001b[1;33m\u001b[0m\u001b[1;33m\u001b[0m\u001b[0m\n\u001b[1;32m----> 4\u001b[1;33m \u001b[0mtuple1\u001b[0m\u001b[1;33m\u001b[0m\u001b[1;33m\u001b[0m\u001b[0m\n\u001b[0m",
      "\u001b[1;31mNameError\u001b[0m: name 'tuple1' is not defined"
     ]
    }
   ],
   "source": [
    "# Deleting Tuples\n",
    "tuple1 = ('a','b','c')\n",
    "del tuple1\n",
    "tuple1"
   ]
  },
  {
   "cell_type": "code",
   "execution_count": 67,
   "metadata": {
    "ExecuteTime": {
     "end_time": "2021-01-23T18:50:37.986841Z",
     "start_time": "2021-01-23T18:50:37.981853Z"
    }
   },
   "outputs": [
    {
     "name": "stdout",
     "output_type": "stream",
     "text": [
      "0\n",
      "1\n",
      "2\n",
      "3\n",
      "4\n",
      "5\n",
      "6\n",
      "7\n",
      "8\n",
      "9\n",
      "10\n",
      "The loop stops at 10\n"
     ]
    }
   ],
   "source": [
    "# For Else\n",
    "# if we want to execute some message when the loop ends, we use else.\n",
    "for number in range(11):\n",
    "    print(number)\n",
    "else:\n",
    "    print('The loop stops at',number)"
   ]
  },
  {
   "cell_type": "code",
   "execution_count": 68,
   "metadata": {
    "ExecuteTime": {
     "end_time": "2021-01-23T19:08:54.223500Z",
     "start_time": "2021-01-23T19:08:54.216519Z"
    }
   },
   "outputs": [
    {
     "name": "stdout",
     "output_type": "stream",
     "text": [
      "False\n"
     ]
    }
   ],
   "source": [
    "# function that return a boolean\n",
    "def is_even(n):\n",
    "    if n % 2 == 0:\n",
    "        print('even')\n",
    "        return True\n",
    "    return False\n",
    "print(is_even(3))"
   ]
  },
  {
   "cell_type": "code",
   "execution_count": 70,
   "metadata": {
    "ExecuteTime": {
     "end_time": "2021-01-23T19:10:44.223510Z",
     "start_time": "2021-01-23T19:10:44.218526Z"
    }
   },
   "outputs": [
    {
     "name": "stdout",
     "output_type": "stream",
     "text": [
      "[0, 2, 4, 6, 8, 10]\n"
     ]
    }
   ],
   "source": [
    "# Return a list \n",
    "def find_even_number(n):\n",
    "    evens = []\n",
    "    for i in range(n+1):\n",
    "        if i % 2 == 0:\n",
    "            evens.append(i)\n",
    "    return evens\n",
    "print(find_even_number(10))"
   ]
  },
  {
   "cell_type": "code",
   "execution_count": 73,
   "metadata": {
    "ExecuteTime": {
     "end_time": "2021-01-23T19:14:45.326263Z",
     "start_time": "2021-01-23T19:14:45.321276Z"
    }
   },
   "outputs": [
    {
     "name": "stdout",
     "output_type": "stream",
     "text": [
      "<class 'tuple'>\n",
      "10\n"
     ]
    }
   ],
   "source": [
    "# Arbitrary Nmber of Arguments\n",
    "# I don't exactly know how many arguments I am going to input\n",
    "def funciton_name(*nums):\n",
    "    total = 0\n",
    "    print(type(nums))\n",
    "    for num in nums:\n",
    "        total += num\n",
    "    return total\n",
    "\n",
    "print(funciton_name(2,3,5))\n"
   ]
  },
  {
   "cell_type": "code",
   "execution_count": 77,
   "metadata": {
    "ExecuteTime": {
     "end_time": "2021-01-23T19:16:57.884869Z",
     "start_time": "2021-01-23T19:16:57.877883Z"
    }
   },
   "outputs": [
    {
     "name": "stdout",
     "output_type": "stream",
     "text": [
      "Team-1\n",
      "======\n",
      "\n",
      "Asabeneh\n",
      "Brook\n",
      "David\n",
      "Eyob\n"
     ]
    }
   ],
   "source": [
    "def generate_groups (team,*args):\n",
    "    print(team)\n",
    "    print('======\\n')\n",
    "    for i in args:\n",
    "        print(i)\n",
    "generate_groups('Team-1','Asabeneh','Brook','David','Eyob')"
   ]
  },
  {
   "cell_type": "code",
   "execution_count": 78,
   "metadata": {
    "ExecuteTime": {
     "end_time": "2021-01-23T19:18:41.929337Z",
     "start_time": "2021-01-23T19:18:41.924350Z"
    }
   },
   "outputs": [
    {
     "name": "stdout",
     "output_type": "stream",
     "text": [
      "9\n"
     ]
    }
   ],
   "source": [
    "# Function as a Parameter of Another Function\n",
    "def square_number(n):\n",
    "    return n*n\n",
    "def do_something(f,x):\n",
    "    return f(x)\n",
    "print(do_something(square_number, 3)) #这里就是平时我们见到的嵌套多个function\n",
    "                                        #同样自己定义也是可以的"
   ]
  },
  {
   "cell_type": "code",
   "execution_count": null,
   "metadata": {},
   "outputs": [],
   "source": []
  }
 ],
 "metadata": {
  "kernelspec": {
   "display_name": "Python 3.8.5 32-bit",
   "language": "python",
   "name": "python38532bit47a94b2ab21247dfb60b10beee68e0ef"
  },
  "language_info": {
   "codemirror_mode": {
    "name": "ipython",
    "version": 3
   },
   "file_extension": ".py",
   "mimetype": "text/x-python",
   "name": "python",
   "nbconvert_exporter": "python",
   "pygments_lexer": "ipython3",
   "version": "3.8.5"
  },
  "toc": {
   "base_numbering": 1,
   "nav_menu": {},
   "number_sections": true,
   "sideBar": true,
   "skip_h1_title": false,
   "title_cell": "Table of Contents",
   "title_sidebar": "Contents",
   "toc_cell": false,
   "toc_position": {},
   "toc_section_display": true,
   "toc_window_display": false
  },
  "varInspector": {
   "cols": {
    "lenName": 16,
    "lenType": 16,
    "lenVar": 40
   },
   "kernels_config": {
    "python": {
     "delete_cmd_postfix": "",
     "delete_cmd_prefix": "del ",
     "library": "var_list.py",
     "varRefreshCmd": "print(var_dic_list())"
    },
    "r": {
     "delete_cmd_postfix": ") ",
     "delete_cmd_prefix": "rm(",
     "library": "var_list.r",
     "varRefreshCmd": "cat(var_dic_list()) "
    }
   },
   "position": {
    "height": "144.765px",
    "left": "431.919px",
    "right": "20px",
    "top": "119.993px",
    "width": "349.998px"
   },
   "types_to_exclude": [
    "module",
    "function",
    "builtin_function_or_method",
    "instance",
    "_Feature"
   ],
   "window_display": false
  }
 },
 "nbformat": 4,
 "nbformat_minor": 4
}
