{
 "cells": [
  {
   "cell_type": "code",
   "execution_count": 1,
   "metadata": {
    "ExecuteTime": {
     "end_time": "2021-01-15T22:19:31.981727Z",
     "start_time": "2021-01-15T22:19:31.971754Z"
    }
   },
   "outputs": [
    {
     "data": {
      "text/plain": [
       "{'0': 0, '1': 1, '2': 2, '3': 3, '4': 4}"
      ]
     },
     "execution_count": 1,
     "metadata": {},
     "output_type": "execute_result"
    }
   ],
   "source": [
    "mydict = {str(i):i for i in range(5)}\n",
    "mydict"
   ]
  },
  {
   "cell_type": "code",
   "execution_count": 2,
   "metadata": {
    "ExecuteTime": {
     "end_time": "2021-01-15T22:19:31.993696Z",
     "start_time": "2021-01-15T22:19:31.984720Z"
    }
   },
   "outputs": [
    {
     "name": "stdout",
     "output_type": "stream",
     "text": [
      "C:\\Users\\Edwar\\AppData\\Local\\Programs\\Python\\Python38-32\\Lib\\site-packages\n"
     ]
    }
   ],
   "source": [
    "# find the directory from the installation\n",
    "from distutils.sysconfig import get_python_lib\n",
    "print(get_python_lib())"
   ]
  },
  {
   "cell_type": "code",
   "execution_count": 3,
   "metadata": {
    "ExecuteTime": {
     "end_time": "2021-01-15T22:19:31.998683Z",
     "start_time": "2021-01-15T22:19:31.995692Z"
    }
   },
   "outputs": [],
   "source": [
    "# test the time of the dict() and {}"
   ]
  },
  {
   "cell_type": "code",
   "execution_count": 4,
   "metadata": {
    "ExecuteTime": {
     "end_time": "2021-01-15T22:19:32.057526Z",
     "start_time": "2021-01-15T22:19:32.000677Z"
    }
   },
   "outputs": [
    {
     "name": "stdout",
     "output_type": "stream",
     "text": [
      "10 ns ± 0.972 ns per loop (mean ± std. dev. of 5 runs, 1000000 loops each)\n"
     ]
    }
   ],
   "source": [
    "timeit -n 1000000 -r 5 \"dict()\""
   ]
  },
  {
   "cell_type": "code",
   "execution_count": 5,
   "metadata": {
    "ExecuteTime": {
     "end_time": "2021-01-15T22:19:32.121660Z",
     "start_time": "2021-01-15T22:19:32.059520Z"
    }
   },
   "outputs": [
    {
     "name": "stdout",
     "output_type": "stream",
     "text": [
      "11.1 ns ± 1 ns per loop (mean ± std. dev. of 5 runs, 1000000 loops each)\n"
     ]
    }
   ],
   "source": [
    "timeit -n 1000000 -r 5 \"{}\""
   ]
  },
  {
   "cell_type": "code",
   "execution_count": 6,
   "metadata": {
    "ExecuteTime": {
     "end_time": "2021-01-15T22:19:32.421857Z",
     "start_time": "2021-01-15T22:19:32.122658Z"
    }
   },
   "outputs": [
    {
     "ename": "TypeError",
     "evalue": "don't know how to disassemble dict objects",
     "output_type": "error",
     "traceback": [
      "\u001b[1;31m---------------------------------------------------------------------------\u001b[0m",
      "\u001b[1;31mTypeError\u001b[0m                                 Traceback (most recent call last)",
      "\u001b[1;32m<ipython-input-6-5736df0df2d7>\u001b[0m in \u001b[0;36m<module>\u001b[1;34m\u001b[0m\n\u001b[0;32m      1\u001b[0m \u001b[1;32mimport\u001b[0m \u001b[0mdis\u001b[0m \u001b[1;32mas\u001b[0m \u001b[0mdis\u001b[0m\u001b[1;33m\u001b[0m\u001b[1;33m\u001b[0m\u001b[0m\n\u001b[1;32m----> 2\u001b[1;33m \u001b[0mdis\u001b[0m\u001b[1;33m.\u001b[0m\u001b[0mdis\u001b[0m\u001b[1;33m(\u001b[0m\u001b[0mdict\u001b[0m\u001b[1;33m(\u001b[0m\u001b[1;33m)\u001b[0m\u001b[1;33m)\u001b[0m\u001b[1;33m\u001b[0m\u001b[1;33m\u001b[0m\u001b[0m\n\u001b[0m",
      "\u001b[1;32m~\\AppData\\Local\\Programs\\Python\\Python38-32\\lib\\dis.py\u001b[0m in \u001b[0;36mdis\u001b[1;34m(x, file, depth)\u001b[0m\n\u001b[0;32m     83\u001b[0m         \u001b[0m_disassemble_str\u001b[0m\u001b[1;33m(\u001b[0m\u001b[0mx\u001b[0m\u001b[1;33m,\u001b[0m \u001b[0mfile\u001b[0m\u001b[1;33m=\u001b[0m\u001b[0mfile\u001b[0m\u001b[1;33m,\u001b[0m \u001b[0mdepth\u001b[0m\u001b[1;33m=\u001b[0m\u001b[0mdepth\u001b[0m\u001b[1;33m)\u001b[0m\u001b[1;33m\u001b[0m\u001b[1;33m\u001b[0m\u001b[0m\n\u001b[0;32m     84\u001b[0m     \u001b[1;32melse\u001b[0m\u001b[1;33m:\u001b[0m\u001b[1;33m\u001b[0m\u001b[1;33m\u001b[0m\u001b[0m\n\u001b[1;32m---> 85\u001b[1;33m         raise TypeError(\"don't know how to disassemble %s objects\" %\n\u001b[0m\u001b[0;32m     86\u001b[0m                         type(x).__name__)\n\u001b[0;32m     87\u001b[0m \u001b[1;33m\u001b[0m\u001b[0m\n",
      "\u001b[1;31mTypeError\u001b[0m: don't know how to disassemble dict objects"
     ]
    }
   ],
   "source": [
    "import dis as dis\n",
    "dis.dis(dict())"
   ]
  },
  {
   "cell_type": "code",
   "execution_count": null,
   "metadata": {
    "ExecuteTime": {
     "end_time": "2021-01-15T22:19:32.426850Z",
     "start_time": "2021-01-15T22:19:31.985Z"
    }
   },
   "outputs": [],
   "source": [
    "import antigravity"
   ]
  },
  {
   "cell_type": "code",
   "execution_count": null,
   "metadata": {
    "ExecuteTime": {
     "end_time": "2021-01-15T22:19:32.427841Z",
     "start_time": "2021-01-15T22:19:31.988Z"
    }
   },
   "outputs": [],
   "source": [
    "alist = [0, 1, 2, 3, 4]\n",
    "alist[5:]"
   ]
  },
  {
   "cell_type": "code",
   "execution_count": null,
   "metadata": {
    "ExecuteTime": {
     "end_time": "2021-01-15T22:19:32.428845Z",
     "start_time": "2021-01-15T22:19:31.991Z"
    }
   },
   "outputs": [],
   "source": [
    "alist = [0, 1, 2, 3, 4]\n",
    "alist[100:]"
   ]
  },
  {
   "cell_type": "code",
   "execution_count": null,
   "metadata": {
    "ExecuteTime": {
     "end_time": "2021-01-15T22:19:32.430835Z",
     "start_time": "2021-01-15T22:19:31.994Z"
    }
   },
   "outputs": [],
   "source": [
    "from collections import Counter\n",
    "ct = Counter('abcdbcaa')\n",
    "ct"
   ]
  },
  {
   "cell_type": "code",
   "execution_count": null,
   "metadata": {
    "ExecuteTime": {
     "end_time": "2021-01-15T22:19:32.432830Z",
     "start_time": "2021-01-15T22:19:31.996Z"
    }
   },
   "outputs": [],
   "source": [
    "ct['c'] = 0\n",
    "ct['d'] = -2"
   ]
  },
  {
   "cell_type": "code",
   "execution_count": null,
   "metadata": {
    "ExecuteTime": {
     "end_time": "2021-01-15T22:19:32.433825Z",
     "start_time": "2021-01-15T22:19:31.998Z"
    }
   },
   "outputs": [],
   "source": [
    "ct"
   ]
  },
  {
   "cell_type": "code",
   "execution_count": null,
   "metadata": {
    "ExecuteTime": {
     "end_time": "2021-01-15T22:19:32.434822Z",
     "start_time": "2021-01-15T22:19:32.002Z"
    }
   },
   "outputs": [],
   "source": [
    "# Ways of changing a string to list of characters\n",
    "# One way\n",
    "language = 'Python'\n",
    "lst = tuple(language) "
   ]
  },
  {
   "cell_type": "code",
   "execution_count": null,
   "metadata": {
    "ExecuteTime": {
     "end_time": "2021-01-15T22:19:32.435820Z",
     "start_time": "2021-01-15T22:19:32.004Z"
    }
   },
   "outputs": [],
   "source": [
    "print(type(lst))\n",
    "print(lst)"
   ]
  },
  {
   "cell_type": "code",
   "execution_count": null,
   "metadata": {
    "ExecuteTime": {
     "end_time": "2021-01-15T22:19:32.436817Z",
     "start_time": "2021-01-15T22:19:32.006Z"
    }
   },
   "outputs": [],
   "source": [
    "lst = list(language)\n",
    "print(type(lst))\n",
    "print(lst)"
   ]
  },
  {
   "cell_type": "code",
   "execution_count": null,
   "metadata": {
    "ExecuteTime": {
     "end_time": "2021-01-15T22:19:32.437814Z",
     "start_time": "2021-01-15T22:19:32.009Z"
    }
   },
   "outputs": [],
   "source": [
    "# Second way: using list comprehension\n",
    "lst = [i for i in language]\n",
    "print(type(lst))\n",
    "print(lst)"
   ]
  },
  {
   "cell_type": "code",
   "execution_count": null,
   "metadata": {
    "ExecuteTime": {
     "end_time": "2021-01-15T22:19:32.438811Z",
     "start_time": "2021-01-15T22:19:32.011Z"
    }
   },
   "outputs": [],
   "source": [
    "numbers = [i for i in range(11)]\n",
    "print(numbers)"
   ]
  },
  {
   "cell_type": "code",
   "execution_count": null,
   "metadata": {
    "ExecuteTime": {
     "end_time": "2021-01-15T22:19:32.439810Z",
     "start_time": "2021-01-15T22:19:32.012Z"
    }
   },
   "outputs": [],
   "source": [
    "sqaures = [i * i for i in range(11)]"
   ]
  },
  {
   "cell_type": "code",
   "execution_count": null,
   "metadata": {
    "ExecuteTime": {
     "end_time": "2021-01-15T22:19:32.440806Z",
     "start_time": "2021-01-15T22:19:32.014Z"
    }
   },
   "outputs": [],
   "source": [
    "sqaures"
   ]
  },
  {
   "cell_type": "code",
   "execution_count": null,
   "metadata": {
    "ExecuteTime": {
     "end_time": "2021-01-15T22:19:32.441804Z",
     "start_time": "2021-01-15T22:19:32.016Z"
    }
   },
   "outputs": [],
   "source": [
    "numbers = [(i, i* i) for i in range(11)]\n",
    "print(numbers)"
   ]
  },
  {
   "cell_type": "code",
   "execution_count": null,
   "metadata": {
    "ExecuteTime": {
     "end_time": "2021-01-15T22:19:32.442801Z",
     "start_time": "2021-01-15T22:19:32.018Z"
    }
   },
   "outputs": [],
   "source": [
    "numbers = [(i, i * i) for i in range(11)]\n",
    "print(numbers)"
   ]
  },
  {
   "cell_type": "code",
   "execution_count": null,
   "metadata": {
    "ExecuteTime": {
     "end_time": "2021-01-15T22:19:32.443799Z",
     "start_time": "2021-01-15T22:19:32.020Z"
    }
   },
   "outputs": [],
   "source": [
    "# Generating even numbers\n",
    "even_numbers = [i for i in range(21) if i % 2 == 0]\n",
    "even_numbers"
   ]
  },
  {
   "cell_type": "code",
   "execution_count": null,
   "metadata": {
    "ExecuteTime": {
     "end_time": "2021-01-15T22:19:32.444796Z",
     "start_time": "2021-01-15T22:19:32.025Z"
    }
   },
   "outputs": [],
   "source": [
    "odd_numbers = [i for i in range(21) if i % 2!= 0]\n",
    "odd_numbers"
   ]
  },
  {
   "cell_type": "code",
   "execution_count": null,
   "metadata": {
    "ExecuteTime": {
     "end_time": "2021-01-15T22:19:32.445793Z",
     "start_time": "2021-01-15T22:19:32.027Z"
    }
   },
   "outputs": [],
   "source": [
    "numbers = [-8, -7, -3, -1, 0, 1, 3, 4, 5, 7, 6, 8, 10]\n",
    "positive_even_numbers = [i for i in range(21) if i% 2 == 0 and i > 0]\n",
    "print(positive_even_numbers)"
   ]
  },
  {
   "cell_type": "code",
   "execution_count": null,
   "metadata": {
    "ExecuteTime": {
     "end_time": "2021-01-15T22:19:32.446790Z",
     "start_time": "2021-01-15T22:19:32.029Z"
    }
   },
   "outputs": [],
   "source": [
    "# Flattening a three dimensional array\n",
    "three_dimen_list = [[1, 2, 3], [4, 5, 6], [7, 8, 9]]\n",
    "flattened_list = [ number for row in three_dimen_list for number in row ]\n",
    "flattened_list"
   ]
  },
  {
   "cell_type": "code",
   "execution_count": null,
   "metadata": {
    "ExecuteTime": {
     "end_time": "2021-01-15T22:19:32.447789Z",
     "start_time": "2021-01-15T22:19:32.030Z"
    }
   },
   "outputs": [],
   "source": [
    "total_flattened_list = [ number for number in flattened_list]\n",
    "total_flattened_list"
   ]
  },
  {
   "cell_type": "code",
   "execution_count": null,
   "metadata": {
    "ExecuteTime": {
     "end_time": "2021-01-15T22:19:32.449783Z",
     "start_time": "2021-01-15T22:19:32.033Z"
    }
   },
   "outputs": [],
   "source": [
    "x = lambda param1, param2, param3 : param1 + param2 + param3\n",
    "print(x(arg1, arg2, arg3))"
   ]
  },
  {
   "cell_type": "code",
   "execution_count": null,
   "metadata": {
    "ExecuteTime": {
     "end_time": "2021-01-15T22:19:32.451778Z",
     "start_time": "2021-01-15T22:19:32.035Z"
    }
   },
   "outputs": [],
   "source": [
    "# Named function\n",
    "def add_two_nums(a, b):\n",
    "    return a + b\n",
    "print(2,3)     # 5\n",
    "\n",
    "# Lets change the above function to a lambda function\n",
    "add_two_nums = lambda a, b: a + b\n",
    "print(add_two_nums(2,3))    # 5"
   ]
  },
  {
   "cell_type": "code",
   "execution_count": null,
   "metadata": {
    "ExecuteTime": {
     "end_time": "2021-01-15T22:19:32.453773Z",
     "start_time": "2021-01-15T22:19:32.036Z"
    }
   },
   "outputs": [],
   "source": [
    "(lambda a, b: a+b)(2,3) \n",
    "square = lambda x: x ** 2\n",
    "print(square(3))\n",
    "\n",
    "cube = lambda x: x**3\n",
    "print(cube(3))"
   ]
  },
  {
   "cell_type": "code",
   "execution_count": null,
   "metadata": {
    "ExecuteTime": {
     "end_time": "2021-01-15T22:19:32.454786Z",
     "start_time": "2021-01-15T22:19:32.038Z"
    }
   },
   "outputs": [],
   "source": [
    "Multiple_variable = lambda a, b, c: a ** 2 - 3 * b + 3 * c\n",
    "print(Multiple_variable(5, 5, 3))"
   ]
  },
  {
   "cell_type": "code",
   "execution_count": null,
   "metadata": {
    "ExecuteTime": {
     "end_time": "2021-01-15T22:19:32.456764Z",
     "start_time": "2021-01-15T22:19:32.040Z"
    }
   },
   "outputs": [],
   "source": [
    "# Using a lambda function inside another function\n",
    "\n",
    "def power(x):\n",
    "    return lambda n : x ** n\n",
    "cube = power(2)(3)\n",
    "print(cube)"
   ]
  },
  {
   "cell_type": "code",
   "execution_count": null,
   "metadata": {
    "ExecuteTime": {
     "end_time": "2021-01-15T22:19:32.457761Z",
     "start_time": "2021-01-15T22:19:32.042Z"
    }
   },
   "outputs": [],
   "source": [
    "two_power_of_five = power(2)(5)\n",
    "print(two_power_of_five)"
   ]
  },
  {
   "cell_type": "code",
   "execution_count": null,
   "metadata": {
    "ExecuteTime": {
     "end_time": "2021-01-15T22:19:32.458760Z",
     "start_time": "2021-01-15T22:19:32.044Z"
    }
   },
   "outputs": [],
   "source": [
    "def only_upper(t):\n",
    "    res = []\n",
    "    for s in t:\n",
    "        if s.isupper():\n",
    "            res.append(s)\n",
    "        return res\n",
    "    "
   ]
  },
  {
   "cell_type": "code",
   "execution_count": 7,
   "metadata": {
    "ExecuteTime": {
     "end_time": "2021-01-15T22:20:58.786839Z",
     "start_time": "2021-01-15T22:20:58.782862Z"
    }
   },
   "outputs": [],
   "source": [
    "# Conditional Expression\n",
    "def __init(self, name, contents = None):\n",
    "    self.name = name\n",
    "    if contents ==None:\n",
    "        contents = []\n",
    "    self.pouch_contents = contents"
   ]
  },
  {
   "cell_type": "code",
   "execution_count": 8,
   "metadata": {
    "ExecuteTime": {
     "end_time": "2021-01-15T22:23:08.816814Z",
     "start_time": "2021-01-15T22:23:08.812825Z"
    }
   },
   "outputs": [],
   "source": [
    "def __init__(self, name, contents = None):\n",
    "    self.name = name\n",
    "    self.pouch_contents = [] if contents == None else contents"
   ]
  },
  {
   "cell_type": "code",
   "execution_count": 9,
   "metadata": {
    "ExecuteTime": {
     "end_time": "2021-01-15T22:25:18.700217Z",
     "start_time": "2021-01-15T22:25:18.695230Z"
    }
   },
   "outputs": [],
   "source": [
    "# List Comprehensions\n",
    "def capitalize_all(t):\n",
    "    res = []\n",
    "    for s in t:\n",
    "        res.append(s.capiltalize)\n",
    "    return res\n"
   ]
  },
  {
   "cell_type": "code",
   "execution_count": null,
   "metadata": {},
   "outputs": [],
   "source": [
    "def capitalize_all(t):\n",
    "    return [s.caplitalize() for s in t] # ignore the step of creating a itermediate variable"
   ]
  },
  {
   "cell_type": "code",
   "execution_count": 10,
   "metadata": {
    "ExecuteTime": {
     "end_time": "2021-01-15T22:29:03.080010Z",
     "start_time": "2021-01-15T22:29:03.075024Z"
    }
   },
   "outputs": [],
   "source": [
    "def only_upper(t):\n",
    "    return [s for s in t if s.usupper()]\n"
   ]
  },
  {
   "cell_type": "code",
   "execution_count": 11,
   "metadata": {
    "ExecuteTime": {
     "end_time": "2021-01-15T22:31:41.716017Z",
     "start_time": "2021-01-15T22:31:41.711029Z"
    }
   },
   "outputs": [
    {
     "data": {
      "text/plain": [
       "30"
      ]
     },
     "execution_count": 11,
     "metadata": {},
     "output_type": "execute_result"
    }
   ],
   "source": [
    "# Generator expressions\n",
    "sum(x **2 for x in range(5))"
   ]
  },
  {
   "cell_type": "code",
   "execution_count": 14,
   "metadata": {
    "ExecuteTime": {
     "end_time": "2021-01-15T22:32:36.061851Z",
     "start_time": "2021-01-15T22:32:36.055900Z"
    }
   },
   "outputs": [
    {
     "data": {
      "text/plain": [
       "16"
      ]
     },
     "execution_count": 14,
     "metadata": {},
     "output_type": "execute_result"
    }
   ],
   "source": [
    "max(x ** 2 for x in range(5))"
   ]
  },
  {
   "cell_type": "code",
   "execution_count": 15,
   "metadata": {
    "ExecuteTime": {
     "end_time": "2021-01-15T22:33:08.618931Z",
     "start_time": "2021-01-15T22:33:08.613945Z"
    }
   },
   "outputs": [
    {
     "data": {
      "text/plain": [
       "True"
      ]
     },
     "execution_count": 15,
     "metadata": {},
     "output_type": "execute_result"
    }
   ],
   "source": [
    "any([False, False, True]) "
   ]
  },
  {
   "cell_type": "code",
   "execution_count": 16,
   "metadata": {
    "ExecuteTime": {
     "end_time": "2021-01-15T22:33:49.931313Z",
     "start_time": "2021-01-15T22:33:49.926326Z"
    }
   },
   "outputs": [
    {
     "data": {
      "text/plain": [
       "True"
      ]
     },
     "execution_count": 16,
     "metadata": {},
     "output_type": "execute_result"
    }
   ],
   "source": [
    "any(letter == 't' for letter in 'monty')"
   ]
  },
  {
   "cell_type": "code",
   "execution_count": 17,
   "metadata": {
    "ExecuteTime": {
     "end_time": "2021-01-15T22:37:55.153023Z",
     "start_time": "2021-01-15T22:37:55.148036Z"
    }
   },
   "outputs": [],
   "source": [
    "def avoids(word, forbidden):\n",
    "    return not any(letter in forbidden for letter in word) "
   ]
  },
  {
   "cell_type": "code",
   "execution_count": 18,
   "metadata": {
    "ExecuteTime": {
     "end_time": "2021-01-15T22:39:16.092830Z",
     "start_time": "2021-01-15T22:39:16.088839Z"
    }
   },
   "outputs": [],
   "source": [
    "def subtract(d1, d2):\n",
    "    res = dict()\n",
    "    for key in d1:\n",
    "        if key not in d2:\n",
    "            res[key] = None\n",
    "        return res"
   ]
  },
  {
   "cell_type": "code",
   "execution_count": 19,
   "metadata": {
    "ExecuteTime": {
     "end_time": "2021-01-15T22:41:24.398832Z",
     "start_time": "2021-01-15T22:41:24.394825Z"
    }
   },
   "outputs": [],
   "source": [
    "def subtract(d1, d2):\n",
    "    return set(d1) - set(d2)"
   ]
  },
  {
   "cell_type": "code",
   "execution_count": 20,
   "metadata": {
    "ExecuteTime": {
     "end_time": "2021-01-15T22:43:26.755900Z",
     "start_time": "2021-01-15T22:43:26.750886Z"
    }
   },
   "outputs": [],
   "source": [
    "def has_duplicates(t):\n",
    "    d = {}\n",
    "    for x in t:\n",
    "        if x in d:\n",
    "            return True\n",
    "        d[x] = True\n",
    "    return False"
   ]
  },
  {
   "cell_type": "code",
   "execution_count": 24,
   "metadata": {
    "ExecuteTime": {
     "end_time": "2021-01-16T01:38:37.508108Z",
     "start_time": "2021-01-16T01:38:37.502190Z"
    }
   },
   "outputs": [
    {
     "data": {
      "text/plain": [
       "True"
      ]
     },
     "execution_count": 24,
     "metadata": {},
     "output_type": "execute_result"
    }
   ],
   "source": [
    "def has_duplicates(t):\n",
    "    return len(set(t)) < len(t)\n",
    "\n",
    "has_duplicates((1,2,2,3))"
   ]
  },
  {
   "cell_type": "code",
   "execution_count": 25,
   "metadata": {
    "ExecuteTime": {
     "end_time": "2021-01-16T01:42:02.248242Z",
     "start_time": "2021-01-16T01:42:02.244239Z"
    }
   },
   "outputs": [
    {
     "data": {
      "text/plain": [
       "False"
      ]
     },
     "execution_count": 25,
     "metadata": {},
     "output_type": "execute_result"
    }
   ],
   "source": [
    "has_duplicates((1,2,3))"
   ]
  },
  {
   "cell_type": "code",
   "execution_count": 33,
   "metadata": {
    "ExecuteTime": {
     "end_time": "2021-01-16T01:44:00.953476Z",
     "start_time": "2021-01-16T01:44:00.947497Z"
    }
   },
   "outputs": [
    {
     "data": {
      "text/plain": [
       "{1, 2}"
      ]
     },
     "execution_count": 33,
     "metadata": {},
     "output_type": "execute_result"
    }
   ],
   "source": [
    "set((1,2,2))"
   ]
  },
  {
   "cell_type": "code",
   "execution_count": 31,
   "metadata": {
    "ExecuteTime": {
     "end_time": "2021-01-16T01:43:19.758999Z",
     "start_time": "2021-01-16T01:43:19.753014Z"
    }
   },
   "outputs": [
    {
     "data": {
      "text/plain": [
       "3"
      ]
     },
     "execution_count": 31,
     "metadata": {},
     "output_type": "execute_result"
    }
   ],
   "source": [
    "len((1,2,3))"
   ]
  },
  {
   "cell_type": "code",
   "execution_count": 32,
   "metadata": {
    "ExecuteTime": {
     "end_time": "2021-01-16T01:43:31.964757Z",
     "start_time": "2021-01-16T01:43:31.958639Z"
    }
   },
   "outputs": [
    {
     "data": {
      "text/plain": [
       "3"
      ]
     },
     "execution_count": 32,
     "metadata": {},
     "output_type": "execute_result"
    }
   ],
   "source": [
    "len(set((1,2,3)))"
   ]
  },
  {
   "cell_type": "code",
   "execution_count": 38,
   "metadata": {
    "ExecuteTime": {
     "end_time": "2021-01-16T01:45:47.247354Z",
     "start_time": "2021-01-16T01:45:47.243338Z"
    }
   },
   "outputs": [],
   "source": [
    "def uses_only(word, available):\n",
    "    for letter in word:\n",
    "        if letter not in available:\n",
    "            return False\n",
    "    return True"
   ]
  },
  {
   "cell_type": "code",
   "execution_count": 46,
   "metadata": {
    "ExecuteTime": {
     "end_time": "2021-01-16T01:52:45.083945Z",
     "start_time": "2021-01-16T01:52:45.077600Z"
    }
   },
   "outputs": [
    {
     "data": {
      "text/plain": [
       "True"
      ]
     },
     "execution_count": 46,
     "metadata": {},
     "output_type": "execute_result"
    }
   ],
   "source": [
    " def uses_only(word, available):\n",
    "        return set(word) <= set(available)\n",
    "    \n",
    "uses_only('lol','lsklo')\n"
   ]
  },
  {
   "cell_type": "code",
   "execution_count": 47,
   "metadata": {
    "ExecuteTime": {
     "end_time": "2021-01-16T01:53:22.806381Z",
     "start_time": "2021-01-16T01:53:22.799389Z"
    }
   },
   "outputs": [
    {
     "data": {
      "text/plain": [
       "Counter({'p': 1, 'a': 1, 'r': 3, 'o': 1})"
      ]
     },
     "execution_count": 47,
     "metadata": {},
     "output_type": "execute_result"
    }
   ],
   "source": [
    "from collections import Counter\n",
    "count = Counter('parror')\n",
    "count"
   ]
  },
  {
   "cell_type": "code",
   "execution_count": 48,
   "metadata": {
    "ExecuteTime": {
     "end_time": "2021-01-16T01:54:48.614519Z",
     "start_time": "2021-01-16T01:54:48.609534Z"
    }
   },
   "outputs": [
    {
     "data": {
      "text/plain": [
       "['a', 'o', 'p', 'r']"
      ]
     },
     "execution_count": 48,
     "metadata": {},
     "output_type": "execute_result"
    }
   ],
   "source": [
    "sorted(count)   "
   ]
  },
  {
   "cell_type": "code",
   "execution_count": 52,
   "metadata": {
    "ExecuteTime": {
     "end_time": "2021-01-16T02:05:57.825027Z",
     "start_time": "2021-01-16T02:05:57.818046Z"
    }
   },
   "outputs": [
    {
     "data": {
      "text/plain": [
       "True"
      ]
     },
     "execution_count": 52,
     "metadata": {},
     "output_type": "execute_result"
    }
   ],
   "source": [
    "def is_anagram(word1, word2):\n",
    "    return Counter(word1) == Counter(word2)\n",
    "\n",
    "is_anagram('abc','bca')"
   ]
  },
  {
   "cell_type": "code",
   "execution_count": 53,
   "metadata": {
    "ExecuteTime": {
     "end_time": "2021-01-16T02:07:12.738916Z",
     "start_time": "2021-01-16T02:07:12.732933Z"
    }
   },
   "outputs": [
    {
     "name": "stdout",
     "output_type": "stream",
     "text": [
      "r 2\n",
      "p 1\n",
      "a 1\n"
     ]
    }
   ],
   "source": [
    "count = Counter('parrot')\n",
    "for val, freq in count.most_common(3):\n",
    "    print(val, freq)"
   ]
  },
  {
   "cell_type": "code",
   "execution_count": null,
   "metadata": {},
   "outputs": [],
   "source": []
  }
 ],
 "metadata": {
  "kernelspec": {
   "display_name": "Python 3.8.5 32-bit",
   "language": "python",
   "name": "python38532bit47a94b2ab21247dfb60b10beee68e0ef"
  },
  "language_info": {
   "codemirror_mode": {
    "name": "ipython",
    "version": 3
   },
   "file_extension": ".py",
   "mimetype": "text/x-python",
   "name": "python",
   "nbconvert_exporter": "python",
   "pygments_lexer": "ipython3",
   "version": "3.8.5"
  },
  "toc": {
   "base_numbering": 1,
   "nav_menu": {},
   "number_sections": true,
   "sideBar": true,
   "skip_h1_title": false,
   "title_cell": "Table of Contents",
   "title_sidebar": "Contents",
   "toc_cell": false,
   "toc_position": {},
   "toc_section_display": true,
   "toc_window_display": false
  },
  "varInspector": {
   "cols": {
    "lenName": 16,
    "lenType": 16,
    "lenVar": 40
   },
   "kernels_config": {
    "python": {
     "delete_cmd_postfix": "",
     "delete_cmd_prefix": "del ",
     "library": "var_list.py",
     "varRefreshCmd": "print(var_dic_list())"
    },
    "r": {
     "delete_cmd_postfix": ") ",
     "delete_cmd_prefix": "rm(",
     "library": "var_list.r",
     "varRefreshCmd": "cat(var_dic_list()) "
    }
   },
   "types_to_exclude": [
    "module",
    "function",
    "builtin_function_or_method",
    "instance",
    "_Feature"
   ],
   "window_display": false
  }
 },
 "nbformat": 4,
 "nbformat_minor": 4
}
