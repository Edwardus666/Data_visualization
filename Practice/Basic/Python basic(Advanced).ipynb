{
 "cells": [
  {
   "cell_type": "code",
   "execution_count": 1,
   "metadata": {
    "ExecuteTime": {
     "end_time": "2021-01-21T20:56:06.848010Z",
     "start_time": "2021-01-21T20:56:06.836048Z"
    }
   },
   "outputs": [
    {
     "data": {
      "text/plain": [
       "{'0': 0, '1': 1, '2': 2, '3': 3, '4': 4}"
      ]
     },
     "execution_count": 1,
     "metadata": {},
     "output_type": "execute_result"
    }
   ],
   "source": [
    "mydict = {str(i):i for i in range(5)}\n",
    "mydict"
   ]
  },
  {
   "cell_type": "code",
   "execution_count": 2,
   "metadata": {
    "ExecuteTime": {
     "end_time": "2021-01-21T20:56:06.857985Z",
     "start_time": "2021-01-21T20:56:06.850006Z"
    }
   },
   "outputs": [
    {
     "name": "stdout",
     "output_type": "stream",
     "text": [
      "C:\\Users\\Edwar\\AppData\\Local\\Programs\\Python\\Python38-32\\Lib\\site-packages\n"
     ]
    }
   ],
   "source": [
    "# find the directory from the installation\n",
    "from distutils.sysconfig import get_python_lib\n",
    "print(get_python_lib())"
   ]
  },
  {
   "cell_type": "code",
   "execution_count": 3,
   "metadata": {
    "ExecuteTime": {
     "end_time": "2021-01-21T20:56:06.862971Z",
     "start_time": "2021-01-21T20:56:06.859979Z"
    }
   },
   "outputs": [],
   "source": [
    "# test the time of the dict() and {}"
   ]
  },
  {
   "cell_type": "code",
   "execution_count": 4,
   "metadata": {
    "ExecuteTime": {
     "end_time": "2021-01-21T20:56:06.942761Z",
     "start_time": "2021-01-21T20:56:06.864964Z"
    }
   },
   "outputs": [
    {
     "name": "stdout",
     "output_type": "stream",
     "text": [
      "14.4 ns ± 5 ns per loop (mean ± std. dev. of 5 runs, 1000000 loops each)\n"
     ]
    }
   ],
   "source": [
    "timeit -n 1000000 -r 5 \"dict()\""
   ]
  },
  {
   "cell_type": "code",
   "execution_count": 5,
   "metadata": {
    "ExecuteTime": {
     "end_time": "2021-01-21T20:56:07.033515Z",
     "start_time": "2021-01-21T20:56:06.946747Z"
    }
   },
   "outputs": [
    {
     "name": "stdout",
     "output_type": "stream",
     "text": [
      "16.1 ns ± 5.02 ns per loop (mean ± std. dev. of 5 runs, 1000000 loops each)\n"
     ]
    }
   ],
   "source": [
    "timeit -n 1000000 -r 5 \"{}\""
   ]
  },
  {
   "cell_type": "code",
   "execution_count": 6,
   "metadata": {
    "ExecuteTime": {
     "end_time": "2021-01-21T20:56:07.370663Z",
     "start_time": "2021-01-21T20:56:07.036521Z"
    }
   },
   "outputs": [
    {
     "ename": "TypeError",
     "evalue": "don't know how to disassemble dict objects",
     "output_type": "error",
     "traceback": [
      "\u001b[1;31m---------------------------------------------------------------------------\u001b[0m",
      "\u001b[1;31mTypeError\u001b[0m                                 Traceback (most recent call last)",
      "\u001b[1;32m<ipython-input-6-5736df0df2d7>\u001b[0m in \u001b[0;36m<module>\u001b[1;34m\u001b[0m\n\u001b[0;32m      1\u001b[0m \u001b[1;32mimport\u001b[0m \u001b[0mdis\u001b[0m \u001b[1;32mas\u001b[0m \u001b[0mdis\u001b[0m\u001b[1;33m\u001b[0m\u001b[1;33m\u001b[0m\u001b[0m\n\u001b[1;32m----> 2\u001b[1;33m \u001b[0mdis\u001b[0m\u001b[1;33m.\u001b[0m\u001b[0mdis\u001b[0m\u001b[1;33m(\u001b[0m\u001b[0mdict\u001b[0m\u001b[1;33m(\u001b[0m\u001b[1;33m)\u001b[0m\u001b[1;33m)\u001b[0m\u001b[1;33m\u001b[0m\u001b[1;33m\u001b[0m\u001b[0m\n\u001b[0m",
      "\u001b[1;32m~\\AppData\\Local\\Programs\\Python\\Python38-32\\lib\\dis.py\u001b[0m in \u001b[0;36mdis\u001b[1;34m(x, file, depth)\u001b[0m\n\u001b[0;32m     83\u001b[0m         \u001b[0m_disassemble_str\u001b[0m\u001b[1;33m(\u001b[0m\u001b[0mx\u001b[0m\u001b[1;33m,\u001b[0m \u001b[0mfile\u001b[0m\u001b[1;33m=\u001b[0m\u001b[0mfile\u001b[0m\u001b[1;33m,\u001b[0m \u001b[0mdepth\u001b[0m\u001b[1;33m=\u001b[0m\u001b[0mdepth\u001b[0m\u001b[1;33m)\u001b[0m\u001b[1;33m\u001b[0m\u001b[1;33m\u001b[0m\u001b[0m\n\u001b[0;32m     84\u001b[0m     \u001b[1;32melse\u001b[0m\u001b[1;33m:\u001b[0m\u001b[1;33m\u001b[0m\u001b[1;33m\u001b[0m\u001b[0m\n\u001b[1;32m---> 85\u001b[1;33m         raise TypeError(\"don't know how to disassemble %s objects\" %\n\u001b[0m\u001b[0;32m     86\u001b[0m                         type(x).__name__)\n\u001b[0;32m     87\u001b[0m \u001b[1;33m\u001b[0m\u001b[0m\n",
      "\u001b[1;31mTypeError\u001b[0m: don't know how to disassemble dict objects"
     ]
    }
   ],
   "source": [
    "import dis as dis\n",
    "dis.dis(dict())"
   ]
  },
  {
   "cell_type": "code",
   "execution_count": null,
   "metadata": {
    "ExecuteTime": {
     "end_time": "2021-01-21T20:56:07.396591Z",
     "start_time": "2021-01-21T20:56:03.382Z"
    }
   },
   "outputs": [],
   "source": [
    "import antigravity"
   ]
  },
  {
   "cell_type": "code",
   "execution_count": null,
   "metadata": {
    "ExecuteTime": {
     "end_time": "2021-01-21T20:56:07.398587Z",
     "start_time": "2021-01-21T20:56:03.385Z"
    }
   },
   "outputs": [],
   "source": [
    "alist = [0, 1, 2, 3, 4]\n",
    "alist[5:]"
   ]
  },
  {
   "cell_type": "code",
   "execution_count": null,
   "metadata": {
    "ExecuteTime": {
     "end_time": "2021-01-21T20:56:07.399584Z",
     "start_time": "2021-01-21T20:56:03.387Z"
    }
   },
   "outputs": [],
   "source": [
    "alist = [0, 1, 2, 3, 4]\n",
    "alist[100:]"
   ]
  },
  {
   "cell_type": "code",
   "execution_count": null,
   "metadata": {
    "ExecuteTime": {
     "end_time": "2021-01-21T20:56:07.401578Z",
     "start_time": "2021-01-21T20:56:03.390Z"
    }
   },
   "outputs": [],
   "source": [
    "from collections import Counter\n",
    "ct = Counter('abcdbcaa')\n",
    "ct"
   ]
  },
  {
   "cell_type": "code",
   "execution_count": null,
   "metadata": {
    "ExecuteTime": {
     "end_time": "2021-01-21T20:56:07.402576Z",
     "start_time": "2021-01-21T20:56:03.394Z"
    }
   },
   "outputs": [],
   "source": [
    "ct['c'] = 0\n",
    "ct['d'] = -2"
   ]
  },
  {
   "cell_type": "code",
   "execution_count": null,
   "metadata": {
    "ExecuteTime": {
     "end_time": "2021-01-21T20:56:07.403573Z",
     "start_time": "2021-01-21T20:56:03.396Z"
    }
   },
   "outputs": [],
   "source": [
    "ct"
   ]
  },
  {
   "cell_type": "code",
   "execution_count": null,
   "metadata": {
    "ExecuteTime": {
     "end_time": "2021-01-21T20:56:07.404570Z",
     "start_time": "2021-01-21T20:56:03.399Z"
    }
   },
   "outputs": [],
   "source": [
    "# Ways of changing a string to list of characters\n",
    "# One way\n",
    "language = 'Python'\n",
    "lst = tuple(language) "
   ]
  },
  {
   "cell_type": "code",
   "execution_count": null,
   "metadata": {
    "ExecuteTime": {
     "end_time": "2021-01-21T20:56:07.405566Z",
     "start_time": "2021-01-21T20:56:03.402Z"
    }
   },
   "outputs": [],
   "source": [
    "print(type(lst))\n",
    "print(lst)"
   ]
  },
  {
   "cell_type": "code",
   "execution_count": null,
   "metadata": {
    "ExecuteTime": {
     "end_time": "2021-01-21T20:56:07.407574Z",
     "start_time": "2021-01-21T20:56:03.412Z"
    }
   },
   "outputs": [],
   "source": [
    "lst = list(language)\n",
    "print(type(lst))\n",
    "print(lst)"
   ]
  },
  {
   "cell_type": "code",
   "execution_count": null,
   "metadata": {
    "ExecuteTime": {
     "end_time": "2021-01-21T20:56:07.409557Z",
     "start_time": "2021-01-21T20:56:03.418Z"
    }
   },
   "outputs": [],
   "source": [
    "# Second way: using list comprehension\n",
    "lst = [i for i in language]\n",
    "print(type(lst))\n",
    "print(lst)"
   ]
  },
  {
   "cell_type": "code",
   "execution_count": null,
   "metadata": {
    "ExecuteTime": {
     "end_time": "2021-01-21T20:56:07.410553Z",
     "start_time": "2021-01-21T20:56:03.422Z"
    }
   },
   "outputs": [],
   "source": [
    "numbers = [i for i in range(11)]\n",
    "print(numbers)"
   ]
  },
  {
   "cell_type": "code",
   "execution_count": null,
   "metadata": {
    "ExecuteTime": {
     "end_time": "2021-01-21T20:56:07.411573Z",
     "start_time": "2021-01-21T20:56:03.429Z"
    }
   },
   "outputs": [],
   "source": [
    "sqaures = [i * i for i in range(11)]"
   ]
  },
  {
   "cell_type": "code",
   "execution_count": null,
   "metadata": {
    "ExecuteTime": {
     "end_time": "2021-01-21T20:56:07.413546Z",
     "start_time": "2021-01-21T20:56:03.432Z"
    }
   },
   "outputs": [],
   "source": [
    "sqaures"
   ]
  },
  {
   "cell_type": "code",
   "execution_count": null,
   "metadata": {
    "ExecuteTime": {
     "end_time": "2021-01-21T20:56:07.414543Z",
     "start_time": "2021-01-21T20:56:03.445Z"
    }
   },
   "outputs": [],
   "source": [
    "numbers = [(i, i* i) for i in range(11)]\n",
    "print(numbers)"
   ]
  },
  {
   "cell_type": "code",
   "execution_count": null,
   "metadata": {
    "ExecuteTime": {
     "end_time": "2021-01-21T20:56:07.414543Z",
     "start_time": "2021-01-21T20:56:03.451Z"
    }
   },
   "outputs": [],
   "source": [
    "numbers = [(i, i * i) for i in range(11)]\n",
    "print(numbers)"
   ]
  },
  {
   "cell_type": "code",
   "execution_count": null,
   "metadata": {
    "ExecuteTime": {
     "end_time": "2021-01-21T20:56:07.415540Z",
     "start_time": "2021-01-21T20:56:03.455Z"
    }
   },
   "outputs": [],
   "source": [
    "# Generating even numbers\n",
    "even_numbers = [i for i in range(21) if i % 2 == 0]\n",
    "even_numbers"
   ]
  },
  {
   "cell_type": "code",
   "execution_count": null,
   "metadata": {
    "ExecuteTime": {
     "end_time": "2021-01-21T20:56:07.416538Z",
     "start_time": "2021-01-21T20:56:03.458Z"
    }
   },
   "outputs": [],
   "source": [
    "odd_numbers = [i for i in range(21) if i % 2!= 0]\n",
    "odd_numbers"
   ]
  },
  {
   "cell_type": "code",
   "execution_count": null,
   "metadata": {
    "ExecuteTime": {
     "end_time": "2021-01-21T20:56:07.417535Z",
     "start_time": "2021-01-21T20:56:03.462Z"
    }
   },
   "outputs": [],
   "source": [
    "numbers = [-8, -7, -3, -1, 0, 1, 3, 4, 5, 7, 6, 8, 10]\n",
    "positive_even_numbers = [i for i in range(21) if i% 2 == 0 and i > 0]\n",
    "print(positive_even_numbers)"
   ]
  },
  {
   "cell_type": "code",
   "execution_count": null,
   "metadata": {
    "ExecuteTime": {
     "end_time": "2021-01-21T20:56:07.419530Z",
     "start_time": "2021-01-21T20:56:03.465Z"
    }
   },
   "outputs": [],
   "source": [
    "# Flattening a three dimensional array\n",
    "three_dimen_list = [[1, 2, 3], [4, 5, 6], [7, 8, 9]]\n",
    "flattened_list = [ number for row in three_dimen_list for number in row ]\n",
    "flattened_list"
   ]
  },
  {
   "cell_type": "code",
   "execution_count": null,
   "metadata": {
    "ExecuteTime": {
     "end_time": "2021-01-21T20:56:07.420527Z",
     "start_time": "2021-01-21T20:56:03.467Z"
    }
   },
   "outputs": [],
   "source": [
    "total_flattened_list = [ number for number in flattened_list]\n",
    "total_flattened_list"
   ]
  },
  {
   "cell_type": "code",
   "execution_count": null,
   "metadata": {
    "ExecuteTime": {
     "end_time": "2021-01-21T20:56:07.422523Z",
     "start_time": "2021-01-21T20:56:03.474Z"
    }
   },
   "outputs": [],
   "source": [
    "x = lambda param1, param2, param3 : param1 + param2 + param3\n",
    "print(x(arg1, arg2, arg3))"
   ]
  },
  {
   "cell_type": "code",
   "execution_count": null,
   "metadata": {
    "ExecuteTime": {
     "end_time": "2021-01-21T20:56:07.423519Z",
     "start_time": "2021-01-21T20:56:03.482Z"
    }
   },
   "outputs": [],
   "source": [
    "# Named function\n",
    "def add_two_nums(a, b):\n",
    "    return a + b\n",
    "print(2,3)     # 5\n",
    "\n",
    "# Lets change the above function to a lambda function\n",
    "add_two_nums = lambda a, b: a + b\n",
    "print(add_two_nums(2,3))    # 5"
   ]
  },
  {
   "cell_type": "code",
   "execution_count": null,
   "metadata": {
    "ExecuteTime": {
     "end_time": "2021-01-21T20:56:07.424517Z",
     "start_time": "2021-01-21T20:56:03.488Z"
    }
   },
   "outputs": [],
   "source": [
    "(lambda a, b: a+b)(2,3) \n",
    "square = lambda x: x ** 2\n",
    "print(square(3))\n",
    "\n",
    "cube = lambda x: x**3\n",
    "print(cube(3))"
   ]
  },
  {
   "cell_type": "code",
   "execution_count": null,
   "metadata": {
    "ExecuteTime": {
     "end_time": "2021-01-21T20:56:07.425514Z",
     "start_time": "2021-01-21T20:56:03.492Z"
    }
   },
   "outputs": [],
   "source": [
    "Multiple_variable = lambda a, b, c: a ** 2 - 3 * b + 3 * c\n",
    "print(Multiple_variable(5, 5, 3))"
   ]
  },
  {
   "cell_type": "code",
   "execution_count": null,
   "metadata": {
    "ExecuteTime": {
     "end_time": "2021-01-21T20:56:07.427512Z",
     "start_time": "2021-01-21T20:56:03.496Z"
    }
   },
   "outputs": [],
   "source": [
    "# Using a lambda function inside another function\n",
    "\n",
    "def power(x):\n",
    "    return lambda n : x ** n\n",
    "cube = power(2)(3)\n",
    "print(cube)"
   ]
  },
  {
   "cell_type": "code",
   "execution_count": null,
   "metadata": {
    "ExecuteTime": {
     "end_time": "2021-01-21T20:56:07.428509Z",
     "start_time": "2021-01-21T20:56:03.499Z"
    }
   },
   "outputs": [],
   "source": [
    "two_power_of_five = power(2)(5)\n",
    "print(two_power_of_five)"
   ]
  },
  {
   "cell_type": "code",
   "execution_count": null,
   "metadata": {
    "ExecuteTime": {
     "end_time": "2021-01-21T20:56:07.429505Z",
     "start_time": "2021-01-21T20:56:03.503Z"
    }
   },
   "outputs": [],
   "source": [
    "def only_upper(t):\n",
    "    res = []\n",
    "    for s in t:\n",
    "        if s.isupper():\n",
    "            res.append(s)\n",
    "        return res\n",
    "    "
   ]
  },
  {
   "cell_type": "code",
   "execution_count": null,
   "metadata": {
    "ExecuteTime": {
     "end_time": "2021-01-21T20:56:07.430502Z",
     "start_time": "2021-01-21T20:56:03.509Z"
    }
   },
   "outputs": [],
   "source": [
    "# Conditional Expression\n",
    "def __init(self, name, contents = None):\n",
    "    self.name = name\n",
    "    if contents ==None:\n",
    "        contents = []\n",
    "    self.pouch_contents = contents"
   ]
  },
  {
   "cell_type": "code",
   "execution_count": null,
   "metadata": {
    "ExecuteTime": {
     "end_time": "2021-01-21T20:56:07.432495Z",
     "start_time": "2021-01-21T20:56:03.517Z"
    }
   },
   "outputs": [],
   "source": [
    "def __init__(self, name, contents = None):\n",
    "    self.name = name\n",
    "    self.pouch_contents = [] if contents == None else contents"
   ]
  },
  {
   "cell_type": "code",
   "execution_count": null,
   "metadata": {
    "ExecuteTime": {
     "end_time": "2021-01-21T20:56:07.433493Z",
     "start_time": "2021-01-21T20:56:03.524Z"
    }
   },
   "outputs": [],
   "source": [
    "# List Comprehensions\n",
    "def capitalize_all(t):\n",
    "    res = []\n",
    "    for s in t:\n",
    "        res.append(s.capiltalize)\n",
    "    return res\n"
   ]
  },
  {
   "cell_type": "code",
   "execution_count": null,
   "metadata": {
    "ExecuteTime": {
     "end_time": "2021-01-21T20:56:07.434491Z",
     "start_time": "2021-01-21T20:56:03.528Z"
    }
   },
   "outputs": [],
   "source": [
    "def capitalize_all(t):\n",
    "    return [s.caplitalize() for s in t] # ignore the step of creating a itermediate variable"
   ]
  },
  {
   "cell_type": "code",
   "execution_count": null,
   "metadata": {
    "ExecuteTime": {
     "end_time": "2021-01-21T20:56:07.436485Z",
     "start_time": "2021-01-21T20:56:03.532Z"
    }
   },
   "outputs": [],
   "source": [
    "def only_upper(t):\n",
    "    return [s for s in t if s.usupper()]\n"
   ]
  },
  {
   "cell_type": "code",
   "execution_count": null,
   "metadata": {
    "ExecuteTime": {
     "end_time": "2021-01-21T20:56:07.437482Z",
     "start_time": "2021-01-21T20:56:03.534Z"
    }
   },
   "outputs": [],
   "source": [
    "# Generator expressions\n",
    "sum(x **2 for x in range(5))"
   ]
  },
  {
   "cell_type": "code",
   "execution_count": null,
   "metadata": {
    "ExecuteTime": {
     "end_time": "2021-01-21T20:56:07.438479Z",
     "start_time": "2021-01-21T20:56:03.539Z"
    }
   },
   "outputs": [],
   "source": [
    "max(x ** 2 for x in range(5))"
   ]
  },
  {
   "cell_type": "code",
   "execution_count": null,
   "metadata": {
    "ExecuteTime": {
     "end_time": "2021-01-21T20:56:07.439476Z",
     "start_time": "2021-01-21T20:56:03.545Z"
    }
   },
   "outputs": [],
   "source": [
    "any([False, False, True]) "
   ]
  },
  {
   "cell_type": "code",
   "execution_count": null,
   "metadata": {
    "ExecuteTime": {
     "end_time": "2021-01-21T20:56:07.440473Z",
     "start_time": "2021-01-21T20:56:03.554Z"
    }
   },
   "outputs": [],
   "source": [
    "any(letter == 't' for letter in 'monty')"
   ]
  },
  {
   "cell_type": "code",
   "execution_count": null,
   "metadata": {
    "ExecuteTime": {
     "end_time": "2021-01-21T20:56:07.441471Z",
     "start_time": "2021-01-21T20:56:03.561Z"
    }
   },
   "outputs": [],
   "source": [
    "def avoids(word, forbidden):\n",
    "    return not any(letter in forbidden for letter in word) "
   ]
  },
  {
   "cell_type": "code",
   "execution_count": null,
   "metadata": {
    "ExecuteTime": {
     "end_time": "2021-01-21T20:56:07.442469Z",
     "start_time": "2021-01-21T20:56:03.566Z"
    }
   },
   "outputs": [],
   "source": [
    "def subtract(d1, d2):\n",
    "    res = dict()\n",
    "    for key in d1:\n",
    "        if key not in d2:\n",
    "            res[key] = None\n",
    "        return res"
   ]
  },
  {
   "cell_type": "code",
   "execution_count": null,
   "metadata": {
    "ExecuteTime": {
     "end_time": "2021-01-21T20:56:07.443467Z",
     "start_time": "2021-01-21T20:56:03.571Z"
    }
   },
   "outputs": [],
   "source": [
    "def subtract(d1, d2):\n",
    "    return set(d1) - set(d2)"
   ]
  },
  {
   "cell_type": "code",
   "execution_count": null,
   "metadata": {
    "ExecuteTime": {
     "end_time": "2021-01-21T20:56:07.443467Z",
     "start_time": "2021-01-21T20:56:03.574Z"
    }
   },
   "outputs": [],
   "source": [
    "def has_duplicates(t):\n",
    "    d = {}\n",
    "    for x in t:\n",
    "        if x in d:\n",
    "            return True\n",
    "        d[x] = True\n",
    "    return False"
   ]
  },
  {
   "cell_type": "code",
   "execution_count": null,
   "metadata": {
    "ExecuteTime": {
     "end_time": "2021-01-21T20:56:07.444462Z",
     "start_time": "2021-01-21T20:56:03.578Z"
    }
   },
   "outputs": [],
   "source": [
    "def has_duplicates(t):\n",
    "    return len(set(t)) < len(t)\n",
    "\n",
    "has_duplicates((1,2,2,3))"
   ]
  },
  {
   "cell_type": "code",
   "execution_count": null,
   "metadata": {
    "ExecuteTime": {
     "end_time": "2021-01-21T20:56:07.445460Z",
     "start_time": "2021-01-21T20:56:03.581Z"
    }
   },
   "outputs": [],
   "source": [
    "has_duplicates((1,2,3))"
   ]
  },
  {
   "cell_type": "code",
   "execution_count": null,
   "metadata": {
    "ExecuteTime": {
     "end_time": "2021-01-21T20:56:07.446457Z",
     "start_time": "2021-01-21T20:56:03.586Z"
    }
   },
   "outputs": [],
   "source": [
    "set((1,2,2))"
   ]
  },
  {
   "cell_type": "code",
   "execution_count": null,
   "metadata": {
    "ExecuteTime": {
     "end_time": "2021-01-21T20:56:07.447455Z",
     "start_time": "2021-01-21T20:56:03.589Z"
    }
   },
   "outputs": [],
   "source": [
    "len((1,2,3))"
   ]
  },
  {
   "cell_type": "code",
   "execution_count": null,
   "metadata": {
    "ExecuteTime": {
     "end_time": "2021-01-21T20:56:07.448452Z",
     "start_time": "2021-01-21T20:56:03.591Z"
    }
   },
   "outputs": [],
   "source": [
    "len(set((1,2,3)))"
   ]
  },
  {
   "cell_type": "code",
   "execution_count": null,
   "metadata": {
    "ExecuteTime": {
     "end_time": "2021-01-21T20:56:07.449449Z",
     "start_time": "2021-01-21T20:56:03.595Z"
    }
   },
   "outputs": [],
   "source": [
    "def uses_only(word, available):\n",
    "    for letter in word:\n",
    "        if letter not in available:\n",
    "            return False\n",
    "    return True"
   ]
  },
  {
   "cell_type": "code",
   "execution_count": null,
   "metadata": {
    "ExecuteTime": {
     "end_time": "2021-01-21T20:56:07.451445Z",
     "start_time": "2021-01-21T20:56:03.597Z"
    }
   },
   "outputs": [],
   "source": [
    " def uses_only(word, available):\n",
    "        return set(word) <= set(available)\n",
    "    \n",
    "uses_only('lol','lsklo')\n"
   ]
  },
  {
   "cell_type": "code",
   "execution_count": null,
   "metadata": {
    "ExecuteTime": {
     "end_time": "2021-01-21T20:56:07.452442Z",
     "start_time": "2021-01-21T20:56:03.600Z"
    }
   },
   "outputs": [],
   "source": [
    "from collections import Counter\n",
    "count = Counter('parror')\n",
    "count"
   ]
  },
  {
   "cell_type": "code",
   "execution_count": null,
   "metadata": {
    "ExecuteTime": {
     "end_time": "2021-01-21T20:56:07.453439Z",
     "start_time": "2021-01-21T20:56:03.604Z"
    }
   },
   "outputs": [],
   "source": [
    "sorted(count)   "
   ]
  },
  {
   "cell_type": "code",
   "execution_count": null,
   "metadata": {
    "ExecuteTime": {
     "end_time": "2021-01-21T20:56:07.454436Z",
     "start_time": "2021-01-21T20:56:03.606Z"
    }
   },
   "outputs": [],
   "source": [
    "def is_anagram(word1, word2):\n",
    "    return Counter(word1) == Counter(word2)\n",
    "\n",
    "is_anagram('abc','bca')"
   ]
  },
  {
   "cell_type": "code",
   "execution_count": null,
   "metadata": {
    "ExecuteTime": {
     "end_time": "2021-01-21T20:56:07.455434Z",
     "start_time": "2021-01-21T20:56:03.609Z"
    }
   },
   "outputs": [],
   "source": [
    "count = Counter('parrot')\n",
    "for val, freq in count.most_common(3):\n",
    "    print(val, freq)"
   ]
  },
  {
   "cell_type": "code",
   "execution_count": null,
   "metadata": {
    "ExecuteTime": {
     "end_time": "2021-01-21T20:56:07.455434Z",
     "start_time": "2021-01-21T20:56:03.612Z"
    }
   },
   "outputs": [],
   "source": [
    ">>> list01 = [1,2,3]\n",
    ">>> list02 = [4,5,6]\n",
    ">>> list03 = [7,8,9]\n",
    ">>>\n",
    ">>> list01 + list02 + list03"
   ]
  },
  {
   "cell_type": "code",
   "execution_count": null,
   "metadata": {
    "ExecuteTime": {
     "end_time": "2021-01-21T20:56:07.456431Z",
     "start_time": "2021-01-21T20:56:03.616Z"
    }
   },
   "outputs": [],
   "source": [
    "from itertools import chain\n",
    ">>> list01 = [1,2,3]\n",
    ">>> list02 = [4,5,6]\n",
    ">>> list03 = [7,8,9]\n",
    "\n",
    "list(chain(list01, list02, list03))"
   ]
  },
  {
   "cell_type": "code",
   "execution_count": null,
   "metadata": {
    "ExecuteTime": {
     "end_time": "2021-01-21T20:56:07.457429Z",
     "start_time": "2021-01-21T20:56:03.620Z"
    }
   },
   "outputs": [],
   "source": [
    ">>> list01 = [1,2,3]\n",
    ">>> list02 = [4,5,6]\n",
    ">>> [*list01, *list02]"
   ]
  },
  {
   "cell_type": "code",
   "execution_count": null,
   "metadata": {
    "ExecuteTime": {
     "end_time": "2021-01-21T20:56:07.459425Z",
     "start_time": "2021-01-21T20:56:03.622Z"
    }
   },
   "outputs": [],
   "source": [
    ">>> list01 = [1,2,3]\n",
    ">>> list02 = [4,5,6]\n",
    "list01.extend(list02)\n",
    "list01"
   ]
  },
  {
   "cell_type": "code",
   "execution_count": null,
   "metadata": {
    "ExecuteTime": {
     "end_time": "2021-01-21T20:56:07.460420Z",
     "start_time": "2021-01-21T20:56:03.625Z"
    }
   },
   "outputs": [],
   "source": [
    ">>> list01 = [1,2,3]\n",
    ">>> list02 = [4,5,6]\n",
    ">>> list03 = [7,8,9]\n",
    "\n",
    "[x for l in (list01, list02, list03) for x in l]"
   ]
  },
  {
   "cell_type": "code",
   "execution_count": null,
   "metadata": {
    "ExecuteTime": {
     "end_time": "2021-01-21T20:56:07.461417Z",
     "start_time": "2021-01-21T20:56:03.628Z"
    }
   },
   "outputs": [],
   "source": [
    ">>> list01 = [1,2,3]\n",
    ">>> list02 = [4,5,6]\n",
    ">>> list03 = [7,8,9]\n",
    "\n",
    "from heapq import merge\n",
    "a = merge(list01, list02, list03)\n",
    "list(a)"
   ]
  },
  {
   "cell_type": "code",
   "execution_count": null,
   "metadata": {
    "ExecuteTime": {
     "end_time": "2021-01-21T20:56:07.462415Z",
     "start_time": "2021-01-21T20:56:03.631Z"
    }
   },
   "outputs": [],
   "source": [
    ">>> list01 = [2,5,3]\n",
    ">>> list02 = [1,4,6]\n",
    ">>> list03 = [7,9,8]\n",
    ">>>\n",
    ">>> from heapq import merge\n",
    ">>>\n",
    ">>> list(merge(list01, list02, list03))"
   ]
  },
  {
   "cell_type": "code",
   "execution_count": null,
   "metadata": {
    "ExecuteTime": {
     "end_time": "2021-01-21T20:56:07.463412Z",
     "start_time": "2021-01-21T20:56:03.635Z"
    }
   },
   "outputs": [],
   "source": [
    "sorted(itertools.chain(*iterables))"
   ]
  },
  {
   "cell_type": "code",
   "execution_count": null,
   "metadata": {
    "ExecuteTime": {
     "end_time": "2021-01-21T20:56:07.464410Z",
     "start_time": "2021-01-21T20:56:03.637Z"
    }
   },
   "outputs": [],
   "source": [
    "list01 = [1,2,3]\n",
    "list02 = [4, 5, 6]\n",
    "list01 + list02"
   ]
  },
  {
   "cell_type": "code",
   "execution_count": null,
   "metadata": {
    "ExecuteTime": {
     "end_time": "2021-01-21T20:56:07.465407Z",
     "start_time": "2021-01-21T20:56:03.640Z"
    }
   },
   "outputs": [],
   "source": [
    "list01.__add__(list02)"
   ]
  },
  {
   "cell_type": "code",
   "execution_count": null,
   "metadata": {
    "ExecuteTime": {
     "end_time": "2021-01-21T20:56:07.466404Z",
     "start_time": "2021-01-21T20:56:03.643Z"
    }
   },
   "outputs": [],
   "source": [
    ">>> list01 = [1,2,3]\n",
    ">>> list02 = [4,5,6]\n",
    ">>> list03 = [7,8,9]\n",
    "\n",
    "from functools import reduce\n",
    "reduce(list.__add__, (list01, list02, list03))"
   ]
  },
  {
   "cell_type": "code",
   "execution_count": null,
   "metadata": {
    "ExecuteTime": {
     "end_time": "2021-01-21T20:56:07.467402Z",
     "start_time": "2021-01-21T20:56:03.646Z"
    }
   },
   "outputs": [],
   "source": [
    ">>> list01 = [1,2,3]\n",
    ">>> list02 = [4,5,6]\n",
    ">>> list03 = [7,8,9]\n",
    "\n",
    "def merge(*lists):\n",
    "    for l in lists:\n",
    "        yield from l\n",
    "\n",
    "list(merge(list01, list02, list03))"
   ]
  },
  {
   "cell_type": "code",
   "execution_count": null,
   "metadata": {
    "ExecuteTime": {
     "end_time": "2021-01-21T20:56:07.467402Z",
     "start_time": "2021-01-21T20:56:03.651Z"
    }
   },
   "outputs": [],
   "source": [
    "profile = {\"name\": \"xiaoming\", \"age\": 27}\n",
    "ext_info = {\"gender\": \"male\"}\n",
    "\n",
    "profile.update(ext_info)\n",
    "print(profile)"
   ]
  },
  {
   "cell_type": "code",
   "execution_count": null,
   "metadata": {
    "ExecuteTime": {
     "end_time": "2021-01-21T20:56:07.468399Z",
     "start_time": "2021-01-21T20:56:03.654Z"
    }
   },
   "outputs": [],
   "source": [
    ">>> profile = {\"name\": \"xiaoming\", \"age\": 27}\n",
    ">>> ext_info = {\"gender\": \"male\"}\n",
    "\n",
    "from copy import deepcopy\n",
    "\n",
    "full_profile = deepcopy(profile)\n",
    "full_profile.update(ext_info)\n",
    "\n",
    "print(full_profile)\n"
   ]
  },
  {
   "cell_type": "code",
   "execution_count": null,
   "metadata": {
    "ExecuteTime": {
     "end_time": "2021-01-21T20:56:07.469397Z",
     "start_time": "2021-01-21T20:56:03.656Z"
    }
   },
   "outputs": [],
   "source": [
    "print(profile)"
   ]
  },
  {
   "cell_type": "code",
   "execution_count": null,
   "metadata": {
    "ExecuteTime": {
     "end_time": "2021-01-21T20:56:07.470394Z",
     "start_time": "2021-01-21T20:56:03.659Z"
    }
   },
   "outputs": [],
   "source": [
    ">>> profile = {\"name\": \"xiaoming\", \"age\": 27}\n",
    ">>> ext_info = {\"gender\": \"male\"}\n",
    "\n",
    "full_profile01= {**profile, **ext_info}\n",
    "print(full_profile01)\n",
    "print(type(full_profile01))"
   ]
  },
  {
   "cell_type": "code",
   "execution_count": null,
   "metadata": {
    "ExecuteTime": {
     "end_time": "2021-01-21T20:56:07.471391Z",
     "start_time": "2021-01-21T20:56:03.662Z"
    }
   },
   "outputs": [],
   "source": [
    "full_profile02 = dict(**profile, ** ext_info)\n",
    "print(full_profile02)"
   ]
  },
  {
   "cell_type": "code",
   "execution_count": null,
   "metadata": {
    "ExecuteTime": {
     "end_time": "2021-01-21T20:56:07.472388Z",
     "start_time": "2021-01-21T20:56:03.665Z"
    }
   },
   "outputs": [],
   "source": [
    "dict(((\"name\", \"xiaoming\"), (\"age\", 27), (\"gender\", \"male\")))"
   ]
  },
  {
   "cell_type": "code",
   "execution_count": null,
   "metadata": {
    "ExecuteTime": {
     "end_time": "2021-01-21T20:56:07.474383Z",
     "start_time": "2021-01-21T20:56:03.668Z"
    }
   },
   "outputs": [],
   "source": [
    "import itertools\n",
    "\n",
    "profile = {\"name\":\"xiaoming\",\"age\": 27}\n",
    "ext_info = {\"gender\":\"male\"}\n",
    "\n",
    "print(profile.items())\n",
    "print(ext_info.items())\n",
    "dict(itertools.chain(profile.items(), ext_info.items()))"
   ]
  },
  {
   "cell_type": "code",
   "execution_count": null,
   "metadata": {
    "ExecuteTime": {
     "end_time": "2021-01-21T20:56:07.475381Z",
     "start_time": "2021-01-21T20:56:03.671Z"
    }
   },
   "outputs": [],
   "source": [
    "import requests\n",
    "\n",
    "#the required first parameter of the 'get' method is the 'url':\n",
    "x = requests.get('https://www.w3schools.com/python/showpython.asp?filename=demo_requests_get_url')\n",
    "\n",
    "#print the response text (the content of the requested file):\n",
    "print(x.text)"
   ]
  },
  {
   "cell_type": "code",
   "execution_count": null,
   "metadata": {
    "ExecuteTime": {
     "end_time": "2021-01-21T20:56:07.476378Z",
     "start_time": "2021-01-21T20:56:03.675Z"
    }
   },
   "outputs": [],
   "source": [
    ">>> from collections import ChainMap\n",
    ">>>\n",
    ">>> profile = {\"name\": \"xiaoming\", \"age\": 27}\n",
    ">>> ext_info = {\"gender\": \"male\"}\n",
    ">>>\n",
    ">>> dict(ChainMap(profile, ext_info))"
   ]
  },
  {
   "cell_type": "code",
   "execution_count": null,
   "metadata": {
    "ExecuteTime": {
     "end_time": "2021-01-21T20:56:07.477374Z",
     "start_time": "2021-01-21T20:56:03.680Z"
    }
   },
   "outputs": [],
   "source": [
    "from collections import ChainMap\n",
    "profile = {\"name\": \"xiaoming\", \"age\": 27}\n",
    "ext_info={\"age\": 30}\n",
    "dict(ChainMap(profile, ext_info))"
   ]
  },
  {
   "cell_type": "code",
   "execution_count": null,
   "metadata": {
    "ExecuteTime": {
     "end_time": "2021-01-21T20:56:07.478372Z",
     "start_time": "2021-01-21T20:56:03.683Z"
    }
   },
   "outputs": [],
   "source": [
    ">>> profile = {\"name\": \"xiaoming\", \"age\": 27}\n",
    ">>> ext_info = {\"gender\": \"male\"}\n",
    "\n",
    "full_profile = dict(profile.items() | ext_info.items())\n",
    "full_profile"
   ]
  },
  {
   "cell_type": "code",
   "execution_count": null,
   "metadata": {
    "ExecuteTime": {
     "end_time": "2021-01-21T20:56:07.480367Z",
     "start_time": "2021-01-21T20:56:03.687Z"
    }
   },
   "outputs": [],
   "source": [
    ">>> profile = {\"name\": \"xiaoming\", \"age\": 27}\n",
    ">>> ext_info = {\"gender\": \"male\"}\n",
    "\n",
    "(list(profile.items()) + list(ext_info.items()))"
   ]
  },
  {
   "cell_type": "code",
   "execution_count": null,
   "metadata": {
    "ExecuteTime": {
     "end_time": "2021-01-21T20:56:07.481365Z",
     "start_time": "2021-01-21T20:56:03.690Z"
    }
   },
   "outputs": [],
   "source": [
    "dict(list(profile.items()) + list(ext_info.items()))"
   ]
  },
  {
   "cell_type": "code",
   "execution_count": null,
   "metadata": {
    "ExecuteTime": {
     "end_time": "2021-01-21T20:56:07.482361Z",
     "start_time": "2021-01-21T20:56:03.693Z"
    }
   },
   "outputs": [],
   "source": [
    ">>> profile = {\"name\": \"xiaoming\", \"age\": 27}\n",
    ">>> ext_info = {\"gender\": \"male\"}\n",
    "\n",
    "{k:v for d in [profile, ext_info] for k,v in d.items()}"
   ]
  },
  {
   "cell_type": "code",
   "execution_count": null,
   "metadata": {
    "ExecuteTime": {
     "end_time": "2021-01-21T20:56:07.482361Z",
     "start_time": "2021-01-21T20:56:03.696Z"
    }
   },
   "outputs": [],
   "source": [
    ">>> profile = {\"name\": \"xiaoming\", \"age\": 27}\n",
    ">>> ext_info = {\"gender\": \"male\"}\n",
    "\n"
   ]
  },
  {
   "cell_type": "code",
   "execution_count": null,
   "metadata": {
    "ExecuteTime": {
     "end_time": "2021-01-21T20:56:07.484357Z",
     "start_time": "2021-01-21T20:56:03.699Z"
    }
   },
   "outputs": [],
   "source": [
    "import imp\n",
    "file, pathname, desc = imp.find_module('os')\n",
    "myos = imp.load_module('sep', file, pathname, desc)\n",
    "myos"
   ]
  },
  {
   "cell_type": "code",
   "execution_count": null,
   "metadata": {
    "ExecuteTime": {
     "end_time": "2021-01-21T20:56:07.485354Z",
     "start_time": "2021-01-21T20:56:03.702Z"
    }
   },
   "outputs": [],
   "source": [
    "myos.getcwd()"
   ]
  },
  {
   "cell_type": "code",
   "execution_count": null,
   "metadata": {
    "ExecuteTime": {
     "end_time": "2021-01-21T20:56:07.486351Z",
     "start_time": "2021-01-21T20:56:03.706Z"
    }
   },
   "outputs": [],
   "source": [
    ">>> execfile(\"/usr/lib64/python2.7/os.py\")\n",
    ">>>"
   ]
  },
  {
   "cell_type": "code",
   "execution_count": null,
   "metadata": {
    "ExecuteTime": {
     "end_time": "2021-01-21T20:56:07.487349Z",
     "start_time": "2021-01-21T20:56:03.710Z"
    }
   },
   "outputs": [],
   "source": [
    "from github_com.zzzeek import sqlalchemy"
   ]
  },
  {
   "cell_type": "code",
   "execution_count": null,
   "metadata": {
    "ExecuteTime": {
     "end_time": "2021-01-21T20:56:07.488346Z",
     "start_time": "2021-01-21T20:56:03.712Z"
    }
   },
   "outputs": [],
   "source": [
    "def is_in(full_str, sub_str):\n",
    "    try:\n",
    "        full_str.index(sub_str)\n",
    "        return True\n",
    "    except ValueError:\n",
    "        return False\n",
    "    \n",
    "print(is_in(\"hello, python\", \"llo\"))  # True\n",
    "print(is_in(\"hello, python\", \"lol\"))  # False"
   ]
  },
  {
   "cell_type": "code",
   "execution_count": null,
   "metadata": {
    "ExecuteTime": {
     "end_time": "2021-01-21T20:56:07.489343Z",
     "start_time": "2021-01-21T20:56:03.715Z"
    }
   },
   "outputs": [],
   "source": [
    "def is_in(full_str, sub_str):\n",
    "    return full_str.count(sub_str) > 0"
   ]
  },
  {
   "cell_type": "code",
   "execution_count": null,
   "metadata": {
    "ExecuteTime": {
     "end_time": "2021-01-21T20:56:07.490340Z",
     "start_time": "2021-01-21T20:56:03.719Z"
    }
   },
   "outputs": [],
   "source": [
    "print(is_in(\"hello, python\", \"llo\"))"
   ]
  },
  {
   "cell_type": "code",
   "execution_count": null,
   "metadata": {
    "ExecuteTime": {
     "end_time": "2021-01-21T20:56:07.491339Z",
     "start_time": "2021-01-21T20:56:03.721Z"
    }
   },
   "outputs": [],
   "source": [
    "print(is_in(\"hello, python\", \"lol\"))  # False"
   ]
  },
  {
   "cell_type": "code",
   "execution_count": null,
   "metadata": {
    "ExecuteTime": {
     "end_time": "2021-01-21T20:56:07.492336Z",
     "start_time": "2021-01-21T20:56:03.724Z"
    }
   },
   "outputs": [],
   "source": [
    "\"hello, python\".__contains__(\"llo\")"
   ]
  },
  {
   "cell_type": "code",
   "execution_count": null,
   "metadata": {
    "ExecuteTime": {
     "end_time": "2021-01-21T20:56:07.494330Z",
     "start_time": "2021-01-21T20:56:03.727Z"
    }
   },
   "outputs": [],
   "source": [
    ">>> \"hello, python\".__contains__(\"lol\")"
   ]
  },
  {
   "cell_type": "code",
   "execution_count": null,
   "metadata": {
    "ExecuteTime": {
     "end_time": "2021-01-21T20:56:07.496332Z",
     "start_time": "2021-01-21T20:56:03.730Z"
    }
   },
   "outputs": [],
   "source": [
    "import operator\n",
    "\n",
    "operator.contains(\"hello, python\",\"llo\")\n",
    "operator.contains(\"hello, python\",\"lol\")"
   ]
  },
  {
   "cell_type": "code",
   "execution_count": null,
   "metadata": {
    "ExecuteTime": {
     "end_time": "2021-01-21T20:56:07.498319Z",
     "start_time": "2021-01-21T20:56:03.733Z"
    }
   },
   "outputs": [],
   "source": [
    "import re\n",
    "\n",
    "def is_in(full_str, sub_str):\n",
    "    if re.findall(sub_str, full_str):\n",
    "        return True\n",
    "    else:\n",
    "        return False\n",
    "    \n",
    "print(is_in(\"hello, python\", \"llo\"))  # True\n",
    "print(is_in(\"hello, python\", \"lol\"))  # False   "
   ]
  },
  {
   "cell_type": "code",
   "execution_count": null,
   "metadata": {
    "ExecuteTime": {
     "end_time": "2021-01-21T20:56:07.499316Z",
     "start_time": "2021-01-21T20:56:03.737Z"
    }
   },
   "outputs": [],
   "source": [
    "import \"fmt\"\n",
    "\n",
    "# Assignment Expressions\n",
    "func main() {\n",
    "    if age := 20;age > 18 {\n",
    "        fmt.Println(\"已经成年了\")\n",
    "    }\n",
    "}\n",
    "\n",
    "# if (age:= 20) > 18:\n",
    "    print(\"已经成年了\")"
   ]
  },
  {
   "cell_type": "code",
   "execution_count": null,
   "metadata": {
    "ExecuteTime": {
     "end_time": "2021-01-21T20:56:07.501311Z",
     "start_time": "2021-01-21T20:56:03.740Z"
    }
   },
   "outputs": [],
   "source": [
    "file = open(\"demo.txt\",\"r\")\n",
    "while True:\n",
    "    line = file.readline()\n",
    "    if not line:\n",
    "        break\n",
    "    print(line.strip())\n"
   ]
  },
  {
   "cell_type": "code",
   "execution_count": null,
   "metadata": {
    "ExecuteTime": {
     "end_time": "2021-01-21T20:56:07.502308Z",
     "start_time": "2021-01-21T20:56:03.743Z"
    }
   },
   "outputs": [],
   "source": [
    "file = open(\"demo.txt\",\"r\")\n",
    "while(line := file.readline()):\n",
    "    print(line.strip())"
   ]
  },
  {
   "cell_type": "code",
   "execution_count": null,
   "metadata": {
    "ExecuteTime": {
     "end_time": "2021-01-21T20:56:07.503305Z",
     "start_time": "2021-01-21T20:56:03.746Z"
    }
   },
   "outputs": [],
   "source": [
    "while True:\n",
    "    p = input(\"Enter the password:\")\n",
    "    if p == \"youpassword\":\n",
    "        break"
   ]
  },
  {
   "cell_type": "code",
   "execution_count": null,
   "metadata": {
    "ExecuteTime": {
     "end_time": "2021-01-21T20:56:07.504302Z",
     "start_time": "2021-01-21T20:56:03.752Z"
    }
   },
   "outputs": [],
   "source": [
    "fat_bmis = []\n",
    "\n",
    "for m in members:\n",
    "    bmi = get_bmi(m)\n",
    "    if bmi > 24:\n",
    "        fat_bmis.append(bmi)"
   ]
  },
  {
   "cell_type": "code",
   "execution_count": null,
   "metadata": {
    "ExecuteTime": {
     "end_time": "2021-01-21T20:56:07.505300Z",
     "start_time": "2021-01-21T20:56:03.756Z"
    }
   },
   "outputs": [],
   "source": [
    "fat_bmis = [bmi for m in members if (bmi := get_bmi(m)) > 24]"
   ]
  },
  {
   "cell_type": "code",
   "execution_count": null,
   "metadata": {
    "ExecuteTime": {
     "end_time": "2021-01-21T20:56:07.506297Z",
     "start_time": "2021-01-21T20:56:03.761Z"
    }
   },
   "outputs": [],
   "source": [
    ">>> msg = \"hello\\013world\\013hello\\013python\"\n",
    ">>> print(msg)\n"
   ]
  },
  {
   "cell_type": "code",
   "execution_count": null,
   "metadata": {
    "ExecuteTime": {
     "end_time": "2021-01-21T20:56:07.507296Z",
     "start_time": "2021-01-21T20:56:03.764Z"
    }
   },
   "outputs": [],
   "source": [
    ">>> msg = \"hello\\012world\"\n",
    ">>> print(msg)"
   ]
  },
  {
   "cell_type": "code",
   "execution_count": null,
   "metadata": {
    "ExecuteTime": {
     "end_time": "2021-01-21T20:56:07.508295Z",
     "start_time": "2021-01-21T20:56:03.769Z"
    }
   },
   "outputs": [],
   "source": [
    ">>> msg = \"hello\\x0aworld\"\n",
    ">>> print(msg)"
   ]
  },
  {
   "cell_type": "code",
   "execution_count": null,
   "metadata": {
    "ExecuteTime": {
     "end_time": "2021-01-21T20:56:07.510290Z",
     "start_time": "2021-01-21T20:56:03.772Z"
    }
   },
   "outputs": [],
   "source": [
    ">>> msg = \"hello\\nworld\"\n",
    ">>> print(msg)"
   ]
  },
  {
   "cell_type": "code",
   "execution_count": null,
   "metadata": {
    "ExecuteTime": {
     "end_time": "2021-01-21T20:56:07.511285Z",
     "start_time": "2021-01-21T20:56:03.777Z"
    }
   },
   "outputs": [],
   "source": [
    ">>> print(\"\\u4E2D\")"
   ]
  },
  {
   "cell_type": "code",
   "execution_count": null,
   "metadata": {
    "ExecuteTime": {
     "end_time": "2021-01-21T20:56:07.512281Z",
     "start_time": "2021-01-21T20:56:03.780Z"
    }
   },
   "outputs": [],
   "source": [
    ">>> a = u\"中\"\n",
    ">>> a"
   ]
  },
  {
   "cell_type": "code",
   "execution_count": null,
   "metadata": {
    "ExecuteTime": {
     "end_time": "2021-01-21T20:56:07.514278Z",
     "start_time": "2021-01-21T20:56:03.783Z"
    }
   },
   "outputs": [],
   "source": [
    ">>> print(r\"hello\\nworld\")"
   ]
  },
  {
   "cell_type": "code",
   "execution_count": null,
   "metadata": {
    "ExecuteTime": {
     "end_time": "2021-01-21T20:56:07.515275Z",
     "start_time": "2021-01-21T20:56:03.788Z"
    }
   },
   "outputs": [],
   "source": [
    ">>> print(R\"hello\\nworld\")"
   ]
  },
  {
   "cell_type": "code",
   "execution_count": null,
   "metadata": {
    "ExecuteTime": {
     "end_time": "2021-01-21T20:56:07.516272Z",
     "start_time": "2021-01-21T20:56:03.791Z"
    }
   },
   "outputs": [],
   "source": [
    "body = spider()\n",
    "print(body)"
   ]
  },
  {
   "cell_type": "code",
   "execution_count": null,
   "metadata": {
    "ExecuteTime": {
     "end_time": "2021-01-21T20:56:07.517269Z",
     "start_time": "2021-01-21T20:56:03.794Z"
    }
   },
   "outputs": [],
   "source": [
    ">>> body=\"hello\\\\nworld\"\n",
    ">>> body"
   ]
  },
  {
   "cell_type": "code",
   "execution_count": null,
   "metadata": {
    "ExecuteTime": {
     "end_time": "2021-01-21T20:56:07.518266Z",
     "start_time": "2021-01-21T20:56:03.797Z"
    }
   },
   "outputs": [],
   "source": [
    "bytes(body, \"utf-8\").decode(\"unicode_escape\")"
   ]
  },
  {
   "cell_type": "code",
   "execution_count": null,
   "metadata": {
    "ExecuteTime": {
     "end_time": "2021-01-21T20:56:07.519264Z",
     "start_time": "2021-01-21T20:56:03.800Z"
    }
   },
   "outputs": [],
   "source": [
    ">>> import codecs\n",
    ">>> body=\"hello\\\\nworld\"\n",
    ">>>\n",
    ">>> codecs.decode(body, 'unicode_escape')\n",
    "'hello\\nworld'\n",
    ">>>"
   ]
  },
  {
   "cell_type": "code",
   "execution_count": 7,
   "metadata": {
    "ExecuteTime": {
     "end_time": "2021-01-21T20:57:25.025802Z",
     "start_time": "2021-01-21T20:57:21.954520Z"
    }
   },
   "outputs": [
    {
     "name": "stdout",
     "output_type": "stream",
     "text": [
      "Requirement already satisfied: requests in c:\\users\\edwar\\appdata\\local\\programs\\python\\python38-32\\lib\\site-packages (2.25.1)\n",
      "Requirement already satisfied: idna<3,>=2.5 in c:\\users\\edwar\\appdata\\local\\programs\\python\\python38-32\\lib\\site-packages (from requests) (2.10)\n",
      "Requirement already satisfied: certifi>=2017.4.17 in c:\\users\\edwar\\appdata\\local\\programs\\python\\python38-32\\lib\\site-packages (from requests) (2020.12.5)\n",
      "Requirement already satisfied: chardet<5,>=3.0.2 in c:\\users\\edwar\\appdata\\local\\programs\\python\\python38-32\\lib\\site-packages (from requests) (4.0.0)\n",
      "Requirement already satisfied: urllib3<1.27,>=1.21.1 in c:\\users\\edwar\\appdata\\local\\programs\\python\\python38-32\\lib\\site-packages (from requests) (1.26.2)\n",
      "Note: you may need to restart the kernel to use updated packages.\n"
     ]
    }
   ],
   "source": [
    "pip install requests"
   ]
  },
  {
   "cell_type": "code",
   "execution_count": 8,
   "metadata": {
    "ExecuteTime": {
     "end_time": "2021-01-21T21:07:06.401691Z",
     "start_time": "2021-01-21T21:07:06.396706Z"
    }
   },
   "outputs": [],
   "source": [
    "# define decorator\n",
    "def decorator(func):\n",
    "    def wrapper(*args, **kw):\n",
    "        return func()\n",
    "    return wrapper\n",
    "\n",
    "# decorator\n",
    "def function():\n",
    "    print(\"hello, decorator\")\n",
    "    "
   ]
  },
  {
   "cell_type": "code",
   "execution_count": 11,
   "metadata": {
    "ExecuteTime": {
     "end_time": "2021-01-21T21:09:35.410629Z",
     "start_time": "2021-01-21T21:09:35.406641Z"
    }
   },
   "outputs": [
    {
     "name": "stdout",
     "output_type": "stream",
     "text": [
      "<class 'str'>\n",
      "__main__\n"
     ]
    }
   ],
   "source": [
    "print(type(__name__))\n",
    "print(__name__)"
   ]
  },
  {
   "cell_type": "code",
   "execution_count": 12,
   "metadata": {
    "ExecuteTime": {
     "end_time": "2021-01-21T21:11:42.866458Z",
     "start_time": "2021-01-21T21:11:42.861484Z"
    }
   },
   "outputs": [
    {
     "name": "stdout",
     "output_type": "stream",
     "text": [
      "The value of __name__ is__main__\n"
     ]
    }
   ],
   "source": [
    "def funcl():\n",
    "    print('The value of __name__ is' + __name__)\n",
    "if __name__ == '__main__':\n",
    "    funcl()"
   ]
  },
  {
   "cell_type": "code",
   "execution_count": 13,
   "metadata": {
    "ExecuteTime": {
     "end_time": "2021-01-21T21:12:51.715046Z",
     "start_time": "2021-01-21T21:12:51.707082Z"
    },
    "collapsed": true
   },
   "outputs": [
    {
     "name": "stdout",
     "output_type": "stream",
     "text": [
      "Format String Syntax\n",
      "********************\n",
      "\n",
      "The \"str.format()\" method and the \"Formatter\" class share the same\n",
      "syntax for format strings (although in the case of \"Formatter\",\n",
      "subclasses can define their own format string syntax).  The syntax is\n",
      "related to that of formatted string literals, but there are\n",
      "differences.\n",
      "\n",
      "Format strings contain “replacement fields” surrounded by curly braces\n",
      "\"{}\". Anything that is not contained in braces is considered literal\n",
      "text, which is copied unchanged to the output.  If you need to include\n",
      "a brace character in the literal text, it can be escaped by doubling:\n",
      "\"{{\" and \"}}\".\n",
      "\n",
      "The grammar for a replacement field is as follows:\n",
      "\n",
      "      replacement_field ::= \"{\" [field_name] [\"!\" conversion] [\":\" format_spec] \"}\"\n",
      "      field_name        ::= arg_name (\".\" attribute_name | \"[\" element_index \"]\")*\n",
      "      arg_name          ::= [identifier | digit+]\n",
      "      attribute_name    ::= identifier\n",
      "      element_index     ::= digit+ | index_string\n",
      "      index_string      ::= <any source character except \"]\"> +\n",
      "      conversion        ::= \"r\" | \"s\" | \"a\"\n",
      "      format_spec       ::= <described in the next section>\n",
      "\n",
      "In less formal terms, the replacement field can start with a\n",
      "*field_name* that specifies the object whose value is to be formatted\n",
      "and inserted into the output instead of the replacement field. The\n",
      "*field_name* is optionally followed by a  *conversion* field, which is\n",
      "preceded by an exclamation point \"'!'\", and a *format_spec*, which is\n",
      "preceded by a colon \"':'\".  These specify a non-default format for the\n",
      "replacement value.\n",
      "\n",
      "See also the Format Specification Mini-Language section.\n",
      "\n",
      "The *field_name* itself begins with an *arg_name* that is either a\n",
      "number or a keyword.  If it’s a number, it refers to a positional\n",
      "argument, and if it’s a keyword, it refers to a named keyword\n",
      "argument.  If the numerical arg_names in a format string are 0, 1, 2,\n",
      "… in sequence, they can all be omitted (not just some) and the numbers\n",
      "0, 1, 2, … will be automatically inserted in that order. Because\n",
      "*arg_name* is not quote-delimited, it is not possible to specify\n",
      "arbitrary dictionary keys (e.g., the strings \"'10'\" or \"':-]'\") within\n",
      "a format string. The *arg_name* can be followed by any number of index\n",
      "or attribute expressions. An expression of the form \"'.name'\" selects\n",
      "the named attribute using \"getattr()\", while an expression of the form\n",
      "\"'[index]'\" does an index lookup using \"__getitem__()\".\n",
      "\n",
      "Changed in version 3.1: The positional argument specifiers can be\n",
      "omitted for \"str.format()\", so \"'{} {}'.format(a, b)\" is equivalent to\n",
      "\"'{0} {1}'.format(a, b)\".\n",
      "\n",
      "Changed in version 3.4: The positional argument specifiers can be\n",
      "omitted for \"Formatter\".\n",
      "\n",
      "Some simple format string examples:\n",
      "\n",
      "   \"First, thou shalt count to {0}\"  # References first positional argument\n",
      "   \"Bring me a {}\"                   # Implicitly references the first positional argument\n",
      "   \"From {} to {}\"                   # Same as \"From {0} to {1}\"\n",
      "   \"My quest is {name}\"              # References keyword argument 'name'\n",
      "   \"Weight in tons {0.weight}\"       # 'weight' attribute of first positional arg\n",
      "   \"Units destroyed: {players[0]}\"   # First element of keyword argument 'players'.\n",
      "\n",
      "The *conversion* field causes a type coercion before formatting.\n",
      "Normally, the job of formatting a value is done by the \"__format__()\"\n",
      "method of the value itself.  However, in some cases it is desirable to\n",
      "force a type to be formatted as a string, overriding its own\n",
      "definition of formatting.  By converting the value to a string before\n",
      "calling \"__format__()\", the normal formatting logic is bypassed.\n",
      "\n",
      "Three conversion flags are currently supported: \"'!s'\" which calls\n",
      "\"str()\" on the value, \"'!r'\" which calls \"repr()\" and \"'!a'\" which\n",
      "calls \"ascii()\".\n",
      "\n",
      "Some examples:\n",
      "\n",
      "   \"Harold's a clever {0!s}\"        # Calls str() on the argument first\n",
      "   \"Bring out the holy {name!r}\"    # Calls repr() on the argument first\n",
      "   \"More {!a}\"                      # Calls ascii() on the argument first\n",
      "\n",
      "The *format_spec* field contains a specification of how the value\n",
      "should be presented, including such details as field width, alignment,\n",
      "padding, decimal precision and so on.  Each value type can define its\n",
      "own “formatting mini-language” or interpretation of the *format_spec*.\n",
      "\n",
      "Most built-in types support a common formatting mini-language, which\n",
      "is described in the next section.\n",
      "\n",
      "A *format_spec* field can also include nested replacement fields\n",
      "within it. These nested replacement fields may contain a field name,\n",
      "conversion flag and format specification, but deeper nesting is not\n",
      "allowed.  The replacement fields within the format_spec are\n",
      "substituted before the *format_spec* string is interpreted. This\n",
      "allows the formatting of a value to be dynamically specified.\n",
      "\n",
      "See the Format examples section for some examples.\n",
      "\n",
      "\n",
      "Format Specification Mini-Language\n",
      "==================================\n",
      "\n",
      "“Format specifications” are used within replacement fields contained\n",
      "within a format string to define how individual values are presented\n",
      "(see Format String Syntax and Formatted string literals). They can\n",
      "also be passed directly to the built-in \"format()\" function.  Each\n",
      "formattable type may define how the format specification is to be\n",
      "interpreted.\n",
      "\n",
      "Most built-in types implement the following options for format\n",
      "specifications, although some of the formatting options are only\n",
      "supported by the numeric types.\n",
      "\n",
      "A general convention is that an empty format specification produces\n",
      "the same result as if you had called \"str()\" on the value. A non-empty\n",
      "format specification typically modifies the result.\n",
      "\n",
      "The general form of a *standard format specifier* is:\n",
      "\n",
      "   format_spec     ::= [[fill]align][sign][#][0][width][grouping_option][.precision][type]\n",
      "   fill            ::= <any character>\n",
      "   align           ::= \"<\" | \">\" | \"=\" | \"^\"\n",
      "   sign            ::= \"+\" | \"-\" | \" \"\n",
      "   width           ::= digit+\n",
      "   grouping_option ::= \"_\" | \",\"\n",
      "   precision       ::= digit+\n",
      "   type            ::= \"b\" | \"c\" | \"d\" | \"e\" | \"E\" | \"f\" | \"F\" | \"g\" | \"G\" | \"n\" | \"o\" | \"s\" | \"x\" | \"X\" | \"%\"\n",
      "\n",
      "If a valid *align* value is specified, it can be preceded by a *fill*\n",
      "character that can be any character and defaults to a space if\n",
      "omitted. It is not possible to use a literal curly brace (“\"{\"” or\n",
      "“\"}\"”) as the *fill* character in a formatted string literal or when\n",
      "using the \"str.format()\" method.  However, it is possible to insert a\n",
      "curly brace with a nested replacement field.  This limitation doesn’t\n",
      "affect the \"format()\" function.\n",
      "\n",
      "The meaning of the various alignment options is as follows:\n",
      "\n",
      "   +-----------+------------------------------------------------------------+\n",
      "   | Option    | Meaning                                                    |\n",
      "   |===========|============================================================|\n",
      "   | \"'<'\"     | Forces the field to be left-aligned within the available   |\n",
      "   |           | space (this is the default for most objects).              |\n",
      "   +-----------+------------------------------------------------------------+\n",
      "   | \"'>'\"     | Forces the field to be right-aligned within the available  |\n",
      "   |           | space (this is the default for numbers).                   |\n",
      "   +-----------+------------------------------------------------------------+\n",
      "   | \"'='\"     | Forces the padding to be placed after the sign (if any)    |\n",
      "   |           | but before the digits.  This is used for printing fields   |\n",
      "   |           | in the form ‘+000000120’. This alignment option is only    |\n",
      "   |           | valid for numeric types.  It becomes the default when ‘0’  |\n",
      "   |           | immediately precedes the field width.                      |\n",
      "   +-----------+------------------------------------------------------------+\n",
      "   | \"'^'\"     | Forces the field to be centered within the available       |\n",
      "   |           | space.                                                     |\n",
      "   +-----------+------------------------------------------------------------+\n",
      "\n",
      "Note that unless a minimum field width is defined, the field width\n",
      "will always be the same size as the data to fill it, so that the\n",
      "alignment option has no meaning in this case.\n",
      "\n",
      "The *sign* option is only valid for number types, and can be one of\n",
      "the following:\n",
      "\n",
      "   +-----------+------------------------------------------------------------+\n",
      "   | Option    | Meaning                                                    |\n",
      "   |===========|============================================================|\n",
      "   | \"'+'\"     | indicates that a sign should be used for both positive as  |\n",
      "   |           | well as negative numbers.                                  |\n",
      "   +-----------+------------------------------------------------------------+\n",
      "   | \"'-'\"     | indicates that a sign should be used only for negative     |\n",
      "   |           | numbers (this is the default behavior).                    |\n",
      "   +-----------+------------------------------------------------------------+\n",
      "   | space     | indicates that a leading space should be used on positive  |\n",
      "   |           | numbers, and a minus sign on negative numbers.             |\n",
      "   +-----------+------------------------------------------------------------+\n",
      "\n",
      "The \"'#'\" option causes the “alternate form” to be used for the\n",
      "conversion.  The alternate form is defined differently for different\n",
      "types.  This option is only valid for integer, float, complex and\n",
      "Decimal types. For integers, when binary, octal, or hexadecimal output\n",
      "is used, this option adds the prefix respective \"'0b'\", \"'0o'\", or\n",
      "\"'0x'\" to the output value. For floats, complex and Decimal the\n",
      "alternate form causes the result of the conversion to always contain a\n",
      "decimal-point character, even if no digits follow it. Normally, a\n",
      "decimal-point character appears in the result of these conversions\n",
      "only if a digit follows it. In addition, for \"'g'\" and \"'G'\"\n",
      "conversions, trailing zeros are not removed from the result.\n",
      "\n",
      "The \"','\" option signals the use of a comma for a thousands separator.\n",
      "For a locale aware separator, use the \"'n'\" integer presentation type\n",
      "instead.\n",
      "\n",
      "Changed in version 3.1: Added the \"','\" option (see also **PEP 378**).\n",
      "\n",
      "The \"'_'\" option signals the use of an underscore for a thousands\n",
      "separator for floating point presentation types and for integer\n",
      "presentation type \"'d'\".  For integer presentation types \"'b'\", \"'o'\",\n",
      "\"'x'\", and \"'X'\", underscores will be inserted every 4 digits.  For\n",
      "other presentation types, specifying this option is an error.\n",
      "\n",
      "Changed in version 3.6: Added the \"'_'\" option (see also **PEP 515**).\n",
      "\n",
      "*width* is a decimal integer defining the minimum total field width,\n",
      "including any prefixes, separators, and other formatting characters.\n",
      "If not specified, then the field width will be determined by the\n",
      "content.\n",
      "\n",
      "When no explicit alignment is given, preceding the *width* field by a\n",
      "zero (\"'0'\") character enables sign-aware zero-padding for numeric\n",
      "types.  This is equivalent to a *fill* character of \"'0'\" with an\n",
      "*alignment* type of \"'='\".\n",
      "\n",
      "The *precision* is a decimal number indicating how many digits should\n",
      "be displayed after the decimal point for a floating point value\n",
      "formatted with \"'f'\" and \"'F'\", or before and after the decimal point\n",
      "for a floating point value formatted with \"'g'\" or \"'G'\".  For non-\n",
      "number types the field indicates the maximum field size - in other\n",
      "words, how many characters will be used from the field content. The\n",
      "*precision* is not allowed for integer values.\n",
      "\n",
      "Finally, the *type* determines how the data should be presented.\n",
      "\n",
      "The available string presentation types are:\n",
      "\n",
      "   +-----------+------------------------------------------------------------+\n",
      "   | Type      | Meaning                                                    |\n",
      "   |===========|============================================================|\n",
      "   | \"'s'\"     | String format. This is the default type for strings and    |\n",
      "   |           | may be omitted.                                            |\n",
      "   +-----------+------------------------------------------------------------+\n",
      "   | None      | The same as \"'s'\".                                         |\n",
      "   +-----------+------------------------------------------------------------+\n",
      "\n",
      "The available integer presentation types are:\n",
      "\n",
      "   +-----------+------------------------------------------------------------+\n",
      "   | Type      | Meaning                                                    |\n",
      "   |===========|============================================================|\n",
      "   | \"'b'\"     | Binary format. Outputs the number in base 2.               |\n",
      "   +-----------+------------------------------------------------------------+\n",
      "   | \"'c'\"     | Character. Converts the integer to the corresponding       |\n",
      "   |           | unicode character before printing.                         |\n",
      "   +-----------+------------------------------------------------------------+\n",
      "   | \"'d'\"     | Decimal Integer. Outputs the number in base 10.            |\n",
      "   +-----------+------------------------------------------------------------+\n",
      "   | \"'o'\"     | Octal format. Outputs the number in base 8.                |\n",
      "   +-----------+------------------------------------------------------------+\n",
      "   | \"'x'\"     | Hex format. Outputs the number in base 16, using lower-    |\n",
      "   |           | case letters for the digits above 9.                       |\n",
      "   +-----------+------------------------------------------------------------+\n",
      "   | \"'X'\"     | Hex format. Outputs the number in base 16, using upper-    |\n",
      "   |           | case letters for the digits above 9.                       |\n",
      "   +-----------+------------------------------------------------------------+\n",
      "   | \"'n'\"     | Number. This is the same as \"'d'\", except that it uses the |\n",
      "   |           | current locale setting to insert the appropriate number    |\n",
      "   |           | separator characters.                                      |\n",
      "   +-----------+------------------------------------------------------------+\n",
      "   | None      | The same as \"'d'\".                                         |\n",
      "   +-----------+------------------------------------------------------------+\n",
      "\n",
      "In addition to the above presentation types, integers can be formatted\n",
      "with the floating point presentation types listed below (except \"'n'\"\n",
      "and \"None\"). When doing so, \"float()\" is used to convert the integer\n",
      "to a floating point number before formatting.\n",
      "\n",
      "The available presentation types for floating point and decimal values\n",
      "are:\n",
      "\n",
      "   +-----------+------------------------------------------------------------+\n",
      "   | Type      | Meaning                                                    |\n",
      "   |===========|============================================================|\n",
      "   | \"'e'\"     | Exponent notation. Prints the number in scientific         |\n",
      "   |           | notation using the letter ‘e’ to indicate the exponent.    |\n",
      "   |           | The default precision is \"6\".                              |\n",
      "   +-----------+------------------------------------------------------------+\n",
      "   | \"'E'\"     | Exponent notation. Same as \"'e'\" except it uses an upper   |\n",
      "   |           | case ‘E’ as the separator character.                       |\n",
      "   +-----------+------------------------------------------------------------+\n",
      "   | \"'f'\"     | Fixed-point notation. Displays the number as a fixed-point |\n",
      "   |           | number. The default precision is \"6\".                      |\n",
      "   +-----------+------------------------------------------------------------+\n",
      "   | \"'F'\"     | Fixed-point notation. Same as \"'f'\", but converts \"nan\" to |\n",
      "   |           | \"NAN\" and \"inf\" to \"INF\".                                  |\n",
      "   +-----------+------------------------------------------------------------+\n",
      "   | \"'g'\"     | General format.  For a given precision \"p >= 1\", this      |\n",
      "   |           | rounds the number to \"p\" significant digits and then       |\n",
      "   |           | formats the result in either fixed-point format or in      |\n",
      "   |           | scientific notation, depending on its magnitude.  The      |\n",
      "   |           | precise rules are as follows: suppose that the result      |\n",
      "   |           | formatted with presentation type \"'e'\" and precision \"p-1\" |\n",
      "   |           | would have exponent \"exp\".  Then, if \"m <= exp < p\", where |\n",
      "   |           | \"m\" is -4 for floats and -6 for \"Decimals\", the number is  |\n",
      "   |           | formatted with presentation type \"'f'\" and precision       |\n",
      "   |           | \"p-1-exp\".  Otherwise, the number is formatted with        |\n",
      "   |           | presentation type \"'e'\" and precision \"p-1\". In both cases |\n",
      "   |           | insignificant trailing zeros are removed from the          |\n",
      "   |           | significand, and the decimal point is also removed if      |\n",
      "   |           | there are no remaining digits following it, unless the     |\n",
      "   |           | \"'#'\" option is used.  Positive and negative infinity,     |\n",
      "   |           | positive and negative zero, and nans, are formatted as     |\n",
      "   |           | \"inf\", \"-inf\", \"0\", \"-0\" and \"nan\" respectively,           |\n",
      "   |           | regardless of the precision.  A precision of \"0\" is        |\n",
      "   |           | treated as equivalent to a precision of \"1\". The default   |\n",
      "   |           | precision is \"6\".                                          |\n",
      "   +-----------+------------------------------------------------------------+\n",
      "   | \"'G'\"     | General format. Same as \"'g'\" except switches to \"'E'\" if  |\n",
      "   |           | the number gets too large. The representations of infinity |\n",
      "   |           | and NaN are uppercased, too.                               |\n",
      "   +-----------+------------------------------------------------------------+\n",
      "   | \"'n'\"     | Number. This is the same as \"'g'\", except that it uses the |\n",
      "   |           | current locale setting to insert the appropriate number    |\n",
      "   |           | separator characters.                                      |\n",
      "   +-----------+------------------------------------------------------------+\n",
      "   | \"'%'\"     | Percentage. Multiplies the number by 100 and displays in   |\n",
      "   |           | fixed (\"'f'\") format, followed by a percent sign.          |\n",
      "   +-----------+------------------------------------------------------------+\n",
      "   | None      | Similar to \"'g'\", except that fixed-point notation, when   |\n",
      "   |           | used, has at least one digit past the decimal point. The   |\n",
      "   |           | default precision is as high as needed to represent the    |\n",
      "   |           | particular value. The overall effect is to match the       |\n",
      "   |           | output of \"str()\" as altered by the other format           |\n",
      "   |           | modifiers.                                                 |\n",
      "   +-----------+------------------------------------------------------------+\n",
      "\n",
      "\n",
      "Format examples\n",
      "===============\n",
      "\n",
      "This section contains examples of the \"str.format()\" syntax and\n",
      "comparison with the old \"%\"-formatting.\n",
      "\n",
      "In most of the cases the syntax is similar to the old \"%\"-formatting,\n",
      "with the addition of the \"{}\" and with \":\" used instead of \"%\". For\n",
      "example, \"'%03.2f'\" can be translated to \"'{:03.2f}'\".\n",
      "\n",
      "The new format syntax also supports new and different options, shown\n",
      "in the following examples.\n",
      "\n",
      "Accessing arguments by position:\n",
      "\n",
      "   >>> '{0}, {1}, {2}'.format('a', 'b', 'c')\n",
      "   'a, b, c'\n",
      "   >>> '{}, {}, {}'.format('a', 'b', 'c')  # 3.1+ only\n",
      "   'a, b, c'\n",
      "   >>> '{2}, {1}, {0}'.format('a', 'b', 'c')\n",
      "   'c, b, a'\n",
      "   >>> '{2}, {1}, {0}'.format(*'abc')      # unpacking argument sequence\n",
      "   'c, b, a'\n",
      "   >>> '{0}{1}{0}'.format('abra', 'cad')   # arguments' indices can be repeated\n",
      "   'abracadabra'\n",
      "\n",
      "Accessing arguments by name:\n",
      "\n",
      "   >>> 'Coordinates: {latitude}, {longitude}'.format(latitude='37.24N', longitude='-115.81W')\n",
      "   'Coordinates: 37.24N, -115.81W'\n",
      "   >>> coord = {'latitude': '37.24N', 'longitude': '-115.81W'}\n",
      "   >>> 'Coordinates: {latitude}, {longitude}'.format(**coord)\n",
      "   'Coordinates: 37.24N, -115.81W'\n",
      "\n",
      "Accessing arguments’ attributes:\n",
      "\n",
      "   >>> c = 3-5j\n",
      "   >>> ('The complex number {0} is formed from the real part {0.real} '\n",
      "   ...  'and the imaginary part {0.imag}.').format(c)\n",
      "   'The complex number (3-5j) is formed from the real part 3.0 and the imaginary part -5.0.'\n",
      "   >>> class Point:\n",
      "   ...     def __init__(self, x, y):\n",
      "   ...         self.x, self.y = x, y\n",
      "   ...     def __str__(self):\n",
      "   ...         return 'Point({self.x}, {self.y})'.format(self=self)\n",
      "   ...\n",
      "   >>> str(Point(4, 2))\n",
      "   'Point(4, 2)'\n",
      "\n",
      "Accessing arguments’ items:\n",
      "\n",
      "   >>> coord = (3, 5)\n",
      "   >>> 'X: {0[0]};  Y: {0[1]}'.format(coord)\n",
      "   'X: 3;  Y: 5'\n",
      "\n",
      "Replacing \"%s\" and \"%r\":\n",
      "\n",
      "   >>> \"repr() shows quotes: {!r}; str() doesn't: {!s}\".format('test1', 'test2')\n",
      "   \"repr() shows quotes: 'test1'; str() doesn't: test2\"\n",
      "\n",
      "Aligning the text and specifying a width:\n",
      "\n",
      "   >>> '{:<30}'.format('left aligned')\n",
      "   'left aligned                  '\n",
      "   >>> '{:>30}'.format('right aligned')\n",
      "   '                 right aligned'\n",
      "   >>> '{:^30}'.format('centered')\n",
      "   '           centered           '\n",
      "   >>> '{:*^30}'.format('centered')  # use '*' as a fill char\n",
      "   '***********centered***********'\n",
      "\n",
      "Replacing \"%+f\", \"%-f\", and \"% f\" and specifying a sign:\n",
      "\n",
      "   >>> '{:+f}; {:+f}'.format(3.14, -3.14)  # show it always\n",
      "   '+3.140000; -3.140000'\n",
      "   >>> '{: f}; {: f}'.format(3.14, -3.14)  # show a space for positive numbers\n",
      "   ' 3.140000; -3.140000'\n",
      "   >>> '{:-f}; {:-f}'.format(3.14, -3.14)  # show only the minus -- same as '{:f}; {:f}'\n",
      "   '3.140000; -3.140000'\n",
      "\n",
      "Replacing \"%x\" and \"%o\" and converting the value to different bases:\n",
      "\n",
      "   >>> # format also supports binary numbers\n",
      "   >>> \"int: {0:d};  hex: {0:x};  oct: {0:o};  bin: {0:b}\".format(42)\n",
      "   'int: 42;  hex: 2a;  oct: 52;  bin: 101010'\n",
      "   >>> # with 0x, 0o, or 0b as prefix:\n",
      "   >>> \"int: {0:d};  hex: {0:#x};  oct: {0:#o};  bin: {0:#b}\".format(42)\n",
      "   'int: 42;  hex: 0x2a;  oct: 0o52;  bin: 0b101010'\n",
      "\n",
      "Using the comma as a thousands separator:\n",
      "\n",
      "   >>> '{:,}'.format(1234567890)\n",
      "   '1,234,567,890'\n",
      "\n",
      "Expressing a percentage:\n",
      "\n",
      "   >>> points = 19\n",
      "   >>> total = 22\n",
      "   >>> 'Correct answers: {:.2%}'.format(points/total)\n",
      "   'Correct answers: 86.36%'\n",
      "\n",
      "Using type-specific formatting:\n",
      "\n",
      "   >>> import datetime\n",
      "   >>> d = datetime.datetime(2010, 7, 4, 12, 15, 58)\n",
      "   >>> '{:%Y-%m-%d %H:%M:%S}'.format(d)\n",
      "   '2010-07-04 12:15:58'\n",
      "\n",
      "Nesting arguments and more complex examples:\n",
      "\n",
      "   >>> for align, text in zip('<^>', ['left', 'center', 'right']):\n",
      "   ...     '{0:{fill}{align}16}'.format(text, fill=align, align=align)\n",
      "   ...\n",
      "   'left<<<<<<<<<<<<'\n",
      "   '^^^^^center^^^^^'\n",
      "   '>>>>>>>>>>>right'\n",
      "   >>>\n",
      "   >>> octets = [192, 168, 0, 1]\n",
      "   >>> '{:02X}{:02X}{:02X}{:02X}'.format(*octets)\n",
      "   'C0A80001'\n",
      "   >>> int(_, 16)\n",
      "   3232235521\n",
      "   >>>\n",
      "   >>> width = 5\n",
      "   >>> for num in range(5,12): \n",
      "   ...     for base in 'dXob':\n",
      "   ...         print('{0:{width}{base}}'.format(num, base=base, width=width), end=' ')\n",
      "   ...     print()\n",
      "   ...\n",
      "       5     5     5   101\n",
      "       6     6     6   110\n",
      "       7     7     7   111\n",
      "       8     8    10  1000\n",
      "       9     9    11  1001\n",
      "      10     A    12  1010\n",
      "      11     B    13  1011\n",
      "\n",
      "Related help topics: OPERATORS\n",
      "\n"
     ]
    }
   ],
   "source": [
    "help('FORMATTING')"
   ]
  },
  {
   "cell_type": "code",
   "execution_count": 21,
   "metadata": {
    "ExecuteTime": {
     "end_time": "2021-01-21T21:19:46.313866Z",
     "start_time": "2021-01-21T21:19:46.309876Z"
    }
   },
   "outputs": [],
   "source": [
    "def logger(func):\n",
    "    def wrapper(*args, **kw):\n",
    "        print('我准备开始执行了: {}函数了:'.format(func.__name__))\n",
    "    \n",
    "        func(*args, **kw)\n",
    "    \n",
    "        print('主人,我执行完啦')\n",
    "    return wrapper"
   ]
  },
  {
   "cell_type": "code",
   "execution_count": 22,
   "metadata": {
    "ExecuteTime": {
     "end_time": "2021-01-21T21:19:46.610092Z",
     "start_time": "2021-01-21T21:19:46.606096Z"
    }
   },
   "outputs": [
    {
     "name": "stdout",
     "output_type": "stream",
     "text": [
      "我准备开始执行了: add函数了:\n",
      "200+ 50 = 250\n",
      "主人,我执行完啦\n"
     ]
    }
   ],
   "source": [
    "@logger\n",
    "def add(x, y):\n",
    "    print(('{}+ {} = {}').format(x, y, x+y))\n",
    "    \n",
    "add(200, 50)"
   ]
  },
  {
   "cell_type": "code",
   "execution_count": 23,
   "metadata": {
    "ExecuteTime": {
     "end_time": "2021-01-21T21:46:05.922329Z",
     "start_time": "2021-01-21T21:46:05.909353Z"
    }
   },
   "outputs": [
    {
     "ename": "NameError",
     "evalue": "name 'periodic_task' is not defined",
     "output_type": "error",
     "traceback": [
      "\u001b[1;31m---------------------------------------------------------------------------\u001b[0m",
      "\u001b[1;31mNameError\u001b[0m                                 Traceback (most recent call last)",
      "\u001b[1;32m<ipython-input-23-dd8c4df439d0>\u001b[0m in \u001b[0;36m<module>\u001b[1;34m\u001b[0m\n\u001b[1;32m----> 1\u001b[1;33m \u001b[1;33m@\u001b[0m\u001b[0mperiodic_task\u001b[0m\u001b[1;33m(\u001b[0m\u001b[0mspacing\u001b[0m \u001b[1;33m=\u001b[0m \u001b[1;36m60\u001b[0m\u001b[1;33m)\u001b[0m\u001b[1;33m\u001b[0m\u001b[1;33m\u001b[0m\u001b[0m\n\u001b[0m\u001b[0;32m      2\u001b[0m \u001b[1;32mdef\u001b[0m \u001b[0msend_mail\u001b[0m\u001b[1;33m(\u001b[0m\u001b[1;33m)\u001b[0m\u001b[1;33m:\u001b[0m\u001b[1;33m\u001b[0m\u001b[1;33m\u001b[0m\u001b[0m\n\u001b[0;32m      3\u001b[0m     \u001b[1;32mpass\u001b[0m\u001b[1;33m\u001b[0m\u001b[1;33m\u001b[0m\u001b[0m\n\u001b[0;32m      4\u001b[0m \u001b[1;33m\u001b[0m\u001b[0m\n\u001b[0;32m      5\u001b[0m \u001b[1;33m@\u001b[0m\u001b[0mperiodic_task\u001b[0m\u001b[1;33m(\u001b[0m\u001b[0mspacing\u001b[0m \u001b[1;33m=\u001b[0m \u001b[1;36m86400\u001b[0m\u001b[1;33m)\u001b[0m\u001b[1;33m\u001b[0m\u001b[1;33m\u001b[0m\u001b[0m\n",
      "\u001b[1;31mNameError\u001b[0m: name 'periodic_task' is not defined"
     ]
    }
   ],
   "source": [
    "@periodic_task(spacing = 60)\n",
    "def send_mail():\n",
    "    pass\n",
    "\n",
    "@periodic_task(spacing = 86400)\n",
    "def ntp():\n",
    "    pass\n",
    "\n"
   ]
  },
  {
   "cell_type": "code",
   "execution_count": 26,
   "metadata": {
    "ExecuteTime": {
     "end_time": "2021-01-21T21:53:09.531965Z",
     "start_time": "2021-01-21T21:53:09.527983Z"
    }
   },
   "outputs": [],
   "source": [
    "# 小明, 中国人\n",
    "@say_hello(\"china\")\n",
    "def xiaoming():\n",
    "    pass\n",
    "\n",
    "# jack,美国人\n",
    "@say_hello(\"america\")\n",
    "def jack():\n",
    "    pass\n"
   ]
  },
  {
   "cell_type": "code",
   "execution_count": 29,
   "metadata": {
    "ExecuteTime": {
     "end_time": "2021-01-21T21:55:48.528654Z",
     "start_time": "2021-01-21T21:55:48.522667Z"
    },
    "code_folding": []
   },
   "outputs": [
    {
     "name": "stdout",
     "output_type": "stream",
     "text": [
      "你好!\n",
      "---------\n"
     ]
    }
   ],
   "source": [
    "def say_hello(country):\n",
    "    def wrapper(func):\n",
    "        def deco(*args, **kwargs):\n",
    "            if country == \"china\":\n",
    "                print(\"你好!\")\n",
    "            elif country == \"america\":\n",
    "                print('hello.')\n",
    "            else:\n",
    "                return #this option just return the value of input argument of country without print\n",
    "            \n",
    "            # the place wehre the function really executes\n",
    "            func(*args, **kwargs)\n",
    "        return deco\n",
    "    return wrapper\n",
    "\n",
    "xiaoming()\n",
    "print(\"---------\")"
   ]
  },
  {
   "cell_type": "code",
   "execution_count": 30,
   "metadata": {
    "ExecuteTime": {
     "end_time": "2021-01-21T21:55:50.605726Z",
     "start_time": "2021-01-21T21:55:50.601737Z"
    }
   },
   "outputs": [
    {
     "name": "stdout",
     "output_type": "stream",
     "text": [
      "hello.\n"
     ]
    }
   ],
   "source": [
    "jack()"
   ]
  },
  {
   "cell_type": "code",
   "execution_count": 33,
   "metadata": {
    "ExecuteTime": {
     "end_time": "2021-01-21T22:06:33.507458Z",
     "start_time": "2021-01-21T22:06:33.501474Z"
    }
   },
   "outputs": [
    {
     "name": "stdout",
     "output_type": "stream",
     "text": [
      "[INFO]: the funciton say() is running...\n",
      "say hello!\n"
     ]
    }
   ],
   "source": [
    "# class decorator without arguments\n",
    "# you will face this type of problems when reading others codes\n",
    "class logger(object):\n",
    "    def __init__(self, func):\n",
    "        self.func = func\n",
    "    \n",
    "    def __call__(self, *args, **kwargs):\n",
    "        print(\"[INFO]: the funciton {func}() is running...\".format(func = self.func.__name__))\n",
    "        return self.func(*args, **kwargs)\n",
    "    \n",
    "# first the def say function() is as the input to the logger class object without\n",
    "# input the argument,\n",
    "# then the class object return the say function with its arguments \n",
    "# and finally the say function() itself executes itself\n",
    "@logger\n",
    "def say(something):\n",
    "    print(\"say {}!\".format(something))\n",
    "    \n",
    "    \n",
    "say(\"hello\")"
   ]
  },
  {
   "cell_type": "code",
   "execution_count": 34,
   "metadata": {
    "ExecuteTime": {
     "end_time": "2021-01-21T22:23:25.204309Z",
     "start_time": "2021-01-21T22:23:25.197326Z"
    }
   },
   "outputs": [
    {
     "name": "stdout",
     "output_type": "stream",
     "text": [
      "[WARNING]: the function say() is running...\n",
      "say hello!\n"
     ]
    }
   ],
   "source": [
    "# class decorator with arguments of function as its input\n",
    "class logger(object):\n",
    "    def __init__(self, level = 'INFO'):\n",
    "        self.level = level \n",
    "    \n",
    "    def __call__(self, func): #accept the argument\n",
    "        def wrapper(*args, **kwargs):\n",
    "            print(\"[{level}]: the function {func}() is running...\".format(level=self.level, func = func.__name__))\n",
    "            func(*args, **kwargs)\n",
    "        return wrapper\n",
    "    \n",
    "@logger(level = 'WARNING')\n",
    "def say(something):\n",
    "    print(\"say {}!\".format(something))\n",
    "\n",
    "say(\"hello\")"
   ]
  },
  {
   "cell_type": "code",
   "execution_count": 36,
   "metadata": {
    "ExecuteTime": {
     "end_time": "2021-01-21T22:33:59.862455Z",
     "start_time": "2021-01-21T22:33:59.855474Z"
    }
   },
   "outputs": [],
   "source": [
    "import time \n",
    "import functools\n",
    "\n",
    "class DelayFunc:\n",
    "    def __init__(self, duration, func):\n",
    "        self.duration = duration\n",
    "        self.func = func\n",
    "        \n",
    "    def __call__(self, *args, **kwargs):\n",
    "        print(f'Wait for {self.duration} seconds...')\n",
    "        time.sleep(self.duration)\n",
    "        return self.func(*args, **kwargs)\n",
    "    \n",
    "    def eager_call(self, *args, **kwargs):\n",
    "        print('Call without delay')\n",
    "        return self.func(*args, **kwargs)\n",
    "     \n",
    "def delay(duration):\n",
    "    \"\"\"\n",
    "    装饰器：推迟某个函数的执行。\n",
    "    同时提供 .eager_call 方法立即执行\n",
    "    \"\"\"\n",
    "    # 此处为了避免定义额外函数，\n",
    "    # 直接使用 functools.partial 帮助构造 DelayFunc 实例\n",
    "    \n",
    "    return functools.partial(DelayFunc, duration)\n"
   ]
  },
  {
   "cell_type": "code",
   "execution_count": 42,
   "metadata": {
    "ExecuteTime": {
     "end_time": "2021-01-21T22:39:37.781735Z",
     "start_time": "2021-01-21T22:39:37.777746Z"
    }
   },
   "outputs": [],
   "source": [
    "@delay(duration = 2)\n",
    "def add(a, b):\n",
    "    \n",
    "    return a+b\n"
   ]
  },
  {
   "cell_type": "code",
   "execution_count": 43,
   "metadata": {
    "ExecuteTime": {
     "end_time": "2021-01-21T22:39:38.391700Z",
     "start_time": "2021-01-21T22:39:38.385717Z"
    }
   },
   "outputs": [
    {
     "data": {
      "text/plain": [
       "<__main__.DelayFunc at 0xed59670>"
      ]
     },
     "execution_count": 43,
     "metadata": {},
     "output_type": "execute_result"
    }
   ],
   "source": [
    "add"
   ]
  },
  {
   "cell_type": "code",
   "execution_count": 44,
   "metadata": {
    "ExecuteTime": {
     "end_time": "2021-01-21T22:39:40.809334Z",
     "start_time": "2021-01-21T22:39:38.805090Z"
    }
   },
   "outputs": [
    {
     "name": "stdout",
     "output_type": "stream",
     "text": [
      "Wait for 2 seconds...\n"
     ]
    },
    {
     "data": {
      "text/plain": [
       "8"
      ]
     },
     "execution_count": 44,
     "metadata": {},
     "output_type": "execute_result"
    }
   ],
   "source": [
    "add(3, 5)"
   ]
  },
  {
   "cell_type": "code",
   "execution_count": 45,
   "metadata": {
    "ExecuteTime": {
     "end_time": "2021-01-21T22:43:25.702297Z",
     "start_time": "2021-01-21T22:43:25.697308Z"
    }
   },
   "outputs": [],
   "source": [
    "# Decorator which can decorate the class\n",
    "\n",
    "instances = {}\n",
    "\n",
    "def singleton(cls):\n",
    "    def get_instance(*args, **kw):\n",
    "        cls_name = cls.__name__\n",
    "        print('===== 1 ====')\n",
    "        if not cls_name in instances:\n",
    "            print('====2====')\n",
    "            instance = cls(*args, **kw)\n",
    "            instances[cls_name] = instance\n",
    "        return instances[cls_name]\n",
    "    return get_instance\n",
    "\n",
    "@singleton\n",
    "class User:\n",
    "    _instance = None\n",
    "    \n",
    "    def __init__(self, name):\n",
    "        print('===== 3 ====')\n",
    "        self.name = name"
   ]
  },
  {
   "cell_type": "markdown",
   "metadata": {},
   "source": [
    "## Master the management  of context"
   ]
  },
  {
   "cell_type": "code",
   "execution_count": null,
   "metadata": {},
   "outputs": [],
   "source": []
  }
 ],
 "metadata": {
  "kernelspec": {
   "display_name": "Python 3.8.5 32-bit",
   "language": "python",
   "name": "python38532bit47a94b2ab21247dfb60b10beee68e0ef"
  },
  "language_info": {
   "codemirror_mode": {
    "name": "ipython",
    "version": 3
   },
   "file_extension": ".py",
   "mimetype": "text/x-python",
   "name": "python",
   "nbconvert_exporter": "python",
   "pygments_lexer": "ipython3",
   "version": "3.8.5"
  },
  "toc": {
   "base_numbering": 1,
   "nav_menu": {},
   "number_sections": true,
   "sideBar": true,
   "skip_h1_title": false,
   "title_cell": "Table of Contents",
   "title_sidebar": "Contents",
   "toc_cell": false,
   "toc_position": {},
   "toc_section_display": true,
   "toc_window_display": false
  },
  "varInspector": {
   "cols": {
    "lenName": 16,
    "lenType": 16,
    "lenVar": 40
   },
   "kernels_config": {
    "python": {
     "delete_cmd_postfix": "",
     "delete_cmd_prefix": "del ",
     "library": "var_list.py",
     "varRefreshCmd": "print(var_dic_list())"
    },
    "r": {
     "delete_cmd_postfix": ") ",
     "delete_cmd_prefix": "rm(",
     "library": "var_list.r",
     "varRefreshCmd": "cat(var_dic_list()) "
    }
   },
   "types_to_exclude": [
    "module",
    "function",
    "builtin_function_or_method",
    "instance",
    "_Feature"
   ],
   "window_display": false
  }
 },
 "nbformat": 4,
 "nbformat_minor": 4
}
