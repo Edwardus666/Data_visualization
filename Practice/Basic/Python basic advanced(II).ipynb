{
 "cells": [
  {
   "cell_type": "code",
   "execution_count": 1,
   "metadata": {
    "ExecuteTime": {
     "end_time": "2021-02-05T20:57:30.763043Z",
     "start_time": "2021-02-05T20:57:30.759042Z"
    },
    "code_folding": []
   },
   "outputs": [],
   "source": [
    "class Person(object):\n",
    "    def __init__(self, first, last, age):\n",
    "        self.first = first\n",
    "        self.last = last\n",
    "        self.age = age\n",
    "    def full_name(self):\n",
    "        return self.first + '' + self.last"
   ]
  },
  {
   "cell_type": "code",
   "execution_count": 1,
   "metadata": {
    "ExecuteTime": {
     "end_time": "2021-02-05T21:07:43.899367Z",
     "start_time": "2021-02-05T21:07:43.670377Z"
    }
   },
   "outputs": [
    {
     "ename": "ModuleNotFoundError",
     "evalue": "No module named 'urllib2'",
     "output_type": "error",
     "traceback": [
      "\u001b[1;31m---------------------------------------------------------------------------\u001b[0m",
      "\u001b[1;31mModuleNotFoundError\u001b[0m                       Traceback (most recent call last)",
      "\u001b[1;32m<ipython-input-1-4ac99fa484e0>\u001b[0m in \u001b[0;36m<module>\u001b[1;34m\u001b[0m\n\u001b[0;32m      1\u001b[0m \u001b[0murl\u001b[0m \u001b[1;33m=\u001b[0m \u001b[1;34m'http://ichart.finance.yahoo.com/table.csv?s=GE&d=10&e=5&f=2013&g=d&a=0&b=2&c=1962&ignore=.csv'\u001b[0m\u001b[1;33m\u001b[0m\u001b[1;33m\u001b[0m\u001b[0m\n\u001b[0;32m      2\u001b[0m \u001b[1;33m\u001b[0m\u001b[0m\n\u001b[1;32m----> 3\u001b[1;33m \u001b[1;32mimport\u001b[0m \u001b[0murllib2\u001b[0m\u001b[1;33m\u001b[0m\u001b[1;33m\u001b[0m\u001b[0m\n\u001b[0m\u001b[0;32m      4\u001b[0m \u001b[0mge_csv\u001b[0m \u001b[1;33m=\u001b[0m \u001b[0murllib2\u001b[0m\u001b[1;33m.\u001b[0m\u001b[0murlopen\u001b[0m\u001b[1;33m(\u001b[0m\u001b[0murl\u001b[0m\u001b[1;33m)\u001b[0m\u001b[1;33m\u001b[0m\u001b[1;33m\u001b[0m\u001b[0m\n\u001b[0;32m      5\u001b[0m \u001b[0mdata\u001b[0m \u001b[1;33m=\u001b[0m \u001b[1;33m[\u001b[0m\u001b[1;33m]\u001b[0m\u001b[1;33m\u001b[0m\u001b[1;33m\u001b[0m\u001b[0m\n",
      "\u001b[1;31mModuleNotFoundError\u001b[0m: No module named 'urllib2'"
     ]
    }
   ],
   "source": [
    "url = 'http://ichart.finance.yahoo.com/table.csv?s=GE&d=10&e=5&f=2013&g=d&a=0&b=2&c=1962&ignore=.csv'\n",
    "\n",
    "import urllib2a\n",
    "ge_csv = urllib2.urlopen(url)\n",
    "data = []\n",
    "for line in ge_csv:\n",
    "    data.append(line.split(','))"
   ]
  },
  {
   "cell_type": "code",
   "execution_count": 5,
   "metadata": {
    "ExecuteTime": {
     "end_time": "2021-02-05T21:48:30.669420Z",
     "start_time": "2021-02-05T21:48:30.656418Z"
    },
    "scrolled": true
   },
   "outputs": [
    {
     "data": {
      "text/plain": [
       "['Annotation',\n",
       " 'Arrow',\n",
       " 'Artist',\n",
       " 'AutoLocator',\n",
       " 'Axes',\n",
       " 'Button',\n",
       " 'Circle',\n",
       " 'Figure',\n",
       " 'FigureCanvasBase',\n",
       " 'FixedFormatter',\n",
       " 'FixedLocator',\n",
       " 'FormatStrFormatter',\n",
       " 'Formatter',\n",
       " 'FuncFormatter',\n",
       " 'GridSpec',\n",
       " 'IndexLocator',\n",
       " 'Line2D',\n",
       " 'LinearLocator',\n",
       " 'Locator',\n",
       " 'LogFormatter',\n",
       " 'LogFormatterExponent',\n",
       " 'LogFormatterMathtext',\n",
       " 'LogLocator',\n",
       " 'MaxNLocator',\n",
       " 'MouseButton',\n",
       " 'MultipleLocator',\n",
       " 'Normalize',\n",
       " 'NullFormatter',\n",
       " 'NullLocator',\n",
       " 'Number',\n",
       " 'PolarAxes',\n",
       " 'Polygon',\n",
       " 'Rectangle',\n",
       " 'ScalarFormatter',\n",
       " 'Slider',\n",
       " 'Subplot',\n",
       " 'SubplotTool',\n",
       " 'Text',\n",
       " 'TickHelper',\n",
       " 'Widget',\n",
       " '_INSTALL_FIG_OBSERVER',\n",
       " '_IP_REGISTERED',\n",
       " '__builtins__',\n",
       " '__cached__',\n",
       " '__doc__',\n",
       " '__file__',\n",
       " '__loader__',\n",
       " '__name__',\n",
       " '__package__',\n",
       " '__spec__',\n",
       " '_auto_draw_if_interactive',\n",
       " '_backend_mod',\n",
       " '_code_objs',\n",
       " '_copy_docstring_and_deprecators',\n",
       " '_get_required_interactive_framework',\n",
       " '_interactive_bk',\n",
       " '_log',\n",
       " '_pylab_helpers',\n",
       " '_setup_pyplot_info_docstrings',\n",
       " '_warn_if_gui_out_of_main_thread',\n",
       " '_xkcd',\n",
       " 'acorr',\n",
       " 'angle_spectrum',\n",
       " 'annotate',\n",
       " 'arrow',\n",
       " 'autoscale',\n",
       " 'autumn',\n",
       " 'axes',\n",
       " 'axhline',\n",
       " 'axhspan',\n",
       " 'axis',\n",
       " 'axline',\n",
       " 'axvline',\n",
       " 'axvspan',\n",
       " 'bar',\n",
       " 'barbs',\n",
       " 'barh',\n",
       " 'bone',\n",
       " 'box',\n",
       " 'boxplot',\n",
       " 'broken_barh',\n",
       " 'cbook',\n",
       " 'cla',\n",
       " 'clabel',\n",
       " 'clf',\n",
       " 'clim',\n",
       " 'close',\n",
       " 'cm',\n",
       " 'cohere',\n",
       " 'colorbar',\n",
       " 'colormaps',\n",
       " 'connect',\n",
       " 'contour',\n",
       " 'contourf',\n",
       " 'cool',\n",
       " 'copper',\n",
       " 'csd',\n",
       " 'cycler',\n",
       " 'delaxes',\n",
       " 'disconnect',\n",
       " 'docstring',\n",
       " 'draw',\n",
       " 'draw_all',\n",
       " 'draw_if_interactive',\n",
       " 'errorbar',\n",
       " 'eventplot',\n",
       " 'figaspect',\n",
       " 'figimage',\n",
       " 'figlegend',\n",
       " 'fignum_exists',\n",
       " 'figtext',\n",
       " 'figure',\n",
       " 'fill',\n",
       " 'fill_between',\n",
       " 'fill_betweenx',\n",
       " 'findobj',\n",
       " 'flag',\n",
       " 'functools',\n",
       " 'gca',\n",
       " 'gcf',\n",
       " 'gci',\n",
       " 'get',\n",
       " 'get_backend',\n",
       " 'get_cmap',\n",
       " 'get_current_fig_manager',\n",
       " 'get_figlabels',\n",
       " 'get_fignums',\n",
       " 'get_plot_commands',\n",
       " 'get_scale_names',\n",
       " 'getp',\n",
       " 'ginput',\n",
       " 'gray',\n",
       " 'grid',\n",
       " 'hexbin',\n",
       " 'hist',\n",
       " 'hist2d',\n",
       " 'hlines',\n",
       " 'hot',\n",
       " 'hsv',\n",
       " 'importlib',\n",
       " 'imread',\n",
       " 'imsave',\n",
       " 'imshow',\n",
       " 'inferno',\n",
       " 'inspect',\n",
       " 'install_repl_displayhook',\n",
       " 'interactive',\n",
       " 'ioff',\n",
       " 'ion',\n",
       " 'isinteractive',\n",
       " 'jet',\n",
       " 'legend',\n",
       " 'locator_params',\n",
       " 'logging',\n",
       " 'loglog',\n",
       " 'magma',\n",
       " 'magnitude_spectrum',\n",
       " 'margins',\n",
       " 'matplotlib',\n",
       " 'matshow',\n",
       " 'minorticks_off',\n",
       " 'minorticks_on',\n",
       " 'mlab',\n",
       " 'new_figure_manager',\n",
       " 'nipy_spectral',\n",
       " 'np',\n",
       " 'pause',\n",
       " 'pcolor',\n",
       " 'pcolormesh',\n",
       " 'phase_spectrum',\n",
       " 'pie',\n",
       " 'pink',\n",
       " 'plasma',\n",
       " 'plot',\n",
       " 'plot_date',\n",
       " 'plotting',\n",
       " 'polar',\n",
       " 'prism',\n",
       " 'psd',\n",
       " 'quiver',\n",
       " 'quiverkey',\n",
       " 'rc',\n",
       " 'rcParams',\n",
       " 'rcParamsDefault',\n",
       " 'rcParamsOrig',\n",
       " 'rc_context',\n",
       " 'rcdefaults',\n",
       " 'rcsetup',\n",
       " 're',\n",
       " 'register_cmap',\n",
       " 'rgrids',\n",
       " 'savefig',\n",
       " 'sca',\n",
       " 'scatter',\n",
       " 'sci',\n",
       " 'semilogx',\n",
       " 'semilogy',\n",
       " 'set_cmap',\n",
       " 'set_loglevel',\n",
       " 'setp',\n",
       " 'show',\n",
       " 'specgram',\n",
       " 'spring',\n",
       " 'spy',\n",
       " 'stackplot',\n",
       " 'stem',\n",
       " 'step',\n",
       " 'streamplot',\n",
       " 'style',\n",
       " 'subplot',\n",
       " 'subplot2grid',\n",
       " 'subplot_mosaic',\n",
       " 'subplot_tool',\n",
       " 'subplots',\n",
       " 'subplots_adjust',\n",
       " 'summer',\n",
       " 'suptitle',\n",
       " 'switch_backend',\n",
       " 'sys',\n",
       " 'table',\n",
       " 'text',\n",
       " 'thetagrids',\n",
       " 'threading',\n",
       " 'tick_params',\n",
       " 'ticklabel_format',\n",
       " 'tight_layout',\n",
       " 'time',\n",
       " 'title',\n",
       " 'tricontour',\n",
       " 'tricontourf',\n",
       " 'tripcolor',\n",
       " 'triplot',\n",
       " 'twinx',\n",
       " 'twiny',\n",
       " 'uninstall_repl_displayhook',\n",
       " 'violinplot',\n",
       " 'viridis',\n",
       " 'vlines',\n",
       " 'waitforbuttonpress',\n",
       " 'winter',\n",
       " 'xcorr',\n",
       " 'xkcd',\n",
       " 'xlabel',\n",
       " 'xlim',\n",
       " 'xscale',\n",
       " 'xticks',\n",
       " 'ylabel',\n",
       " 'ylim',\n",
       " 'yscale',\n",
       " 'yticks']"
      ]
     },
     "execution_count": 5,
     "metadata": {},
     "output_type": "execute_result"
    }
   ],
   "source": [
    "import matplotlib.pyplot as plt\n",
    "dir(plt)"
   ]
  },
  {
   "cell_type": "code",
   "execution_count": 6,
   "metadata": {
    "ExecuteTime": {
     "end_time": "2021-02-05T21:49:08.251313Z",
     "start_time": "2021-02-05T21:49:08.246309Z"
    }
   },
   "outputs": [
    {
     "data": {
      "text/plain": [
       "['__annotations__',\n",
       " '__call__',\n",
       " '__class__',\n",
       " '__closure__',\n",
       " '__code__',\n",
       " '__defaults__',\n",
       " '__delattr__',\n",
       " '__dict__',\n",
       " '__dir__',\n",
       " '__doc__',\n",
       " '__eq__',\n",
       " '__format__',\n",
       " '__ge__',\n",
       " '__get__',\n",
       " '__getattribute__',\n",
       " '__globals__',\n",
       " '__gt__',\n",
       " '__hash__',\n",
       " '__init__',\n",
       " '__init_subclass__',\n",
       " '__kwdefaults__',\n",
       " '__le__',\n",
       " '__lt__',\n",
       " '__module__',\n",
       " '__name__',\n",
       " '__ne__',\n",
       " '__new__',\n",
       " '__qualname__',\n",
       " '__reduce__',\n",
       " '__reduce_ex__',\n",
       " '__repr__',\n",
       " '__setattr__',\n",
       " '__sizeof__',\n",
       " '__str__',\n",
       " '__subclasshook__']"
      ]
     },
     "execution_count": 6,
     "metadata": {},
     "output_type": "execute_result"
    }
   ],
   "source": [
    "dir(plt.ylim)"
   ]
  },
  {
   "cell_type": "code",
   "execution_count": 17,
   "metadata": {
    "ExecuteTime": {
     "end_time": "2021-02-05T21:52:24.024084Z",
     "start_time": "2021-02-05T21:52:24.020079Z"
    }
   },
   "outputs": [
    {
     "data": {
      "text/plain": [
       "['__call__',\n",
       " '__class__',\n",
       " '__delattr__',\n",
       " '__dir__',\n",
       " '__doc__',\n",
       " '__eq__',\n",
       " '__format__',\n",
       " '__ge__',\n",
       " '__getattribute__',\n",
       " '__gt__',\n",
       " '__hash__',\n",
       " '__init__',\n",
       " '__init_subclass__',\n",
       " '__le__',\n",
       " '__lt__',\n",
       " '__module__',\n",
       " '__name__',\n",
       " '__ne__',\n",
       " '__new__',\n",
       " '__qualname__',\n",
       " '__reduce__',\n",
       " '__reduce_ex__',\n",
       " '__repr__',\n",
       " '__self__',\n",
       " '__setattr__',\n",
       " '__sizeof__',\n",
       " '__str__',\n",
       " '__subclasshook__',\n",
       " '__text_signature__']"
      ]
     },
     "execution_count": 17,
     "metadata": {},
     "output_type": "execute_result"
    }
   ],
   "source": [
    "dir(plt.ylim.__reduce__)"
   ]
  },
  {
   "cell_type": "code",
   "execution_count": 29,
   "metadata": {
    "ExecuteTime": {
     "end_time": "2021-02-05T21:54:05.558845Z",
     "start_time": "2021-02-05T21:54:05.553841Z"
    }
   },
   "outputs": [
    {
     "data": {
      "text/plain": [
       "['__bool__',\n",
       " '__class__',\n",
       " '__delattr__',\n",
       " '__dir__',\n",
       " '__doc__',\n",
       " '__eq__',\n",
       " '__format__',\n",
       " '__ge__',\n",
       " '__getattribute__',\n",
       " '__gt__',\n",
       " '__hash__',\n",
       " '__init__',\n",
       " '__init_subclass__',\n",
       " '__le__',\n",
       " '__lt__',\n",
       " '__ne__',\n",
       " '__new__',\n",
       " '__reduce__',\n",
       " '__reduce_ex__',\n",
       " '__repr__',\n",
       " '__setattr__',\n",
       " '__sizeof__',\n",
       " '__str__',\n",
       " '__subclasshook__']"
      ]
     },
     "execution_count": 29,
     "metadata": {},
     "output_type": "execute_result"
    }
   ],
   "source": [
    "dir(plt.step.__init__())"
   ]
  },
  {
   "cell_type": "code",
   "execution_count": 6,
   "metadata": {
    "ExecuteTime": {
     "end_time": "2021-02-06T16:54:00.957191Z",
     "start_time": "2021-02-06T16:54:00.953188Z"
    }
   },
   "outputs": [
    {
     "name": "stdout",
     "output_type": "stream",
     "text": [
      "The quick brown fox jumped over the lazy dog.\n",
      "The quick brown fox jumped over tHe lazy dog.\n",
      "The Quick Brown Fox Jumped Over The Lazy Dog.\n"
     ]
    }
   ],
   "source": [
    "import string\n",
    "\n",
    "s = 'The quick brown fox jumped over the lazy dog.'\n",
    "\n",
    "print(s)\n",
    "print(string.capwords(s,sep='t'))\n",
    "print(string.capwords(s))"
   ]
  },
  {
   "cell_type": "code",
   "execution_count": 26,
   "metadata": {
    "ExecuteTime": {
     "end_time": "2021-02-06T17:41:24.754442Z",
     "start_time": "2021-02-06T17:41:24.750440Z"
    }
   },
   "outputs": [
    {
     "name": "stdout",
     "output_type": "stream",
     "text": [
      "TEMPLATE: \n",
      "Variable        : foo\n",
      "Escape          : $\n",
      "Variable in text: fooiable\n",
      "\n"
     ]
    }
   ],
   "source": [
    "values = {'var':'foo'}\n",
    "t = string.Template(\"\"\"\n",
    "Variable        : $var\n",
    "Escape          : $$\n",
    "Variable in text: ${var}iable\n",
    "\"\"\")\n",
    "print('TEMPLATE:', t.substitute(values))"
   ]
  },
  {
   "cell_type": "code",
   "execution_count": 27,
   "metadata": {
    "ExecuteTime": {
     "end_time": "2021-02-06T17:41:24.941019Z",
     "start_time": "2021-02-06T17:41:24.937032Z"
    }
   },
   "outputs": [
    {
     "name": "stdout",
     "output_type": "stream",
     "text": [
      "ERROR: 'missing'\n",
      "safe_substitute(): foo is here but $missing is not provided\n"
     ]
    }
   ],
   "source": [
    "import string\n",
    "values = {'var':'foo'}\n",
    "\n",
    "t = string.Template('$var is here but $missing is not provided')\n",
    "\n",
    "try:\n",
    "    print('substitute()   :', t.substitute(values))\n",
    "except KeyError as err:\n",
    "    print('ERROR:', str(err))\n",
    "\n",
    "print('safe_substitute():', t.safe_substitute(values))"
   ]
  },
  {
   "cell_type": "markdown",
   "metadata": {},
   "source": [
    "Constants"
   ]
  },
  {
   "cell_type": "code",
   "execution_count": 28,
   "metadata": {
    "ExecuteTime": {
     "end_time": "2021-02-06T17:41:25.992949Z",
     "start_time": "2021-02-06T17:41:25.987951Z"
    }
   },
   "outputs": [
    {
     "name": "stdout",
     "output_type": "stream",
     "text": [
      "ascii_letters='abcdefghijklmnopqrstuvwxyzABCDEFGHIJKLMNOPQRSTUVWXYZ'\n",
      "\n",
      "ascii_lowercase='abcdefghijklmnopqrstuvwxyz'\n",
      "\n",
      "ascii_uppercase='ABCDEFGHIJKLMNOPQRSTUVWXYZ'\n",
      "\n",
      "digits='0123456789'\n",
      "\n",
      "hexdigits='0123456789abcdefABCDEF'\n",
      "\n",
      "octdigits='01234567'\n",
      "\n",
      "printable='0123456789abcdefghijklmnopqrstuvwxyzABCDEFGHIJKLMNOPQRSTUVWXYZ!\"#$%&\\'()*+,-./:;<=>?@[\\\\]^_`{|}~ \\t\\n\\r\\x0b\\x0c'\n",
      "\n",
      "punctuation='!\"#$%&\\'()*+,-./:;<=>?@[\\\\]^_`{|}~'\n",
      "\n",
      "whitespace=' \\t\\n\\r\\x0b\\x0c'\n",
      "\n"
     ]
    }
   ],
   "source": [
    "import inspect\n",
    "import string\n",
    "\n",
    "def is_str(value):\n",
    "    return isinstance(value, str)\n",
    "\n",
    "for name, value in inspect.getmembers(string, is_str):\n",
    "    if name.startswith('_'):\n",
    "        continue\n",
    "    print('%s=%r\\n' %(name, value))"
   ]
  },
  {
   "cell_type": "code",
   "execution_count": 29,
   "metadata": {
    "ExecuteTime": {
     "end_time": "2021-02-06T17:41:26.606958Z",
     "start_time": "2021-02-06T17:41:26.601937Z"
    }
   },
   "outputs": [
    {
     "name": "stdout",
     "output_type": "stream",
     "text": [
      "     The textwrap module can be used to format\n",
      "text for output in     situations where pretty-\n",
      "printing is desired.  It offers     programmatic\n",
      "functionality similar to the paragraph wrapping\n",
      "or filling features found in many text editors.\n"
     ]
    }
   ],
   "source": [
    "sample_text = '''\n",
    "    The textwrap module can be used to format text for output in\n",
    "    situations where pretty-printing is desired.  It offers\n",
    "    programmatic functionality similar to the paragraph wrapping\n",
    "    or filling features found in many text editors.\n",
    "    '''\n",
    "\n",
    "import textwrap\n",
    "print(textwrap.fill(sample_text,width=50))"
   ]
  },
  {
   "cell_type": "code",
   "execution_count": 30,
   "metadata": {
    "ExecuteTime": {
     "end_time": "2021-02-06T17:41:27.393178Z",
     "start_time": "2021-02-06T17:41:27.388182Z"
    }
   },
   "outputs": [
    {
     "name": "stdout",
     "output_type": "stream",
     "text": [
      "Dendented:\n",
      "\n",
      "The textwrap module can be used to format text for output in\n",
      "situations where pretty-printing is desired.  It offers\n",
      "programmatic functionality similar to the paragraph wrapping\n",
      "or filling features found in many text editors.\n",
      "\n"
     ]
    }
   ],
   "source": [
    "dedented_text = textwrap.dedent(sample_text)\n",
    "print('Dendented:')\n",
    "print(dedented_text)"
   ]
  },
  {
   "cell_type": "code",
   "execution_count": null,
   "metadata": {
    "ExecuteTime": {
     "end_time": "2021-02-06T17:25:09.861388Z",
     "start_time": "2021-02-06T17:25:09.852390Z"
    }
   },
   "outputs": [],
   "source": []
  },
  {
   "cell_type": "code",
   "execution_count": 31,
   "metadata": {
    "ExecuteTime": {
     "end_time": "2021-02-06T17:41:29.375484Z",
     "start_time": "2021-02-06T17:41:29.369463Z"
    }
   },
   "outputs": [
    {
     "name": "stdout",
     "output_type": "stream",
     "text": [
      "45 Columns:\n",
      "\n",
      "The textwrap module can be used to format\n",
      "text for output in situations where pretty-\n",
      "printing is desired.  It offers programmatic\n",
      "functionality similar to the paragraph\n",
      "wrapping or filling features found in many\n",
      "text editors.\n",
      "\n",
      "60 Columns:\n",
      "\n",
      "The textwrap module can be used to format text for output in\n",
      "situations where pretty-printing is desired.  It offers\n",
      "programmatic functionality similar to the paragraph wrapping\n",
      "or filling features found in many text editors.\n",
      "\n"
     ]
    }
   ],
   "source": [
    "dedented_text = textwrap.dedent(sample_text).strip()\n",
    "dedented_text\n",
    "for width in [45, 60]:\n",
    "    print('{} Columns:\\n'.format(width))\n",
    "    print(textwrap.fill(dedented_text, width = width))\n",
    "    print()"
   ]
  },
  {
   "cell_type": "markdown",
   "metadata": {},
   "source": [
    "Indenting Blocks"
   ]
  },
  {
   "cell_type": "code",
   "execution_count": 32,
   "metadata": {
    "ExecuteTime": {
     "end_time": "2021-02-06T17:41:30.402176Z",
     "start_time": "2021-02-06T17:41:30.397194Z"
    }
   },
   "outputs": [
    {
     "name": "stdout",
     "output_type": "stream",
     "text": [
      "Quoted block:\n",
      "\n",
      "> The textwrap module can be used to format text\n",
      ">for output in situations where pretty-printing is\n",
      ">desired.  It offers programmatic functionality\n",
      ">similar to the paragraph wrapping or filling\n",
      ">features found in many text editors.\n",
      "\n",
      ">Second paragraph after a blank line\n"
     ]
    }
   ],
   "source": [
    "dedented_text = textwrap.dedent(sample_text)\n",
    "wrapped = textwrap.fill(dedented_text, width = 50)\n",
    "wrapped += '\\n\\nSecond paragraph after a blank line'\n",
    "final = textwrap.indent(wrapped, '>')\n",
    "\n",
    "print('Quoted block:\\n')\n",
    "print(final)"
   ]
  },
  {
   "cell_type": "code",
   "execution_count": 38,
   "metadata": {
    "ExecuteTime": {
     "end_time": "2021-02-06T17:44:06.830990Z",
     "start_time": "2021-02-06T17:44:06.824991Z"
    }
   },
   "outputs": [
    {
     "name": "stdout",
     "output_type": "stream",
     "text": [
      "Indent ' The textwrap module can be used to format text\\n'?\n",
      "Indent 'for output in situations where pretty-printing is\\n'?\n",
      "Indent 'desired.  It offers programmatic functionality\\n'?\n",
      "Indent 'similar to the paragraph wrapping or filling\\n'?\n",
      "Indent 'features found in many text editors.'?\n",
      "\n",
      "    The textwrap module can be used to format text for output in\n",
      "    situations where pretty-printing is desired.  It offers\n",
      "    programmatic functionality similar to the paragraph wrapping\n",
      "    or filling features found in many text editors.\n",
      "    \n",
      "\n",
      "Quoted block:\n",
      "\n",
      "\n",
      "The textwrap module can be used to format text for output in\n",
      "situations where pretty-printing is desired.  It offers\n",
      "programmatic functionality similar to the paragraph wrapping\n",
      "or filling features found in many text editors.\n",
      "\n",
      "\n",
      "Quoted block:\n",
      "\n",
      " The textwrap module can be used to format text\n",
      "for output in situations where pretty-printing is\n",
      "desired.  It offers programmatic functionality\n",
      "similar to the paragraph wrapping or filling\n",
      "features found in many text editors.\n",
      "\n",
      "Quoted block:\n",
      "\n",
      "11111 The textwrap module can be used to format text\n",
      "for output in situations where pretty-printing is\n",
      "11111desired.  It offers programmatic functionality\n",
      "11111similar to the paragraph wrapping or filling\n",
      "11111features found in many text editors.\n"
     ]
    }
   ],
   "source": [
    "sample_text = '''\n",
    "    The textwrap module can be used to format text for output in\n",
    "    situations where pretty-printing is desired.  It offers\n",
    "    programmatic functionality similar to the paragraph wrapping\n",
    "    or filling features found in many text editors.\n",
    "    '''\n",
    "\n",
    "def should_indent(line):\n",
    "    print('Indent {!r}?'.format(line))\n",
    "    return len(line.strip()) % 2 ==0\n",
    "\n",
    "dedented_text = textwrap.dedent(sample_text)\n",
    "wrapped = textwrap.fill(dedented_text, width = 50)\n",
    "final = textwrap.indent(wrapped, '11111',\n",
    "                       predicate = should_indent)\n",
    "\n",
    "\n",
    "print(sample_text)\n",
    "print('\\nQuoted block:\\n')\n",
    "print(dedented_text)\n",
    "print('\\nQuoted block:\\n')\n",
    "print(wrapped)\n",
    "print('\\nQuoted block:\\n')\n",
    "print(final)"
   ]
  },
  {
   "cell_type": "code",
   "execution_count": 69,
   "metadata": {
    "ExecuteTime": {
     "end_time": "2021-02-06T18:19:49.479720Z",
     "start_time": "2021-02-06T18:19:49.475720Z"
    }
   },
   "outputs": [
    {
     "name": "stdout",
     "output_type": "stream",
     "text": [
      "The textwrap module\n",
      "can be used to\n",
      "format text for\n",
      "output in\n",
      "situations where\n",
      "pretty-printing is\n",
      "desired.  It offers\n",
      "programmatic\n",
      "functionality\n",
      "similar to the\n",
      "paragraph wrapping\n",
      "or filling features\n",
      "found in many text\n",
      "editors.\n"
     ]
    }
   ],
   "source": [
    "dedented_text = textwrap.dedent(sample_text).strip()\n",
    "dedented_text\n",
    "print(textwrap.fill(dedented_text,\n",
    "                   initial_indent='',\n",
    "                   subsequent_indent='',\n",
    "                   width=19,\n",
    "                   break_long_words=False\n",
    "                   ))"
   ]
  },
  {
   "cell_type": "code",
   "execution_count": 79,
   "metadata": {
    "ExecuteTime": {
     "end_time": "2021-02-06T18:23:45.193607Z",
     "start_time": "2021-02-06T18:23:45.185589Z"
    }
   },
   "outputs": [
    {
     "name": "stdout",
     "output_type": "stream",
     "text": [
      "Original:\n",
      "\n",
      " The textwrap module can be used to format text\n",
      "for output in situations where pretty-printing is\n",
      "desired.  It offers programmatic functionality\n",
      "similar to the paragraph wrapping or filling\n",
      "features found in many text editors.\n",
      "\n",
      "Shortened:\n",
      "\n",
      "The textwrap module can be used to format text for output in situations where pretty-printing [...]\n",
      "\n",
      "The textwrap module can be used to\n",
      "format text for output in situations\n",
      "where pretty-printing [...]\n"
     ]
    }
   ],
   "source": [
    "dedented_text = textwrap.dedent(sample_text)\n",
    "original = textwrap.fill(dedented_text, width=50)\n",
    "\n",
    "print('Original:\\n')\n",
    "print(original)\n",
    "\n",
    "shortened = textwrap.shorten(original, 100)\n",
    "shortened_wrapped = textwrap.fill(shortened, width=40)\n",
    "\n",
    "print('\\nShortened:\\n')\n",
    "print(shortened + '\\n')\n",
    "print(shortened_wrapped)"
   ]
  },
  {
   "cell_type": "markdown",
   "metadata": {},
   "source": [
    "Regular Expressions"
   ]
  },
  {
   "cell_type": "code",
   "execution_count": 83,
   "metadata": {
    "ExecuteTime": {
     "end_time": "2021-02-06T19:26:02.902205Z",
     "start_time": "2021-02-06T19:26:02.896213Z"
    }
   },
   "outputs": [
    {
     "data": {
      "text/plain": [
       "<re.Match object; span=(10, 14), match='text'>"
      ]
     },
     "execution_count": 83,
     "metadata": {},
     "output_type": "execute_result"
    }
   ],
   "source": [
    "import re\n",
    "\n",
    "pattern = 'text'\n",
    "text = 'Does this text match the pattern?'\n",
    "\n",
    "match = re.search(pattern, text)\n",
    "match"
   ]
  },
  {
   "cell_type": "code",
   "execution_count": 84,
   "metadata": {
    "ExecuteTime": {
     "end_time": "2021-02-06T19:27:01.528818Z",
     "start_time": "2021-02-06T19:27:01.523793Z"
    }
   },
   "outputs": [],
   "source": [
    "s = match.start()\n",
    "e = match.end()"
   ]
  },
  {
   "cell_type": "code",
   "execution_count": 89,
   "metadata": {
    "ExecuteTime": {
     "end_time": "2021-02-06T19:28:36.861266Z",
     "start_time": "2021-02-06T19:28:36.856284Z"
    }
   },
   "outputs": [
    {
     "name": "stdout",
     "output_type": "stream",
     "text": [
      "Found \"text\"\n",
      " in \"Does this text match the pattern?\"\n",
      " from 10 to 14(\"text\")\n"
     ]
    }
   ],
   "source": [
    "print('Found \"{}\"\\n in \"{}\"\\n from {} to {}(\"{}\")'.format(match.re.pattern, \n",
    "                                                         match.string,\n",
    "                                                         s, \n",
    "                                                         e,\n",
    "                                                         text[s:e]))"
   ]
  },
  {
   "cell_type": "code",
   "execution_count": 102,
   "metadata": {
    "ExecuteTime": {
     "end_time": "2021-02-06T20:01:05.429391Z",
     "start_time": "2021-02-06T20:01:05.424391Z"
    }
   },
   "outputs": [
    {
     "name": "stdout",
     "output_type": "stream",
     "text": [
      "Text: 'Does this text match the pattern?'\n",
      "\n",
      "Seeking \"this\" ->match!\n",
      "Seeking \"that\" ->no match\n"
     ]
    }
   ],
   "source": [
    "regexes = [\n",
    "    re.compile(p)\n",
    "    for p in ['this','that']\n",
    "]\n",
    "text = 'Does this text match the pattern?'\n",
    "\n",
    "\n",
    "print('Text: {!r}\\n'.format(text))\n",
    "for regex in regexes:\n",
    "    print('Seeking \"{}\" ->'.format(regex.pattern),\n",
    "        end='')\n",
    "    if regex.search(text):\n",
    "        print('match!')\n",
    "    else:\n",
    "        print('no match')"
   ]
  },
  {
   "cell_type": "code",
   "execution_count": 103,
   "metadata": {
    "ExecuteTime": {
     "end_time": "2021-02-06T20:20:16.686508Z",
     "start_time": "2021-02-06T20:20:16.680512Z"
    }
   },
   "outputs": [
    {
     "name": "stdout",
     "output_type": "stream",
     "text": [
      "'ab' ('a' followed by 'b')\n",
      "\n",
      "  'abbaaabbbbaaaaa'\n",
      "  'ab'\n",
      "  .....'ab'\n",
      "\n"
     ]
    }
   ],
   "source": [
    "import re\n",
    "\n",
    "\n",
    "def test_patterns(text, patterns):\n",
    "    \"\"\"Given source text and a list of patterns, look for\n",
    "    matches for each pattern within the text and print\n",
    "    them to stdout.\n",
    "    \"\"\"\n",
    "    # Look for each pattern in the text and print the results\n",
    "    for pattern, desc in patterns:\n",
    "        print(\"'{}' ({})\\n\".format(pattern, desc))\n",
    "        print(\"  '{}'\".format(text))\n",
    "        for match in re.finditer(pattern, text):\n",
    "            s = match.start()\n",
    "            e = match.end()\n",
    "            substr = text[s:e]\n",
    "            n_backslashes = text[:s].count('\\\\')\n",
    "            prefix = '.' * (s + n_backslashes)\n",
    "            print(\"  {}'{}'\".format(prefix, substr))\n",
    "        print()\n",
    "    return\n",
    "\n",
    "\n",
    "if __name__ == '__main__':\n",
    "    test_patterns('abbaaabbbbaaaaa',\n",
    "                  [('ab', \"'a' followed by 'b'\"),\n",
    "                   ])"
   ]
  },
  {
   "cell_type": "code",
   "execution_count": 105,
   "metadata": {
    "ExecuteTime": {
     "end_time": "2021-02-06T20:23:34.302826Z",
     "start_time": "2021-02-06T20:23:34.295827Z"
    }
   },
   "outputs": [
    {
     "name": "stdout",
     "output_type": "stream",
     "text": [
      "'[ab]' (either a or b)\n",
      "\n",
      "  'abbaabbba'\n",
      "  'a'\n",
      "  .'b'\n",
      "  ..'b'\n",
      "  ...'a'\n",
      "  ....'a'\n",
      "  .....'b'\n",
      "  ......'b'\n",
      "  .......'b'\n",
      "  ........'a'\n",
      "\n",
      "'a[ab]+' (a followed by 1 or more a or b)\n",
      "\n",
      "  'abbaabbba'\n",
      "  'abbaabbba'\n",
      "\n",
      "'a[ab]+?' (a followed by 1 or more a or b, not greedy)\n",
      "\n",
      "  'abbaabbba'\n",
      "  'ab'\n",
      "  ...'aa'\n",
      "\n"
     ]
    }
   ],
   "source": [
    "\n",
    "test_patterns(\n",
    "    'abbaabbba',\n",
    "    [('[ab]', 'either a or b'),\n",
    "     ('a[ab]+', 'a followed by 1 or more a or b'),\n",
    "     ('a[ab]+?', 'a followed by 1 or more a or b, not greedy')],\n",
    ")\n"
   ]
  },
  {
   "cell_type": "code",
   "execution_count": 106,
   "metadata": {
    "ExecuteTime": {
     "end_time": "2021-02-06T20:25:06.324798Z",
     "start_time": "2021-02-06T20:25:06.319799Z"
    }
   },
   "outputs": [
    {
     "name": "stdout",
     "output_type": "stream",
     "text": [
      "'[^-. ]+' (sequences without -, ., or space)\n",
      "\n",
      "  'This is some text -- with punctuation.'\n",
      "  'This'\n",
      "  .....'is'\n",
      "  ........'some'\n",
      "  .............'text'\n",
      "  .....................'with'\n",
      "  ..........................'punctuation'\n",
      "\n"
     ]
    }
   ],
   "source": [
    "\n",
    "test_patterns(\n",
    "    'This is some text -- with punctuation.',\n",
    "    [('[^-. ]+', 'sequences without -, ., or space')],\n",
    ")"
   ]
  },
  {
   "cell_type": "code",
   "execution_count": 107,
   "metadata": {
    "ExecuteTime": {
     "end_time": "2021-02-06T20:30:36.404405Z",
     "start_time": "2021-02-06T20:30:36.398402Z"
    },
    "scrolled": true
   },
   "outputs": [
    {
     "name": "stdout",
     "output_type": "stream",
     "text": [
      "'a.' (a followed by any one character)\n",
      "\n",
      "  'abbaabbba'\n",
      "  'ab'\n",
      "  ...'aa'\n",
      "\n",
      "'b.' (b followed by any one character)\n",
      "\n",
      "  'abbaabbba'\n",
      "  .'bb'\n",
      "  .....'bb'\n",
      "  .......'ba'\n",
      "\n",
      "'a.*b' (a followed by anything, ending in b)\n",
      "\n",
      "  'abbaabbba'\n",
      "  'abbaabbb'\n",
      "\n",
      "'a.*?b' (a followed by anything, ending in b)\n",
      "\n",
      "  'abbaabbba'\n",
      "  'ab'\n",
      "  ...'aab'\n",
      "\n"
     ]
    }
   ],
   "source": [
    "test_patterns(\n",
    "    'abbaabbba',\n",
    "    [('a.', 'a followed by any one character'),\n",
    "     ('b.', 'b followed by any one character'),\n",
    "     ('a.*b', 'a followed by anything, ending in b'),\n",
    "     ('a.*?b', 'a followed by anything, ending in b')],\n",
    ")"
   ]
  },
  {
   "cell_type": "code",
   "execution_count": 109,
   "metadata": {
    "ExecuteTime": {
     "end_time": "2021-02-06T20:33:27.300218Z",
     "start_time": "2021-02-06T20:33:27.294220Z"
    }
   },
   "outputs": [
    {
     "name": "stdout",
     "output_type": "stream",
     "text": [
      "'\\d+' (sequence of digits)\n",
      "\n",
      "  'A prime #1 example!'\n",
      "  .........'1'\n",
      "\n",
      "'\\D+' (sequence of non-digits)\n",
      "\n",
      "  'A prime #1 example!'\n",
      "  'A prime #'\n",
      "  ..........' example!'\n",
      "\n",
      "'\\s+' (sequence of whitespace)\n",
      "\n",
      "  'A prime #1 example!'\n",
      "  .' '\n",
      "  .......' '\n",
      "  ..........' '\n",
      "\n",
      "'\\S+' (sequence of non-whitespace)\n",
      "\n",
      "  'A prime #1 example!'\n",
      "  'A'\n",
      "  ..'prime'\n",
      "  ........'#1'\n",
      "  ...........'example!'\n",
      "\n",
      "'\\w+' (alphanumeric characters)\n",
      "\n",
      "  'A prime #1 example!'\n",
      "  'A'\n",
      "  ..'prime'\n",
      "  .........'1'\n",
      "  ...........'example'\n",
      "\n",
      "'\\W+' (non-alphanumeric)\n",
      "\n",
      "  'A prime #1 example!'\n",
      "  .' '\n",
      "  .......' #'\n",
      "  ..........' '\n",
      "  ..................'!'\n",
      "\n"
     ]
    }
   ],
   "source": [
    "test_patterns(\n",
    "    'A prime #1 example!',\n",
    "    [(r'\\d+', 'sequence of digits'),\n",
    "     (r'\\D+', 'sequence of non-digits'),\n",
    "     (r'\\s+', 'sequence of whitespace'),\n",
    "     (r'\\S+', 'sequence of non-whitespace'),\n",
    "     (r'\\w+', 'alphanumeric characters'),\n",
    "     (r'\\W+', 'non-alphanumeric')],\n",
    ")"
   ]
  },
  {
   "cell_type": "code",
   "execution_count": 110,
   "metadata": {
    "ExecuteTime": {
     "end_time": "2021-02-06T20:35:57.182676Z",
     "start_time": "2021-02-06T20:35:57.175689Z"
    }
   },
   "outputs": [
    {
     "name": "stdout",
     "output_type": "stream",
     "text": [
      "'^\\w+' (word at start of string)\n",
      "\n",
      "  'This is some text -- with punctuation.'\n",
      "  'This'\n",
      "\n",
      "'\\A\\w+' (word at start of string)\n",
      "\n",
      "  'This is some text -- with punctuation.'\n",
      "  'This'\n",
      "\n",
      "'\\w+\\S*$' (word near end of string)\n",
      "\n",
      "  'This is some text -- with punctuation.'\n",
      "  ..........................'punctuation.'\n",
      "\n",
      "'\\w+\\S*\\Z' (word near end of string)\n",
      "\n",
      "  'This is some text -- with punctuation.'\n",
      "  ..........................'punctuation.'\n",
      "\n",
      "'\\w*t\\w*' (word containing t)\n",
      "\n",
      "  'This is some text -- with punctuation.'\n",
      "  .............'text'\n",
      "  .....................'with'\n",
      "  ..........................'punctuation'\n",
      "\n",
      "'\\bt\\w+' (t at start of word)\n",
      "\n",
      "  'This is some text -- with punctuation.'\n",
      "  .............'text'\n",
      "\n",
      "'\\w+t\\b' (t at end of word)\n",
      "\n",
      "  'This is some text -- with punctuation.'\n",
      "  .............'text'\n",
      "\n",
      "'\\Bt\\B' (t, not start or end of word)\n",
      "\n",
      "  'This is some text -- with punctuation.'\n",
      "  .......................'t'\n",
      "  ..............................'t'\n",
      "  .................................'t'\n",
      "\n"
     ]
    }
   ],
   "source": [
    "test_patterns(\n",
    "    'This is some text -- with punctuation.',\n",
    "    [(r'^\\w+', 'word at start of string'),\n",
    "     (r'\\A\\w+', 'word at start of string'),\n",
    "     (r'\\w+\\S*$', 'word near end of string'),\n",
    "     (r'\\w+\\S*\\Z', 'word near end of string'),\n",
    "     (r'\\w*t\\w*', 'word containing t'),\n",
    "     (r'\\bt\\w+', 't at start of word'),\n",
    "     (r'\\w+t\\b', 't at end of word'),\n",
    "     (r'\\Bt\\B', 't, not start or end of word')],\n",
    ")"
   ]
  },
  {
   "cell_type": "code",
   "execution_count": 111,
   "metadata": {
    "ExecuteTime": {
     "end_time": "2021-02-06T20:41:48.779574Z",
     "start_time": "2021-02-06T20:41:48.769553Z"
    }
   },
   "outputs": [
    {
     "name": "stdout",
     "output_type": "stream",
     "text": [
      "Text   : This is some text -- with punctuation.\n",
      "Pattern: is\n",
      "Match: None\n",
      "Search: <re.Match object; span=(2, 4), match='is'>\n"
     ]
    }
   ],
   "source": [
    "text = 'This is some text -- with punctuation.'\n",
    "pattern = 'is'\n",
    "\n",
    "print('Text   :', text)\n",
    "print('Pattern:', pattern)\n",
    "\n",
    "m = re.match(pattern, text)\n",
    "print('Match:', m)\n",
    "s = re.search(pattern, text)\n",
    "print('Search:', s)"
   ]
  },
  {
   "cell_type": "code",
   "execution_count": 112,
   "metadata": {
    "ExecuteTime": {
     "end_time": "2021-02-06T20:46:04.917388Z",
     "start_time": "2021-02-06T20:46:04.911384Z"
    }
   },
   "outputs": [
    {
     "name": "stdout",
     "output_type": "stream",
     "text": [
      "Text       : This is some text -- with punctuation.\n",
      "Pattern    : is\n",
      "Search: <re.Match object; span=(2, 4), match='is'>\n",
      "Full match : None\n"
     ]
    }
   ],
   "source": [
    "text = 'This is some text -- with punctuation.'\n",
    "pattern = 'is'\n",
    "\n",
    "print('Text       :', text)\n",
    "print('Pattern    :', pattern)\n",
    "\n",
    "m = re.search(pattern, text)\n",
    "print('Search:',m)\n",
    "s = re.fullmatch(pattern, text)\n",
    "print('Full match :', s)"
   ]
  },
  {
   "cell_type": "code",
   "execution_count": 113,
   "metadata": {
    "ExecuteTime": {
     "end_time": "2021-02-06T20:54:53.213545Z",
     "start_time": "2021-02-06T20:54:53.208541Z"
    }
   },
   "outputs": [
    {
     "name": "stdout",
     "output_type": "stream",
     "text": [
      "Text: This is some text -- with punctuation.\n",
      "\n",
      "   0 :  3 = \"This\"\n",
      "   5 :  6 = \"is\"\n"
     ]
    }
   ],
   "source": [
    "import re\n",
    "\n",
    "text = 'This is some text -- with punctuation.'\n",
    "pattern = re.compile(r'\\b\\w*is\\w*\\b')\n",
    "\n",
    "print('Text:', text)\n",
    "print()\n",
    "\n",
    "pos = 0\n",
    "while True:\n",
    "    match = pattern.search(text, pos)\n",
    "    if not match:\n",
    "        break\n",
    "    s = match.start()\n",
    "    e = match.end()\n",
    "    print('  {:>2d} : {:>2d} = \"{}\"'.format(\n",
    "        s, e - 1, text[s:e]))\n",
    "    # Move forward in text for the next search\n",
    "    pos = e"
   ]
  },
  {
   "cell_type": "code",
   "execution_count": 115,
   "metadata": {
    "ExecuteTime": {
     "end_time": "2021-02-06T20:57:05.603708Z",
     "start_time": "2021-02-06T20:57:05.598710Z"
    }
   },
   "outputs": [
    {
     "name": "stdout",
     "output_type": "stream",
     "text": [
      "'a(ab)' (a followed by literal ab)\n",
      "\n",
      "  'abbaaabbbbaaaaa'\n",
      "  ....'aab'\n",
      "\n",
      "'a(a*b*)' (a followed by 0-n a and 0-n b)\n",
      "\n",
      "  'abbaaabbbbaaaaa'\n",
      "  'abb'\n",
      "  ...'aaabbbb'\n",
      "  ..........'aaaaa'\n",
      "\n",
      "'a(ab)*' (a followed by 0-n ab)\n",
      "\n",
      "  'abbaaabbbbaaaaa'\n",
      "  'a'\n",
      "  ...'a'\n",
      "  ....'aab'\n",
      "  ..........'a'\n",
      "  ...........'a'\n",
      "  ............'a'\n",
      "  .............'a'\n",
      "  ..............'a'\n",
      "\n",
      "'a(ab)+' (a followed by 1-n ab)\n",
      "\n",
      "  'abbaaabbbbaaaaa'\n",
      "  ....'aab'\n",
      "\n"
     ]
    }
   ],
   "source": [
    "test_patterns(\n",
    "    'abbaaabbbbaaaaa',\n",
    "    [('a(ab)', 'a followed by literal ab'),\n",
    "     ('a(a*b*)', 'a followed by 0-n a and 0-n b'),\n",
    "     ('a(ab)*', 'a followed by 0-n ab'),\n",
    "     ('a(ab)+', 'a followed by 1-n ab')],\n",
    ")"
   ]
  },
  {
   "cell_type": "code",
   "execution_count": 120,
   "metadata": {
    "ExecuteTime": {
     "end_time": "2021-02-06T21:01:43.389489Z",
     "start_time": "2021-02-06T21:01:43.383487Z"
    },
    "scrolled": true
   },
   "outputs": [
    {
     "name": "stdout",
     "output_type": "stream",
     "text": [
      "This is some text -- with punctuation.\n",
      "\n",
      "'^(\\w+)' (word at start of string)\n",
      "\n",
      "   ('This',)\n",
      "\n",
      "'(\\w+)\\S*$' (word at end, with optional punctuation)\n",
      "\n",
      "   ('punctuation',)\n",
      "\n",
      "'(\\bt\\w+)\\W+(\\w+)' (word starting with t, another word)\n",
      "\n",
      "   ('text', 'with')\n",
      "\n",
      "'(\\w+t)\\b' (word ending with t)\n",
      "\n",
      "   ('text',)\n",
      "\n"
     ]
    }
   ],
   "source": [
    "import re\n",
    "\n",
    "text = 'This is some text -- with punctuation.'\n",
    "\n",
    "print(text)\n",
    "print()\n",
    "\n",
    "patterns = [\n",
    "    (r'^(\\w+)', 'word at start of string'),\n",
    "    (r'(\\w+)\\S*$', 'word at end, with optional punctuation'),\n",
    "    (r'(\\bt\\w+)\\W+(\\w+)', 'word starting with t, another word'),\n",
    "    (r'(\\w+t)\\b', 'word ending with t'),\n",
    "]\n",
    "\n",
    "for pattern, desc in patterns:\n",
    "    regex = re.compile(pattern)\n",
    "    match = regex.search(text)\n",
    "    print(\"'{}' ({})\\n\".format(pattern, desc))\n",
    "    print('  ', match.groups())\n",
    "    print() \n"
   ]
  },
  {
   "cell_type": "code",
   "execution_count": 121,
   "metadata": {
    "ExecuteTime": {
     "end_time": "2021-02-06T21:03:10.338269Z",
     "start_time": "2021-02-06T21:03:10.331257Z"
    }
   },
   "outputs": [
    {
     "name": "stdout",
     "output_type": "stream",
     "text": [
      "Input text            : This is some text -- with punctuation.\n",
      "Pattern               : (\\bt\\w+)\\W+(\\w+)\n",
      "Entire match          : text -- with\n",
      "Word starting with \"t\": text\n",
      "Word after \"t\" word   : with\n"
     ]
    }
   ],
   "source": [
    "text = 'This is some text -- with punctuation.'\n",
    "print('Input text            :', text)\n",
    "# word starting with 't' then another word\n",
    "regex = re.compile(r'(\\bt\\w+)\\W+(\\w+)')\n",
    "print('Pattern               :', regex.pattern)\n",
    "match = regex.search(text)\n",
    "print('Entire match          :', match.group(0))\n",
    "print('Word starting with \"t\":', match.group(1))\n",
    "print('Word after \"t\" word   :', match.group(2))"
   ]
  },
  {
   "cell_type": "code",
   "execution_count": 123,
   "metadata": {
    "ExecuteTime": {
     "end_time": "2021-02-06T21:55:19.792699Z",
     "start_time": "2021-02-06T21:55:19.787684Z"
    }
   },
   "outputs": [
    {
     "name": "stdout",
     "output_type": "stream",
     "text": [
      "first.last@example.com          Matches\n",
      "first.last+category@gmail.com   Matches\n",
      "valid-address@mail.example.com  Matches\n",
      "not-valid@example.foo           No match\n"
     ]
    }
   ],
   "source": [
    "import re\n",
    "\n",
    "address = re.compile('[\\w\\d.+-]+@([\\w\\d.]+\\.)+(com|org|edu)')\n",
    "\n",
    "candidates = [\n",
    "    u'first.last@example.com',\n",
    "    u'first.last+category@gmail.com',\n",
    "    u'valid-address@mail.example.com',\n",
    "    u'not-valid@example.foo',\n",
    "]\n",
    "\n",
    "for candidate in candidates:\n",
    "    match = address.search(candidate)\n",
    "    print('{:<30}  {}'.format(\n",
    "        candidate, 'Matches' if match else 'No match')\n",
    "    )"
   ]
  },
  {
   "cell_type": "code",
   "execution_count": 124,
   "metadata": {
    "ExecuteTime": {
     "end_time": "2021-02-06T21:59:17.122508Z",
     "start_time": "2021-02-06T21:59:17.116498Z"
    }
   },
   "outputs": [
    {
     "name": "stdout",
     "output_type": "stream",
     "text": [
      "first.last@example.com          Matches\n",
      "first.last+category@gmail.com   Matches\n",
      "valid-address@mail.example.com  Matches\n",
      "not-valid@example.foo           No match\n"
     ]
    }
   ],
   "source": [
    "import re\n",
    "\n",
    "address = re.compile(\n",
    "    '''\n",
    "    [\\w\\d.+-]+       # username\n",
    "    @\n",
    "    ([\\w\\d.]+\\.)+    # domain name prefix\n",
    "    (com|org|edu)    # TODO: support more top-level domains\n",
    "    ''',\n",
    "    re.VERBOSE)\n",
    "\n",
    "\n",
    "candidates = [\n",
    "    u'first.last@example.com',\n",
    "    u'first.last+category@gmail.com',\n",
    "    u'valid-address@mail.example.com',\n",
    "    u'not-valid@example.foo',\n",
    "]\n",
    "\n",
    "for candidate in candidates:\n",
    "    match = address.search(candidate)\n",
    "    print('{:<30}  {}'.format(\n",
    "        candidate, 'Matches' if match else 'No match'),\n",
    "    )"
   ]
  },
  {
   "cell_type": "code",
   "execution_count": 125,
   "metadata": {
    "ExecuteTime": {
     "end_time": "2021-02-06T22:04:10.386050Z",
     "start_time": "2021-02-06T22:04:10.381999Z"
    }
   },
   "outputs": [
    {
     "name": "stdout",
     "output_type": "stream",
     "text": [
      "Text      : This is some text -- with punctuation.\n",
      "Pattern   : (?i)\\bT\\w+\n",
      "Matches   : ['This', 'text']\n"
     ]
    }
   ],
   "source": [
    "text = 'This is some text -- with punctuation.'\n",
    "pattern = r'(?i)\\bT\\w+'\n",
    "regex = re.compile(pattern)\n",
    "\n",
    "print('Text      :', text)\n",
    "print('Pattern   :', pattern)\n",
    "print('Matches   :', regex.findall(text))"
   ]
  },
  {
   "cell_type": "code",
   "execution_count": 126,
   "metadata": {
    "ExecuteTime": {
     "end_time": "2021-02-06T22:07:57.699474Z",
     "start_time": "2021-02-06T22:07:57.691472Z"
    }
   },
   "outputs": [
    {
     "name": "stdout",
     "output_type": "stream",
     "text": [
      "Candidate: First Last <first.last@example.com>\n",
      "  Name : First Last\n",
      "  Email: first.last@example.com\n",
      "Candidate: No Brackets first.last@example.com\n",
      "  Name : No Brackets\n",
      "  Email: first.last@example.com\n",
      "Candidate: Open Bracket <first.last@example.com\n",
      "  No match\n",
      "Candidate: Close Bracket first.last@example.com>\n",
      "  No match\n"
     ]
    }
   ],
   "source": [
    "\n",
    "address = re.compile(\n",
    "    '''\n",
    "    # A name is made up of letters, and may include \".\"\n",
    "    # for title abbreviations and middle initials.\n",
    "    ((?P<name>\n",
    "       ([\\w.,]+\\s+)*[\\w.,]+\n",
    "     )\n",
    "     \\s+\n",
    "    ) # name is no longer optional\n",
    "\n",
    "    # LOOKAHEAD\n",
    "    # Email addresses are wrapped in angle brackets, but only\n",
    "    # if both are present or neither is.\n",
    "    (?= (<.*>$)       # remainder wrapped in angle brackets\n",
    "        |\n",
    "        ([^<].*[^>]$) # remainder *not* wrapped in angle brackets\n",
    "      )\n",
    "\n",
    "    <? # optional opening angle bracket\n",
    "\n",
    "    # The address itself: username@domain.tld\n",
    "    (?P<email>\n",
    "      [\\w\\d.+-]+       # username\n",
    "      @\n",
    "      ([\\w\\d.]+\\.)+    # domain name prefix\n",
    "      (com|org|edu)    # limit the allowed top-level domains\n",
    "    )\n",
    "\n",
    "    >? # optional closing angle bracket\n",
    "    ''',\n",
    "    re.VERBOSE)\n",
    "\n",
    "candidates = [\n",
    "    u'First Last <first.last@example.com>',\n",
    "    u'No Brackets first.last@example.com',\n",
    "    u'Open Bracket <first.last@example.com',\n",
    "    u'Close Bracket first.last@example.com>',\n",
    "]\n",
    "\n",
    "for candidate in candidates:\n",
    "    print('Candidate:', candidate)\n",
    "    match = address.search(candidate)\n",
    "    if match:\n",
    "        print('  Name :', match.groupdict()['name'])\n",
    "        print('  Email:', match.groupdict()['email'])\n",
    "    else:\n",
    "        print('  No match')"
   ]
  },
  {
   "cell_type": "code",
   "execution_count": 127,
   "metadata": {
    "ExecuteTime": {
     "end_time": "2021-02-06T22:25:58.712227Z",
     "start_time": "2021-02-06T22:25:58.706224Z"
    }
   },
   "outputs": [
    {
     "name": "stdout",
     "output_type": "stream",
     "text": [
      "Text: Make this **bold**.  This **too**.\n",
      "Bold: Make this <b>bold</b>.  This <b>too</b>.\n"
     ]
    }
   ],
   "source": [
    "bold = re.compile(r'\\*{2}(.*?)\\*{2}')\n",
    "text = 'Make this **bold**.  This **too**.'\n",
    "print('Text:', text)\n",
    "print('Bold:', bold.sub(r'<b>\\1</b>', text))\n"
   ]
  },
  {
   "cell_type": "code",
   "execution_count": 128,
   "metadata": {
    "ExecuteTime": {
     "end_time": "2021-02-07T01:58:39.485656Z",
     "start_time": "2021-02-07T01:58:39.480658Z"
    }
   },
   "outputs": [],
   "source": [
    "text1 = \"\"\"Lorem ipsum dolor sit amet, consectetuer adipiscing\n",
    "elit. Integer eu lacus accumsan arcu fermentum euismod. Donec\n",
    "pulvinar porttitor tellus. Aliquam venenatis. Donec facilisis\n",
    "pharetra tortor.  In nec mauris eget magna consequat\n",
    "convalis. Nam sed sem vitae odio pellentesque interdum. Sed\n",
    "consequat viverra nisl. Suspendisse arcu metus, blandit quis,\n",
    "rhoncus ac, pharetra eget, velit. Mauris urna. Morbi nonummy\n",
    "molestie orci. Praesent nisi elit, fringilla ac, suscipit non,\n",
    "tristique vel, mauris. Curabitur vel lorem id nisl porta\n",
    "adipiscing. Suspendisse eu lectus. In nunc. Duis vulputate\n",
    "tristique enim. Donec quis lectus a justo imperdiet tempus.\"\"\"\n",
    "\n",
    "text1_lines = text1.splitlines()\n",
    "\n",
    "text2 = \"\"\"Lorem ipsum dolor sit amet, consectetuer adipiscing\n",
    "elit. Integer eu lacus accumsan arcu fermentum euismod. Donec\n",
    "pulvinar, porttitor tellus. Aliquam venenatis. Donec facilisis\n",
    "pharetra tortor. In nec mauris eget magna consequat\n",
    "convalis. Nam cras vitae mi vitae odio pellentesque interdum. Sed\n",
    "consequat viverra nisl. Suspendisse arcu metus, blandit quis,\n",
    "rhoncus ac, pharetra eget, velit. Mauris urna. Morbi nonummy\n",
    "molestie orci. Praesent nisi elit, fringilla ac, suscipit non,\n",
    "tristique vel, mauris. Curabitur vel lorem id nisl porta\n",
    "adipiscing. Duis vulputate tristique enim. Donec quis lectus a\n",
    "justo imperdiet tempus.  Suspendisse eu lectus. In nunc.\"\"\"\n",
    "\n",
    "text2_lines = text2.splitlines()\n"
   ]
  },
  {
   "cell_type": "code",
   "execution_count": 129,
   "metadata": {
    "ExecuteTime": {
     "end_time": "2021-02-07T01:59:00.620707Z",
     "start_time": "2021-02-07T01:59:00.607748Z"
    }
   },
   "outputs": [
    {
     "data": {
      "text/plain": [
       "['Lorem ipsum dolor sit amet, consectetuer adipiscing',\n",
       " 'elit. Integer eu lacus accumsan arcu fermentum euismod. Donec',\n",
       " 'pulvinar porttitor tellus. Aliquam venenatis. Donec facilisis',\n",
       " 'pharetra tortor.  In nec mauris eget magna consequat',\n",
       " 'convalis. Nam sed sem vitae odio pellentesque interdum. Sed',\n",
       " 'consequat viverra nisl. Suspendisse arcu metus, blandit quis,',\n",
       " 'rhoncus ac, pharetra eget, velit. Mauris urna. Morbi nonummy',\n",
       " 'molestie orci. Praesent nisi elit, fringilla ac, suscipit non,',\n",
       " 'tristique vel, mauris. Curabitur vel lorem id nisl porta',\n",
       " 'adipiscing. Suspendisse eu lectus. In nunc. Duis vulputate',\n",
       " 'tristique enim. Donec quis lectus a justo imperdiet tempus.']"
      ]
     },
     "execution_count": 129,
     "metadata": {},
     "output_type": "execute_result"
    }
   ],
   "source": [
    "text1_lines"
   ]
  },
  {
   "cell_type": "code",
   "execution_count": 131,
   "metadata": {
    "ExecuteTime": {
     "end_time": "2021-02-07T02:10:04.821422Z",
     "start_time": "2021-02-07T02:10:04.808402Z"
    }
   },
   "outputs": [
    {
     "name": "stdout",
     "output_type": "stream",
     "text": [
      "  Lorem ipsum dolor sit amet, consectetuer adipiscing\n",
      "  elit. Integer eu lacus accumsan arcu fermentum euismod. Donec\n",
      "- pulvinar porttitor tellus. Aliquam venenatis. Donec facilisis\n",
      "+ pulvinar, porttitor tellus. Aliquam venenatis. Donec facilisis\n",
      "?         +\n",
      "\n",
      "- pharetra tortor.  In nec mauris eget magna consequat\n",
      "?                 -\n",
      "\n",
      "+ pharetra tortor. In nec mauris eget magna consequat\n",
      "- convalis. Nam sed sem vitae odio pellentesque interdum. Sed\n",
      "?                 - --\n",
      "\n",
      "+ convalis. Nam cras vitae mi vitae odio pellentesque interdum. Sed\n",
      "?               +++ +++++   +\n",
      "\n",
      "  consequat viverra nisl. Suspendisse arcu metus, blandit quis,\n",
      "  rhoncus ac, pharetra eget, velit. Mauris urna. Morbi nonummy\n",
      "  molestie orci. Praesent nisi elit, fringilla ac, suscipit non,\n",
      "  tristique vel, mauris. Curabitur vel lorem id nisl porta\n",
      "- adipiscing. Suspendisse eu lectus. In nunc. Duis vulputate\n",
      "- tristique enim. Donec quis lectus a justo imperdiet tempus.\n",
      "+ adipiscing. Duis vulputate tristique enim. Donec quis lectus a\n",
      "+ justo imperdiet tempus.  Suspendisse eu lectus. In nunc.\n"
     ]
    }
   ],
   "source": [
    "import difflib\n",
    "\n",
    "d = difflib.Differ()\n",
    "diff = d.compare(text1_lines,text2_lines)\n",
    "print('\\n'.join(diff))"
   ]
  },
  {
   "cell_type": "code",
   "execution_count": 133,
   "metadata": {
    "ExecuteTime": {
     "end_time": "2021-02-07T02:21:44.363479Z",
     "start_time": "2021-02-07T02:21:44.353474Z"
    }
   },
   "outputs": [
    {
     "name": "stdout",
     "output_type": "stream",
     "text": [
      "--- \n",
      "+++ \n",
      "@@ -1,11 +1,11 @@\n",
      " Lorem ipsum dolor sit amet, consectetuer adipiscing\n",
      " elit. Integer eu lacus accumsan arcu fermentum euismod. Donec\n",
      "-pulvinar porttitor tellus. Aliquam venenatis. Donec facilisis\n",
      "-pharetra tortor.  In nec mauris eget magna consequat\n",
      "-convalis. Nam sed sem vitae odio pellentesque interdum. Sed\n",
      "+pulvinar, porttitor tellus. Aliquam venenatis. Donec facilisis\n",
      "+pharetra tortor. In nec mauris eget magna consequat\n",
      "+convalis. Nam cras vitae mi vitae odio pellentesque interdum. Sed\n",
      " consequat viverra nisl. Suspendisse arcu metus, blandit quis,\n",
      " rhoncus ac, pharetra eget, velit. Mauris urna. Morbi nonummy\n",
      " molestie orci. Praesent nisi elit, fringilla ac, suscipit non,\n",
      " tristique vel, mauris. Curabitur vel lorem id nisl porta\n",
      "-adipiscing. Suspendisse eu lectus. In nunc. Duis vulputate\n",
      "-tristique enim. Donec quis lectus a justo imperdiet tempus.\n",
      "+adipiscing. Duis vulputate tristique enim. Donec quis lectus a\n",
      "+justo imperdiet tempus.  Suspendisse eu lectus. In nunc.\n"
     ]
    }
   ],
   "source": [
    "diff = difflib.unified_diff(\n",
    "    text1_lines,\n",
    "    text2_lines,\n",
    "    lineterm =''\n",
    ")\n",
    "print('\\n'.join(diff))"
   ]
  },
  {
   "cell_type": "code",
   "execution_count": 135,
   "metadata": {
    "ExecuteTime": {
     "end_time": "2021-02-07T02:25:46.371821Z",
     "start_time": "2021-02-07T02:25:46.365254Z"
    }
   },
   "outputs": [
    {
     "name": "stdout",
     "output_type": "stream",
     "text": [
      "*** \n",
      "--- \n",
      "***************\n",
      "*** 1,11 ****\n",
      "  Lorem ipsum dolor sit amet, consectetuer adipiscing\n",
      "  elit. Integer eu lacus accumsan arcu fermentum euismod. Donec\n",
      "! pulvinar porttitor tellus. Aliquam venenatis. Donec facilisis\n",
      "! pharetra tortor.  In nec mauris eget magna consequat\n",
      "! convalis. Nam sed sem vitae odio pellentesque interdum. Sed\n",
      "  consequat viverra nisl. Suspendisse arcu metus, blandit quis,\n",
      "  rhoncus ac, pharetra eget, velit. Mauris urna. Morbi nonummy\n",
      "  molestie orci. Praesent nisi elit, fringilla ac, suscipit non,\n",
      "  tristique vel, mauris. Curabitur vel lorem id nisl porta\n",
      "! adipiscing. Suspendisse eu lectus. In nunc. Duis vulputate\n",
      "! tristique enim. Donec quis lectus a justo imperdiet tempus.\n",
      "--- 1,11 ----\n",
      "  Lorem ipsum dolor sit amet, consectetuer adipiscing\n",
      "  elit. Integer eu lacus accumsan arcu fermentum euismod. Donec\n",
      "! pulvinar, porttitor tellus. Aliquam venenatis. Donec facilisis\n",
      "! pharetra tortor. In nec mauris eget magna consequat\n",
      "! convalis. Nam cras vitae mi vitae odio pellentesque interdum. Sed\n",
      "  consequat viverra nisl. Suspendisse arcu metus, blandit quis,\n",
      "  rhoncus ac, pharetra eget, velit. Mauris urna. Morbi nonummy\n",
      "  molestie orci. Praesent nisi elit, fringilla ac, suscipit non,\n",
      "  tristique vel, mauris. Curabitur vel lorem id nisl porta\n",
      "! adipiscing. Duis vulputate tristique enim. Donec quis lectus a\n",
      "! justo imperdiet tempus.  Suspendisse eu lectus. In nunc.\n"
     ]
    }
   ],
   "source": [
    "diff = difflib.context_diff(\n",
    "    text1_lines,\n",
    "    text2_lines,\n",
    "    lineterm =''\n",
    ")\n",
    "print('\\n'.join(diff))"
   ]
  },
  {
   "cell_type": "code",
   "execution_count": 137,
   "metadata": {
    "ExecuteTime": {
     "end_time": "2021-02-07T02:30:20.150319Z",
     "start_time": "2021-02-07T02:30:20.130178Z"
    }
   },
   "outputs": [
    {
     "name": "stdout",
     "output_type": "stream",
     "text": [
      "A = ' abcd'\n",
      "B = 'abcd abcd'\n",
      "\n",
      "Without junk detection:\n",
      "  a    = 0\n",
      "  b    = 4\n",
      "  size = 5\n",
      "  A[a:a+size] = ' abcd'\n",
      "  B[b:b+size] = ' abcd'\n",
      "\n",
      "Treat spaces as junk:\n",
      "  a    = 1\n",
      "  b    = 0\n",
      "  size = 4\n",
      "  A[a:a+size] = 'abcd'\n",
      "  B[b:b+size] = 'abcd'\n"
     ]
    }
   ],
   "source": [
    "from difflib import SequenceMatcher\n",
    "\n",
    "def show_results(match):\n",
    "    print('  a    = {}'.format(match.a))\n",
    "    print('  b    = {}'.format(match.b))\n",
    "    print('  size = {}'.format(match.size))\n",
    "    i, j, k = match\n",
    "    print('  A[a:a+size] = {!r}'.format(A[i:i + k]))\n",
    "    print('  B[b:b+size] = {!r}'.format(B[j:j + k]))\n",
    "\n",
    "A = \" abcd\"\n",
    "B = \"abcd abcd\"\n",
    "\n",
    "print('A = {!r}'.format(A))\n",
    "print('B = {!r}'.format(B))\n",
    "\n",
    "print('\\nWithout junk detection:')\n",
    "s1 = SequenceMatcher(None, A, B)\n",
    "match1 = s1.find_longest_match(0, len(A), 0, len(B))\n",
    "show_results(match1)\n",
    "\n",
    "print('\\nTreat spaces as junk:')\n",
    "s2 = SequenceMatcher(lambda x: x == \" \", A, B)\n",
    "match2 = s2.find_longest_match(0, len(A), 0, len(B))\n",
    "show_results(match2)"
   ]
  },
  {
   "cell_type": "code",
   "execution_count": 138,
   "metadata": {
    "ExecuteTime": {
     "end_time": "2021-02-07T02:43:14.583634Z",
     "start_time": "2021-02-07T02:43:14.574636Z"
    }
   },
   "outputs": [
    {
     "name": "stdout",
     "output_type": "stream",
     "text": [
      "Initial data:\n",
      "s1 = [1, 2, 3, 5, 6, 4]\n",
      "s2 = [2, 3, 5, 4, 6, 1]\n",
      "s1 == s2: False\n",
      "\n"
     ]
    }
   ],
   "source": [
    "s1 = [1, 2, 3, 5, 6, 4]\n",
    "s2 = [2, 3, 5, 4, 6, 1]\n",
    "\n",
    "print('Initial data:')\n",
    "print('s1 =', s1)\n",
    "print('s2 =', s2)\n",
    "print('s1 == s2:', s1 == s2)\n",
    "print()\n"
   ]
  },
  {
   "cell_type": "code",
   "execution_count": 139,
   "metadata": {
    "ExecuteTime": {
     "end_time": "2021-02-07T02:48:27.683352Z",
     "start_time": "2021-02-07T02:48:27.668357Z"
    }
   },
   "outputs": [
    {
     "name": "stdout",
     "output_type": "stream",
     "text": [
      "Replace [4] from s1[5:6] with [1] from s2[5:6]\n",
      "  before = [1, 2, 3, 5, 6, 4]\n",
      "   after = [1, 2, 3, 5, 6, 1] \n",
      "\n",
      "   after = [1, 2, 3, 5, 6, 1] \n",
      "\n",
      "Insert [4] from s2[3:4] into s1 at 4\n",
      "  before = [1, 2, 3, 5, 6, 1]\n",
      "   after = [1, 2, 3, 5, 4, 6, 1] \n",
      "\n",
      "   after = [1, 2, 3, 5, 4, 6, 1] \n",
      "\n",
      "Remove [1] from positions [0:1]\n",
      "  before = [1, 2, 3, 5, 4, 6, 1]\n",
      "   after = [2, 3, 5, 4, 6, 1] \n",
      "\n",
      "s1 == s2: True\n"
     ]
    }
   ],
   "source": [
    "matcher = difflib.SequenceMatcher(None, s1, s2)\n",
    "for tag, i1, i2, j1, j2 in reversed(matcher.get_opcodes()):\n",
    "    \n",
    "    if tag =='delete':\n",
    "        print('Remove {} from positions [{}:{}]'.format(\n",
    "            s1[i1:i2], i1, i2))\n",
    "        print('  before =', s1)\n",
    "        del s1[i1:i2]\n",
    "    elif tag == 'insert':\n",
    "        print('Insert {} from s2[{}:{}] into s1 at {}'.format(\n",
    "            s2[j1:j2], j1, j2, i1))\n",
    "        print('  before =', s1)\n",
    "        s1[i1:i2] = s2[j1:j2]\n",
    "    elif tag == 'replace':\n",
    "        print(('Replace {} from s1[{}:{}] '\n",
    "               'with {} from s2[{}:{}]').format(\n",
    "                   s1[i1:i2], i1, i2, s2[j1:j2], j1, j2))\n",
    "        print('  before =', s1)\n",
    "        s1[i1:i2] = s2[j1:j2]\n",
    "        \n",
    "    print('   after =', s1, '\\n')\n",
    "print('s1 == s2:', s1 == s2)"
   ]
  },
  {
   "cell_type": "code",
   "execution_count": null,
   "metadata": {},
   "outputs": [],
   "source": []
  }
 ],
 "metadata": {
  "kernelspec": {
   "display_name": "Python 3",
   "language": "python",
   "name": "python3"
  },
  "language_info": {
   "codemirror_mode": {
    "name": "ipython",
    "version": 3
   },
   "file_extension": ".py",
   "mimetype": "text/x-python",
   "name": "python",
   "nbconvert_exporter": "python",
   "pygments_lexer": "ipython3",
   "version": "3.8.5"
  },
  "latex_envs": {
   "LaTeX_envs_menu_present": true,
   "autoclose": false,
   "autocomplete": true,
   "bibliofile": "biblio.bib",
   "cite_by": "apalike",
   "current_citInitial": 1,
   "eqLabelWithNumbers": true,
   "eqNumInitial": 1,
   "hotkeys": {
    "equation": "Ctrl-E",
    "itemize": "Ctrl-I"
   },
   "labels_anchors": false,
   "latex_user_defs": false,
   "report_style_numbering": false,
   "user_envs_cfg": false
  },
  "toc": {
   "base_numbering": 1,
   "nav_menu": {},
   "number_sections": true,
   "sideBar": true,
   "skip_h1_title": false,
   "title_cell": "Table of Contents",
   "title_sidebar": "Contents",
   "toc_cell": false,
   "toc_position": {},
   "toc_section_display": true,
   "toc_window_display": false
  },
  "varInspector": {
   "cols": {
    "lenName": 16,
    "lenType": 16,
    "lenVar": 40
   },
   "kernels_config": {
    "python": {
     "delete_cmd_postfix": "",
     "delete_cmd_prefix": "del ",
     "library": "var_list.py",
     "varRefreshCmd": "print(var_dic_list())"
    },
    "r": {
     "delete_cmd_postfix": ") ",
     "delete_cmd_prefix": "rm(",
     "library": "var_list.r",
     "varRefreshCmd": "cat(var_dic_list()) "
    }
   },
   "types_to_exclude": [
    "module",
    "function",
    "builtin_function_or_method",
    "instance",
    "_Feature"
   ],
   "window_display": false
  }
 },
 "nbformat": 4,
 "nbformat_minor": 4
}
